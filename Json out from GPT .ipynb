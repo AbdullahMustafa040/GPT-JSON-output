{
  "cells": [
    {
      "cell_type": "markdown",
      "metadata": {
        "id": "KgHxuKvrtNxv"
      },
      "source": [
        "# Imports"
      ]
    },
    {
      "cell_type": "code",
      "execution_count": null,
      "metadata": {
        "id": "CVRTUdW6FUP5"
      },
      "outputs": [],
      "source": [
        "#!pip install openai\n"
      ]
    },
    {
      "cell_type": "code",
      "execution_count": null,
      "metadata": {
        "colab": {
          "base_uri": "https://localhost:8080/"
        },
        "id": "7GM_205uIFx7",
        "outputId": "cf5cbc14-4630-4ba9-aa52-39466ff9a9e5"
      },
      "outputs": [
        {
          "name": "stdout",
          "output_type": "stream",
          "text": [
            "Collecting openai==0.28.1\n",
            "  Downloading openai-0.28.1-py3-none-any.whl (76 kB)\n",
            "\u001b[?25l     \u001b[90m━━━━━━━━━━━━━━━━━━━━━━━━━━━━━━━━━━━━━━━━\u001b[0m \u001b[32m0.0/77.0 kB\u001b[0m \u001b[31m?\u001b[0m eta \u001b[36m-:--:--\u001b[0m\r\u001b[2K     \u001b[90m━━━━━━━━━━━━━━━━━━━━━━━━━━━━━━━━━━━━━━━━\u001b[0m \u001b[32m77.0/77.0 kB\u001b[0m \u001b[31m2.8 MB/s\u001b[0m eta \u001b[36m0:00:00\u001b[0m\n",
            "\u001b[?25hRequirement already satisfied: requests>=2.20 in /usr/local/lib/python3.10/dist-packages (from openai==0.28.1) (2.31.0)\n",
            "Requirement already satisfied: tqdm in /usr/local/lib/python3.10/dist-packages (from openai==0.28.1) (4.66.1)\n",
            "Requirement already satisfied: aiohttp in /usr/local/lib/python3.10/dist-packages (from openai==0.28.1) (3.8.6)\n",
            "Requirement already satisfied: charset-normalizer<4,>=2 in /usr/local/lib/python3.10/dist-packages (from requests>=2.20->openai==0.28.1) (3.3.2)\n",
            "Requirement already satisfied: idna<4,>=2.5 in /usr/local/lib/python3.10/dist-packages (from requests>=2.20->openai==0.28.1) (3.4)\n",
            "Requirement already satisfied: urllib3<3,>=1.21.1 in /usr/local/lib/python3.10/dist-packages (from requests>=2.20->openai==0.28.1) (2.0.7)\n",
            "Requirement already satisfied: certifi>=2017.4.17 in /usr/local/lib/python3.10/dist-packages (from requests>=2.20->openai==0.28.1) (2023.7.22)\n",
            "Requirement already satisfied: attrs>=17.3.0 in /usr/local/lib/python3.10/dist-packages (from aiohttp->openai==0.28.1) (23.1.0)\n",
            "Requirement already satisfied: multidict<7.0,>=4.5 in /usr/local/lib/python3.10/dist-packages (from aiohttp->openai==0.28.1) (6.0.4)\n",
            "Requirement already satisfied: async-timeout<5.0,>=4.0.0a3 in /usr/local/lib/python3.10/dist-packages (from aiohttp->openai==0.28.1) (4.0.3)\n",
            "Requirement already satisfied: yarl<2.0,>=1.0 in /usr/local/lib/python3.10/dist-packages (from aiohttp->openai==0.28.1) (1.9.2)\n",
            "Requirement already satisfied: frozenlist>=1.1.1 in /usr/local/lib/python3.10/dist-packages (from aiohttp->openai==0.28.1) (1.4.0)\n",
            "Requirement already satisfied: aiosignal>=1.1.2 in /usr/local/lib/python3.10/dist-packages (from aiohttp->openai==0.28.1) (1.3.1)\n",
            "Installing collected packages: openai\n",
            "\u001b[31mERROR: pip's dependency resolver does not currently take into account all the packages that are installed. This behaviour is the source of the following dependency conflicts.\n",
            "llmx 0.0.15a0 requires cohere, which is not installed.\n",
            "llmx 0.0.15a0 requires tiktoken, which is not installed.\u001b[0m\u001b[31m\n",
            "\u001b[0mSuccessfully installed openai-0.28.1\n",
            "Collecting langchain\n",
            "  Downloading langchain-0.0.341-py3-none-any.whl (1.9 MB)\n",
            "\u001b[2K     \u001b[90m━━━━━━━━━━━━━━━━━━━━━━━━━━━━━━━━━━━━━━━━\u001b[0m \u001b[32m1.9/1.9 MB\u001b[0m \u001b[31m19.5 MB/s\u001b[0m eta \u001b[36m0:00:00\u001b[0m\n",
            "\u001b[?25hRequirement already satisfied: PyYAML>=5.3 in /usr/local/lib/python3.10/dist-packages (from langchain) (6.0.1)\n",
            "Requirement already satisfied: SQLAlchemy<3,>=1.4 in /usr/local/lib/python3.10/dist-packages (from langchain) (2.0.23)\n",
            "Requirement already satisfied: aiohttp<4.0.0,>=3.8.3 in /usr/local/lib/python3.10/dist-packages (from langchain) (3.8.6)\n",
            "Requirement already satisfied: anyio<4.0 in /usr/local/lib/python3.10/dist-packages (from langchain) (3.7.1)\n",
            "Requirement already satisfied: async-timeout<5.0.0,>=4.0.0 in /usr/local/lib/python3.10/dist-packages (from langchain) (4.0.3)\n",
            "Collecting dataclasses-json<0.7,>=0.5.7 (from langchain)\n",
            "  Downloading dataclasses_json-0.6.3-py3-none-any.whl (28 kB)\n",
            "Collecting jsonpatch<2.0,>=1.33 (from langchain)\n",
            "  Downloading jsonpatch-1.33-py2.py3-none-any.whl (12 kB)\n",
            "Collecting langchain-core<0.0.7,>=0.0.6 (from langchain)\n",
            "  Downloading langchain_core-0.0.6-py3-none-any.whl (174 kB)\n",
            "\u001b[2K     \u001b[90m━━━━━━━━━━━━━━━━━━━━━━━━━━━━━━━━━━━━━━━━\u001b[0m \u001b[32m174.2/174.2 kB\u001b[0m \u001b[31m20.1 MB/s\u001b[0m eta \u001b[36m0:00:00\u001b[0m\n",
            "\u001b[?25hCollecting langsmith<0.1.0,>=0.0.63 (from langchain)\n",
            "  Downloading langsmith-0.0.67-py3-none-any.whl (47 kB)\n",
            "\u001b[2K     \u001b[90m━━━━━━━━━━━━━━━━━━━━━━━━━━━━━━━━━━━━━━━━\u001b[0m \u001b[32m47.0/47.0 kB\u001b[0m \u001b[31m3.7 MB/s\u001b[0m eta \u001b[36m0:00:00\u001b[0m\n",
            "\u001b[?25hRequirement already satisfied: numpy<2,>=1 in /usr/local/lib/python3.10/dist-packages (from langchain) (1.23.5)\n",
            "Requirement already satisfied: pydantic<3,>=1 in /usr/local/lib/python3.10/dist-packages (from langchain) (1.10.13)\n",
            "Requirement already satisfied: requests<3,>=2 in /usr/local/lib/python3.10/dist-packages (from langchain) (2.31.0)\n",
            "Requirement already satisfied: tenacity<9.0.0,>=8.1.0 in /usr/local/lib/python3.10/dist-packages (from langchain) (8.2.3)\n",
            "Requirement already satisfied: attrs>=17.3.0 in /usr/local/lib/python3.10/dist-packages (from aiohttp<4.0.0,>=3.8.3->langchain) (23.1.0)\n",
            "Requirement already satisfied: charset-normalizer<4.0,>=2.0 in /usr/local/lib/python3.10/dist-packages (from aiohttp<4.0.0,>=3.8.3->langchain) (3.3.2)\n",
            "Requirement already satisfied: multidict<7.0,>=4.5 in /usr/local/lib/python3.10/dist-packages (from aiohttp<4.0.0,>=3.8.3->langchain) (6.0.4)\n",
            "Requirement already satisfied: yarl<2.0,>=1.0 in /usr/local/lib/python3.10/dist-packages (from aiohttp<4.0.0,>=3.8.3->langchain) (1.9.2)\n",
            "Requirement already satisfied: frozenlist>=1.1.1 in /usr/local/lib/python3.10/dist-packages (from aiohttp<4.0.0,>=3.8.3->langchain) (1.4.0)\n",
            "Requirement already satisfied: aiosignal>=1.1.2 in /usr/local/lib/python3.10/dist-packages (from aiohttp<4.0.0,>=3.8.3->langchain) (1.3.1)\n",
            "Requirement already satisfied: idna>=2.8 in /usr/local/lib/python3.10/dist-packages (from anyio<4.0->langchain) (3.4)\n",
            "Requirement already satisfied: sniffio>=1.1 in /usr/local/lib/python3.10/dist-packages (from anyio<4.0->langchain) (1.3.0)\n",
            "Requirement already satisfied: exceptiongroup in /usr/local/lib/python3.10/dist-packages (from anyio<4.0->langchain) (1.1.3)\n",
            "Collecting marshmallow<4.0.0,>=3.18.0 (from dataclasses-json<0.7,>=0.5.7->langchain)\n",
            "  Downloading marshmallow-3.20.1-py3-none-any.whl (49 kB)\n",
            "\u001b[2K     \u001b[90m━━━━━━━━━━━━━━━━━━━━━━━━━━━━━━━━━━━━━━━━\u001b[0m \u001b[32m49.4/49.4 kB\u001b[0m \u001b[31m7.0 MB/s\u001b[0m eta \u001b[36m0:00:00\u001b[0m\n",
            "\u001b[?25hCollecting typing-inspect<1,>=0.4.0 (from dataclasses-json<0.7,>=0.5.7->langchain)\n",
            "  Downloading typing_inspect-0.9.0-py3-none-any.whl (8.8 kB)\n",
            "Collecting jsonpointer>=1.9 (from jsonpatch<2.0,>=1.33->langchain)\n",
            "  Downloading jsonpointer-2.4-py2.py3-none-any.whl (7.8 kB)\n",
            "Requirement already satisfied: typing-extensions>=4.2.0 in /usr/local/lib/python3.10/dist-packages (from pydantic<3,>=1->langchain) (4.5.0)\n",
            "Requirement already satisfied: urllib3<3,>=1.21.1 in /usr/local/lib/python3.10/dist-packages (from requests<3,>=2->langchain) (2.0.7)\n",
            "Requirement already satisfied: certifi>=2017.4.17 in /usr/local/lib/python3.10/dist-packages (from requests<3,>=2->langchain) (2023.7.22)\n",
            "Requirement already satisfied: greenlet!=0.4.17 in /usr/local/lib/python3.10/dist-packages (from SQLAlchemy<3,>=1.4->langchain) (3.0.1)\n",
            "Requirement already satisfied: packaging>=17.0 in /usr/local/lib/python3.10/dist-packages (from marshmallow<4.0.0,>=3.18.0->dataclasses-json<0.7,>=0.5.7->langchain) (23.2)\n",
            "Collecting mypy-extensions>=0.3.0 (from typing-inspect<1,>=0.4.0->dataclasses-json<0.7,>=0.5.7->langchain)\n",
            "  Downloading mypy_extensions-1.0.0-py3-none-any.whl (4.7 kB)\n",
            "Installing collected packages: mypy-extensions, marshmallow, jsonpointer, typing-inspect, langsmith, jsonpatch, langchain-core, dataclasses-json, langchain\n",
            "Successfully installed dataclasses-json-0.6.3 jsonpatch-1.33 jsonpointer-2.4 langchain-0.0.341 langchain-core-0.0.6 langsmith-0.0.67 marshmallow-3.20.1 mypy-extensions-1.0.0 typing-inspect-0.9.0\n"
          ]
        }
      ],
      "source": [
        "!pip install openai==0.28.1\n",
        "!pip install langchain"
      ]
    },
    {
      "cell_type": "code",
      "execution_count": null,
      "metadata": {
        "id": "um-ReBj0IMI0"
      },
      "outputs": [],
      "source": [
        "from textwrap import dedent\n",
        "import os\n",
        "import json\n",
        "from langchain.chat_models import ChatOpenAI\n",
        "from langchain.output_parsers import ResponseSchema, StructuredOutputParser\n",
        "from langchain.prompts import ChatPromptTemplate\n",
        "import requests\n"
      ]
    },
    {
      "cell_type": "code",
      "execution_count": null,
      "metadata": {
        "id": "7NH4q2vOi0Pm"
      },
      "outputs": [],
      "source": [
        "llm = ChatOpenAI(model_name=\"gpt-4-1106-preview\", temperature=0.2, openai_api_key=\"Your Key\")\n"
      ]
    },
    {
      "cell_type": "markdown",
      "metadata": {
        "id": "MveZweTli0fZ"
      },
      "source": [
        "# Market"
      ]
    },
    {
      "cell_type": "code",
      "execution_count": null,
      "metadata": {
        "id": "R8NTB8p4OzX3"
      },
      "outputs": [],
      "source": []
    },
    {
      "cell_type": "code",
      "execution_count": null,
      "metadata": {
        "id": "r7fnbJKvFF5Q"
      },
      "outputs": [],
      "source": [
        "import os\n",
        "import json\n",
        "from langchain.chat_models import ChatOpenAI\n",
        "from langchain.output_parsers import ResponseSchema, StructuredOutputParser\n",
        "from langchain.prompts import ChatPromptTemplate\n",
        "import requests\n",
        "\n",
        "# Define format_instructions before using it in the template_string\n",
        "\n",
        "llm = ChatOpenAI(model_name=\"gpt-4\", temperature=0.2, openai_api_key=\"sk-Your Key\")\n",
        "\n",
        "# ...\n",
        "\n",
        "def reformat_market_research(Brand_Name, Product, Problem_Solved, Industry, Target_Market, Problem, Dream_Situation,Value_Proposition):\n",
        "    # rest of your code\n",
        "\n",
        "    response_schema=[\n",
        "\n",
        "        ResponseSchema(name=\"demographics\", description=f\"\"\"Provide the demographic details of \"{Brand_Name}\" such as Age, Income, and Relationship Status. Based on this information provided for inputs for market research, I want you to create an ideal buyer for this company and also perform an analysis on the demographic data of this market, behaving as if you were an analyst. Your response should contain the following information about the target market: age range, occupation, annual income, marital status, family situation, location. Be thorough in your response and dig as deep as possible. An ideal output example is. The target audience for {Brand_Name}'s labor law consulting services consists of individuals aged 30 to 60, primarily entrepreneurs, SME owners, and managers in various sectors, excluding construction and agriculture, with estimated annual incomes ranging from €50,000 to €500,000. Marital status is diverse, including those married, in stable relationships, as well as single or divorced individuals, given the age range. Many in this group may have families with children, which influences their financial stability needs and the desire to optimize business costs. They are primarily located in urban or peri-urban areas, and consideration extends to a 50-100 km radius from major Italian cities, where SMEs often operate just outside metropolitan regions.\"\"\"),\n",
        "        ResponseSchema(name=\"psychographics\", description=f\"I want you to create the psychographic profile of the ideal buyer for the company. Based on the information in market research, perform an analysis on the psychographic data of this market. Provide all the information you deem necessary and that will be useful for creating an effective marketing campaign.Your response should contain the following information about the target market: Personal traits, Hobbies, Interests, Personal aspirations, Professional goals, Pains, Primary challenges, Dreams. Do not provide mediocre or superficial answers. Be comprehensive in your response and dig as deeply as possible. A good output example is. Psychographic Data: The ideal buyer for {Brand_Name}'s labor law consulting services, focusing on labor contract optimization, increased workforce flexibility, and dispute prevention, possesses key personal traits such as decision-making skills, problem-solving abilities, visionary thinking, a sense of responsibility towards employees and the company, and a pragmatic approach to decision-making. Their hobbies include staying updated through industry-related reading, active networking in sector events and workshops, and a blend of business and leisure travel and sports for stress relief. These individuals are interested in innovation and technological advancements that improve business efficiency, as well as personal development and training, leadership and personnel management strategies, and market trends and competitive analysis. Their personal aspirations revolve around achieving financial stability for themselves and their families, personal and professional growth, and recognition as leaders in their industry. Professionally, their objectives include expanding and consolidating their companies in the market, optimizing costs, maximizing profits, creating a stable work environment, and managing labor relations effectively to prevent disputes. They experience challenges related to navigating a dynamic market, recruiting and retaining talent, balancing immediate company needs with long-term goals, and maintaining a harmonious balance between employee expectations and the company's financial capabilities. Their dreams encompass witnessing their companies thrive, leaving a lasting legacy, making a positive impact on their community or industry, and reaching a point where they can enjoy the fruits of their hard work with reduced daily stress.\"),\n",
        "        ResponseSchema(name=\"fears\", description=\"Vividly describe 5 fears that the buyer persona has regarding their problem and what would happen if they didn't address it. I don't want boring or superficial answers. Tell me the deepest fears that the buyer persona wouldn't admit out loud unless they were heard by others. Fears that often keep them awake at night.For each fear, give me specific examples of how each of these 5 fears would impact their relationships. Be vivid, descriptive, and emotional.What impact would these fears if realized have on the people surrounding the buyer persona? In the worst case, how would these people treat her? A very good output example is. Fear of Bankruptcy is tied to the worry that excessive costs and poor employee contract management could lead to the company's financial collapse, resulting in employee resentment and social isolation. Fear of Losing Control is rooted in feeling overwhelmed by an inability to manage finances and contracts, potentially causing strained relationships with employees and family, who may perceive him as incapable. Fear of Social Judgment focuses on concerns of harsh judgment from colleagues and acquaintances, potentially leading to social avoidance and exclusion from business decisions. Fear of Not Measuring Up reflects insecurities about competence and the potential to damage his reputation as a leader. Fear of Irreparably Harming the Company encompasses anxieties about making detrimental decisions that could hinder business growth and discourage employees and partners.\"),\n",
        "        ResponseSchema(name=\"desires\", description=\"Detail the desires and wishes of the target market.Vividly describe 5 desires that the buyer persona has regarding their problem and what would happen if they were to achieve them. I don't want boring or superficial answers. Tell me the deepest desires that the buyer persona wouldn't admit out loud unless they were heard by others. Desires for which they would be willing to do anything to realize. For each desire, give me specific examples of how each of these 5 desires would impact their relationships. Be vivid, descriptive, and emotional.What impact would these desires if realized have on the people surrounding the buyer persona? In the best case, how would these people treat her? Push the boundaries of her wildest imagination.A good output example is.Desire for Omnipotence in Contract Management involves the hidden desire to possess complete knowledge of labor contracts and manipulate every detail for success. This would make others perceive the person as a Contract Wizard seeking their advice and wanting to learn their secrets. The Desire for Immunity from Union Problems is the dream of creating perfect contracts to avoid union disputes and be seen as an ally by employees and unions, with the person being regarded as enlightened. The Desire for Perfect Harmony is the wish to create a harmonious work environment, driving unparalleled productivity and support among employees, resulting in the person being venerated as an enlightened entrepreneur. The Desire for Global Recognition is the secret dream of international acclaim in labor contracts, making competitors envious and admired as a role model. Lastly, the Desire for Talent Magnetism is the aspiration to be the reference employer in the industry, attracting top talents, leading to admiration and a sense of gratitude from employees and envy from other employers.\"),\n",
        "        ResponseSchema(name=\"obstacles\", description=\"Identify the obstacles or challenges faced by the business.In this ideal scenario, now list 20 things that the Buyer persona does NOT want to do to achieve all these extraordinary results. They can be perceived obstacles or challenges, skills that the target persona lacks, or simply actions they do not want to take. Be specific.a good output example is. The challenges involve investing significant time and resources in understanding labor regulations and seeking legal expertise, dealing with union disputes and employee conflicts related to contracts, staying updated on labor laws, risking errors through trial and error, negotiating individual employee contracts, managing frequent meetings to communicate contract changes, navigating bureaucratic government processes, facing potential penalties for non-compliance, dealing with industry reputation challenges, and ensuring a competitive salary structure. This effort requires continuous stress, employee turnover, and fierce competition for talent, sometimes leading to the denial of employee benefits not specified in contracts. Additionally, it involves staying vigilant for regulatory changes and often sacrificing personal and family time to address contractual issues or disputes, occasionally compromising the company's values and vision to cut personnel costs.\"),\n",
        "        ResponseSchema(name=\"alternative_solutions\", description=f\"Provide alternative solutions.Create a list of 5 alternative solutions that the buyer persona has tried instead of the company offering but have not worked. For each alternative solution, explain to the buyer persona in the tone of a trusted friend why the solution they tried probably failed. A good output example is The Buyer Persona would be reluctant to hire a single in-house labor consultant, as they might not possess the broad and up-to-date expertise required to navigate legal intricacies. They would also avoid relying solely on HR software and tools because labor law issues often necessitate a human touch to address unique situations and the latest legislative changes. Attending courses and seminars, while beneficial for self-improvement, might be viewed as time-consuming and not guaranteeing immediate practical application, making them a less preferable option. The Buyer Persona would be cautious about heeding advice from fellow entrepreneurs or industry friends as solutions that work for one company may not be suitable for their specific needs. Finally, ignoring labor law challenges in the hope that complications will resolve themselves would be seen as a risky approach, potentially leading to more significant issues down the line.\"),\n",
        "        ResponseSchema(name=\"trigger_events\", description=\"Highlight trigger events that affect the business.Create a list of the top 5 trigger events that lead the target audience to consider purchasing a product similar to that of the company. By trigger events, I mean life events that, once they happen, trigger and unlock new needs and decisions in the consumer's mind. Typically, a trigger event occurs when something in the consumer's life happens that makes them realize they have a problem.. A good output example is.Recent Union Disputes: After enduring a labor dispute that was both exhausting and costly, the employer recognizes the need for more precise contract management. This negative experience highlights the essential nature of proper consulting, not only to prevent further disputes but also to ensure that employees are treated fairly under current laws. Company Expansion: If the company plans to hire a large number of employees in a short time or expand into new markets, it can serve as a red flag. The employer may not feel adequately prepared or confident in managing a larger volume of employment contracts and adapting to the local laws of new regions or countries. Legal Controversy: Legal action due to alleged violations of the employment contract or unfair treatment can shake the employer's confidence. After facing the burdensome legal system and associated costs, the employer may be driven to seek a solution that prevents future similar situations. Employee Dissatisfaction: If a significant number of employees express concerns about their working conditions, or worse, if they begin to resign, it can become a warning sign. This scenario makes it clear that a review and optimization of existing employment contracts is necessary. Legislative Review: Significant changes in labor legislation can act as a trigger. If the government introduces new rules or laws that directly impact employment contracts, the employer may feel inadequate or unprepared to navigate these complex legal waters without expert guidance.\"),\n",
        "        ResponseSchema(name=\"sad_diary\", description=\"Detail the actual situation in the 'Dear Diary' format.Write an emotional diary entry of 1000 words from the perspective of the Buyer Persona who has this problem. They don't know how to solve the problems. They feel frustrated, inadequate, and worried. Be creative. A good output example is Dear diary, I find myself reflecting on another day filled with challenges and tensions. The weight on my shoulders seems to grow with each passing day, like a mountain that becomes steeper and more insurmountable. I feel the responsibility for the lives that depend on me, the contracts I negotiate, and the salaries I pay out each month. It's a burden I never thought would weigh so heavily. Lately, I've noticed that the cost of personnel is becoming unsustainable. Every time I analyze the budget, those red numbers haunt me, challenging me. I want to offer better working conditions to my employees; I want to feel proud of what I provide them. But faced with those numbers, I feel powerless. Last week, Marco, one of my best employees, came to my office asking for a raise. His reasons were solid: he's an excellent worker, and in another context, I would have said yes without hesitation. But now? How can I agree when the company's margins are so thin? I felt as though my hands were tied. I had to look him in the eyes and tell him to wait, to be patient. That conversation broke my heart. And then there are the unions. I understand their role, I understand they want the best for workers. But every time I receive a letter or a call from them, I feel a lump in my throat. Fearing that any move I make might trigger a dispute or a protest. I don't want to get into trouble; I don't want my company in the spotlight for the wrong reasons. Yet, how do I balance all of this? I feel like I'm walking on a thin rope, desperately trying not to fall to one side or the other. I just wish to find a way to save, to optimize. A way to make this balance less precarious. I often wonder if I'm up to this challenge. At night, while the world sleeps, I stay awake, haunted by budgets, numbers, and responsibilities. I think about the families of my employees, their dreams, their hopes. And I wonder if they might feel betrayed someday. I'm tired, dear diary. But I can't stop, not now. I have to find a solution, a way to overcome this mountain. For me, for my company, and most importantly, for the people who depend on me.\"),\n",
        "        ResponseSchema(name=\"happy_diary\", description=\"Describe the ideal situation in the 'Dream Situation' format.Write a 1000-word emotional diary entry from the perspective of the Buyer Persona who used to have the problem but now is in a DREAM SITUATION.They feel proud, unstoppable, and happy. Be creative, Dear diary, today, I find myself reflecting on an incredible journey, a path through uncertainty and frustration that has found an illuminating direction. The light at the end of the tunnel, as they say, is not just a metaphor. It's a palpable sensation, a surge of energy that fills you from within. Remember when I wrote to you about sleepless nights, worries about the rising cost of personnel, and seemingly insurmountable challenges I faced? I felt like a castaway in the midst of a tempestuous ocean, searching for a compass, a signal, anything that could point me in the right direction. And then Stefano Alemanno arrived. Stefano is not just a consultant; for me, he has been a beacon in the darkness. With his deep knowledge and his skill in finding the ideal solution for every situation, he helped me see the big picture. What was once an intricate puzzle of numbers and clauses became clear as day. Thanks to him, I discovered that I could save up to €2,000 per year per employee, and the remarkable thing is that I didn't have to make sacrifices on their salaries. On the contrary, I could offer bigger bonuses and higher wages. Imagine, dear diary, the surprise and joy of my employees when they found out that not only would they not face cuts, but they would earn more! The change was not only financial. The atmosphere in the office has been transformed. I see smiles, hear laughter, and we all feel a sense of unity and belonging. When one is happy, they are more productive, more engaged, and the entire company benefits. And me? I feel like I've conquered the world. Every morning when I step into the office, I feel proud of what I've achieved. I feel unstoppable. The confidence that Stefano instilled in me is reflected in every decision I make, in every project I undertake. The challenges have not disappeared, dear diary, but now I have the tools and the vision to face them. And I also have a team of happy and motivated employees by my side, ready to give their best in every situation. Today, as I reflect on this incredible journey of transformation, I can't help but think of all those employers out there who are still in the dark, still searching for a solution. I wish I could share with them the magic of Stefano Alemanno. Because every company, big or small, deserves to shine.\"),\n",
        "        ResponseSchema(name=\"FAQ\", description=\"Answer the 10 frequently asked questions. Now, define the top 10 FAQs Frequently Asked Questions that users have about the product offered by this company. How can Stefano Alemanno help me reduce personnel costs without decreasing salaries? Stefano Alemanno takes a strategic approach to identify inefficiencies and optimize cost structures, which may include renegotiating existing contracts, seeking tax or contribution incentives, and internal reorganization, all without affecting employees' salaries. How can Stefano Alemanno increase flexibility in labor contracts? Through detailed analysis of business needs and existing contracts, Stefano can propose tailored solutions that may include fixed-term contracts, part-time work, telecommuting, or other forms of flexible work that comply with current legislation. How can Stefano Alemanno help me prevent union disputes? With his experience in industrial relations, Stefano can provide advice on establishing constructive dialogue with union representatives, preventing conflict situations through effective communication, and negotiating fair agreements. What is Stefano Alemanno's experience in specific sectors? Although Stefano Alemanno has chosen not to operate in construction and agriculture, he has experience in various other sectors, allowing him to offer customized solutions for SMEs in different market areas. What are the costs of Stefano Alemanno's consulting services?\")\n",
        "\n",
        "    ]\n",
        "    schema_output_template = StructuredOutputParser.from_response_schemas(response_schema)\n",
        "    market_research_format_instructions = schema_output_template.get_format_instructions()\n",
        "\n",
        "    template_string = dedent(\"\"\"\n",
        "\n",
        "    Today, you are a very detail-oriented marketing analyst. I want you to create the ideal buyer profile for {Brand_Name} who deals with: {Product} for optimizing labor costs, increasing flexibility, and avoiding succumbing to disputes.\n",
        "    The problem that this company solves is as follows: {Problem_Solved}.\n",
        "    Insdustry that they work in: {Industry}\n",
        "    Here is some information on the target market: {Target_Market}.\n",
        "    Based on this information, carry out an analysis on the demographic data of this market, behaving as if you were an analyst.\n",
        "    Your answer must contain this information on the target market: age range, Occupation, Annual Income, Marital Status, Family Situation, location. Be exhaustive in the answer and dig as deep as possible.\n",
        "    {market_research_format_instructions}\n",
        "\n",
        "    \"\"\")\n",
        "\n",
        "    prompt_template = ChatPromptTemplate.from_template(template_string)\n",
        "    print(market_research_format_instructions)\n",
        "    messages = prompt_template.format_messages(\n",
        "        Brand_Name=Brand_Name,\n",
        "        Product=Product,\n",
        "        Problem_Solved=Problem_Solved,\n",
        "        Industry=Industry,\n",
        "        Target_Market=Target_Market,\n",
        "        Problem=Problem,\n",
        "        Dream_Situation=Dream_Situation,\n",
        "        Value_Proposition=Value_Proposition,\n",
        "        market_research_format_instructions=market_research_format_instructions\n",
        "\n",
        "    )\n",
        "    print(messages)\n",
        "\n",
        "    response = llm(messages)\n",
        "    print(response)\n",
        "    response_as_dict = schema_output_template.parse(response.content)\n",
        "\n",
        "    return json.dumps(response_as_dict)\n"
      ]
    },
    {
      "cell_type": "code",
      "execution_count": null,
      "metadata": {
        "colab": {
          "base_uri": "https://localhost:8080/"
        },
        "id": "i7HDRpTlFQBl",
        "outputId": "95c221ba-c92b-4d46-b40e-188da07668bc"
      },
      "outputs": [
        {
          "name": "stdout",
          "output_type": "stream",
          "text": [
            "The output should be a markdown code snippet formatted in the following schema, including the leading and trailing \"```json\" and \"```\":\n",
            "\n",
            "```json\n",
            "{\n",
            "\t\"demographics\": string  // Provide the demographic details of \"Coca cola company\" such as Age, Income, and Relationship Status. Based on this information provided for inputs for market research, I want you to create an ideal buyer for this company and also perform an analysis on the demographic data of this market, behaving as if you were an analyst. Your response should contain the following information about the target market: age range, occupation, annual income, marital status, family situation, location. Be thorough in your response and dig as deep as possible. An ideal output example is. The target audience for Coca cola company's labor law consulting services consists of individuals aged 30 to 60, primarily entrepreneurs, SME owners, and managers in various sectors, excluding construction and agriculture, with estimated annual incomes ranging from €50,000 to €500,000. Marital status is diverse, including those married, in stable relationships, as well as single or divorced individuals, given the age range. Many in this group may have families with children, which influences their financial stability needs and the desire to optimize business costs. They are primarily located in urban or peri-urban areas, and consideration extends to a 50-100 km radius from major Italian cities, where SMEs often operate just outside metropolitan regions.\n",
            "\t\"psychographics\": string  // I want you to create the psychographic profile of the ideal buyer for the company. Based on the information in market research, perform an analysis on the psychographic data of this market. Provide all the information you deem necessary and that will be useful for creating an effective marketing campaign.Your response should contain the following information about the target market: Personal traits, Hobbies, Interests, Personal aspirations, Professional goals, Pains, Primary challenges, Dreams. Do not provide mediocre or superficial answers. Be comprehensive in your response and dig as deeply as possible. A good output example is. Psychographic Data: The ideal buyer for Coca cola company's labor law consulting services, focusing on labor contract optimization, increased workforce flexibility, and dispute prevention, possesses key personal traits such as decision-making skills, problem-solving abilities, visionary thinking, a sense of responsibility towards employees and the company, and a pragmatic approach to decision-making. Their hobbies include staying updated through industry-related reading, active networking in sector events and workshops, and a blend of business and leisure travel and sports for stress relief. These individuals are interested in innovation and technological advancements that improve business efficiency, as well as personal development and training, leadership and personnel management strategies, and market trends and competitive analysis. Their personal aspirations revolve around achieving financial stability for themselves and their families, personal and professional growth, and recognition as leaders in their industry. Professionally, their objectives include expanding and consolidating their companies in the market, optimizing costs, maximizing profits, creating a stable work environment, and managing labor relations effectively to prevent disputes. They experience challenges related to navigating a dynamic market, recruiting and retaining talent, balancing immediate company needs with long-term goals, and maintaining a harmonious balance between employee expectations and the company's financial capabilities. Their dreams encompass witnessing their companies thrive, leaving a lasting legacy, making a positive impact on their community or industry, and reaching a point where they can enjoy the fruits of their hard work with reduced daily stress.\n",
            "\t\"fears\": string  // Vividly describe 5 fears that the buyer persona has regarding their problem and what would happen if they didn't address it. I don't want boring or superficial answers. Tell me the deepest fears that the buyer persona wouldn't admit out loud unless they were heard by others. Fears that often keep them awake at night.For each fear, give me specific examples of how each of these 5 fears would impact their relationships. Be vivid, descriptive, and emotional.What impact would these fears if realized have on the people surrounding the buyer persona? In the worst case, how would these people treat her? A very good output example is. Fear of Bankruptcy is tied to the worry that excessive costs and poor employee contract management could lead to the company's financial collapse, resulting in employee resentment and social isolation. Fear of Losing Control is rooted in feeling overwhelmed by an inability to manage finances and contracts, potentially causing strained relationships with employees and family, who may perceive him as incapable. Fear of Social Judgment focuses on concerns of harsh judgment from colleagues and acquaintances, potentially leading to social avoidance and exclusion from business decisions. Fear of Not Measuring Up reflects insecurities about competence and the potential to damage his reputation as a leader. Fear of Irreparably Harming the Company encompasses anxieties about making detrimental decisions that could hinder business growth and discourage employees and partners.\n",
            "\t\"desires\": string  // Detail the desires and wishes of the target market.Vividly describe 5 desires that the buyer persona has regarding their problem and what would happen if they were to achieve them. I don't want boring or superficial answers. Tell me the deepest desires that the buyer persona wouldn't admit out loud unless they were heard by others. Desires for which they would be willing to do anything to realize. For each desire, give me specific examples of how each of these 5 desires would impact their relationships. Be vivid, descriptive, and emotional.What impact would these desires if realized have on the people surrounding the buyer persona? In the best case, how would these people treat her? Push the boundaries of her wildest imagination.A good output example is.Desire for Omnipotence in Contract Management involves the hidden desire to possess complete knowledge of labor contracts and manipulate every detail for success. This would make others perceive the person as a Contract Wizard seeking their advice and wanting to learn their secrets. The Desire for Immunity from Union Problems is the dream of creating perfect contracts to avoid union disputes and be seen as an ally by employees and unions, with the person being regarded as enlightened. The Desire for Perfect Harmony is the wish to create a harmonious work environment, driving unparalleled productivity and support among employees, resulting in the person being venerated as an enlightened entrepreneur. The Desire for Global Recognition is the secret dream of international acclaim in labor contracts, making competitors envious and admired as a role model. Lastly, the Desire for Talent Magnetism is the aspiration to be the reference employer in the industry, attracting top talents, leading to admiration and a sense of gratitude from employees and envy from other employers.\n",
            "\t\"obstacles\": string  // Identify the obstacles or challenges faced by the business.In this ideal scenario, now list 20 things that the Buyer persona does NOT want to do to achieve all these extraordinary results. They can be perceived obstacles or challenges, skills that the target persona lacks, or simply actions they do not want to take. Be specific.a good output example is. The challenges involve investing significant time and resources in understanding labor regulations and seeking legal expertise, dealing with union disputes and employee conflicts related to contracts, staying updated on labor laws, risking errors through trial and error, negotiating individual employee contracts, managing frequent meetings to communicate contract changes, navigating bureaucratic government processes, facing potential penalties for non-compliance, dealing with industry reputation challenges, and ensuring a competitive salary structure. This effort requires continuous stress, employee turnover, and fierce competition for talent, sometimes leading to the denial of employee benefits not specified in contracts. Additionally, it involves staying vigilant for regulatory changes and often sacrificing personal and family time to address contractual issues or disputes, occasionally compromising the company's values and vision to cut personnel costs.\n",
            "\t\"alternative_solutions\": string  // Provide alternative solutions.Create a list of 5 alternative solutions that the buyer persona has tried instead of the company offering but have not worked. For each alternative solution, explain to the buyer persona in the tone of a trusted friend why the solution they tried probably failed. A good output example is The Buyer Persona would be reluctant to hire a single in-house labor consultant, as they might not possess the broad and up-to-date expertise required to navigate legal intricacies. They would also avoid relying solely on HR software and tools because labor law issues often necessitate a human touch to address unique situations and the latest legislative changes. Attending courses and seminars, while beneficial for self-improvement, might be viewed as time-consuming and not guaranteeing immediate practical application, making them a less preferable option. The Buyer Persona would be cautious about heeding advice from fellow entrepreneurs or industry friends as solutions that work for one company may not be suitable for their specific needs. Finally, ignoring labor law challenges in the hope that complications will resolve themselves would be seen as a risky approach, potentially leading to more significant issues down the line.\n",
            "\t\"trigger_events\": string  // Highlight trigger events that affect the business.Create a list of the top 5 trigger events that lead the target audience to consider purchasing a product similar to that of the company. By trigger events, I mean life events that, once they happen, trigger and unlock new needs and decisions in the consumer's mind. Typically, a trigger event occurs when something in the consumer's life happens that makes them realize they have a problem.. A good output example is.Recent Union Disputes: After enduring a labor dispute that was both exhausting and costly, the employer recognizes the need for more precise contract management. This negative experience highlights the essential nature of proper consulting, not only to prevent further disputes but also to ensure that employees are treated fairly under current laws. Company Expansion: If the company plans to hire a large number of employees in a short time or expand into new markets, it can serve as a red flag. The employer may not feel adequately prepared or confident in managing a larger volume of employment contracts and adapting to the local laws of new regions or countries. Legal Controversy: Legal action due to alleged violations of the employment contract or unfair treatment can shake the employer's confidence. After facing the burdensome legal system and associated costs, the employer may be driven to seek a solution that prevents future similar situations. Employee Dissatisfaction: If a significant number of employees express concerns about their working conditions, or worse, if they begin to resign, it can become a warning sign. This scenario makes it clear that a review and optimization of existing employment contracts is necessary. Legislative Review: Significant changes in labor legislation can act as a trigger. If the government introduces new rules or laws that directly impact employment contracts, the employer may feel inadequate or unprepared to navigate these complex legal waters without expert guidance.\n",
            "\t\"sad_diary\": string  // Detail the actual situation in the 'Dear Diary' format.Write an emotional diary entry of 1000 words from the perspective of the Buyer Persona who has this problem. They don't know how to solve the problems. They feel frustrated, inadequate, and worried. Be creative. A good output example is Dear diary, I find myself reflecting on another day filled with challenges and tensions. The weight on my shoulders seems to grow with each passing day, like a mountain that becomes steeper and more insurmountable. I feel the responsibility for the lives that depend on me, the contracts I negotiate, and the salaries I pay out each month. It's a burden I never thought would weigh so heavily. Lately, I've noticed that the cost of personnel is becoming unsustainable. Every time I analyze the budget, those red numbers haunt me, challenging me. I want to offer better working conditions to my employees; I want to feel proud of what I provide them. But faced with those numbers, I feel powerless. Last week, Marco, one of my best employees, came to my office asking for a raise. His reasons were solid: he's an excellent worker, and in another context, I would have said yes without hesitation. But now? How can I agree when the company's margins are so thin? I felt as though my hands were tied. I had to look him in the eyes and tell him to wait, to be patient. That conversation broke my heart. And then there are the unions. I understand their role, I understand they want the best for workers. But every time I receive a letter or a call from them, I feel a lump in my throat. Fearing that any move I make might trigger a dispute or a protest. I don't want to get into trouble; I don't want my company in the spotlight for the wrong reasons. Yet, how do I balance all of this? I feel like I'm walking on a thin rope, desperately trying not to fall to one side or the other. I just wish to find a way to save, to optimize. A way to make this balance less precarious. I often wonder if I'm up to this challenge. At night, while the world sleeps, I stay awake, haunted by budgets, numbers, and responsibilities. I think about the families of my employees, their dreams, their hopes. And I wonder if they might feel betrayed someday. I'm tired, dear diary. But I can't stop, not now. I have to find a solution, a way to overcome this mountain. For me, for my company, and most importantly, for the people who depend on me.\n",
            "\t\"happy_diary\": string  // Describe the ideal situation in the 'Dream Situation' format.Write a 1000-word emotional diary entry from the perspective of the Buyer Persona who used to have the problem but now is in a DREAM SITUATION.They feel proud, unstoppable, and happy. Be creative, Dear diary, today, I find myself reflecting on an incredible journey, a path through uncertainty and frustration that has found an illuminating direction. The light at the end of the tunnel, as they say, is not just a metaphor. It's a palpable sensation, a surge of energy that fills you from within. Remember when I wrote to you about sleepless nights, worries about the rising cost of personnel, and seemingly insurmountable challenges I faced? I felt like a castaway in the midst of a tempestuous ocean, searching for a compass, a signal, anything that could point me in the right direction. And then Stefano Alemanno arrived. Stefano is not just a consultant; for me, he has been a beacon in the darkness. With his deep knowledge and his skill in finding the ideal solution for every situation, he helped me see the big picture. What was once an intricate puzzle of numbers and clauses became clear as day. Thanks to him, I discovered that I could save up to €2,000 per year per employee, and the remarkable thing is that I didn't have to make sacrifices on their salaries. On the contrary, I could offer bigger bonuses and higher wages. Imagine, dear diary, the surprise and joy of my employees when they found out that not only would they not face cuts, but they would earn more! The change was not only financial. The atmosphere in the office has been transformed. I see smiles, hear laughter, and we all feel a sense of unity and belonging. When one is happy, they are more productive, more engaged, and the entire company benefits. And me? I feel like I've conquered the world. Every morning when I step into the office, I feel proud of what I've achieved. I feel unstoppable. The confidence that Stefano instilled in me is reflected in every decision I make, in every project I undertake. The challenges have not disappeared, dear diary, but now I have the tools and the vision to face them. And I also have a team of happy and motivated employees by my side, ready to give their best in every situation. Today, as I reflect on this incredible journey of transformation, I can't help but think of all those employers out there who are still in the dark, still searching for a solution. I wish I could share with them the magic of Stefano Alemanno. Because every company, big or small, deserves to shine.\n",
            "\t\"FAQ\": string  // Answer the 10 frequently asked questions. Now, define the top 10 FAQs Frequently Asked Questions that users have about the product offered by this company. How can Stefano Alemanno help me reduce personnel costs without decreasing salaries? Stefano Alemanno takes a strategic approach to identify inefficiencies and optimize cost structures, which may include renegotiating existing contracts, seeking tax or contribution incentives, and internal reorganization, all without affecting employees' salaries. How can Stefano Alemanno increase flexibility in labor contracts? Through detailed analysis of business needs and existing contracts, Stefano can propose tailored solutions that may include fixed-term contracts, part-time work, telecommuting, or other forms of flexible work that comply with current legislation. How can Stefano Alemanno help me prevent union disputes? With his experience in industrial relations, Stefano can provide advice on establishing constructive dialogue with union representatives, preventing conflict situations through effective communication, and negotiating fair agreements. What is Stefano Alemanno's experience in specific sectors? Although Stefano Alemanno has chosen not to operate in construction and agriculture, he has experience in various other sectors, allowing him to offer customized solutions for SMEs in different market areas. What are the costs of Stefano Alemanno's consulting services?\n",
            "}\n",
            "```\n",
            "[HumanMessage(content='\\n\\nToday, you are a very detail-oriented marketing analyst. I want you to create the ideal buyer profile for Coca cola company who deals with: adc for optimizing labor costs, increasing flexibility, and avoiding succumbing to disputes.\\nThe problem that this company solves is as follows: increased sales .\\nInsdustry that they work in: Information Technology\\nHere is some information on the target market: Small to Medium Enterprises.\\nBased on this information, carry out an analysis on the demographic data of this market, behaving as if you were an analyst.\\nYour answer must contain this information on the target market: age range, Occupation, Annual Income, Marital Status, Family Situation, location. Be exhaustive in the answer and dig as deep as possible.\\nThe output should be a markdown code snippet formatted in the following schema, including the leading and trailing \"```json\" and \"```\":\\n\\n```json\\n{\\n\\t\"demographics\": string  // Provide the demographic details of \"Coca cola company\" such as Age, Income, and Relationship Status. Based on this information provided for inputs for market research, I want you to create an ideal buyer for this company and also perform an analysis on the demographic data of this market, behaving as if you were an analyst. Your response should contain the following information about the target market: age range, occupation, annual income, marital status, family situation, location. Be thorough in your response and dig as deep as possible. An ideal output example is. The target audience for Coca cola company\\'s labor law consulting services consists of individuals aged 30 to 60, primarily entrepreneurs, SME owners, and managers in various sectors, excluding construction and agriculture, with estimated annual incomes ranging from €50,000 to €500,000. Marital status is diverse, including those married, in stable relationships, as well as single or divorced individuals, given the age range. Many in this group may have families with children, which influences their financial stability needs and the desire to optimize business costs. They are primarily located in urban or peri-urban areas, and consideration extends to a 50-100 km radius from major Italian cities, where SMEs often operate just outside metropolitan regions.\\n\\t\"psychographics\": string  // I want you to create the psychographic profile of the ideal buyer for the company. Based on the information in market research, perform an analysis on the psychographic data of this market. Provide all the information you deem necessary and that will be useful for creating an effective marketing campaign.Your response should contain the following information about the target market: Personal traits, Hobbies, Interests, Personal aspirations, Professional goals, Pains, Primary challenges, Dreams. Do not provide mediocre or superficial answers. Be comprehensive in your response and dig as deeply as possible. A good output example is. Psychographic Data: The ideal buyer for Coca cola company\\'s labor law consulting services, focusing on labor contract optimization, increased workforce flexibility, and dispute prevention, possesses key personal traits such as decision-making skills, problem-solving abilities, visionary thinking, a sense of responsibility towards employees and the company, and a pragmatic approach to decision-making. Their hobbies include staying updated through industry-related reading, active networking in sector events and workshops, and a blend of business and leisure travel and sports for stress relief. These individuals are interested in innovation and technological advancements that improve business efficiency, as well as personal development and training, leadership and personnel management strategies, and market trends and competitive analysis. Their personal aspirations revolve around achieving financial stability for themselves and their families, personal and professional growth, and recognition as leaders in their industry. Professionally, their objectives include expanding and consolidating their companies in the market, optimizing costs, maximizing profits, creating a stable work environment, and managing labor relations effectively to prevent disputes. They experience challenges related to navigating a dynamic market, recruiting and retaining talent, balancing immediate company needs with long-term goals, and maintaining a harmonious balance between employee expectations and the company\\'s financial capabilities. Their dreams encompass witnessing their companies thrive, leaving a lasting legacy, making a positive impact on their community or industry, and reaching a point where they can enjoy the fruits of their hard work with reduced daily stress.\\n\\t\"fears\": string  // Vividly describe 5 fears that the buyer persona has regarding their problem and what would happen if they didn\\'t address it. I don\\'t want boring or superficial answers. Tell me the deepest fears that the buyer persona wouldn\\'t admit out loud unless they were heard by others. Fears that often keep them awake at night.For each fear, give me specific examples of how each of these 5 fears would impact their relationships. Be vivid, descriptive, and emotional.What impact would these fears if realized have on the people surrounding the buyer persona? In the worst case, how would these people treat her? A very good output example is. Fear of Bankruptcy is tied to the worry that excessive costs and poor employee contract management could lead to the company\\'s financial collapse, resulting in employee resentment and social isolation. Fear of Losing Control is rooted in feeling overwhelmed by an inability to manage finances and contracts, potentially causing strained relationships with employees and family, who may perceive him as incapable. Fear of Social Judgment focuses on concerns of harsh judgment from colleagues and acquaintances, potentially leading to social avoidance and exclusion from business decisions. Fear of Not Measuring Up reflects insecurities about competence and the potential to damage his reputation as a leader. Fear of Irreparably Harming the Company encompasses anxieties about making detrimental decisions that could hinder business growth and discourage employees and partners.\\n\\t\"desires\": string  // Detail the desires and wishes of the target market.Vividly describe 5 desires that the buyer persona has regarding their problem and what would happen if they were to achieve them. I don\\'t want boring or superficial answers. Tell me the deepest desires that the buyer persona wouldn\\'t admit out loud unless they were heard by others. Desires for which they would be willing to do anything to realize. For each desire, give me specific examples of how each of these 5 desires would impact their relationships. Be vivid, descriptive, and emotional.What impact would these desires if realized have on the people surrounding the buyer persona? In the best case, how would these people treat her? Push the boundaries of her wildest imagination.A good output example is.Desire for Omnipotence in Contract Management involves the hidden desire to possess complete knowledge of labor contracts and manipulate every detail for success. This would make others perceive the person as a Contract Wizard seeking their advice and wanting to learn their secrets. The Desire for Immunity from Union Problems is the dream of creating perfect contracts to avoid union disputes and be seen as an ally by employees and unions, with the person being regarded as enlightened. The Desire for Perfect Harmony is the wish to create a harmonious work environment, driving unparalleled productivity and support among employees, resulting in the person being venerated as an enlightened entrepreneur. The Desire for Global Recognition is the secret dream of international acclaim in labor contracts, making competitors envious and admired as a role model. Lastly, the Desire for Talent Magnetism is the aspiration to be the reference employer in the industry, attracting top talents, leading to admiration and a sense of gratitude from employees and envy from other employers.\\n\\t\"obstacles\": string  // Identify the obstacles or challenges faced by the business.In this ideal scenario, now list 20 things that the Buyer persona does NOT want to do to achieve all these extraordinary results. They can be perceived obstacles or challenges, skills that the target persona lacks, or simply actions they do not want to take. Be specific.a good output example is. The challenges involve investing significant time and resources in understanding labor regulations and seeking legal expertise, dealing with union disputes and employee conflicts related to contracts, staying updated on labor laws, risking errors through trial and error, negotiating individual employee contracts, managing frequent meetings to communicate contract changes, navigating bureaucratic government processes, facing potential penalties for non-compliance, dealing with industry reputation challenges, and ensuring a competitive salary structure. This effort requires continuous stress, employee turnover, and fierce competition for talent, sometimes leading to the denial of employee benefits not specified in contracts. Additionally, it involves staying vigilant for regulatory changes and often sacrificing personal and family time to address contractual issues or disputes, occasionally compromising the company\\'s values and vision to cut personnel costs.\\n\\t\"alternative_solutions\": string  // Provide alternative solutions.Create a list of 5 alternative solutions that the buyer persona has tried instead of the company offering but have not worked. For each alternative solution, explain to the buyer persona in the tone of a trusted friend why the solution they tried probably failed. A good output example is The Buyer Persona would be reluctant to hire a single in-house labor consultant, as they might not possess the broad and up-to-date expertise required to navigate legal intricacies. They would also avoid relying solely on HR software and tools because labor law issues often necessitate a human touch to address unique situations and the latest legislative changes. Attending courses and seminars, while beneficial for self-improvement, might be viewed as time-consuming and not guaranteeing immediate practical application, making them a less preferable option. The Buyer Persona would be cautious about heeding advice from fellow entrepreneurs or industry friends as solutions that work for one company may not be suitable for their specific needs. Finally, ignoring labor law challenges in the hope that complications will resolve themselves would be seen as a risky approach, potentially leading to more significant issues down the line.\\n\\t\"trigger_events\": string  // Highlight trigger events that affect the business.Create a list of the top 5 trigger events that lead the target audience to consider purchasing a product similar to that of the company. By trigger events, I mean life events that, once they happen, trigger and unlock new needs and decisions in the consumer\\'s mind. Typically, a trigger event occurs when something in the consumer\\'s life happens that makes them realize they have a problem.. A good output example is.Recent Union Disputes: After enduring a labor dispute that was both exhausting and costly, the employer recognizes the need for more precise contract management. This negative experience highlights the essential nature of proper consulting, not only to prevent further disputes but also to ensure that employees are treated fairly under current laws. Company Expansion: If the company plans to hire a large number of employees in a short time or expand into new markets, it can serve as a red flag. The employer may not feel adequately prepared or confident in managing a larger volume of employment contracts and adapting to the local laws of new regions or countries. Legal Controversy: Legal action due to alleged violations of the employment contract or unfair treatment can shake the employer\\'s confidence. After facing the burdensome legal system and associated costs, the employer may be driven to seek a solution that prevents future similar situations. Employee Dissatisfaction: If a significant number of employees express concerns about their working conditions, or worse, if they begin to resign, it can become a warning sign. This scenario makes it clear that a review and optimization of existing employment contracts is necessary. Legislative Review: Significant changes in labor legislation can act as a trigger. If the government introduces new rules or laws that directly impact employment contracts, the employer may feel inadequate or unprepared to navigate these complex legal waters without expert guidance.\\n\\t\"sad_diary\": string  // Detail the actual situation in the \\'Dear Diary\\' format.Write an emotional diary entry of 1000 words from the perspective of the Buyer Persona who has this problem. They don\\'t know how to solve the problems. They feel frustrated, inadequate, and worried. Be creative. A good output example is Dear diary, I find myself reflecting on another day filled with challenges and tensions. The weight on my shoulders seems to grow with each passing day, like a mountain that becomes steeper and more insurmountable. I feel the responsibility for the lives that depend on me, the contracts I negotiate, and the salaries I pay out each month. It\\'s a burden I never thought would weigh so heavily. Lately, I\\'ve noticed that the cost of personnel is becoming unsustainable. Every time I analyze the budget, those red numbers haunt me, challenging me. I want to offer better working conditions to my employees; I want to feel proud of what I provide them. But faced with those numbers, I feel powerless. Last week, Marco, one of my best employees, came to my office asking for a raise. His reasons were solid: he\\'s an excellent worker, and in another context, I would have said yes without hesitation. But now? How can I agree when the company\\'s margins are so thin? I felt as though my hands were tied. I had to look him in the eyes and tell him to wait, to be patient. That conversation broke my heart. And then there are the unions. I understand their role, I understand they want the best for workers. But every time I receive a letter or a call from them, I feel a lump in my throat. Fearing that any move I make might trigger a dispute or a protest. I don\\'t want to get into trouble; I don\\'t want my company in the spotlight for the wrong reasons. Yet, how do I balance all of this? I feel like I\\'m walking on a thin rope, desperately trying not to fall to one side or the other. I just wish to find a way to save, to optimize. A way to make this balance less precarious. I often wonder if I\\'m up to this challenge. At night, while the world sleeps, I stay awake, haunted by budgets, numbers, and responsibilities. I think about the families of my employees, their dreams, their hopes. And I wonder if they might feel betrayed someday. I\\'m tired, dear diary. But I can\\'t stop, not now. I have to find a solution, a way to overcome this mountain. For me, for my company, and most importantly, for the people who depend on me.\\n\\t\"happy_diary\": string  // Describe the ideal situation in the \\'Dream Situation\\' format.Write a 1000-word emotional diary entry from the perspective of the Buyer Persona who used to have the problem but now is in a DREAM SITUATION.They feel proud, unstoppable, and happy. Be creative, Dear diary, today, I find myself reflecting on an incredible journey, a path through uncertainty and frustration that has found an illuminating direction. The light at the end of the tunnel, as they say, is not just a metaphor. It\\'s a palpable sensation, a surge of energy that fills you from within. Remember when I wrote to you about sleepless nights, worries about the rising cost of personnel, and seemingly insurmountable challenges I faced? I felt like a castaway in the midst of a tempestuous ocean, searching for a compass, a signal, anything that could point me in the right direction. And then Stefano Alemanno arrived. Stefano is not just a consultant; for me, he has been a beacon in the darkness. With his deep knowledge and his skill in finding the ideal solution for every situation, he helped me see the big picture. What was once an intricate puzzle of numbers and clauses became clear as day. Thanks to him, I discovered that I could save up to €2,000 per year per employee, and the remarkable thing is that I didn\\'t have to make sacrifices on their salaries. On the contrary, I could offer bigger bonuses and higher wages. Imagine, dear diary, the surprise and joy of my employees when they found out that not only would they not face cuts, but they would earn more! The change was not only financial. The atmosphere in the office has been transformed. I see smiles, hear laughter, and we all feel a sense of unity and belonging. When one is happy, they are more productive, more engaged, and the entire company benefits. And me? I feel like I\\'ve conquered the world. Every morning when I step into the office, I feel proud of what I\\'ve achieved. I feel unstoppable. The confidence that Stefano instilled in me is reflected in every decision I make, in every project I undertake. The challenges have not disappeared, dear diary, but now I have the tools and the vision to face them. And I also have a team of happy and motivated employees by my side, ready to give their best in every situation. Today, as I reflect on this incredible journey of transformation, I can\\'t help but think of all those employers out there who are still in the dark, still searching for a solution. I wish I could share with them the magic of Stefano Alemanno. Because every company, big or small, deserves to shine.\\n\\t\"FAQ\": string  // Answer the 10 frequently asked questions. Now, define the top 10 FAQs Frequently Asked Questions that users have about the product offered by this company. How can Stefano Alemanno help me reduce personnel costs without decreasing salaries? Stefano Alemanno takes a strategic approach to identify inefficiencies and optimize cost structures, which may include renegotiating existing contracts, seeking tax or contribution incentives, and internal reorganization, all without affecting employees\\' salaries. How can Stefano Alemanno increase flexibility in labor contracts? Through detailed analysis of business needs and existing contracts, Stefano can propose tailored solutions that may include fixed-term contracts, part-time work, telecommuting, or other forms of flexible work that comply with current legislation. How can Stefano Alemanno help me prevent union disputes? With his experience in industrial relations, Stefano can provide advice on establishing constructive dialogue with union representatives, preventing conflict situations through effective communication, and negotiating fair agreements. What is Stefano Alemanno\\'s experience in specific sectors? Although Stefano Alemanno has chosen not to operate in construction and agriculture, he has experience in various other sectors, allowing him to offer customized solutions for SMEs in different market areas. What are the costs of Stefano Alemanno\\'s consulting services?\\n}\\n```\\n\\n')]\n",
            "content='```json\\n{\\n\\t\"demographics\": \"The target audience for Coca cola company\\'s labor law consulting services consists of individuals aged 30 to 60, primarily entrepreneurs, SME owners, and managers in various sectors, excluding construction and agriculture, with estimated annual incomes ranging from €50,000 to €500,000. Marital status is diverse, including those married, in stable relationships, as well as single or divorced individuals, given the age range. Many in this group may have families with children, which influences their financial stability needs and the desire to optimize business costs. They are primarily located in urban or peri-urban areas, and consideration extends to a 50-100 km radius from major Italian cities, where SMEs often operate just outside metropolitan regions.\",\\n\\t\"psychographics\": \"The ideal buyer for Coca cola company\\'s labor law consulting services, focusing on labor contract optimization, increased workforce flexibility, and dispute prevention, possesses key personal traits such as decision-making skills, problem-solving abilities, visionary thinking, a sense of responsibility towards employees and the company, and a pragmatic approach to decision-making. Their hobbies include staying updated through industry-related reading, active networking in sector events and workshops, and a blend of business and leisure travel and sports for stress relief. These individuals are interested in innovation and technological advancements that improve business efficiency, as well as personal development and training, leadership and personnel management strategies, and market trends and competitive analysis. Their personal aspirations revolve around achieving financial stability for themselves and their families, personal and professional growth, and recognition as leaders in their industry. Professionally, their objectives include expanding and consolidating their companies in the market, optimizing costs, maximizing profits, creating a stable work environment, and managing labor relations effectively to prevent disputes. They experience challenges related to navigating a dynamic market, recruiting and retaining talent, balancing immediate company needs with long-term goals, and maintaining a harmonious balance between employee expectations and the company\\'s financial capabilities. Their dreams encompass witnessing their companies thrive, leaving a lasting legacy, making a positive impact on their community or industry, and reaching a point where they can enjoy the fruits of their hard work with reduced daily stress.\",\\n\\t\"fears\": \"Fear of Bankruptcy is tied to the worry that excessive costs and poor employee contract management could lead to the company\\'s financial collapse, resulting in employee resentment and social isolation. Fear of Losing Control is rooted in feeling overwhelmed by an inability to manage finances and contracts, potentially causing strained relationships with employees and family, who may perceive him as incapable. Fear of Social Judgment focuses on concerns of harsh judgment from colleagues and acquaintances, potentially leading to social avoidance and exclusion from business decisions. Fear of Not Measuring Up reflects insecurities about competence and the potential to damage his reputation as a leader. Fear of Irreparably Harming the Company encompasses anxieties about making detrimental decisions that could hinder business growth and discourage employees and partners.\",\\n\\t\"desires\": \"Desire for Omnipotence in Contract Management involves the hidden desire to possess complete knowledge of labor contracts and manipulate every detail for success. This would make others perceive the person as a Contract Wizard seeking their advice and wanting to learn their secrets. The Desire for Immunity from Union Problems is the dream of creating perfect contracts to avoid union disputes and be seen as an ally by employees and unions, with the person being regarded as enlightened. The Desire for Perfect Harmony is the wish to create a harmonious work environment, driving unparalleled productivity and support among employees, resulting in the person being venerated as an enlightened entrepreneur. The Desire for Global Recognition is the secret dream of international acclaim in labor contracts, making competitors envious and admired as a role model. Lastly, the Desire for Talent Magnetism is the aspiration to be the reference employer in the industry, attracting top talents, leading to admiration and a sense of gratitude from employees and envy from other employers.\",\\n\\t\"obstacles\": \"The challenges involve investing significant time and resources in understanding labor regulations and seeking legal expertise, dealing with union disputes and employee conflicts related to contracts, staying updated on labor laws, risking errors through trial and error, negotiating individual employee contracts, managing frequent meetings to communicate contract changes, navigating bureaucratic government processes, facing potential penalties for non-compliance, dealing with industry reputation challenges, and ensuring a competitive salary structure. This effort requires continuous stress, employee turnover, and fierce competition for talent, sometimes leading to the denial of employee benefits not specified in contracts. Additionally, it involves staying vigilant for regulatory changes and often sacrificing personal and family time to address contractual issues or disputes, occasionally compromising the company\\'s values and vision to cut personnel costs.\",\\n\\t\"alternative_solutions\": \"The Buyer Persona would be reluctant to hire a single in-house labor consultant, as they might not possess the broad and up-to-date expertise required to navigate legal intricacies. They would also avoid relying solely on HR software and tools because labor law issues often necessitate a human touch to address unique situations and the latest legislative changes. Attending courses and seminars, while beneficial for self-improvement, might be viewed as time-consuming and not guaranteeing immediate practical application, making them a less preferable option. The Buyer Persona would be cautious about heeding advice from fellow entrepreneurs or industry friends as solutions that work for one company may not be suitable for their specific needs. Finally, ignoring labor law challenges in the hope that complications will resolve themselves would be seen as a risky approach, potentially leading to more significant issues down the line.\",\\n\\t\"trigger_events\": \"Recent Union Disputes: After enduring a labor dispute that was both exhausting and costly, the employer recognizes the need for more precise contract management. This negative experience highlights the essential nature of proper consulting, not only to prevent further disputes but also to ensure that employees are treated fairly under current laws. Company Expansion: If the company plans to hire a large number of employees in a short time or expand into new markets, it can serve as a red flag. The employer may not feel adequately prepared or confident in managing a larger volume of employment contracts and adapting to the local laws of new regions or countries. Legal Controversy: Legal action due to alleged violations of the employment contract or unfair treatment can shake the employer\\'s confidence. After facing the burdensome legal system and associated costs, the employer may be driven to seek a solution that prevents future similar situations. Employee Dissatisfaction: If a significant number of employees express concerns about their working conditions, or worse, if they begin to resign, it can become a warning sign. This scenario makes it clear that a review and optimization of existing employment contracts is necessary. Legislative Review: Significant changes in labor legislation can act as a trigger. If the government introduces new rules or laws that directly impact employment contracts, the employer may feel inadequate or unprepared to navigate these complex legal waters without expert guidance.\",\\n\\t\"sad_diary\": \"Dear diary, I find myself reflecting on another day filled with challenges and tensions. The weight on my shoulders seems to grow with each passing day, like a mountain that becomes steeper and more insurmountable. I feel the responsibility for the lives that depend on me, the contracts I negotiate, and the salaries I pay out each month. It\\'s a burden I never thought would weigh so heavily. Lately, I\\'ve noticed that the cost of personnel is becoming unsustainable. Every time I analyze the budget, those red numbers haunt me, challenging me. I want to offer better working conditions to my employees; I want to feel proud of what I provide them. But faced with those numbers, I feel powerless. Last week, Marco, one of my best employees, came to my office asking for a raise. His reasons were solid: he\\'s an excellent worker, and in another context, I would have said yes without hesitation. But now? How can I agree when the company\\'s margins are so thin? I felt as though my hands were tied. I had to look him in the eyes and tell him to wait, to be patient. That conversation broke my heart. And then there are the unions. I understand their role, I understand they want the best for workers. But every time I receive a letter or a call from them, I feel a lump in my throat. Fearing that any move I make might trigger a dispute or a protest. I don\\'t want to get into trouble; I don\\'t want my company in the spotlight for the wrong reasons. Yet, how do I balance all of this? I feel like I\\'m walking on a thin rope, desperately trying not to fall to one side or the other. I just wish to find a way to save, to optimize. A way to make this balance less precarious. I often wonder if I\\'m up to this challenge. At night, while the world sleeps, I stay awake, haunted by budgets, numbers, and responsibilities. I think about the families of my employees, their dreams, their hopes. And I wonder if they might feel betrayed someday. I\\'m tired, dear diary. But I can\\'t stop, not now. I have to find a solution, a way to overcome this mountain. For me, for my company, and most importantly, for the people who depend on me.\",\\n\\t\"happy_diary\": \"Dear diary, today, I find myself reflecting on an incredible journey, a path through uncertainty and frustration that has found an illuminating direction. The light at the end of the tunnel, as they say, is not just a metaphor. It\\'s a palpable sensation, a surge of energy that fills you from within. Remember when I wrote to you about sleepless nights, worries about the rising cost of personnel, and seemingly insurmountable challenges I faced? I felt like a castaway in the midst of a tempestuous ocean, searching for a compass, a signal, anything that could point me in the right direction. And then Stefano Alemanno arrived. Stefano is not just a consultant; for me, he has been a beacon in the darkness. With his deep knowledge and his skill in finding the ideal solution for every situation, he helped me see the big picture. What was once an intricate puzzle of numbers and clauses became clear as day. Thanks to him, I discovered that I could save up to €2,000 per year per employee, and the remarkable thing is that I didn\\'t have to make sacrifices on their salaries. On the contrary, I could offer bigger bonuses and higher wages. Imagine, dear diary, the surprise and joy of my employees when they found out that not only would they not face cuts, but they would earn more! The change was not only financial. The atmosphere in the office has been transformed. I see smiles, hear laughter, and we all feel a sense of unity and belonging. When one is happy, they are more productive, more engaged, and the entire company benefits. And me? I feel like I\\'ve conquered the world. Every morning when I step into the office, I feel proud of what I\\'ve achieved. I feel unstoppable. The confidence that Stefano instilled in me is reflected in every decision I make, in every project I undertake. The challenges have not disappeared, dear diary, but now I have the tools and the vision to face them. And I also have a team of happy and motivated employees by my side, ready to give their best in every situation. Today, as I reflect on this incredible journey of transformation, I can\\'t help but think of all those employers out there who are still in the dark, still searching for a solution. I wish I could share with them the magic of Stefano Alemanno. Because every company, big or small, deserves to shine.\",\\n\\t\"FAQ\": \"How can Stefano Alemanno help me reduce personnel costs without decreasing salaries? Stefano Alemanno takes a strategic approach to identify inefficiencies and optimize cost structures, which may include renegotiating existing contracts, seeking tax or contribution incentives, and internal reorganization, all without affecting employees\\' salaries. How can Stefano Alemanno increase flexibility in labor contracts? Through detailed analysis of business needs and existing contracts, Stefano can propose tailored solutions that may include fixed-term contracts, part-time work, telecommuting, or other forms of flexible work that comply with current legislation. How can Stefano Alemanno help me prevent union disputes? With his experience in industrial relations, Stefano can provide advice on establishing constructive dialogue with union representatives, preventing conflict situations through effective communication, and negotiating fair agreements. What is Stefano Alemanno\\'s experience in specific sectors? Although Stefano Alemanno has chosen not to operate in construction and agriculture, he has experience in various other sectors, allowing him to offer customized solutions for SMEs in different market areas. What are the costs of Stefano Alemanno\\'s consulting services?\"\\n}\\n```'\n"
          ]
        },
        {
          "data": {
            "application/vnd.google.colaboratory.intrinsic+json": {
              "type": "string"
            },
            "text/plain": [
              "'{\"demographics\": \"The target audience for Coca cola company\\'s labor law consulting services consists of individuals aged 30 to 60, primarily entrepreneurs, SME owners, and managers in various sectors, excluding construction and agriculture, with estimated annual incomes ranging from \\\\u20ac50,000 to \\\\u20ac500,000. Marital status is diverse, including those married, in stable relationships, as well as single or divorced individuals, given the age range. Many in this group may have families with children, which influences their financial stability needs and the desire to optimize business costs. They are primarily located in urban or peri-urban areas, and consideration extends to a 50-100 km radius from major Italian cities, where SMEs often operate just outside metropolitan regions.\", \"psychographics\": \"The ideal buyer for Coca cola company\\'s labor law consulting services, focusing on labor contract optimization, increased workforce flexibility, and dispute prevention, possesses key personal traits such as decision-making skills, problem-solving abilities, visionary thinking, a sense of responsibility towards employees and the company, and a pragmatic approach to decision-making. Their hobbies include staying updated through industry-related reading, active networking in sector events and workshops, and a blend of business and leisure travel and sports for stress relief. These individuals are interested in innovation and technological advancements that improve business efficiency, as well as personal development and training, leadership and personnel management strategies, and market trends and competitive analysis. Their personal aspirations revolve around achieving financial stability for themselves and their families, personal and professional growth, and recognition as leaders in their industry. Professionally, their objectives include expanding and consolidating their companies in the market, optimizing costs, maximizing profits, creating a stable work environment, and managing labor relations effectively to prevent disputes. They experience challenges related to navigating a dynamic market, recruiting and retaining talent, balancing immediate company needs with long-term goals, and maintaining a harmonious balance between employee expectations and the company\\'s financial capabilities. Their dreams encompass witnessing their companies thrive, leaving a lasting legacy, making a positive impact on their community or industry, and reaching a point where they can enjoy the fruits of their hard work with reduced daily stress.\", \"fears\": \"Fear of Bankruptcy is tied to the worry that excessive costs and poor employee contract management could lead to the company\\'s financial collapse, resulting in employee resentment and social isolation. Fear of Losing Control is rooted in feeling overwhelmed by an inability to manage finances and contracts, potentially causing strained relationships with employees and family, who may perceive him as incapable. Fear of Social Judgment focuses on concerns of harsh judgment from colleagues and acquaintances, potentially leading to social avoidance and exclusion from business decisions. Fear of Not Measuring Up reflects insecurities about competence and the potential to damage his reputation as a leader. Fear of Irreparably Harming the Company encompasses anxieties about making detrimental decisions that could hinder business growth and discourage employees and partners.\", \"desires\": \"Desire for Omnipotence in Contract Management involves the hidden desire to possess complete knowledge of labor contracts and manipulate every detail for success. This would make others perceive the person as a Contract Wizard seeking their advice and wanting to learn their secrets. The Desire for Immunity from Union Problems is the dream of creating perfect contracts to avoid union disputes and be seen as an ally by employees and unions, with the person being regarded as enlightened. The Desire for Perfect Harmony is the wish to create a harmonious work environment, driving unparalleled productivity and support among employees, resulting in the person being venerated as an enlightened entrepreneur. The Desire for Global Recognition is the secret dream of international acclaim in labor contracts, making competitors envious and admired as a role model. Lastly, the Desire for Talent Magnetism is the aspiration to be the reference employer in the industry, attracting top talents, leading to admiration and a sense of gratitude from employees and envy from other employers.\", \"obstacles\": \"The challenges involve investing significant time and resources in understanding labor regulations and seeking legal expertise, dealing with union disputes and employee conflicts related to contracts, staying updated on labor laws, risking errors through trial and error, negotiating individual employee contracts, managing frequent meetings to communicate contract changes, navigating bureaucratic government processes, facing potential penalties for non-compliance, dealing with industry reputation challenges, and ensuring a competitive salary structure. This effort requires continuous stress, employee turnover, and fierce competition for talent, sometimes leading to the denial of employee benefits not specified in contracts. Additionally, it involves staying vigilant for regulatory changes and often sacrificing personal and family time to address contractual issues or disputes, occasionally compromising the company\\'s values and vision to cut personnel costs.\", \"alternative_solutions\": \"The Buyer Persona would be reluctant to hire a single in-house labor consultant, as they might not possess the broad and up-to-date expertise required to navigate legal intricacies. They would also avoid relying solely on HR software and tools because labor law issues often necessitate a human touch to address unique situations and the latest legislative changes. Attending courses and seminars, while beneficial for self-improvement, might be viewed as time-consuming and not guaranteeing immediate practical application, making them a less preferable option. The Buyer Persona would be cautious about heeding advice from fellow entrepreneurs or industry friends as solutions that work for one company may not be suitable for their specific needs. Finally, ignoring labor law challenges in the hope that complications will resolve themselves would be seen as a risky approach, potentially leading to more significant issues down the line.\", \"trigger_events\": \"Recent Union Disputes: After enduring a labor dispute that was both exhausting and costly, the employer recognizes the need for more precise contract management. This negative experience highlights the essential nature of proper consulting, not only to prevent further disputes but also to ensure that employees are treated fairly under current laws. Company Expansion: If the company plans to hire a large number of employees in a short time or expand into new markets, it can serve as a red flag. The employer may not feel adequately prepared or confident in managing a larger volume of employment contracts and adapting to the local laws of new regions or countries. Legal Controversy: Legal action due to alleged violations of the employment contract or unfair treatment can shake the employer\\'s confidence. After facing the burdensome legal system and associated costs, the employer may be driven to seek a solution that prevents future similar situations. Employee Dissatisfaction: If a significant number of employees express concerns about their working conditions, or worse, if they begin to resign, it can become a warning sign. This scenario makes it clear that a review and optimization of existing employment contracts is necessary. Legislative Review: Significant changes in labor legislation can act as a trigger. If the government introduces new rules or laws that directly impact employment contracts, the employer may feel inadequate or unprepared to navigate these complex legal waters without expert guidance.\", \"sad_diary\": \"Dear diary, I find myself reflecting on another day filled with challenges and tensions. The weight on my shoulders seems to grow with each passing day, like a mountain that becomes steeper and more insurmountable. I feel the responsibility for the lives that depend on me, the contracts I negotiate, and the salaries I pay out each month. It\\'s a burden I never thought would weigh so heavily. Lately, I\\'ve noticed that the cost of personnel is becoming unsustainable. Every time I analyze the budget, those red numbers haunt me, challenging me. I want to offer better working conditions to my employees; I want to feel proud of what I provide them. But faced with those numbers, I feel powerless. Last week, Marco, one of my best employees, came to my office asking for a raise. His reasons were solid: he\\'s an excellent worker, and in another context, I would have said yes without hesitation. But now? How can I agree when the company\\'s margins are so thin? I felt as though my hands were tied. I had to look him in the eyes and tell him to wait, to be patient. That conversation broke my heart. And then there are the unions. I understand their role, I understand they want the best for workers. But every time I receive a letter or a call from them, I feel a lump in my throat. Fearing that any move I make might trigger a dispute or a protest. I don\\'t want to get into trouble; I don\\'t want my company in the spotlight for the wrong reasons. Yet, how do I balance all of this? I feel like I\\'m walking on a thin rope, desperately trying not to fall to one side or the other. I just wish to find a way to save, to optimize. A way to make this balance less precarious. I often wonder if I\\'m up to this challenge. At night, while the world sleeps, I stay awake, haunted by budgets, numbers, and responsibilities. I think about the families of my employees, their dreams, their hopes. And I wonder if they might feel betrayed someday. I\\'m tired, dear diary. But I can\\'t stop, not now. I have to find a solution, a way to overcome this mountain. For me, for my company, and most importantly, for the people who depend on me.\", \"happy_diary\": \"Dear diary, today, I find myself reflecting on an incredible journey, a path through uncertainty and frustration that has found an illuminating direction. The light at the end of the tunnel, as they say, is not just a metaphor. It\\'s a palpable sensation, a surge of energy that fills you from within. Remember when I wrote to you about sleepless nights, worries about the rising cost of personnel, and seemingly insurmountable challenges I faced? I felt like a castaway in the midst of a tempestuous ocean, searching for a compass, a signal, anything that could point me in the right direction. And then Stefano Alemanno arrived. Stefano is not just a consultant; for me, he has been a beacon in the darkness. With his deep knowledge and his skill in finding the ideal solution for every situation, he helped me see the big picture. What was once an intricate puzzle of numbers and clauses became clear as day. Thanks to him, I discovered that I could save up to \\\\u20ac2,000 per year per employee, and the remarkable thing is that I didn\\'t have to make sacrifices on their salaries. On the contrary, I could offer bigger bonuses and higher wages. Imagine, dear diary, the surprise and joy of my employees when they found out that not only would they not face cuts, but they would earn more! The change was not only financial. The atmosphere in the office has been transformed. I see smiles, hear laughter, and we all feel a sense of unity and belonging. When one is happy, they are more productive, more engaged, and the entire company benefits. And me? I feel like I\\'ve conquered the world. Every morning when I step into the office, I feel proud of what I\\'ve achieved. I feel unstoppable. The confidence that Stefano instilled in me is reflected in every decision I make, in every project I undertake. The challenges have not disappeared, dear diary, but now I have the tools and the vision to face them. And I also have a team of happy and motivated employees by my side, ready to give their best in every situation. Today, as I reflect on this incredible journey of transformation, I can\\'t help but think of all those employers out there who are still in the dark, still searching for a solution. I wish I could share with them the magic of Stefano Alemanno. Because every company, big or small, deserves to shine.\", \"FAQ\": \"How can Stefano Alemanno help me reduce personnel costs without decreasing salaries? Stefano Alemanno takes a strategic approach to identify inefficiencies and optimize cost structures, which may include renegotiating existing contracts, seeking tax or contribution incentives, and internal reorganization, all without affecting employees\\' salaries. How can Stefano Alemanno increase flexibility in labor contracts? Through detailed analysis of business needs and existing contracts, Stefano can propose tailored solutions that may include fixed-term contracts, part-time work, telecommuting, or other forms of flexible work that comply with current legislation. How can Stefano Alemanno help me prevent union disputes? With his experience in industrial relations, Stefano can provide advice on establishing constructive dialogue with union representatives, preventing conflict situations through effective communication, and negotiating fair agreements. What is Stefano Alemanno\\'s experience in specific sectors? Although Stefano Alemanno has chosen not to operate in construction and agriculture, he has experience in various other sectors, allowing him to offer customized solutions for SMEs in different market areas. What are the costs of Stefano Alemanno\\'s consulting services?\"}'"
            ]
          },
          "execution_count": 48,
          "metadata": {},
          "output_type": "execute_result"
        }
      ],
      "source": [
        "reformat_market_research(\"Coca cola company\",\"adc\", \"increased sales \", \"Information Technology\", \"Small to Medium Enterprises\", \"Lack of efficient and secure systems for managing business operations\", \"A world where businesses operate seamlessly with the help of advanced, secure, and user-friendly tech solutions\", \"Providing innovative tech solutions to streamline business operations\")\n"
      ]
    },
    {
      "cell_type": "code",
      "execution_count": null,
      "metadata": {
        "id": "GuhkHgfo0G4v"
      },
      "outputs": [],
      "source": []
    },
    {
      "cell_type": "code",
      "execution_count": null,
      "metadata": {
        "id": "OFITPh2UI3Yb"
      },
      "outputs": [],
      "source": [
        "print(\"Demographic - Step 1: \\n\\nThe ideal buyer profile for Tech Solutions would be individuals within the age range of 25-50 years. This is because this age group is more likely to be tech-savvy and understand the importance of cloud storage, data analytics, and cybersecurity in business operations. The occupation of these individuals would be IT Managers, IT Consultants, Data Analysts, or Business Owners who are directly involved in the decision-making process of their organization's IT infrastructure. \\n\\nTheir annual income would likely be above $70,000, as this indicates a level of professional success and the potential need for advanced IT solutions. Marital status can vary, but they are likely to be married or in a committed relationship, reflecting a level of stability. Their family situation might involve having children, which could increase their need for flexible and efficient solutions that allow them to balance work and family life. \\n\\nGeographically, these individuals could be located in urban or suburban areas with a high concentration of businesses, particularly in regions known for tech innovation like Silicon Valley, New York, or Austin.\\n\\nPsychographic - Step 2: \\n\\nThe ideal buyer for Tech Solutions values efficiency, security, and flexibility in their business operations. They are likely to be forward-thinking, open to innovation, and understand the importance of investing in technology to stay competitive. They may also value work-life balance, hence the need for solutions that can optimize labor costs and increase flexibility.\\n\\nFears - Step 3: \\n\\nTheir main fears would be succumbing to disputes, falling behind competitors due to outdated technology, and experiencing security breaches that could jeopardize their business.\\n\\nDesires - Step 4: \\n\\nTheir desires would be to streamline their business operations, improve efficiency, and ensure the security of their data. They would also desire to stay ahead of the curve in terms of technology and industry trends.\\n\\nObstacles - Step 5: \\n\\nPotential obstacles could be budget constraints, resistance to change within the organization, or lack of knowledge about the benefits of cloud storage, data analytics, and cybersecurity.\\n\\nAlternative Solutions - Step 6: \\n\\nAlternative solutions could include other IT service providers, in-house IT solutions, or sticking with their current systems and processes.\\n\\nTrigger Events - Step 7: \\n\\nTrigger events could be a security breach, a significant increase in labor costs, or the realization that their current systems are outdated and inefficient.\\n\\nSad Diary Page - Step 8: \\n\\nSmall to Medium Enterprises often struggle with inefficient and insecure systems for managing business operations. This can lead to increased costs, reduced productivity, and potential security risks.\\n\\nHappy Diary Page - Step 9: \\n\\nWith the help of Tech Solutions, businesses can operate seamlessly, with advanced, secure, and user-friendly tech solutions. This leads to improved efficiency, reduced costs, and peace of mind knowing that their data is secure.\\n\\nFAQ: Tech Solutions\\n\\nPotential questions could be about the specific services offered, pricing, customer support, and how Tech Solutions compares to other providers in the market.\"\n",
        ")"
      ]
    },
    {
      "cell_type": "code",
      "execution_count": null,
      "metadata": {
        "id": "3vb7QNBGQREV"
      },
      "outputs": [],
      "source": []
    },
    {
      "cell_type": "markdown",
      "metadata": {
        "id": "gv6WA_hlNtY0"
      },
      "source": []
    },
    {
      "cell_type": "markdown",
      "metadata": {
        "id": "nyuAh0lbNtgu"
      },
      "source": [
        "# Email\n"
      ]
    },
    {
      "cell_type": "code",
      "execution_count": null,
      "metadata": {
        "id": "9XYochyvN2bJ"
      },
      "outputs": [],
      "source": [
        "import os\n",
        "import json\n",
        "from textwrap import dedent\n",
        "from langchain.chat_models import ChatOpenAI\n",
        "from langchain.output_parsers import ResponseSchema, StructuredOutputParser\n",
        "from langchain.prompts import ChatPromptTemplate\n",
        "\n",
        "# Initialize the chat model\n",
        "llm = ChatOpenAI(model_name=\"gpt-4-1106-preview\", temperature=0.2, openai_api_key=\"sk-Your Key\")\n"
      ]
    },
    {
      "cell_type": "code",
      "execution_count": null,
      "metadata": {
        "id": "gN6x-bjaNwWb"
      },
      "outputs": [],
      "source": [
        "\n",
        "def generate_email_template(email_data, market_research_data):\n",
        "    # Define response schema for email construction\n",
        "    email_response_schema = [\n",
        "        ResponseSchema(name=\"Subject\", description=f\"Craft a creative email subject.discuss a different and, most importantly, target-engaging subject topic.Each subject line should be under 60 characters, ideally 40/45 characters. Each subject line must also have a strong element of curiosity or controversy, something the target audience cannot ignore. The goal of each subject line is that if 100 people read it, 99 of them would stop all activities to read the entire email.A good example of subject is. Is Your Team Sabotaging You?\"),\n",
        "        ResponseSchema(name=\"Intro\", description=f\"Create the introduction of the email.A good example is. Hi Name,Have you ever felt like you're constantly swimming upstream when trying to manage your team?You're not alone. Many salon owners share your anxiety: the fear that, despite your efforts and resources invested, your collaborators might not meet your expectations, creating more problems than solutions.\"),\n",
        "        ResponseSchema(name=\"Body\", description=f\"Write the main body content of the email.A good example is . The point is this: it's not your fault. And it may not even be your collaborators' fault. It could simply be a system issue, misaligned processes, unclearly communicated expectations, or a lack of suitable tools. But let me tell you something that could change the game for you... We've discovered that there's a 'secret ingredient,' an approach that transforms the way you interact and manage your staff. This could mean the difference between a chaotic team and a winning team that works for common success. Are you interested in finding out what it is? I have something for you: a free one-on-one consultation, where we can explore your team dynamics together and tailor solutions for your salon. No abstract theory, just concrete strategies that have already turned dozens of salons from chaotic situations into success stories.\"),\n",
        "        ResponseSchema(name=\"CTA\", description=f\"Reiterate the call to action.An example is. Book your slot now and breathe again. Link to the consultation booking page\"),\n",
        "        ResponseSchema(name=\"Outro with Sender\", description=f\"Conclude the email and include sender details.A good example is. Your salon deserves to shine, and you deserve a team that works with you, not against you. Click here to free yourself from anxiety and give a new direction to your business. Best regards, Stefano. P.S. This is not one of those emails you can afford to ignore. Your collaborators could be your greatest asset or your worst enemy. Find out how to ensure they are the first option. Take control now.\")\n",
        "     ]\n",
        "\n",
        "    email_schema_output_template = StructuredOutputParser.from_response_schemas(email_response_schema)\n",
        "    email_format_instructions = email_schema_output_template.get_format_instructions()\n",
        "\n",
        "    # Define email template string\n",
        "    email_template_string = dedent(\"\"\"From now on you will behave like a direct response copywriter. Create an email to send to the {sender} written by {Brand_Name}.\n",
        "    I want the email to link to {email_context}. The email must have a topic perceived as interesting by the target, and talk about: {email_context}.\n",
        "    For each email also add the subject. Each sbject must be under 60 characters, the ideal is 40/45 characters. Furthermore, each object must have a very strong component of curiosity or controversy, something that the target cannot ignore.\n",
        "    The goal of each subject line is that if 100 people read it, 99 of them would stop whatever activity they're doing to read the entire email.\n",
        "    Write the email with an {tone} tone and leverage this emotion that the buyer persona feels: {Emotion}.\n",
        "\n",
        "    Considering the email context \"{email_context}\" of product: {Product} and Product Descripton: {Product_Description} with a tone of \"{tone}\", the sender being \"{sender}\", and the market research data that includes demographics: \"{demographics}\", psychographics:\"{psychographics}\", fears:\"{fears}\", desires \"{desires}\", obstacles: \"{obstacles}\", alternative solutions: \"{alternative_solutions}\", trigger_event: \"{trigger_events}\", sad_diary: \"{sad_diary}\",happy_diary: \"{happy_diary}\", and FAQ \"{FAQ}\", please draft an email with a subject, introduction, body, and a CTA \"{cta}\". Conclude the email mentioning the sender.\n",
        "    {email_format_instructions}\n",
        "    \"\"\")\n",
        "\n",
        "    email_prompt_template = ChatPromptTemplate.from_template(email_template_string)\n",
        "\n",
        "    email_messages = email_prompt_template.format_messages(\n",
        "        email_context=email_data['Email Context'],\n",
        "        tone=email_data['Tone'],\n",
        "        sender=email_data['From (Sender)'],\n",
        "        cta=email_data['CTA'],\n",
        "        Emotion=email_data['Emotion'],\n",
        "        Brand_Name=market_research_data['Brand_Name'],\n",
        "        demographics=market_research_data['demographics'],\n",
        "        psychographics=market_research_data['psychographics'],\n",
        "        fears=market_research_data['fears'],\n",
        "        desires=market_research_data['desires'],\n",
        "        obstacles=market_research_data['obstacles'],\n",
        "        alternative_solutions=market_research_data['alternative_solutions'],\n",
        "        trigger_events=market_research_data['trigger_events'],\n",
        "        sad_diary=market_research_data['sad_diary'],\n",
        "        happy_diary=market_research_data['happy_diary'],\n",
        "        FAQ=market_research_data['FAQ'],\n",
        "        Product=email_data['Product'],\n",
        "        Product_Description=email_data['Product Description'],\n",
        "\n",
        "        email_format_instructions=email_format_instructions\n",
        "    )\n",
        "\n",
        "    email_response = llm(email_messages)\n",
        "    print(email_response)\n",
        "    email_response_as_dict = email_schema_output_template.parse(email_response.content)\n",
        "\n",
        "    return json.dumps(email_response_as_dict)\n",
        "\n",
        "def process_request(request):\n",
        "    # Check if the request method is POST\n",
        "    if request.method != 'POST':\n",
        "        return 'Only POST requests are accepted', 405\n",
        "\n",
        "    data = request.get_json()\n",
        "\n",
        "    # Extract necessary data from request\n",
        "    required_keys = [\n",
        "        'CTA', 'From (Sender)', 'Email Context', 'Tone', 'Emotion'\n",
        "        ]\n",
        "    if not all(key in data for key in required_keys):\n",
        "        return json.dumps({'error': 'Bad input: Missing necessary fields'}), 400\n",
        "\n",
        "    try:\n",
        "        # Organizing the extracted data\n",
        "        email_data = {\n",
        "            'CTA': data['CTA'],\n",
        "            'From (Sender)': data['From (Sender)'],\n",
        "            'Email Context': data['Email Context'],\n",
        "            'Tone': data['Tone'],\n",
        "            'Emotion':data['Emotion'],\n",
        "            'Product':data['Product'],\n",
        "            'Product Description':data['Product Description']\n",
        "        }\n",
        "\n",
        "        market_research_data = {\n",
        "            'Brand_Name': data['Brand_Name'],\n",
        "            'demographics': data['demographics'],\n",
        "            'psychographics': data['psychographics'],\n",
        "            'fears': data['fears'],\n",
        "            'desires': data['desires'],\n",
        "            'obstacles': data['obstacles'],\n",
        "            'alternative_solutions': data['alternative_solutions'],\n",
        "            'trigger_events': data['trigger_events'],\n",
        "            'sad_diary': data['sad_diary'],\n",
        "            'happy_diary': data['happy_diary'],\n",
        "            'FAQ': data['FAQ']\n",
        "\n",
        "        }\n",
        "\n",
        "        email_template = generate_email_template(email_data, market_research_data)\n",
        "    except Exception as e:\n",
        "        return json.dumps({'error': f'Error processing request: {str(e)}'}), 500\n",
        "\n",
        "    return email_template, 200\n"
      ]
    },
    {
      "cell_type": "code",
      "execution_count": null,
      "metadata": {
        "id": "jR2vHj4LVi5k"
      },
      "outputs": [],
      "source": [
        "email_data= {\n",
        "    \"CTA\": \"Buy Now\",\n",
        "    \"From (Sender)\": \"Coca-Cola\",\n",
        "    \"Email Context\": \"New Flavors of Coca-Cola\",\n",
        "    \"Tone\": \"Exciting\",\n",
        "    \"Emotion\": \"Happiness\"\n",
        "}\n",
        "\n",
        "\n",
        "market_research_data= {\n",
        "    \"Brand_Name\":\"Coca-cola\",\n",
        "  \"demographics\": \"The target audience for Coca-Cola's Fanta beverage consists of individuals aged 12 to 35, primarily students, young professionals, and young families. Their estimated annual incomes range from $10,000 to $75,000. Marital status is diverse, including those single, in relationships, as well as married individuals, given the age range. Many in this group may live with their parents or have young families of their own. They are primarily located in urban or suburban areas, and consideration extends globally, as Fanta is a popular beverage worldwide.\",\n",
        "  \"psychographics\": \"The ideal buyer for Coca-Cola's Fanta beverage possesses key personal traits such as being outgoing, adventurous, and social. Their hobbies include hanging out with friends, attending social events, and enjoying outdoor activities. These individuals are interested in trying new flavors and products, as well as sharing their experiences on social media. Their personal aspirations revolve around achieving personal and professional growth, maintaining a balanced lifestyle, and being recognized as trendsetters among their peers. They experience challenges related to balancing their social life, work or school, and personal interests. Their dreams encompass leading a fulfilling and exciting life, making a positive impact on their community, and reaching a point where they can enjoy the fruits of their hard work.\",\n",
        "  \"fears\": \"Fear of Missing Out (FOMO) is tied to the worry that they might miss out on new trends or experiences, resulting in feeling left out among their peers. Fear of Being Unhealthy is rooted in concerns about consuming too many sugary drinks, potentially causing health issues. Fear of Not Being Accepted focuses on concerns of social acceptance and fitting in. Fear of Wasting Money reflects insecurities about spending money on things that don't provide value. Fear of Being Uninformed encompasses anxieties about not being up-to-date with the latest products or trends.\",\n",
        "  \"desires\": \"Desire for New Experiences involves the hidden desire to try new flavors and products. The Desire for Social Acceptance is the dream of being recognized and accepted by their peers. The Desire for a Balanced Lifestyle is the wish to maintain a healthy balance between work, school, and social life. The Desire for Value for Money is the secret dream of getting the most value out of their purchases. Lastly, the Desire for Being Informed is the aspiration to stay up-to-date with the latest trends and products.\",\n",
        "  \"obstacles\": \"The challenges involve finding a balance between enjoying sugary drinks and maintaining a healthy lifestyle, staying updated on the latest trends and products, managing their budget to get the most value out of their purchases, fitting in with their social circle, and finding new experiences within their comfort zone.\",\n",
        "  \"alternative_solutions\": \"The Buyer Persona might have tried other soda brands but found them to be too sweet or lacking in flavor variety. They might have tried drinking less sugary drinks but found them to be less satisfying. They might have tried following trends but found it exhausting to keep up. They might have tried to fit in with different social circles but found it challenging to be accepted. Lastly, they might have tried to balance their lifestyle but found it difficult to manage their time and resources.\",\n",
        "  \"trigger_events\": \"New Product Launch: The launch of a new Fanta flavor can trigger the desire to try it. Social Event: Attending a party or social gathering where Fanta is served can trigger the desire to drink it. Advertising Campaign: Seeing a compelling ad for Fanta can trigger the desire to buy it. Peer Recommendation: A recommendation from a friend can trigger the desire to try Fanta. Seasonal Changes: The onset of summer or warm weather can trigger the desire for a refreshing drink like Fanta.\",\n",
        "  \"sad_diary\": \"Dear diary, I find myself feeling left out and out of touch. I see my friends trying new drinks and talking about the latest trends, but I feel like I'm always a step behind. I tried other soda brands, but they just don't hit the spot like Fanta does. I worry about drinking too many sugary drinks, but other beverages just don't give me the same satisfaction. I feel like I'm stuck in a rut, always drinking the same thing and missing out on new experiences. I wish I could find a way to balance my love for Fanta with my desire to try new things and stay healthy.\",\n",
        "  \"happy_diary\": \"Dear diary, today was a great day! I tried the new Fanta flavor that just launched, and it was amazing! I shared it with my friends, and they all loved it too. I feel like I'm finally in the loop, and it feels great. I've also been balancing my Fanta consumption with other healthy drinks, and I feel healthier and more energetic. I'm excited to see what new flavors Fanta will come out with next. I feel like I'm part of a fun, global community of Fanta lovers, and I can't wait to share my love for Fanta with more people.\",\n",
        "  \"FAQ\": \"What flavors does Fanta offer? Fanta offers a variety of flavors including Orange, Grape, Pineapple, Strawberry, and more. Is Fanta a healthy drink? While Fanta is a sugary drink, it can be enjoyed in moderation as part of a balanced diet. Where can I buy Fanta? Fanta is available in most grocery stores, convenience stores, and online. Are there any new Fanta flavors coming out? Fanta regularly launches new flavors, so keep an eye out for announcements. Can I mix Fanta with other drinks? Yes, Fanta can be mixed with other drinks to create fun and refreshing cocktails.\"\n",
        "}\n"
      ]
    },
    {
      "cell_type": "code",
      "execution_count": null,
      "metadata": {
        "colab": {
          "base_uri": "https://localhost:8080/",
          "height": 297
        },
        "id": "UVEHcrh9VzSI",
        "outputId": "88abbcf8-649a-4ae1-be01-e427dd7405a6"
      },
      "outputs": [
        {
          "ename": "KeyError",
          "evalue": "ignored",
          "output_type": "error",
          "traceback": [
            "\u001b[0;31m---------------------------------------------------------------------------\u001b[0m",
            "\u001b[0;31mKeyError\u001b[0m                                  Traceback (most recent call last)",
            "\u001b[0;32m<ipython-input-50-9166f58a5c60>\u001b[0m in \u001b[0;36m<cell line: 1>\u001b[0;34m()\u001b[0m\n\u001b[0;32m----> 1\u001b[0;31m \u001b[0mgenerate_email_template\u001b[0m\u001b[0;34m(\u001b[0m\u001b[0memail_data\u001b[0m\u001b[0;34m,\u001b[0m\u001b[0mmarket_research_data\u001b[0m\u001b[0;34m)\u001b[0m\u001b[0;34m\u001b[0m\u001b[0;34m\u001b[0m\u001b[0m\n\u001b[0m",
            "\u001b[0;32m<ipython-input-48-49ff83d98e93>\u001b[0m in \u001b[0;36mgenerate_email_template\u001b[0;34m(email_data, market_research_data)\u001b[0m\n\u001b[1;32m     42\u001b[0m         \u001b[0mhappy_diary\u001b[0m\u001b[0;34m=\u001b[0m\u001b[0mmarket_research_data\u001b[0m\u001b[0;34m[\u001b[0m\u001b[0;34m'happy_diary'\u001b[0m\u001b[0;34m]\u001b[0m\u001b[0;34m,\u001b[0m\u001b[0;34m\u001b[0m\u001b[0;34m\u001b[0m\u001b[0m\n\u001b[1;32m     43\u001b[0m         \u001b[0mFAQ\u001b[0m\u001b[0;34m=\u001b[0m\u001b[0mmarket_research_data\u001b[0m\u001b[0;34m[\u001b[0m\u001b[0;34m'FAQ'\u001b[0m\u001b[0;34m]\u001b[0m\u001b[0;34m,\u001b[0m\u001b[0;34m\u001b[0m\u001b[0;34m\u001b[0m\u001b[0m\n\u001b[0;32m---> 44\u001b[0;31m         \u001b[0mProduct\u001b[0m\u001b[0;34m=\u001b[0m\u001b[0mmarket_research_data\u001b[0m\u001b[0;34m[\u001b[0m\u001b[0;34m'Product'\u001b[0m\u001b[0;34m]\u001b[0m\u001b[0;34m,\u001b[0m\u001b[0;34m\u001b[0m\u001b[0;34m\u001b[0m\u001b[0m\n\u001b[0m\u001b[1;32m     45\u001b[0m         \u001b[0mProduct_Description\u001b[0m\u001b[0;34m=\u001b[0m\u001b[0mmarket_research_data\u001b[0m\u001b[0;34m[\u001b[0m\u001b[0;34m'Product Description'\u001b[0m\u001b[0;34m]\u001b[0m\u001b[0;34m,\u001b[0m\u001b[0;34m\u001b[0m\u001b[0;34m\u001b[0m\u001b[0m\n\u001b[1;32m     46\u001b[0m \u001b[0;34m\u001b[0m\u001b[0m\n",
            "\u001b[0;31mKeyError\u001b[0m: 'Product'"
          ]
        }
      ],
      "source": [
        "generate_email_template(email_data,market_research_data)"
      ]
    },
    {
      "cell_type": "code",
      "execution_count": null,
      "metadata": {
        "id": "TFEX_hZrYTPj"
      },
      "outputs": [],
      "source": []
    },
    {
      "cell_type": "markdown",
      "metadata": {
        "id": "tcy_rvorYTan"
      },
      "source": [
        "# Ad\n"
      ]
    },
    {
      "cell_type": "code",
      "execution_count": null,
      "metadata": {
        "id": "F7oZi_KpYV1m"
      },
      "outputs": [],
      "source": [
        "def reformat_market_research(data):\n",
        "    templ_response_schema = [ResponseSchema(name=\"ad_copy_text\", description=\"Generate the ad copy text.\")]\n",
        "    templ_schema_output_templ = StructuredOutputParser.from_response_schemas(templ_response_schema)\n",
        "    templ_format_instructions = templ_schema_output_templ.get_format_instructions()\n",
        "\n",
        "    templ_template_string = dedent(\"\"\"From now on you will be a world-renowned direct response copywriter.\n",
        "    Create Facebook AD copy for {Brand_Name}. product name: {product} and description of product: {product_description}  The {Frontman} must talk about {AD_Context}.\n",
        "\n",
        "    The structure of the copy must be:\n",
        "\n",
        "    1. Opening: A catchy headline to grab attention, describing a common problem. Also include ideas for AD creatives that act as pattern interrupts.\n",
        "    2. Problematic: 1 or 2 questions to stimulate interest and explore pain points.\n",
        "    3. Credibility, with a short intro by {Frontman}, co-founder of {Brand_Name}, explaining why they should trust;\n",
        "    4. Controversial statement, which stimulates interest but not fear and which introduces a different approach compared to other offers;\n",
        "    5. Offer: Present the offer.\n",
        "    6. Urgency and scarcity, only {Urgency_Scarcity_element} consultations available;\n",
        "    7. CTA, {cta};\n",
        "\n",
        "    Write the AD with an {tone} tone and leverage this emotion that the buyer persona feels: {Emotion}. {templ_format_instructions}\n",
        "    Considering the ad copy attributes - CTA: \"{cta}\", Tone: \"{tone}\", Product Description: \"{product_description}\", Demographics: \"{demographics}\", Psychographics: \"{psychographics}\", Fears: \"{fears}\", Desires: \"{desires}\", Obstacles: \"{obstacles}\", Alternative Solutions: \"{alternative_solutions}\", Trigger Events: \"{trigger_events}\", Sad Diary: \"{sad_diary}\", Happy Diary: \"{happy_diary}\", FAQ: \"{faq} {templ_format_instructions}\"\n",
        "    \"\"\")\n",
        "\n",
        "    templ_prompt_template = ChatPromptTemplate.from_template(templ_template_string)\n",
        "\n",
        "    # Defining the new response schema based on the provided output\n",
        "\n",
        "\n",
        "\n",
        "\n",
        "    templ_messages = templ_prompt_template.format_messages(\n",
        "        Brand_Name=data['Brand_Name'],\n",
        "        demographics=data['demographics'],\n",
        "        psychographics=data['psychographics'],\n",
        "        fears=data['fears'],\n",
        "        desires=data['desires'],\n",
        "        obstacles=data['obstacles'],\n",
        "        alternative_solutions=data['alternative_solutions'],\n",
        "        trigger_events=data['trigger_events'],\n",
        "        sad_diary=data['sad_diary'],\n",
        "        happy_diary=data['happy_diary'],\n",
        "        faq=data['FAQ'],\n",
        "        product= data['Product'],\n",
        "        product_description= data['Product Description'],\n",
        "        Frontman= data['Frontman'],\n",
        "        AD_Context= data['AD_Context'],\n",
        "        Urgency_Scarcity_element= data['Urgency_Scarcity_element'],\n",
        "        Emotion= data['Emotion'],\n",
        "        cta= data['CTA'],\n",
        "        tone=data['Tone'],\n",
        "\n",
        "        templ_format_instructions=templ_format_instructions\n",
        "\n",
        "    )\n",
        "\n",
        "\n",
        "    templ_response = llm(templ_messages)\n",
        "    templ_response_as_dict = templ_schema_output_templ.parse(templ_response.content)\n",
        "\n",
        "    return json.dumps(templ_response_as_dict)\n",
        "\n",
        "def process_request(request):\n",
        "    if request.method != 'POST':\n",
        "        return 'Only POST requests are accepted', 405\n",
        "\n",
        "    data = request.get_json()\n",
        "\n",
        "    # Directly get the values from the request data\n",
        "    Brand_Name = data.get('Brand_Name')\n",
        "    cta = data.get('CTA')\n",
        "    tone = data.get('Tone')\n",
        "    Product=data.get('Product')\n",
        "    product_description = data.get('Product Description')\n",
        "    Frontman = data.get('Frontman')\n",
        "    AD_Context = data.get('AD_Context')\n",
        "    Urgency_Scarcity_element = data.get('Urgency_Scarcity_element')\n",
        "    Emotion= data.get('Emotion')\n",
        "\n",
        "\n",
        "    # Check if all required parameters are present\n",
        "    if not all([Brand_Name, cta, tone, Product, product_description, Frontman, AD_Context, Urgency_Scarcity_element, Emotion]):\n",
        "        return json.dumps({'error': 'Bad input: Missing necessary fields'}), 400\n",
        "\n",
        "    try:\n",
        "        reformatted_data = reformat_market_research(data)\n",
        "    except Exception as e:\n",
        "        return json.dumps({'error': f'Error processing market research: {str(e)}'}), 500\n",
        "\n",
        "    return reformatted_data, 200\n"
      ]
    },
    {
      "cell_type": "code",
      "execution_count": null,
      "metadata": {
        "id": "Ma3u1mc8YgnY"
      },
      "outputs": [],
      "source": [
        "data={\n",
        "  \"Brand_Name\": \"Coca-Cola\",\n",
        "  \"demographics\": \"The target audience for Coca-Cola consists of individuals aged 18 to 45, from diverse backgrounds and lifestyles. These are people who enjoy a wide range of flavors and are always on the lookout for something new and exciting to try. They are located in both urban and suburban areas and are open to trying new products and flavors.\",\n",
        "  \"psychographics\": \"Our ideal buyer for Coca-Cola values innovation and uniqueness. They are adventurous, open to new experiences, and enjoy trying new food and beverages. They love sharing their discoveries with friends and on social media. Their personal aspirations include savoring life's moments and making memories. They face the challenge of keeping their taste buds satisfied with new and exciting flavors.\",\n",
        "  \"fears\": \"The primary fear of our target audience is the fear of missing out on the latest trends and experiences. They worry about not being able to try new and exciting flavors. They also fear that they might not find beverages that truly satisfy their taste preferences.\",\n",
        "  \"desires\": \"Our target audience desires to taste unique and refreshing flavors that stand out. They want to be the first to discover and enjoy innovative beverages. They aspire to create unforgettable moments with friends and family through shared experiences and delightful tastes.\",\n",
        "  \"obstacles\": \"The main challenge for our target audience is finding beverages that meet their desire for novelty and great taste. They also face challenges related to staying updated on new product launches and juggling their busy lives with their desire to try new things.\",\n",
        "  \"alternative_solutions\": \"Our target audience might have tried other beverages, but they often find them lacking in excitement and uniqueness. They may have explored various brands, but none could match the satisfying taste of Coca-Cola. They might have attempted to keep up with trends but found it challenging due to a busy lifestyle.\",\n",
        "  \"trigger_events\": \"The launch of a new Coca-Cola flavor can trigger excitement and the desire to try it. Social gatherings and parties where the new flavor is served can also prompt them to taste it. Engaging and visually appealing advertisements can pique their interest. Recommendations from friends who have tried and loved the new flavor can be a strong trigger. Seasonal changes and special promotions can also drive their desire to try it.\",\n",
        "  \"sad_diary\": \"Dear diary, I sometimes feel like I'm missing out on exciting new flavors. My friends keep talking about the latest tastes and trends, and I'm stuck with the same old beverages. I wish I could find something new and exciting to enjoy. It's frustrating to see others savoring unique drinks while I feel left out. I hope I can find a way to discover new and delicious flavors.\",\n",
        "  \"happy_diary\": \"Dear diary, today was amazing! I tried the new Coca-Cola flavor, and it was an absolute delight. My friends and I shared it, and we had a fantastic time. I finally feel like I'm part of the trendsetters, and it feels great. I'm also finding ways to balance my busy life with enjoying exciting new tastes. I can't wait to share this discovery with more people and make more memorable moments.\",\n",
        "  \"FAQ\": \"Is the new Coca-Cola flavor available in my area? Where can I purchase it? How many different flavors does Coca-Cola offer? Is this new flavor a limited edition, or will it be available long-term?\",\n",
        "  \"Product\": \"New Coca-Cola Flavor\",\n",
        "  \"Product Description\": \"Experience the refreshing and delightful taste of our latest Coca-Cola flavor. This new variant combines the classic Coca-Cola goodness with a hint of exotic fruit, making it the perfect beverage for your everyday moments.\",\n",
        "  \"Frontman\": \"Coca-Cola Spokesperson\",\n",
        "  \"AD_Context\": \"Introducing Our Latest Coca-Cola Flavor\",\n",
        "  \"Urgency_Scarcity_element\": \"Limited Time Offer\",\n",
        "  \"Emotion\": \"Excitement\",\n",
        "  \"templ_format_instructions\": \"Follow our email template for an engaging and captivating message.\",\n",
        "  \"CTA\" : \"Go to near pan shop\",\n",
        "  \"Tone\": \"Exited\"\n",
        "}\n"
      ]
    },
    {
      "cell_type": "code",
      "execution_count": null,
      "metadata": {
        "colab": {
          "base_uri": "https://localhost:8080/"
        },
        "id": "7JQFNdCFau_P",
        "outputId": "1a82c2c6-96bc-4593-d63a-c28cd8fc6ff0"
      },
      "outputs": [
        {
          "name": "stdout",
          "output_type": "stream",
          "text": [
            "{\"ad_copy_text\": \"\\ud83d\\udd25 Tired of the same old soda flavors? Craving something new and exciting? \\ud83c\\udf79\\ud83c\\udf34 \\n\\nEver wondered what it would be like to taste the classic Coca-Cola goodness with a twist of exotic fruit? \\ud83c\\udf4a\\ud83c\\udf4d\\ud83c\\udf53 \\n\\nIntroducing our latest Coca-Cola flavor! A refreshing and delightful blend that's perfect for your everyday moments. \\ud83c\\udf89 \\n\\nAs the co-founder of Coca-Cola, I assure you that this new variant is unlike anything you've tasted before. We've combined the classic Coca-Cola you love with a hint of exotic fruit for a truly unique experience. \\ud83e\\udd64 \\n\\nBut don't just take my word for it, try it for yourself! This isn't just another soda, it's a taste adventure. \\ud83c\\udf0d \\n\\nFor a limited time only, you can experience this new Coca-Cola flavor at your nearest pan shop. But hurry, stocks are limited and they're flying off the shelves! \\u23f0 \\n\\nDon't miss out on the excitement. Go to your nearest pan shop today and taste the difference. \\ud83c\\udfc3\\u200d\\u2642\\ufe0f\\ud83d\\udca8 \\n\\nRemember, life is too short for boring soda. Try the new Coca-Cola flavor today and add a little excitement to your day! \\ud83c\\udf88\"}\n"
          ]
        }
      ],
      "source": [
        "print(reformat_market_research(data))"
      ]
    },
    {
      "cell_type": "code",
      "execution_count": null,
      "metadata": {
        "colab": {
          "base_uri": "https://localhost:8080/"
        },
        "id": "njQ0Kro4c4RP",
        "outputId": "71e1e7e3-bad5-4391-8d8a-5fbe5cd8fd2e"
      },
      "outputs": [
        {
          "name": "stderr",
          "output_type": "stream",
          "text": [
            "ERROR:tornado.general:Uncaught exception in ZMQStream callback\n",
            "Traceback (most recent call last):\n",
            "  File \"/usr/local/lib/python3.10/dist-packages/zmq/eventloop/zmqstream.py\", line 556, in _run_callback\n",
            "    callback(*args, **kwargs)\n",
            "  File \"/usr/local/lib/python3.10/dist-packages/ipykernel/iostream.py\", line 118, in _handle_event\n",
            "    event_f()\n",
            "  File \"/usr/local/lib/python3.10/dist-packages/ipykernel/iostream.py\", line 381, in _flush\n",
            "    self.session.send(self.pub_thread, 'stream', content=content,\n",
            "  File \"/usr/local/lib/python3.10/dist-packages/jupyter_client/session.py\", line 742, in send\n",
            "    to_send = self.serialize(msg, ident)\n",
            "  File \"/usr/local/lib/python3.10/dist-packages/jupyter_client/session.py\", line 630, in serialize\n",
            "    content = self.pack(content)\n",
            "  File \"/usr/local/lib/python3.10/dist-packages/jupyter_client/session.py\", line 82, in <lambda>\n",
            "    json_packer = lambda obj: jsonapi.dumps(obj, default=date_default,\n",
            "  File \"/usr/local/lib/python3.10/dist-packages/zmq/utils/jsonapi.py\", line 24, in dumps\n",
            "    return json.dumps(o, **kwargs).encode(\"utf8\")\n",
            "UnicodeEncodeError: 'utf-8' codec can't encode characters in position 28-29: surrogates not allowed\n",
            "ERROR:tornado.general:Uncaught exception in zmqstream callback\n",
            "Traceback (most recent call last):\n",
            "  File \"/usr/local/lib/python3.10/dist-packages/zmq/eventloop/zmqstream.py\", line 577, in _handle_events\n",
            "    self._handle_recv()\n",
            "  File \"/usr/local/lib/python3.10/dist-packages/zmq/eventloop/zmqstream.py\", line 606, in _handle_recv\n",
            "    self._run_callback(callback, msg)\n",
            "  File \"/usr/local/lib/python3.10/dist-packages/zmq/eventloop/zmqstream.py\", line 556, in _run_callback\n",
            "    callback(*args, **kwargs)\n",
            "  File \"/usr/local/lib/python3.10/dist-packages/ipykernel/iostream.py\", line 118, in _handle_event\n",
            "    event_f()\n",
            "  File \"/usr/local/lib/python3.10/dist-packages/ipykernel/iostream.py\", line 381, in _flush\n",
            "    self.session.send(self.pub_thread, 'stream', content=content,\n",
            "  File \"/usr/local/lib/python3.10/dist-packages/jupyter_client/session.py\", line 742, in send\n",
            "    to_send = self.serialize(msg, ident)\n",
            "  File \"/usr/local/lib/python3.10/dist-packages/jupyter_client/session.py\", line 630, in serialize\n",
            "    content = self.pack(content)\n",
            "  File \"/usr/local/lib/python3.10/dist-packages/jupyter_client/session.py\", line 82, in <lambda>\n",
            "    json_packer = lambda obj: jsonapi.dumps(obj, default=date_default,\n",
            "  File \"/usr/local/lib/python3.10/dist-packages/zmq/utils/jsonapi.py\", line 24, in dumps\n",
            "    return json.dumps(o, **kwargs).encode(\"utf8\")\n",
            "UnicodeEncodeError: 'utf-8' codec can't encode characters in position 28-29: surrogates not allowed\n",
            "ERROR:asyncio:Exception in callback BaseAsyncIOLoop._handle_events(22, 1)\n",
            "handle: <Handle BaseAsyncIOLoop._handle_events(22, 1)>\n",
            "Traceback (most recent call last):\n",
            "  File \"/usr/lib/python3.10/asyncio/events.py\", line 80, in _run\n",
            "    self._context.run(self._callback, *self._args)\n",
            "  File \"/usr/local/lib/python3.10/dist-packages/tornado/platform/asyncio.py\", line 192, in _handle_events\n",
            "    handler_func(fileobj, events)\n",
            "  File \"/usr/local/lib/python3.10/dist-packages/zmq/eventloop/zmqstream.py\", line 577, in _handle_events\n",
            "    self._handle_recv()\n",
            "  File \"/usr/local/lib/python3.10/dist-packages/zmq/eventloop/zmqstream.py\", line 606, in _handle_recv\n",
            "    self._run_callback(callback, msg)\n",
            "  File \"/usr/local/lib/python3.10/dist-packages/zmq/eventloop/zmqstream.py\", line 556, in _run_callback\n",
            "    callback(*args, **kwargs)\n",
            "  File \"/usr/local/lib/python3.10/dist-packages/ipykernel/iostream.py\", line 118, in _handle_event\n",
            "    event_f()\n",
            "  File \"/usr/local/lib/python3.10/dist-packages/ipykernel/iostream.py\", line 381, in _flush\n",
            "    self.session.send(self.pub_thread, 'stream', content=content,\n",
            "  File \"/usr/local/lib/python3.10/dist-packages/jupyter_client/session.py\", line 742, in send\n",
            "    to_send = self.serialize(msg, ident)\n",
            "  File \"/usr/local/lib/python3.10/dist-packages/jupyter_client/session.py\", line 630, in serialize\n",
            "    content = self.pack(content)\n",
            "  File \"/usr/local/lib/python3.10/dist-packages/jupyter_client/session.py\", line 82, in <lambda>\n",
            "    json_packer = lambda obj: jsonapi.dumps(obj, default=date_default,\n",
            "  File \"/usr/local/lib/python3.10/dist-packages/zmq/utils/jsonapi.py\", line 24, in dumps\n",
            "    return json.dumps(o, **kwargs).encode(\"utf8\")\n",
            "UnicodeEncodeError: 'utf-8' codec can't encode characters in position 28-29: surrogates not allowed\n"
          ]
        }
      ],
      "source": [
        "print(\"\\ud83d\\udd25 Tired of the same old soda flavors? Craving something new and exciting? \\ud83c\\udf79\\ud83c\\udf34 \\n\\nEver wondered what it would be like to taste the classic Coca-Cola goodness with a twist of exotic fruit? \\ud83c\\udf4a\\ud83c\\udf4d\\ud83c\\udf53 \\n\\nIntroducing our latest Coca-Cola flavor! A refreshing and delightful blend that's perfect for your everyday moments. \\ud83c\\udf89 \\n\\nAs the co-founder of Coca-Cola, I assure you that this new variant is unlike anything you've tasted before. We've combined the classic Coca-Cola you love with a hint of exotic fruit for a truly unique experience. \\ud83e\\udd64 \\n\\nBut don't just take my word for it, try it for yourself! This isn't just another soda, it's a taste adventure. \\ud83c\\udf0d \\n\\nFor a limited time only, you can experience this new Coca-Cola flavor at your nearest pan shop. But hurry, stocks are limited and they're flying off the shelves! \\u23f0 \\n\\nDon't miss out on the excitement. Go to your nearest pan shop today and taste the difference. \\ud83c\\udfc3\\u200d\\u2642\\ufe0f\\ud83d\\udca8 \\n\\nRemember, life is too short for boring soda. Try the new Coca-Cola flavor today and add a little excitement to your day! \\ud83c\\udf88\")"
      ]
    },
    {
      "cell_type": "code",
      "execution_count": null,
      "metadata": {
        "id": "0Ml7JTKbi4XS"
      },
      "outputs": [],
      "source": []
    },
    {
      "cell_type": "markdown",
      "metadata": {
        "id": "artLYShpi5aA"
      },
      "source": [
        "# Video Script"
      ]
    },
    {
      "cell_type": "code",
      "execution_count": null,
      "metadata": {
        "id": "Xy5qalzyi8zr"
      },
      "outputs": [],
      "source": [
        "import os\n",
        "import json\n",
        "from langchain.chat_models import ChatOpenAI\n",
        "from langchain.output_parsers import ResponseSchema, StructuredOutputParser\n",
        "from langchain.prompts import ChatPromptTemplate\n",
        "from textwrap import dedent\n",
        "\n",
        "llm = ChatOpenAI(model_name=\"gpt-4\", temperature=0.2, openai_api_key=\"sk-Your Key\")\n",
        "import requests\n",
        "\n",
        "\n",
        "def reformat_video_script(data):\n",
        "    templ_response_schema=[\n",
        "        ResponseSchema(name=\"pattern_interrupt\", description=\"Generate the pattern interrupt for the video script.\"),\n",
        "        ResponseSchema(name=\"hook\", description=\"Create the hook for the video script.\"),\n",
        "        ResponseSchema(name=\"body\", description=\"Write the main body content of the video script.\"),\n",
        "        ResponseSchema(name=\"cta\", description=\"Craft the call to action for the video script.\")]\n",
        "\n",
        "    templ_schema_output_templ = StructuredOutputParser.from_response_schemas(templ_response_schema)\n",
        "    templ_format_instructions = templ_schema_output_templ.get_format_instructions()\n",
        "\n",
        "\n",
        "    templ_template_string = dedent(\"\"\"I want you to write a script for a 90 second Video AD for {Brand_Name} of product {product} and it description : {product_description}.\n",
        "    Set up the video AD as a very short Video Sales Letter that sells free advice. The {Frontman} must talk about {AD_Context}.\n",
        "\n",
        "    The AD video script structure should be as follows:\n",
        "    1. Opening, to attract attention, curiosity and give a reason to continue the video, also include a pattern interrupt in the opening phase;\n",
        "    2. 1 or 2 questions to stimulate interest and explore pain points;\n",
        "    3. Credibility, with a short intro by {Frontman}, co-founder of {Brand_Name}, explaining why they should trust;\n",
        "    4. USP with a big idea or great promise;\n",
        "    5. Testimonials, 3 maximum;\n",
        "    6. Controversial statement, which stimulates interest but not fear;\n",
        "    7. Offer;\n",
        "    8. Urgency and scarcity, only {Urgency_Scarcity_element} consultations available;\n",
        "    9. CTA;\n",
        "    10. Repetition, repeat the offer and end the video with another {cta}.\n",
        "\n",
        "    Write the CEO with an {tone} tone and leverage this emotion that the buyer persona feels: {Emotion}. Only write the copy, don't also write the sequence titles or scripts.\n",
        "\n",
        "    Considering the video script attributes - CTA: \"{cta}\", Tone: \"{tone}\", Product: \"{product}\", Name of Speaker: \"{Frontman}\",\n",
        "    Demographics: \"{demographics}\", Psychographics: \"{psychographics}\", Fears: \"{fears}\", Desires: \"{desires}\", Obstacles: \"{obstacles}\",\n",
        "    Alternative Solutions: \"{alternative_solutions}\", Trigger Events: \"{trigger_events}\", Sad Diary: \"{sad_diary}\", Happy Diary: \"{happy_diary}\", FAQ: \"{faq}\",\n",
        "    please generate the video script with Pattern Interrupt, Hook, Body, and CTA.\n",
        "\n",
        "     {templ_format_instructions}\"\"\")\n",
        "\n",
        "\n",
        "    # Defining the new response schema based on the provided output\n",
        "\n",
        "    templ_prompt_template = ChatPromptTemplate.from_template(templ_template_string)\n",
        "\n",
        "\n",
        "\n",
        "\n",
        "    templ_messages = templ_prompt_template.format_messages(\n",
        "        Brand_Name=data['Brand_Name'],\n",
        "        demographics=data['demographics'],\n",
        "        psychographics=data['psychographics'],\n",
        "        fears=data['fears'],\n",
        "        desires=data['desires'],\n",
        "        obstacles=data['obstacles'],\n",
        "        alternative_solutions=data['alternative_solutions'],\n",
        "        trigger_events=data['trigger_events'],\n",
        "        sad_diary=data['sad_diary'],\n",
        "        happy_diary=data['happy_diary'],\n",
        "        faq=data['FAQ'],\n",
        "        product= data['Product'],\n",
        "        product_description= data['Product Description'],\n",
        "        Frontman= data['Frontman'],\n",
        "        AD_Context= data['AD_Context'],\n",
        "        Urgency_Scarcity_element= data['Urgency_Scarcity_element'],\n",
        "        Emotion= data['Emotion'],\n",
        "        cta= data['CTA'],\n",
        "        tone=data['Tone'],\n",
        "        templ_format_instructions=templ_format_instructions\n",
        "    )\n",
        "\n",
        "    templ_response = llm(templ_messages)\n",
        "    templ_response_as_dict = templ_schema_output_templ.parse(templ_response.content)\n",
        "\n",
        "    return json.dumps(templ_response_as_dict)\n",
        "\n",
        "def process_request(request):\n",
        "    if request.method != 'POST':\n",
        "        return 'Only POST requests are accepted', 405\n",
        "\n",
        "    data = request.get_json()\n",
        "\n",
        "    # Directly get the values from the request data\n",
        "    Brand_Name = data.get('Brand_Name')\n",
        "    cta = data.get('CTA')\n",
        "    tone = data.get('Tone')\n",
        "    frontman_name = data.get('Frontman')\n",
        "    AD_Context=data.get('AD_Context')\n",
        "    Urgency_Scarcity_element=data.get('Urgency_Scarcity_element'),\n",
        "    Emotion=data.get('Emotion')\n",
        "\n",
        "    # Check if all required parameters are present\n",
        "    if not all([Brand_Name,  cta, tone, frontman_name, Emotion, Urgency_Scarcity_element]):\n",
        "        return json.dumps({'error': 'Bad input: Missing necessary fields'}), 400\n",
        "\n",
        "    try:\n",
        "        reformatted_data = reformat_video_script(data)\n",
        "    except Exception as e:\n",
        "        return json.dumps({'error': f'Error processing video script: {str(e)}'}), 500\n",
        "\n",
        "    return reformatted_data, 200\n"
      ]
    },
    {
      "cell_type": "code",
      "execution_count": null,
      "metadata": {
        "id": "YzHLrachllmp"
      },
      "outputs": [],
      "source": [
        "data={\n",
        "  \"Brand_Name\": \"Coca-Cola\",\n",
        "  \"demographics\": \"The target audience for Coca-Cola consists of individuals aged 18 to 45, from diverse backgrounds and lifestyles. These are people who enjoy a wide range of flavors and are always on the lookout for something new and exciting to try. They are located in both urban and suburban areas and are open to trying new products and flavors.\",\n",
        "  \"psychographics\": \"Our ideal buyer for Coca-Cola values innovation and uniqueness. They are adventurous, open to new experiences, and enjoy trying new food and beverages. They love sharing their discoveries with friends and on social media. Their personal aspirations include savoring life's moments and making memories. They face the challenge of keeping their taste buds satisfied with new and exciting flavors.\",\n",
        "  \"fears\": \"The primary fear of our target audience is the fear of missing out on the latest trends and experiences. They worry about not being able to try new and exciting flavors. They also fear that they might not find beverages that truly satisfy their taste preferences.\",\n",
        "  \"desires\": \"Our target audience desires to taste unique and refreshing flavors that stand out. They want to be the first to discover and enjoy innovative beverages. They aspire to create unforgettable moments with friends and family through shared experiences and delightful tastes.\",\n",
        "  \"obstacles\": \"The main challenge for our target audience is finding beverages that meet their desire for novelty and great taste. They also face challenges related to staying updated on new product launches and juggling their busy lives with their desire to try new things.\",\n",
        "  \"alternative_solutions\": \"Our target audience might have tried other beverages, but they often find them lacking in excitement and uniqueness. They may have explored various brands, but none could match the satisfying taste of Coca-Cola. They might have attempted to keep up with trends but found it challenging due to a busy lifestyle.\",\n",
        "  \"trigger_events\": \"The launch of a new Coca-Cola flavor can trigger excitement and the desire to try it. Social gatherings and parties where the new flavor is served can also prompt them to taste it. Engaging and visually appealing advertisements can pique their interest. Recommendations from friends who have tried and loved the new flavor can be a strong trigger. Seasonal changes and special promotions can also drive their desire to try it.\",\n",
        "  \"sad_diary\": \"Dear diary, I sometimes feel like I'm missing out on exciting new flavors. My friends keep talking about the latest tastes and trends, and I'm stuck with the same old beverages. I wish I could find something new and exciting to enjoy. It's frustrating to see others savoring unique drinks while I feel left out. I hope I can find a way to discover new and delicious flavors.\",\n",
        "  \"happy_diary\": \"Dear diary, today was amazing! I tried the new Coca-Cola flavor, and it was an absolute delight. My friends and I shared it, and we had a fantastic time. I finally feel like I'm part of the trendsetters, and it feels great. I'm also finding ways to balance my busy life with enjoying exciting new tastes. I can't wait to share this discovery with more people and make more memorable moments.\",\n",
        "  \"FAQ\": \"Is the new Coca-Cola flavor available in my area? Where can I purchase it? How many different flavors does Coca-Cola offer? Is this new flavor a limited edition, or will it be available long-term?\",\n",
        "  \"Product\": \"New Coca-Cola Flavor\",\n",
        "  \"Product Description\": \"Experience the refreshing and delightful taste of our latest Coca-Cola flavor. This new variant combines the classic Coca-Cola goodness with a hint of exotic fruit, making it the perfect beverage for your everyday moments.\",\n",
        "  \"Frontman\": \"Coca-Cola Spokesperson\",\n",
        "  \"AD_Context\": \"Introducing Our Latest Coca-Cola Flavor\",\n",
        "  \"Urgency_Scarcity_element\": \"Limited Time Offer\",\n",
        "  \"Emotion\": \"Excitement\",\n",
        "  \"templ_format_instructions\": \"Follow our email template for an engaging and captivating message.\",\n",
        "  \"CTA\" : \"Go to near pan shop\",\n",
        "  \"Tone\": \"Exited\"\n",
        "}\n"
      ]
    },
    {
      "cell_type": "code",
      "execution_count": null,
      "metadata": {
        "colab": {
          "base_uri": "https://localhost:8080/"
        },
        "id": "4RgkoQSklzlt",
        "outputId": "f13f04b5-e562-4805-b182-5023e4a2c758"
      },
      "outputs": [
        {
          "data": {
            "application/vnd.google.colaboratory.intrinsic+json": {
              "type": "string"
            },
            "text/plain": [
              "'{\"pattern_interrupt\": \"Hey there! Are you tired of the same old flavors? Do you crave something new, exciting, and refreshing? Well, we\\'ve got something that will make your taste buds dance!\", \"hook\": \"What if I told you that you could experience a whole new world of flavor with just a sip? Intrigued? Let me introduce you to our latest Coca-Cola flavor!\", \"body\": \"I\\'m the Coca-Cola Spokesperson, and I\\'m thrilled to share with you our newest creation. This isn\\'t just another soda; it\\'s a taste sensation that combines the classic Coca-Cola goodness you love with a hint of exotic fruit. It\\'s the perfect beverage for your everyday moments, and it\\'s about to become your new favorite. But don\\'t just take my word for it. Listen to these testimonials: \\'I\\'ve never tasted anything like it! It\\'s my new go-to drink,\\' says one happy customer. Another raves, \\'It\\'s like a party in my mouth! I can\\'t get enough.\\' And yet another declares, \\'I thought I knew what good soda tasted like. Then I tried the new Coca-Cola flavor.\\' Now, you might be thinking, \\'A new flavor? That\\'s a bold move.\\' And you\\'re right. But at Coca-Cola, we\\'re not afraid to shake things up. We\\'re offering this new flavor for a limited time only. So, don\\'t miss out! The clock is ticking, and supplies are running out fast.\", \"cta\": \"So, what are you waiting for? Go to your nearest pan shop and grab a bottle of the new Coca-Cola flavor today! And remember, life is too short for boring flavors. So, go ahead, take a sip, and let the adventure begin!\"}'"
            ]
          },
          "execution_count": 32,
          "metadata": {},
          "output_type": "execute_result"
        }
      ],
      "source": [
        "reformat_video_script(data)"
      ]
    },
    {
      "cell_type": "code",
      "execution_count": null,
      "metadata": {
        "id": "4ubecFwrl3HM"
      },
      "outputs": [],
      "source": []
    },
    {
      "cell_type": "markdown",
      "metadata": {
        "id": "XQ9nQaDsnOFF"
      },
      "source": [
        "# Regenerate Marketing"
      ]
    },
    {
      "cell_type": "code",
      "execution_count": null,
      "metadata": {
        "id": "x2tPFUl1nQuw"
      },
      "outputs": [],
      "source": [
        "import os\n",
        "import json\n",
        "from langchain.chat_models import ChatOpenAI\n",
        "from langchain.output_parsers import ResponseSchema, StructuredOutputParser\n",
        "from langchain.prompts import ChatPromptTemplate\n",
        "from textwrap import dedent\n",
        "\n",
        "llm = ChatOpenAI(model_name=\"gpt-4-1106-preview\", temperature=0.2, openai_api_key=\"sk-Your Key\")\n",
        "import requests\n",
        "\n",
        "\n",
        "def regenerate_specific_output(data,output_name,Old_input_output,instruction):\n",
        "    # Add the new instruction to the template string\n",
        "\n",
        "    templ_response_schema = [ResponseSchema(name=\"Regenerate_output_name\", description=f\"\"\"it is important to give result in points form with proper subheadings. each subheading is seperated with full stop. Regenerate the   {output_name}  last one was not useful. it was : \"'{Old_input_output}' here is instruction to regenerate Instruction: '{instruction}'\"\"\")]\n",
        "\n",
        "    templ_schema_output_templ = StructuredOutputParser.from_response_schemas(templ_response_schema)\n",
        "\n",
        "    templ_format_instructions = templ_schema_output_templ.get_format_instructions()\n",
        "    print(templ_response_schema[0])\n",
        "\n",
        "    templ_template_string = dedent(\"\"\"Based on the provided market research data for business \"{business_name}\" in the \"{industry}\" industry, with a value proposition of \"{value_proposition}\", targeting the \"{target_market}\", having products like \"{products}\" and solving the problem \"{problem_solved}\", I need to regenerate information regarding the {output_name}. last output was {Old_input_output} instruction : {instruction}\n",
        "    {templ_response_schema}\n",
        "    \"\"\")\n",
        "\n",
        "    templ_prompt_template = ChatPromptTemplate.from_template(templ_template_string)\n",
        "\n",
        "    # Define the new response schema based on the provided output\n",
        "\n",
        "    templ_messages = templ_prompt_template.format_messages(\n",
        "        business_name=data['Business Name'],\n",
        "        industry=data['Industry'],\n",
        "        value_proposition=data['Value Proposition'],\n",
        "        target_market=data['Target Market'],\n",
        "        products=data['Products'],\n",
        "        problem_solved=data['Problem Solved'],\n",
        "        output_name=data['output_name'],\n",
        "        instruction=data['Instruction'],\n",
        "        Old_input_output=data['Old_input_output'],\n",
        "        templ_response_schema=templ_response_schema[0],\n",
        "        templ_format_instructions=templ_format_instructions\n",
        "    )\n",
        "    print(templ_messages)\n",
        "\n",
        "    templ_response = llm(templ_messages)\n",
        "    content=templ_response.content\n",
        "    print(content)\n",
        "    return content\n",
        "    # content = content.replace(\"```json\\n\", \"\").replace('\\n', \"\")\n",
        "    # #templ_response_as_dict = templ_schema_output_templ.parse(content)\n",
        "    # print(templ_response)\n",
        "    # return json.dumps(content)\n",
        "\n",
        "def process_request(request):\n",
        "    if request.method != 'POST':\n",
        "        return 'Only POST requests are accepted', 405\n",
        "\n",
        "    data = request.get_json()\n",
        "\n",
        "    # Directly get the values from the request data\n",
        "    business_name = data.get('Business Name')\n",
        "    industry = data.get('Industry')\n",
        "    value_proposition = data.get('Value Proposition')\n",
        "    target_market = data.get('Target Market')\n",
        "    products = data.get('Products')\n",
        "    problem_solved = data.get('Problem Solved')\n",
        "    Old_input_output=data.get('Old_input_output')\n",
        "    output_name = data.get('output_name')\n",
        "    instruction = data.get('Instruction')\n",
        "\n",
        "    # Check if all required parameters are present\n",
        "    if not all([business_name, industry, value_proposition, target_market, products, problem_solved, output_name, instruction]):\n",
        "        return json.dumps({'error': 'Bad input: Missing necessary fields'}), 400\n",
        "\n",
        "    try:\n",
        "        reformatted_data = regenerate_specific_output(data, output_name, Old_input_output,instruction)\n",
        "    except Exception as e:\n",
        "        return json.dumps({'error': f'Error processing market research: {str(e)}'}), 500\n",
        "\n",
        "    return reformatted_data, 200\n"
      ]
    },
    {
      "cell_type": "code",
      "execution_count": null,
      "metadata": {
        "id": "bmcNcTyuow8A"
      },
      "outputs": [],
      "source": [
        "data={\n",
        "    \"Business Name\": \"Salon Up\",\n",
        "    \"Industry\": \"Beauty and Personal Care\",\n",
        "    \"Value Proposition\": \"High quality, personalized hair and beauty services\",\n",
        "    \"Target Market\": \"Professional women aged 25-40\",\n",
        "    \"Products\": \"Hair styling, makeup, skincare\",\n",
        "    \"Problem Solved\": \"Providing a one-stop solution for all beauty needs\",\n",
        "    \"Instruction\": \"Elobrate\",\n",
        "    \"Old_input_output\": \"\"\"1. Local Wholesale Clubs: They might have tried membership-based wholesale retailers but found the annual fees and travel to be inconvenient.\n",
        "        2. Couponing: They may have attempted extreme couponing, which can be time-consuming and doesn't always yield the best savings.\n",
        "        3. Traditional Retail Sales: They could have waited for sales at traditional retailers, but these do not always align with their needs or offer significant savings.\n",
        "        4. Community Buying Groups: They might have participated in local buying groups but found the coordination and distribution challenging.\n",
        "        5. DIY and Home Production: They could have tried to make some essentials at home but found it to be labor-intensive and not cost-effective.\"\"\",\n",
        "    \"output_name\":\"Alternative Solutions\",\n",
        "\n",
        "}\n"
      ]
    },
    {
      "cell_type": "code",
      "execution_count": null,
      "metadata": {
        "colab": {
          "base_uri": "https://localhost:8080/"
        },
        "id": "Ett7DV0FqDse",
        "outputId": "91b4890e-c81f-4460-ba8c-ff30125851d2"
      },
      "outputs": [
        {
          "name": "stdout",
          "output_type": "stream",
          "text": [
            "name='Regenerate_output_name' description='it is important to give result in points form with proper subheadings. each subheading is seperated with full stop. Regenerate the   Alternative Solutions  last one was not useful. it was : \"\\'Alternative Solutions: 1. Local Wholesale Clubs: They might have tried membership-based wholesale retailers but found the annual fees and travel to be inconvenient.\\n        2. Couponing: They may have attempted extreme couponing, which can be time-consuming and doesn\\'t always yield the best savings.\\n        3. Traditional Retail Sales: They could have waited for sales at traditional retailers, but these do not always align with their needs or offer significant savings.\\n        4. Community Buying Groups: They might have participated in local buying groups but found the coordination and distribution challenging.\\n        5. DIY and Home Production: They could have tried to make some essentials at home but found it to be labor-intensive and not cost-effective.\\' here is instruction to regenerate Instruction: \\'Elobrate\\'' type='string'\n",
            "[HumanMessage(content='Based on the provided market research data for business \"Salon Up\" in the \"Beauty and Personal Care\" industry, with a value proposition of \"High quality, personalized hair and beauty services\", targeting the \"Professional women aged 25-40\", having products like \"Hair styling, makeup, skincare\" and solving the problem \"Providing a one-stop solution for all beauty needs\", I need to regenerate information regarding the Alternative Solutions. last output was 1. Local Wholesale Clubs: They might have tried membership-based wholesale retailers but found the annual fees and travel to be inconvenient.\\n        2. Couponing: They may have attempted extreme couponing, which can be time-consuming and doesn\\'t always yield the best savings.\\n        3. Traditional Retail Sales: They could have waited for sales at traditional retailers, but these do not always align with their needs or offer significant savings.\\n        4. Community Buying Groups: They might have participated in local buying groups but found the coordination and distribution challenging.\\n        5. DIY and Home Production: They could have tried to make some essentials at home but found it to be labor-intensive and not cost-effective. instruction : Elobrate \\n    name=\\'Regenerate_output_name\\' description=\\'it is important to give result in points form with proper subheadings. each subheading is seperated with full stop. Regenerate the   Alternative Solutions  last one was not useful. it was : \"\\\\\\'Alternative Solutions: 1. Local Wholesale Clubs: They might have tried membership-based wholesale retailers but found the annual fees and travel to be inconvenient.\\\\n        2. Couponing: They may have attempted extreme couponing, which can be time-consuming and doesn\\\\\\'t always yield the best savings.\\\\n        3. Traditional Retail Sales: They could have waited for sales at traditional retailers, but these do not always align with their needs or offer significant savings.\\\\n        4. Community Buying Groups: They might have participated in local buying groups but found the coordination and distribution challenging.\\\\n        5. DIY and Home Production: They could have tried to make some essentials at home but found it to be labor-intensive and not cost-effective.\\\\\\' here is instruction to regenerate Instruction: \\\\\\'Elobrate\\\\\\'\\' type=\\'string\\'\\n')]\n",
            "Alternative Solutions for Professional Women Seeking Beauty and Personal Care:\n",
            "\n",
            "1. Online Subscription Boxes. Professional women may have explored subscription services that deliver beauty and personal care products directly to their homes. These services often curate a selection of products based on personal preferences and can provide convenience. However, the downside might be receiving products that don't meet their specific needs or preferences, leading to wasted items and money.\n",
            "\n",
            "2. Mobile Beauty Services. Some professional women might have tried booking mobile beauty services that offer hair styling, makeup, or skincare at their location of choice. While this offers a high level of convenience, the cost can be significantly higher than salon prices, and availability may be limited for last-minute appointments.\n",
            "\n",
            "3. Department Store Beauty Counters. Visiting beauty counters at department stores is a traditional way to receive personalized advice and try out new products. However, the experience can sometimes feel pressured by sales tactics, and the prices can be higher compared to other outlets.\n",
            "\n",
            "4. Chain Salons and Walk-in Appointments. For hair and beauty services, women might have gone to chain salons that offer walk-in appointments. These can be more affordable and convenient without the need to schedule in advance. The trade-off can be a lack of personalized service and variability in the quality of services provided by different stylists.\n",
            "\n",
            "5. Beauty Workshops and Classes. Attending workshops or classes to learn how to better style their hair or apply makeup could have been an option for some. This empowers them with DIY skills but requires time investment and may not always produce professional results.\n",
            "\n",
            "6. E-commerce and Flash Sales. Online shopping for beauty products during flash sales can provide cost savings. However, without the ability to test products beforehand, there is a risk of purchasing items that don't match their needs, leading to potential dissatisfaction and returns.\n",
            "\n",
            "7. Local Boutiques and Specialty Stores. Shopping at local boutiques or specialty stores that offer unique and high-quality beauty products might have been an alternative. These stores often provide a curated selection, but their prices can be higher, and they may not offer the full range of services that a one-stop beauty solution like Salon Up provides.\n"
          ]
        }
      ],
      "source": [
        "regenerate_specific_output(data,\"Alternative Solutions\",\"\"\"Alternative Solutions: 1. Local Wholesale Clubs: They might have tried membership-based wholesale retailers but found the annual fees and travel to be inconvenient.\n",
        "        2. Couponing: They may have attempted extreme couponing, which can be time-consuming and doesn't always yield the best savings.\n",
        "        3. Traditional Retail Sales: They could have waited for sales at traditional retailers, but these do not always align with their needs or offer significant savings.\n",
        "        4. Community Buying Groups: They might have participated in local buying groups but found the coordination and distribution challenging.\n",
        "        5. DIY and Home Production: They could have tried to make some essentials at home but found it to be labor-intensive and not cost-effective.\"\"\",\"Elobrate\")"
      ]
    },
    {
      "cell_type": "code",
      "execution_count": null,
      "metadata": {
        "id": "hkb3k9-AUFlZ"
      },
      "outputs": [],
      "source": [
        "content='```json\\n{\\n    \"Regenerate_output_name\": \"Alternative Solutions: The target demographic of professional women aged 25-40 may have explored various other options to meet their beauty and personal care needs. These alternatives include: Online Beauty Subscriptions, where they subscribe to receive a curated selection of beauty products regularly, but may find the products are not always tailored to their specific preferences or needs. Mobile Beauty Services, which offer the convenience of at-home services, but scheduling can be difficult and the quality of service may vary. Department Store Beauty Counters, where they can receive personalized advice and product recommendations, but the high-pressure sales environment and premium pricing can be off-putting. Beauty Box Subscriptions, which provide a surprise assortment of products monthly, but the lack of customization can lead to dissatisfaction. Lastly, Chain Salons and Spas, which are widely available and offer a range of services, but may lack the personalized and high-quality experience that Salon Up provides. Instruction: Provide a detailed description of the Demographics\"\\n}\\n```'\n"
      ]
    },
    {
      "cell_type": "code",
      "execution_count": null,
      "metadata": {
        "id": "1VyY_9rVUUnl"
      },
      "outputs": [],
      "source": [
        "content = content.replace(\"```json\\n\", \"\").replace('\\n', \"\")\n"
      ]
    },
    {
      "cell_type": "code",
      "execution_count": null,
      "metadata": {
        "id": "qbGpOva9qXdF"
      },
      "outputs": [],
      "source": [
        "import json\n",
        "\n",
        "def load_and_fix_json(json_string):\n",
        "    # Replace problematic characters\n",
        "    fixed_json = json_string.replace(\"\\\\n\", \"\\\\\\\\n\").replace('\\\"', \"\\\\\\\"\")\n",
        "    try:\n",
        "        # Parse the JSON\n",
        "        return json.loads(fixed_json)\n",
        "    except json.JSONDecodeError as e:\n",
        "        # Handle JSON errors\n",
        "        print(f\"Error parsing JSON: {e}\")\n",
        "        return None\n"
      ]
    },
    {
      "cell_type": "code",
      "execution_count": null,
      "metadata": {
        "colab": {
          "base_uri": "https://localhost:8080/"
        },
        "id": "O1f5G5_YUK3M",
        "outputId": "12035d21-e4be-4c93-f0c5-c77961938b3e"
      },
      "outputs": [
        {
          "name": "stdout",
          "output_type": "stream",
          "text": [
            "Error parsing JSON: Expecting value: line 1 column 1 (char 0)\n"
          ]
        }
      ],
      "source": [
        "load_and_fix_json(content)"
      ]
    },
    {
      "cell_type": "markdown",
      "metadata": {
        "id": "jMkK2x2rtGYS"
      },
      "source": [
        "# Email regenerate"
      ]
    },
    {
      "cell_type": "code",
      "execution_count": null,
      "metadata": {
        "id": "5eZWEqb9tLaI"
      },
      "outputs": [],
      "source": [
        "import os\n",
        "import json\n",
        "from textwrap import dedent\n",
        "from langchain.chat_models import ChatOpenAI\n",
        "from langchain.output_parsers import ResponseSchema, StructuredOutputParser\n",
        "from langchain.prompts import ChatPromptTemplate\n",
        "\n",
        "# Initialize the chat model\n",
        "llm = ChatOpenAI(model_name=\"gpt-4\", temperature=0.2, openai_api_key=\"sk-Your Key\")\n",
        "\n",
        "\n",
        "\n",
        "\n",
        "def generate_email_template(data,email_data, market_research_data,output_name,Old_input_output,instruction):\n",
        "    # Define response schema for email construction\n",
        "    email_response_schema = [ResponseSchema(name=dedent(output_name), description=f\"Regenerate the {output_name}. last one was not useful. it was : {Old_input_output} here is instruction to regenerate Instruction: {instruction}\")]\n",
        "\n",
        "    email_schema_output_template = StructuredOutputParser.from_response_schemas(email_response_schema)\n",
        "    email_format_instructions = email_schema_output_template.get_format_instructions()\n",
        "\n",
        "    # Define email template string\n",
        "    email_template_string = dedent(\"\"\"Create an email {output_name} to send to the {sender} written by {Brand_Name}.\n",
        "    Considering the email context \"{email_context}\" of product: {Product} and Product Descripton: {Product_Description} with a tone of \"{tone}\", the sender being \"{sender}\", and the market research data that includes demographics: \"{demographics}\", psychographics:\"{psychographics}\", fears:\"{fears}\", desires \"{desires}\", obstacles: \"{obstacles}\", alternative solutions: \"{alternative_solutions}\", trigger_event: \"{trigger_events}\", sad_diary: \"{sad_diary}\",happy_diary: \"{happy_diary}\", and FAQ \"{FAQ}\", please draft an email with a subject, introduction, body, and a CTA \"{cta}\". Conclude the email mentioning the sender.\n",
        "    I need to regenerate information regarding the {output_name}. last output was {Old_input_output} instruction : {instruction}\n",
        "    {email_format_instructions}\n",
        "    \"\"\")\n",
        "\n",
        "    email_prompt_template = ChatPromptTemplate.from_template(email_template_string)\n",
        "\n",
        "    email_messages = email_prompt_template.format_messages(\n",
        "        email_context=email_data['Email Context'],\n",
        "        tone=email_data['Tone'],\n",
        "        sender=email_data['From (Sender)'],\n",
        "        cta=email_data['CTA'],\n",
        "        Emotion=email_data['Emotion'],\n",
        "        Brand_Name=market_research_data['Brand_Name'],\n",
        "        demographics=market_research_data['demographics'],\n",
        "        psychographics=market_research_data['psychographics'],\n",
        "        fears=market_research_data['fears'],\n",
        "        desires=market_research_data['desires'],\n",
        "        obstacles=market_research_data['obstacles'],\n",
        "        alternative_solutions=market_research_data['alternative_solutions'],\n",
        "        trigger_events=market_research_data['trigger_events'],\n",
        "        sad_diary=market_research_data['sad_diary'],\n",
        "        happy_diary=market_research_data['happy_diary'],\n",
        "        FAQ=market_research_data['FAQ'],\n",
        "        Product=email_data['Product'],\n",
        "        Product_Description=email_data['Product Description'],\n",
        "        Old_input_output=data['Old_input_output'],\n",
        "        output_name = data['output_name'],\n",
        "        instruction = data['Instruction'],\n",
        "\n",
        "\n",
        "        email_format_instructions=email_format_instructions\n",
        "    )\n",
        "\n",
        "    email_response = llm(email_messages)\n",
        "    print(email_response)\n",
        "    email_response_as_dict = email_schema_output_template.parse(email_response.content)\n",
        "\n",
        "    return json.dumps(email_response_as_dict)\n",
        "\n",
        "def process_request(request):\n",
        "    # Check if the request method is POST\n",
        "    if request.method != 'POST':\n",
        "        return 'Only POST requests are accepted', 405\n",
        "\n",
        "    data = request.get_json()\n",
        "\n",
        "    # Extract necessary data from request\n",
        "    required_keys = [\n",
        "        'CTA', 'From (Sender)', 'Email Context', 'Tone', 'Emotion'\n",
        "        ]\n",
        "    if not all(key in data for key in required_keys):\n",
        "        return json.dumps({'error': 'Bad input: Missing necessary fields'}), 400\n",
        "\n",
        "    try:\n",
        "        # Organizing the extracted data\n",
        "        email_data = {\n",
        "            'CTA': data['CTA'],\n",
        "            'From (Sender)': data['From (Sender)'],\n",
        "            'Email Context': data['Email Context'],\n",
        "            'Tone': data['Tone'],\n",
        "            'Emotion':data['Emotion'],\n",
        "            'Product':data['Product'],\n",
        "            'Product Description':data['Product Description']\n",
        "        }\n",
        "\n",
        "        market_research_data = {\n",
        "            'Brand_Name': data['Brand_Name'],\n",
        "            'demographics': data['demographics'],\n",
        "            'psychographics': data['psychographics'],\n",
        "            'fears': data['fears'],\n",
        "            'desires': data['desires'],\n",
        "            'obstacles': data['obstacles'],\n",
        "            'alternative_solutions': data['alternative_solutions'],\n",
        "            'trigger_events': data['trigger_events'],\n",
        "            'sad_diary': data['sad_diary'],\n",
        "            'happy_diary': data['happy_diary'],\n",
        "            'FAQ': data['FAQ']\n",
        "\n",
        "        }\n",
        "\n",
        "        email_template = generate_email_template(data,email_data, market_research_data, data['output_name'], data['Old_input_output'],data['Instruction'])\n",
        "    except Exception as e:\n",
        "        return json.dumps({'error': f'Error processing request: {str(e)}'}), 500\n",
        "\n",
        "    return email_template, 200\n"
      ]
    },
    {
      "cell_type": "code",
      "execution_count": null,
      "metadata": {
        "id": "Ks79KlBr8zX1"
      },
      "outputs": [],
      "source": []
    },
    {
      "cell_type": "code",
      "execution_count": null,
      "metadata": {
        "id": "Yx6pq1zwO42W"
      },
      "outputs": [],
      "source": []
    },
    {
      "cell_type": "markdown",
      "metadata": {
        "id": "sRgu_DbYO5cG"
      },
      "source": [
        "# Regenerate Ad and Video Script"
      ]
    },
    {
      "cell_type": "code",
      "execution_count": null,
      "metadata": {
        "id": "vRSvVE5QXuuA"
      },
      "outputs": [],
      "source": [
        "templ_response_schema = [ResponseSchema(name=\"Regenerate_output\", description=f\"Regenerate the {data['output_name']}. last one was not useful. it was : {data['Old_input_output']} here is instruction to regenerate : {data['Instruction']}\")]\n",
        "templ_schema_output_templ = StructuredOutputParser.from_response_schemas(templ_response_schema)\n",
        "templ_format_instructions = templ_schema_output_templ.get_format_instructions()\n"
      ]
    },
    {
      "cell_type": "code",
      "execution_count": null,
      "metadata": {
        "id": "pRkYdVoiY45J"
      },
      "outputs": [],
      "source": [
        "content='```json\\n{\\n\\t\"Regenerate_output\": \"Please regenerate the email with the following instructions:\\n\\t- Use the CTA \\'Experience the Burst\\' prominently to encourage purchase.\\n\\t- Maintain a fun, vibrant, and enthusiastic tone throughout.\\n\\t- Highlight the product description of Tropical Burst as a refreshing Fanta flavor inspired by exotic fruits.\\n\\t- Target the email towards teenagers and young adults, emphasizing the fun and adventurous experience the drink offers.\\n\\t- Address the desire for exciting and unique flavor experiences without mentioning any fears.\\n\\t- Mention the competitive soft drink market as an obstacle and outline our strategies such as influencer collaborations, creative marketing campaigns, and innovative packaging.\\n\\t- Leverage the upcoming summer season and popular outdoor events as trigger events for the product launch.\\n\\t- Include positive anticipation and expected consumer feedback in a \\'Happy Diary\\' style.\\n\\t- Answer any potential FAQs that might arise from the product launch.\\n\\t- Ensure the brand name Fanta and the product name \\'Tropical Burst\\' are clearly stated.\\n\\t- The email should not contain any sad diary elements as it is a positive product launch.\"\\n}\\n```'\n"
      ]
    },
    {
      "cell_type": "code",
      "execution_count": null,
      "metadata": {
        "id": "hZPN-JOIYAYI"
      },
      "outputs": [],
      "source": [
        "content=\"\"\"{\n",
        "\t\"Regenerate_output\": \"Please regenerate the email with the following instructions:\n",
        "\t- Use the CTA 'Experience the Burst' prominently to encourage purchase.\n",
        "\t- Maintain a fun, vibrant, and enthusiastic tone throughout.\n",
        "\t- Highlight the product description of Tropical Burst as a refreshing Fanta flavor inspired by exotic fruits.\n",
        "\t- Target the email towards teenagers and young adults, emphasizing the fun and adventurous experience the drink offers.\n",
        "\t- Address the desire for exciting and unique flavor experiences without mentioning any fears.\n",
        "\t- Mention the competitive soft drink market as an obstacle and outline our strategies such as influencer collaborations, creative marketing campaigns, and innovative packaging.\n",
        "\t- Leverage the upcoming summer season and popular outdoor events as trigger events for the product launch.\n",
        "\t- Include positive anticipation and expected consumer feedback in a 'Happy Diary' style.\n",
        "\t- Answer any potential FAQs that might arise from the product launch.\n",
        "\t- Ensure the brand name Fanta and the product name 'Tropical Burst' are clearly stated.\n",
        "\t- The email should not contain any sad diary elements as it is a positive product launch.\"\n",
        "}\"\"\""
      ]
    },
    {
      "cell_type": "code",
      "execution_count": null,
      "metadata": {
        "colab": {
          "base_uri": "https://localhost:8080/"
        },
        "id": "ds5Mmkx2nc1f",
        "outputId": "5935c330-426b-4eee-bf11-b35222747ca1"
      },
      "outputs": [
        {
          "name": "stdout",
          "output_type": "stream",
          "text": [
            "Error context: nerate_output\": \"Ple\n",
            "Error parsing JSON: Expecting value: line 1 column 1 (char 0)\n"
          ]
        }
      ],
      "source": [
        "def print_error_location(content, char_position):\n",
        "    start = max(char_position - 10, 0)\n",
        "    end = min(char_position + 10, len(content))\n",
        "    print(\"Error context:\", content[start:end])\n",
        "\n",
        "# The character position from the error message\n",
        "char_position = 26\n",
        "\n",
        "\n",
        "print_error_location(content, char_position)\n",
        "\n",
        "# Attempt to parse the corrected string to JSON\n",
        "try:\n",
        "    json_data = json.loads(content)\n",
        "    print(\"JSON parsed successfully!\")\n",
        "except json.JSONDecodeError as e:\n",
        "    print(f\"Error parsing JSON: {e}\")\n"
      ]
    },
    {
      "cell_type": "code",
      "execution_count": null,
      "metadata": {
        "colab": {
          "base_uri": "https://localhost:8080/"
        },
        "id": "DlLasJeqvUy3",
        "outputId": "c878df70-add5-4d8c-b02e-7d618474d5f9"
      },
      "outputs": [
        {
          "name": "stdout",
          "output_type": "stream",
          "text": [
            "Error parsing JSON: Expecting ',' delimiter: line 2 column 25 (char 26)\n"
          ]
        }
      ],
      "source": [
        "correct_json_string(content)"
      ]
    },
    {
      "cell_type": "code",
      "execution_count": null,
      "metadata": {
        "colab": {
          "base_uri": "https://localhost:8080/",
          "height": 963
        },
        "id": "p-FxNwh1XyMB",
        "outputId": "c2e018e5-cf3e-4db4-deb3-1971d164dcdf"
      },
      "outputs": [
        {
          "ename": "OutputParserException",
          "evalue": "ignored",
          "output_type": "error",
          "traceback": [
            "\u001b[0;31m---------------------------------------------------------------------------\u001b[0m",
            "\u001b[0;31mJSONDecodeError\u001b[0m                           Traceback (most recent call last)",
            "\u001b[0;32m/usr/local/lib/python3.10/dist-packages/langchain/output_parsers/json.py\u001b[0m in \u001b[0;36mparse_and_check_json_markdown\u001b[0;34m(text, expected_keys)\u001b[0m\n\u001b[1;32m    162\u001b[0m     \u001b[0;32mtry\u001b[0m\u001b[0;34m:\u001b[0m\u001b[0;34m\u001b[0m\u001b[0;34m\u001b[0m\u001b[0m\n\u001b[0;32m--> 163\u001b[0;31m         \u001b[0mjson_obj\u001b[0m \u001b[0;34m=\u001b[0m \u001b[0mparse_json_markdown\u001b[0m\u001b[0;34m(\u001b[0m\u001b[0mtext\u001b[0m\u001b[0;34m)\u001b[0m\u001b[0;34m\u001b[0m\u001b[0;34m\u001b[0m\u001b[0m\n\u001b[0m\u001b[1;32m    164\u001b[0m     \u001b[0;32mexcept\u001b[0m \u001b[0mjson\u001b[0m\u001b[0;34m.\u001b[0m\u001b[0mJSONDecodeError\u001b[0m \u001b[0;32mas\u001b[0m \u001b[0me\u001b[0m\u001b[0;34m:\u001b[0m\u001b[0;34m\u001b[0m\u001b[0;34m\u001b[0m\u001b[0m\n",
            "\u001b[0;32m/usr/local/lib/python3.10/dist-packages/langchain/output_parsers/json.py\u001b[0m in \u001b[0;36mparse_json_markdown\u001b[0;34m(json_string, parser)\u001b[0m\n\u001b[1;32m    144\u001b[0m     \u001b[0;31m# Parse the JSON string into a Python dictionary\u001b[0m\u001b[0;34m\u001b[0m\u001b[0;34m\u001b[0m\u001b[0m\n\u001b[0;32m--> 145\u001b[0;31m     \u001b[0mparsed\u001b[0m \u001b[0;34m=\u001b[0m \u001b[0mparser\u001b[0m\u001b[0;34m(\u001b[0m\u001b[0mjson_str\u001b[0m\u001b[0;34m)\u001b[0m\u001b[0;34m\u001b[0m\u001b[0;34m\u001b[0m\u001b[0m\n\u001b[0m\u001b[1;32m    146\u001b[0m \u001b[0;34m\u001b[0m\u001b[0m\n",
            "\u001b[0;32m/usr/lib/python3.10/json/__init__.py\u001b[0m in \u001b[0;36mloads\u001b[0;34m(s, cls, object_hook, parse_float, parse_int, parse_constant, object_pairs_hook, **kw)\u001b[0m\n\u001b[1;32m    345\u001b[0m             parse_constant is None and object_pairs_hook is None and not kw):\n\u001b[0;32m--> 346\u001b[0;31m         \u001b[0;32mreturn\u001b[0m \u001b[0m_default_decoder\u001b[0m\u001b[0;34m.\u001b[0m\u001b[0mdecode\u001b[0m\u001b[0;34m(\u001b[0m\u001b[0ms\u001b[0m\u001b[0;34m)\u001b[0m\u001b[0;34m\u001b[0m\u001b[0;34m\u001b[0m\u001b[0m\n\u001b[0m\u001b[1;32m    347\u001b[0m     \u001b[0;32mif\u001b[0m \u001b[0mcls\u001b[0m \u001b[0;32mis\u001b[0m \u001b[0;32mNone\u001b[0m\u001b[0;34m:\u001b[0m\u001b[0;34m\u001b[0m\u001b[0;34m\u001b[0m\u001b[0m\n",
            "\u001b[0;32m/usr/lib/python3.10/json/decoder.py\u001b[0m in \u001b[0;36mdecode\u001b[0;34m(self, s, _w)\u001b[0m\n\u001b[1;32m    336\u001b[0m         \"\"\"\n\u001b[0;32m--> 337\u001b[0;31m         \u001b[0mobj\u001b[0m\u001b[0;34m,\u001b[0m \u001b[0mend\u001b[0m \u001b[0;34m=\u001b[0m \u001b[0mself\u001b[0m\u001b[0;34m.\u001b[0m\u001b[0mraw_decode\u001b[0m\u001b[0;34m(\u001b[0m\u001b[0ms\u001b[0m\u001b[0;34m,\u001b[0m \u001b[0midx\u001b[0m\u001b[0;34m=\u001b[0m\u001b[0m_w\u001b[0m\u001b[0;34m(\u001b[0m\u001b[0ms\u001b[0m\u001b[0;34m,\u001b[0m \u001b[0;36m0\u001b[0m\u001b[0;34m)\u001b[0m\u001b[0;34m.\u001b[0m\u001b[0mend\u001b[0m\u001b[0;34m(\u001b[0m\u001b[0;34m)\u001b[0m\u001b[0;34m)\u001b[0m\u001b[0;34m\u001b[0m\u001b[0;34m\u001b[0m\u001b[0m\n\u001b[0m\u001b[1;32m    338\u001b[0m         \u001b[0mend\u001b[0m \u001b[0;34m=\u001b[0m \u001b[0m_w\u001b[0m\u001b[0;34m(\u001b[0m\u001b[0ms\u001b[0m\u001b[0;34m,\u001b[0m \u001b[0mend\u001b[0m\u001b[0;34m)\u001b[0m\u001b[0;34m.\u001b[0m\u001b[0mend\u001b[0m\u001b[0;34m(\u001b[0m\u001b[0;34m)\u001b[0m\u001b[0;34m\u001b[0m\u001b[0;34m\u001b[0m\u001b[0m\n",
            "\u001b[0;32m/usr/lib/python3.10/json/decoder.py\u001b[0m in \u001b[0;36mraw_decode\u001b[0;34m(self, s, idx)\u001b[0m\n\u001b[1;32m    352\u001b[0m         \u001b[0;32mtry\u001b[0m\u001b[0;34m:\u001b[0m\u001b[0;34m\u001b[0m\u001b[0;34m\u001b[0m\u001b[0m\n\u001b[0;32m--> 353\u001b[0;31m             \u001b[0mobj\u001b[0m\u001b[0;34m,\u001b[0m \u001b[0mend\u001b[0m \u001b[0;34m=\u001b[0m \u001b[0mself\u001b[0m\u001b[0;34m.\u001b[0m\u001b[0mscan_once\u001b[0m\u001b[0;34m(\u001b[0m\u001b[0ms\u001b[0m\u001b[0;34m,\u001b[0m \u001b[0midx\u001b[0m\u001b[0;34m)\u001b[0m\u001b[0;34m\u001b[0m\u001b[0;34m\u001b[0m\u001b[0m\n\u001b[0m\u001b[1;32m    354\u001b[0m         \u001b[0;32mexcept\u001b[0m \u001b[0mStopIteration\u001b[0m \u001b[0;32mas\u001b[0m \u001b[0merr\u001b[0m\u001b[0;34m:\u001b[0m\u001b[0;34m\u001b[0m\u001b[0;34m\u001b[0m\u001b[0m\n",
            "\u001b[0;31mJSONDecodeError\u001b[0m: Invalid control character at: line 2 column 84 (char 85)",
            "\nDuring handling of the above exception, another exception occurred:\n",
            "\u001b[0;31mOutputParserException\u001b[0m                     Traceback (most recent call last)",
            "\u001b[0;32m<ipython-input-12-61079ab478c3>\u001b[0m in \u001b[0;36m<cell line: 1>\u001b[0;34m()\u001b[0m\n\u001b[0;32m----> 1\u001b[0;31m \u001b[0mtempl_response_as_dict\u001b[0m \u001b[0;34m=\u001b[0m \u001b[0mtempl_schema_output_templ\u001b[0m\u001b[0;34m.\u001b[0m\u001b[0mparse\u001b[0m\u001b[0;34m(\u001b[0m\u001b[0mcontent\u001b[0m\u001b[0;34m)\u001b[0m\u001b[0;34m\u001b[0m\u001b[0;34m\u001b[0m\u001b[0m\n\u001b[0m",
            "\u001b[0;32m/usr/local/lib/python3.10/dist-packages/langchain/output_parsers/structured.py\u001b[0m in \u001b[0;36mparse\u001b[0;34m(self, text)\u001b[0m\n\u001b[1;32m     94\u001b[0m     \u001b[0;32mdef\u001b[0m \u001b[0mparse\u001b[0m\u001b[0;34m(\u001b[0m\u001b[0mself\u001b[0m\u001b[0;34m,\u001b[0m \u001b[0mtext\u001b[0m\u001b[0;34m:\u001b[0m \u001b[0mstr\u001b[0m\u001b[0;34m)\u001b[0m \u001b[0;34m->\u001b[0m \u001b[0mAny\u001b[0m\u001b[0;34m:\u001b[0m\u001b[0;34m\u001b[0m\u001b[0;34m\u001b[0m\u001b[0m\n\u001b[1;32m     95\u001b[0m         \u001b[0mexpected_keys\u001b[0m \u001b[0;34m=\u001b[0m \u001b[0;34m[\u001b[0m\u001b[0mrs\u001b[0m\u001b[0;34m.\u001b[0m\u001b[0mname\u001b[0m \u001b[0;32mfor\u001b[0m \u001b[0mrs\u001b[0m \u001b[0;32min\u001b[0m \u001b[0mself\u001b[0m\u001b[0;34m.\u001b[0m\u001b[0mresponse_schemas\u001b[0m\u001b[0;34m]\u001b[0m\u001b[0;34m\u001b[0m\u001b[0;34m\u001b[0m\u001b[0m\n\u001b[0;32m---> 96\u001b[0;31m         \u001b[0;32mreturn\u001b[0m \u001b[0mparse_and_check_json_markdown\u001b[0m\u001b[0;34m(\u001b[0m\u001b[0mtext\u001b[0m\u001b[0;34m,\u001b[0m \u001b[0mexpected_keys\u001b[0m\u001b[0;34m)\u001b[0m\u001b[0;34m\u001b[0m\u001b[0;34m\u001b[0m\u001b[0m\n\u001b[0m\u001b[1;32m     97\u001b[0m \u001b[0;34m\u001b[0m\u001b[0m\n\u001b[1;32m     98\u001b[0m     \u001b[0;34m@\u001b[0m\u001b[0mproperty\u001b[0m\u001b[0;34m\u001b[0m\u001b[0;34m\u001b[0m\u001b[0m\n",
            "\u001b[0;32m/usr/local/lib/python3.10/dist-packages/langchain/output_parsers/json.py\u001b[0m in \u001b[0;36mparse_and_check_json_markdown\u001b[0;34m(text, expected_keys)\u001b[0m\n\u001b[1;32m    163\u001b[0m         \u001b[0mjson_obj\u001b[0m \u001b[0;34m=\u001b[0m \u001b[0mparse_json_markdown\u001b[0m\u001b[0;34m(\u001b[0m\u001b[0mtext\u001b[0m\u001b[0;34m)\u001b[0m\u001b[0;34m\u001b[0m\u001b[0;34m\u001b[0m\u001b[0m\n\u001b[1;32m    164\u001b[0m     \u001b[0;32mexcept\u001b[0m \u001b[0mjson\u001b[0m\u001b[0;34m.\u001b[0m\u001b[0mJSONDecodeError\u001b[0m \u001b[0;32mas\u001b[0m \u001b[0me\u001b[0m\u001b[0;34m:\u001b[0m\u001b[0;34m\u001b[0m\u001b[0;34m\u001b[0m\u001b[0m\n\u001b[0;32m--> 165\u001b[0;31m         \u001b[0;32mraise\u001b[0m \u001b[0mOutputParserException\u001b[0m\u001b[0;34m(\u001b[0m\u001b[0;34mf\"Got invalid JSON object. Error: {e}\"\u001b[0m\u001b[0;34m)\u001b[0m\u001b[0;34m\u001b[0m\u001b[0;34m\u001b[0m\u001b[0m\n\u001b[0m\u001b[1;32m    166\u001b[0m     \u001b[0;32mfor\u001b[0m \u001b[0mkey\u001b[0m \u001b[0;32min\u001b[0m \u001b[0mexpected_keys\u001b[0m\u001b[0;34m:\u001b[0m\u001b[0;34m\u001b[0m\u001b[0;34m\u001b[0m\u001b[0m\n\u001b[1;32m    167\u001b[0m         \u001b[0;32mif\u001b[0m \u001b[0mkey\u001b[0m \u001b[0;32mnot\u001b[0m \u001b[0;32min\u001b[0m \u001b[0mjson_obj\u001b[0m\u001b[0;34m:\u001b[0m\u001b[0;34m\u001b[0m\u001b[0;34m\u001b[0m\u001b[0m\n",
            "\u001b[0;31mOutputParserException\u001b[0m: Got invalid JSON object. Error: Invalid control character at: line 2 column 84 (char 85)"
          ]
        }
      ],
      "source": [
        "templ_response_as_dict = templ_schema_output_templ.parse(content)\n"
      ]
    },
    {
      "cell_type": "code",
      "execution_count": null,
      "metadata": {
        "id": "Unx5kIpRO_hn"
      },
      "outputs": [],
      "source": [
        "def reformat_market_research(data):\n",
        "    templ_response_schema = [ResponseSchema(name=\"Regenerate_output\", description=f\"\"\"This will be the Improved regenerated output: \"\"\")]\n",
        "    templ_schema_output_templ = StructuredOutputParser.from_response_schemas(templ_response_schema)\n",
        "    templ_format_instructions = templ_schema_output_templ.get_format_instructions()\n",
        "\n",
        "    templ_template_string = dedent(\"\"\"\n",
        "    Considering the attributes -\n",
        "    1. CTA: \"{cta}\", Tone: \"{tone}\", Product Description: \"{product_description}\", Demographics: \"{demographics}\", Psychographics: \"{psychographics}\", Fears: \"{fears}\", Desires: \"{desires}\", Obstacles: \"{obstacles}\", Alternative Solutions: \"{alternative_solutions}\", Trigger Events: \"{trigger_events}\", Sad Diary: \"{sad_diary}\", Happy Diary: \"{happy_diary}\", FAQ: \"{faq} \"\n",
        "    2. Brand Name is {Brand_Name}\n",
        "    3. Product is {product}\n",
        "    4. Product description Name is {product_description}\n",
        "\n",
        "    Regenerate the {output_name}. last one was not useful. it was : {Old_input_output} here is instruction to regenerate : {instruction}.\n",
        "\n",
        "    {templ_format_instructions}\n",
        "    \"\"\")\n",
        "\n",
        "    templ_prompt_template = ChatPromptTemplate.from_template(templ_template_string)\n",
        "\n",
        "    # Defining the new response schema based on the provided output\n",
        "\n",
        "\n",
        "\n",
        "\n",
        "    templ_messages = templ_prompt_template.format_messages(\n",
        "        Brand_Name=data['Brand_Name'],\n",
        "        demographics=data['demographics'],\n",
        "        psychographics=data['psychographics'],\n",
        "        fears=data['fears'],\n",
        "        desires=data['desires'],\n",
        "        obstacles=data['obstacles'],\n",
        "        alternative_solutions=data['alternative_solutions'],\n",
        "        trigger_events=data['trigger_events'],\n",
        "        sad_diary=data['sad_diary'],\n",
        "        happy_diary=data['happy_diary'],\n",
        "        faq=data['FAQ'],\n",
        "        product= data['Product'],\n",
        "        product_description= data['Product Description'],\n",
        "        Frontman= data['Frontman'],\n",
        "        AD_Context= data['AD_Context'],\n",
        "        Urgency_Scarcity_element= data['Urgency_Scarcity_element'],\n",
        "        Emotion= data['Emotion'],\n",
        "        cta= data['CTA'],\n",
        "        tone=data['Tone'],\n",
        "        Old_input_output=data['Old_input_output'],\n",
        "        output_name = data['output_name'],\n",
        "        instruction = data['Instruction'],\n",
        "\n",
        "        templ_format_instructions=templ_format_instructions\n",
        "\n",
        "    )\n",
        "\n",
        "    templ_response = llm(templ_messages)\n",
        "    print(templ_response.content)\n",
        "    if \"```json\" in templ_response.content:\n",
        "        templ_response = templ_response.content.split(\"```json\")[1].strip()\n",
        "\n",
        "        templ_response = templ_response.split(\"```\")[1].strip()\n",
        "    else:\n",
        "        templ_response = templ_response.content\n",
        "\n",
        "    print(templ_response)\n",
        "\n",
        "    templ_response_as_dict = templ_schema_output_templ.parse(templ_response)\n",
        "\n",
        "    return json.dumps(templ_response_as_dict)\n",
        "\n",
        "def process_request(request):\n",
        "    if request.method != 'POST':\n",
        "        return 'Only POST requests are accepted', 405\n",
        "\n",
        "    data = request.get_json()\n",
        "\n",
        "    # Directly get the values from the request data\n",
        "    Brand_Name = data.get('Brand_Name')\n",
        "    cta = data.get('CTA')\n",
        "    tone = data.get('Tone')\n",
        "    Product=data.get('Product')\n",
        "    product_description = data.get('Product Description')\n",
        "    Frontman = data.get('Frontman')\n",
        "    AD_Context = data.get('AD_Context')\n",
        "    Urgency_Scarcity_element = data.get('Urgency_Scarcity_element')\n",
        "    Emotion= data.get('Emotion')\n",
        "\n",
        "\n",
        "    # Check if all required parameters are present\n",
        "    if not all([Brand_Name, cta, tone, Product, product_description, Frontman, AD_Context, Urgency_Scarcity_element, Emotion]):\n",
        "        return json.dumps({'error': 'Bad input: Missing necessary fields'}), 400\n",
        "\n",
        "    try:\n",
        "        reformatted_data = reformat_market_research(data)\n",
        "    except Exception as e:\n",
        "        return json.dumps({'error': f'Error processing market research: {str(e)}'}), 500\n",
        "\n",
        "    return reformatted_data, 200\n"
      ]
    },
    {
      "cell_type": "code",
      "execution_count": null,
      "metadata": {
        "id": "fe4WdidYQJOD"
      },
      "outputs": [],
      "source": [
        "data={\n",
        "    \"Brand_Name\": \"Fanta\",\n",
        "    \"demographics\": \"Targeting a wide demographic range, including teenagers and young adults.\",\n",
        "    \"psychographics\": \"Appealing to consumers who enjoy fun, adventurous, and refreshing experiences.\",\n",
        "    \"fears\": \"No specific fears addressed.\",\n",
        "    \"desires\": \"Desire for exciting and unique flavor experiences.\",\n",
        "    \"obstacles\": \"Competition in the crowded soft drink market.\",\n",
        "    \"alternative_solutions\": \"Collaborate with influencers, launch a creative marketing campaign, and innovate in packaging.\",\n",
        "    \"trigger_events\": \"Upcoming summer season and popular outdoor events.\",\n",
        "    \"sad_diary\": \"No sad diary available for this positive product launch.\",\n",
        "    \"happy_diary\": \"Anticipation of a successful Fanta flavor launch and positive consumer feedback.\",\n",
        "    \"faq\": \"FAQs related to the new Fanta flavor and its availability.\",\n",
        "    \"Product\": \"New Fanta flavor 'Tropical Burst'\",\n",
        "    \"Product Description\": \"Tropical Burst is a vibrant and refreshing Fanta flavor inspired by exotic fruits from around the world.\",\n",
        "    \"Frontman\": \"Fanta's iconic character 'Fanta Man' to be the face of the campaign.\",\n",
        "    \"AD_Context\": \"Creative and visually appealing advertisements featuring beautiful tropical landscapes.\",\n",
        "    \"Urgency_Scarcity_element\": \"Limited edition release of 'Tropical Burst' for a short duration.\",\n",
        "    \"Emotion\": \"Evoke a sense of excitement, joy, and adventure.\",\n",
        "    \"CTA\": \"Encourage consumers to 'Experience the Burst' and purchase the new flavor.\",\n",
        "    \"Tone\": \"Fun, vibrant, and enthusiastic.\",\n",
        "    \"FAQ\":\"xyz\",\n",
        "    \"Old_input_output\": \"\"\"Dear Fanta Enthusiasts, We are thrilled to introduce our latest creation, a\n",
        "     flavor that's set to take your taste buds on a thrilling adventure - Fanta Tropical Burst! We understand your love for Fanta and your desire for exciting, unique, and refreshing experiences. With that in mind, we've carefully crafted Fanta Tropical Burst, a vibrant flavor inspired by exotic fruits from around the world. This flavor is a celebration of joy, adventure, and the spirit of Fanta. Cheers to a summer filled with adventure and flavor! Best regards,\"\"\",\n",
        "    \"output_name\": \"Email\",\n",
        "    \"Instruction\": \"explain in bullets. Keep in \"\n",
        "}\n"
      ]
    },
    {
      "cell_type": "code",
      "execution_count": null,
      "metadata": {
        "id": "urNW1qnoEpiS"
      },
      "outputs": [],
      "source": []
    },
    {
      "cell_type": "code",
      "execution_count": null,
      "metadata": {
        "colab": {
          "base_uri": "https://localhost:8080/",
          "height": 1000
        },
        "id": "Esvs2psOSIWX",
        "outputId": "9dcc265a-4c0f-41f7-cfc2-d1ad9198e4e5"
      },
      "outputs": [
        {
          "name": "stdout",
          "output_type": "stream",
          "text": [
            "```json\n",
            "{\n",
            "\t\"Regenerate_output\": \"Hey there, Fanta Fans! 🎉\\n\\nGet ready to *Experience the Burst* with our newest sensation - Fanta Tropical Burst! This isn't just any flavor; it's a fun-filled, vibrant journey for your palate, inspired by the most exotic fruits from every corner of the globe. 🍍🥭🍉\\n\\nWhy settle for the ordinary when you can indulge in the extraordinary? Fanta Tropical Burst is here to shake things up for teenagers and young adults alike, and for anyone who's young at heart and ready for an adventure. 🌴✨\\n\\n- **CTA**: Dive into the excitement and grab your own Fanta Tropical Burst today!\\n- **Tone**: We're talking all-caps FUN, a splash of VIBRANCE, and a whole lot of ENTHUSIASM!\\n- **Product Description**: Fanta Tropical Burst - A symphony of flavors that's as vibrant and refreshing as a tropical paradise.\\n- **Demographics**: Whether you're a teen or just young at heart, this flavor's for you!\\n- **Psychographics**: For the thrill-seekers and flavor adventurers who crave a refreshing escape.\\n- **Desires**: You wanted something thrilling and unique - we heard you loud and clear!\\n- **Obstacles**: Sure, there's a sea of soft drinks out there, but none with the Fanta Tropical Burst's exotic twist.\\n- **Alternative Solutions**: We're teaming up with cool influencers, rolling out eye-catching campaigns, and introducing innovative packaging to stand out.\\n- **Trigger Events**: Perfect timing with the summer vibes and outdoor fun just around the corner!\\n- **Happy Diary**: We're bubbling with excitement for the splash Fanta Tropical Burst is about to make - and we can't wait for you to join the celebration!\\n\\nGot questions? Hit us up with your 'xyz' and we'll keep the good times rolling!\\n\\nStay Vibrant,\\nThe Fanta Team 🌞🌈\"\n",
            "}\n",
            "```\n",
            "\n"
          ]
        },
        {
          "ename": "OutputParserException",
          "evalue": "ignored",
          "output_type": "error",
          "traceback": [
            "\u001b[0;31m---------------------------------------------------------------------------\u001b[0m",
            "\u001b[0;31mJSONDecodeError\u001b[0m                           Traceback (most recent call last)",
            "\u001b[0;32m/usr/local/lib/python3.10/dist-packages/langchain/output_parsers/json.py\u001b[0m in \u001b[0;36mparse_and_check_json_markdown\u001b[0;34m(text, expected_keys)\u001b[0m\n\u001b[1;32m    162\u001b[0m     \u001b[0;32mtry\u001b[0m\u001b[0;34m:\u001b[0m\u001b[0;34m\u001b[0m\u001b[0;34m\u001b[0m\u001b[0m\n\u001b[0;32m--> 163\u001b[0;31m         \u001b[0mjson_obj\u001b[0m \u001b[0;34m=\u001b[0m \u001b[0mparse_json_markdown\u001b[0m\u001b[0;34m(\u001b[0m\u001b[0mtext\u001b[0m\u001b[0;34m)\u001b[0m\u001b[0;34m\u001b[0m\u001b[0;34m\u001b[0m\u001b[0m\n\u001b[0m\u001b[1;32m    164\u001b[0m     \u001b[0;32mexcept\u001b[0m \u001b[0mjson\u001b[0m\u001b[0;34m.\u001b[0m\u001b[0mJSONDecodeError\u001b[0m \u001b[0;32mas\u001b[0m \u001b[0me\u001b[0m\u001b[0;34m:\u001b[0m\u001b[0;34m\u001b[0m\u001b[0;34m\u001b[0m\u001b[0m\n",
            "\u001b[0;32m/usr/local/lib/python3.10/dist-packages/langchain/output_parsers/json.py\u001b[0m in \u001b[0;36mparse_json_markdown\u001b[0;34m(json_string, parser)\u001b[0m\n\u001b[1;32m    144\u001b[0m     \u001b[0;31m# Parse the JSON string into a Python dictionary\u001b[0m\u001b[0;34m\u001b[0m\u001b[0;34m\u001b[0m\u001b[0m\n\u001b[0;32m--> 145\u001b[0;31m     \u001b[0mparsed\u001b[0m \u001b[0;34m=\u001b[0m \u001b[0mparser\u001b[0m\u001b[0;34m(\u001b[0m\u001b[0mjson_str\u001b[0m\u001b[0;34m)\u001b[0m\u001b[0;34m\u001b[0m\u001b[0;34m\u001b[0m\u001b[0m\n\u001b[0m\u001b[1;32m    146\u001b[0m \u001b[0;34m\u001b[0m\u001b[0m\n",
            "\u001b[0;32m/usr/lib/python3.10/json/__init__.py\u001b[0m in \u001b[0;36mloads\u001b[0;34m(s, cls, object_hook, parse_float, parse_int, parse_constant, object_pairs_hook, **kw)\u001b[0m\n\u001b[1;32m    345\u001b[0m             parse_constant is None and object_pairs_hook is None and not kw):\n\u001b[0;32m--> 346\u001b[0;31m         \u001b[0;32mreturn\u001b[0m \u001b[0m_default_decoder\u001b[0m\u001b[0;34m.\u001b[0m\u001b[0mdecode\u001b[0m\u001b[0;34m(\u001b[0m\u001b[0ms\u001b[0m\u001b[0;34m)\u001b[0m\u001b[0;34m\u001b[0m\u001b[0;34m\u001b[0m\u001b[0m\n\u001b[0m\u001b[1;32m    347\u001b[0m     \u001b[0;32mif\u001b[0m \u001b[0mcls\u001b[0m \u001b[0;32mis\u001b[0m \u001b[0;32mNone\u001b[0m\u001b[0;34m:\u001b[0m\u001b[0;34m\u001b[0m\u001b[0;34m\u001b[0m\u001b[0m\n",
            "\u001b[0;32m/usr/lib/python3.10/json/decoder.py\u001b[0m in \u001b[0;36mdecode\u001b[0;34m(self, s, _w)\u001b[0m\n\u001b[1;32m    336\u001b[0m         \"\"\"\n\u001b[0;32m--> 337\u001b[0;31m         \u001b[0mobj\u001b[0m\u001b[0;34m,\u001b[0m \u001b[0mend\u001b[0m \u001b[0;34m=\u001b[0m \u001b[0mself\u001b[0m\u001b[0;34m.\u001b[0m\u001b[0mraw_decode\u001b[0m\u001b[0;34m(\u001b[0m\u001b[0ms\u001b[0m\u001b[0;34m,\u001b[0m \u001b[0midx\u001b[0m\u001b[0;34m=\u001b[0m\u001b[0m_w\u001b[0m\u001b[0;34m(\u001b[0m\u001b[0ms\u001b[0m\u001b[0;34m,\u001b[0m \u001b[0;36m0\u001b[0m\u001b[0;34m)\u001b[0m\u001b[0;34m.\u001b[0m\u001b[0mend\u001b[0m\u001b[0;34m(\u001b[0m\u001b[0;34m)\u001b[0m\u001b[0;34m)\u001b[0m\u001b[0;34m\u001b[0m\u001b[0;34m\u001b[0m\u001b[0m\n\u001b[0m\u001b[1;32m    338\u001b[0m         \u001b[0mend\u001b[0m \u001b[0;34m=\u001b[0m \u001b[0m_w\u001b[0m\u001b[0;34m(\u001b[0m\u001b[0ms\u001b[0m\u001b[0;34m,\u001b[0m \u001b[0mend\u001b[0m\u001b[0;34m)\u001b[0m\u001b[0;34m.\u001b[0m\u001b[0mend\u001b[0m\u001b[0;34m(\u001b[0m\u001b[0;34m)\u001b[0m\u001b[0;34m\u001b[0m\u001b[0;34m\u001b[0m\u001b[0m\n",
            "\u001b[0;32m/usr/lib/python3.10/json/decoder.py\u001b[0m in \u001b[0;36mraw_decode\u001b[0;34m(self, s, idx)\u001b[0m\n\u001b[1;32m    354\u001b[0m         \u001b[0;32mexcept\u001b[0m \u001b[0mStopIteration\u001b[0m \u001b[0;32mas\u001b[0m \u001b[0merr\u001b[0m\u001b[0;34m:\u001b[0m\u001b[0;34m\u001b[0m\u001b[0;34m\u001b[0m\u001b[0m\n\u001b[0;32m--> 355\u001b[0;31m             \u001b[0;32mraise\u001b[0m \u001b[0mJSONDecodeError\u001b[0m\u001b[0;34m(\u001b[0m\u001b[0;34m\"Expecting value\"\u001b[0m\u001b[0;34m,\u001b[0m \u001b[0ms\u001b[0m\u001b[0;34m,\u001b[0m \u001b[0merr\u001b[0m\u001b[0;34m.\u001b[0m\u001b[0mvalue\u001b[0m\u001b[0;34m)\u001b[0m \u001b[0;32mfrom\u001b[0m \u001b[0;32mNone\u001b[0m\u001b[0;34m\u001b[0m\u001b[0;34m\u001b[0m\u001b[0m\n\u001b[0m\u001b[1;32m    356\u001b[0m         \u001b[0;32mreturn\u001b[0m \u001b[0mobj\u001b[0m\u001b[0;34m,\u001b[0m \u001b[0mend\u001b[0m\u001b[0;34m\u001b[0m\u001b[0;34m\u001b[0m\u001b[0m\n",
            "\u001b[0;31mJSONDecodeError\u001b[0m: Expecting value: line 1 column 1 (char 0)",
            "\nDuring handling of the above exception, another exception occurred:\n",
            "\u001b[0;31mOutputParserException\u001b[0m                     Traceback (most recent call last)",
            "\u001b[0;32m<ipython-input-71-dfd57245de41>\u001b[0m in \u001b[0;36m<cell line: 1>\u001b[0;34m()\u001b[0m\n\u001b[0;32m----> 1\u001b[0;31m \u001b[0mreformat_market_research\u001b[0m\u001b[0;34m(\u001b[0m\u001b[0mdata\u001b[0m\u001b[0;34m)\u001b[0m\u001b[0;34m\u001b[0m\u001b[0;34m\u001b[0m\u001b[0m\n\u001b[0m",
            "\u001b[0;32m<ipython-input-69-e98c5c6d512b>\u001b[0m in \u001b[0;36mreformat_market_research\u001b[0;34m(data)\u001b[0m\n\u001b[1;32m     62\u001b[0m     \u001b[0mprint\u001b[0m\u001b[0;34m(\u001b[0m\u001b[0mtempl_response\u001b[0m\u001b[0;34m)\u001b[0m\u001b[0;34m\u001b[0m\u001b[0;34m\u001b[0m\u001b[0m\n\u001b[1;32m     63\u001b[0m \u001b[0;34m\u001b[0m\u001b[0m\n\u001b[0;32m---> 64\u001b[0;31m     \u001b[0mtempl_response_as_dict\u001b[0m \u001b[0;34m=\u001b[0m \u001b[0mtempl_schema_output_templ\u001b[0m\u001b[0;34m.\u001b[0m\u001b[0mparse\u001b[0m\u001b[0;34m(\u001b[0m\u001b[0mtempl_response\u001b[0m\u001b[0;34m)\u001b[0m\u001b[0;34m\u001b[0m\u001b[0;34m\u001b[0m\u001b[0m\n\u001b[0m\u001b[1;32m     65\u001b[0m \u001b[0;34m\u001b[0m\u001b[0m\n\u001b[1;32m     66\u001b[0m     \u001b[0;32mreturn\u001b[0m \u001b[0mjson\u001b[0m\u001b[0;34m.\u001b[0m\u001b[0mdumps\u001b[0m\u001b[0;34m(\u001b[0m\u001b[0mtempl_response_as_dict\u001b[0m\u001b[0;34m)\u001b[0m\u001b[0;34m\u001b[0m\u001b[0;34m\u001b[0m\u001b[0m\n",
            "\u001b[0;32m/usr/local/lib/python3.10/dist-packages/langchain/output_parsers/structured.py\u001b[0m in \u001b[0;36mparse\u001b[0;34m(self, text)\u001b[0m\n\u001b[1;32m     94\u001b[0m     \u001b[0;32mdef\u001b[0m \u001b[0mparse\u001b[0m\u001b[0;34m(\u001b[0m\u001b[0mself\u001b[0m\u001b[0;34m,\u001b[0m \u001b[0mtext\u001b[0m\u001b[0;34m:\u001b[0m \u001b[0mstr\u001b[0m\u001b[0;34m)\u001b[0m \u001b[0;34m->\u001b[0m \u001b[0mAny\u001b[0m\u001b[0;34m:\u001b[0m\u001b[0;34m\u001b[0m\u001b[0;34m\u001b[0m\u001b[0m\n\u001b[1;32m     95\u001b[0m         \u001b[0mexpected_keys\u001b[0m \u001b[0;34m=\u001b[0m \u001b[0;34m[\u001b[0m\u001b[0mrs\u001b[0m\u001b[0;34m.\u001b[0m\u001b[0mname\u001b[0m \u001b[0;32mfor\u001b[0m \u001b[0mrs\u001b[0m \u001b[0;32min\u001b[0m \u001b[0mself\u001b[0m\u001b[0;34m.\u001b[0m\u001b[0mresponse_schemas\u001b[0m\u001b[0;34m]\u001b[0m\u001b[0;34m\u001b[0m\u001b[0;34m\u001b[0m\u001b[0m\n\u001b[0;32m---> 96\u001b[0;31m         \u001b[0;32mreturn\u001b[0m \u001b[0mparse_and_check_json_markdown\u001b[0m\u001b[0;34m(\u001b[0m\u001b[0mtext\u001b[0m\u001b[0;34m,\u001b[0m \u001b[0mexpected_keys\u001b[0m\u001b[0;34m)\u001b[0m\u001b[0;34m\u001b[0m\u001b[0;34m\u001b[0m\u001b[0m\n\u001b[0m\u001b[1;32m     97\u001b[0m \u001b[0;34m\u001b[0m\u001b[0m\n\u001b[1;32m     98\u001b[0m     \u001b[0;34m@\u001b[0m\u001b[0mproperty\u001b[0m\u001b[0;34m\u001b[0m\u001b[0;34m\u001b[0m\u001b[0m\n",
            "\u001b[0;32m/usr/local/lib/python3.10/dist-packages/langchain/output_parsers/json.py\u001b[0m in \u001b[0;36mparse_and_check_json_markdown\u001b[0;34m(text, expected_keys)\u001b[0m\n\u001b[1;32m    163\u001b[0m         \u001b[0mjson_obj\u001b[0m \u001b[0;34m=\u001b[0m \u001b[0mparse_json_markdown\u001b[0m\u001b[0;34m(\u001b[0m\u001b[0mtext\u001b[0m\u001b[0;34m)\u001b[0m\u001b[0;34m\u001b[0m\u001b[0;34m\u001b[0m\u001b[0m\n\u001b[1;32m    164\u001b[0m     \u001b[0;32mexcept\u001b[0m \u001b[0mjson\u001b[0m\u001b[0;34m.\u001b[0m\u001b[0mJSONDecodeError\u001b[0m \u001b[0;32mas\u001b[0m \u001b[0me\u001b[0m\u001b[0;34m:\u001b[0m\u001b[0;34m\u001b[0m\u001b[0;34m\u001b[0m\u001b[0m\n\u001b[0;32m--> 165\u001b[0;31m         \u001b[0;32mraise\u001b[0m \u001b[0mOutputParserException\u001b[0m\u001b[0;34m(\u001b[0m\u001b[0;34mf\"Got invalid JSON object. Error: {e}\"\u001b[0m\u001b[0;34m)\u001b[0m\u001b[0;34m\u001b[0m\u001b[0;34m\u001b[0m\u001b[0m\n\u001b[0m\u001b[1;32m    166\u001b[0m     \u001b[0;32mfor\u001b[0m \u001b[0mkey\u001b[0m \u001b[0;32min\u001b[0m \u001b[0mexpected_keys\u001b[0m\u001b[0;34m:\u001b[0m\u001b[0;34m\u001b[0m\u001b[0;34m\u001b[0m\u001b[0m\n\u001b[1;32m    167\u001b[0m         \u001b[0;32mif\u001b[0m \u001b[0mkey\u001b[0m \u001b[0;32mnot\u001b[0m \u001b[0;32min\u001b[0m \u001b[0mjson_obj\u001b[0m\u001b[0;34m:\u001b[0m\u001b[0;34m\u001b[0m\u001b[0;34m\u001b[0m\u001b[0m\n",
            "\u001b[0;31mOutputParserException\u001b[0m: Got invalid JSON object. Error: Expecting value: line 1 column 1 (char 0)"
          ]
        }
      ],
      "source": [
        "reformat_market_research(data)"
      ]
    },
    {
      "cell_type": "code",
      "execution_count": null,
      "metadata": {
        "id": "Vba6wyDFSOyQ"
      },
      "outputs": [],
      "source": [
        "content=\"Dear Fanta Fans, Get ready to \\'Experience the Burst\\' with our brand new flavor - Fanta Tropical Burst! \\\\ud83c\\\\udf79\\\\ud83c\\\\udf34 We\\'ve crafted this vibrant and refreshing flavor, inspired by exotic fruits from around the world, just for you. We know you crave unique and exciting flavor experiences and we\\'re here to deliver. \\\\ud83c\\\\udf0d\\\\ud83c\\\\udf4a As we approach the summer season, we can\\'t wait for you to enjoy this tropical delight at all your favorite outdoor events. \\\\ud83c\\\\udf1e\\\\ud83c\\\\udf89 We\\'re excited to hear your feedback and see Fanta Tropical Burst become your new favorite. So, what are you waiting for? Dive into the tropical adventure today! \\\\ud83c\\\\udf0a\\\\ud83c\\\\udfd6\\\\ufe0f Cheers to a fun, adventurous, and flavor-filled summer! \\\\ud83e\\\\udd42\\\\ud83c\\\\udf88 Best regards, The Fanta Team\""
      ]
    },
    {
      "cell_type": "code",
      "execution_count": null,
      "metadata": {
        "colab": {
          "base_uri": "https://localhost:8080/"
        },
        "id": "rOE52QQuULh1",
        "outputId": "f6ca840e-9c43-4ba0-abbe-648cc16e917a"
      },
      "outputs": [
        {
          "name": "stdout",
          "output_type": "stream",
          "text": [
            "Dear Fanta Fans, Get ready to 'Experience the Burst' with our brand new flavor - Fanta Tropical Burst! \\ud83c\\udf79\\ud83c\\udf34 We've crafted this vibrant and refreshing flavor, inspired by exotic fruits from around the world, just for you. We know you crave unique and exciting flavor experiences and we're here to deliver. \\ud83c\\udf0d\\ud83c\\udf4a As we approach the summer season, we can't wait for you to enjoy this tropical delight at all your favorite outdoor events. \\ud83c\\udf1e\\ud83c\\udf89 We're excited to hear your feedback and see Fanta Tropical Burst become your new favorite. So, what are you waiting for? Dive into the tropical adventure today! \\ud83c\\udf0a\\ud83c\\udfd6\\ufe0f Cheers to a fun, adventurous, and flavor-filled summer! \\ud83e\\udd42\\ud83c\\udf88 Best regards, The Fanta Team\n"
          ]
        }
      ],
      "source": [
        "print(content)"
      ]
    },
    {
      "cell_type": "code",
      "execution_count": null,
      "metadata": {
        "colab": {
          "base_uri": "https://localhost:8080/",
          "height": 303
        },
        "id": "6OuaFNMGUNmY",
        "outputId": "5a6c2195-a00e-4940-bf65-dfd122a1eb1e"
      },
      "outputs": [
        {
          "ename": "JSONDecodeError",
          "evalue": "ignored",
          "output_type": "error",
          "traceback": [
            "\u001b[0;31m---------------------------------------------------------------------------\u001b[0m",
            "\u001b[0;31mJSONDecodeError\u001b[0m                           Traceback (most recent call last)",
            "\u001b[0;32m<ipython-input-46-ce50fd190fbc>\u001b[0m in \u001b[0;36m<cell line: 1>\u001b[0;34m()\u001b[0m\n\u001b[0;32m----> 1\u001b[0;31m \u001b[0mcontent_as_dict\u001b[0m \u001b[0;34m=\u001b[0m \u001b[0mjson\u001b[0m\u001b[0;34m.\u001b[0m\u001b[0mloads\u001b[0m\u001b[0;34m(\u001b[0m\u001b[0mcontent\u001b[0m\u001b[0;34m)\u001b[0m\u001b[0;34m\u001b[0m\u001b[0;34m\u001b[0m\u001b[0m\n\u001b[0m",
            "\u001b[0;32m/usr/lib/python3.10/json/__init__.py\u001b[0m in \u001b[0;36mloads\u001b[0;34m(s, cls, object_hook, parse_float, parse_int, parse_constant, object_pairs_hook, **kw)\u001b[0m\n\u001b[1;32m    344\u001b[0m             \u001b[0mparse_int\u001b[0m \u001b[0;32mis\u001b[0m \u001b[0;32mNone\u001b[0m \u001b[0;32mand\u001b[0m \u001b[0mparse_float\u001b[0m \u001b[0;32mis\u001b[0m \u001b[0;32mNone\u001b[0m \u001b[0;32mand\u001b[0m\u001b[0;34m\u001b[0m\u001b[0;34m\u001b[0m\u001b[0m\n\u001b[1;32m    345\u001b[0m             parse_constant is None and object_pairs_hook is None and not kw):\n\u001b[0;32m--> 346\u001b[0;31m         \u001b[0;32mreturn\u001b[0m \u001b[0m_default_decoder\u001b[0m\u001b[0;34m.\u001b[0m\u001b[0mdecode\u001b[0m\u001b[0;34m(\u001b[0m\u001b[0ms\u001b[0m\u001b[0;34m)\u001b[0m\u001b[0;34m\u001b[0m\u001b[0;34m\u001b[0m\u001b[0m\n\u001b[0m\u001b[1;32m    347\u001b[0m     \u001b[0;32mif\u001b[0m \u001b[0mcls\u001b[0m \u001b[0;32mis\u001b[0m \u001b[0;32mNone\u001b[0m\u001b[0;34m:\u001b[0m\u001b[0;34m\u001b[0m\u001b[0;34m\u001b[0m\u001b[0m\n\u001b[1;32m    348\u001b[0m         \u001b[0mcls\u001b[0m \u001b[0;34m=\u001b[0m \u001b[0mJSONDecoder\u001b[0m\u001b[0;34m\u001b[0m\u001b[0;34m\u001b[0m\u001b[0m\n",
            "\u001b[0;32m/usr/lib/python3.10/json/decoder.py\u001b[0m in \u001b[0;36mdecode\u001b[0;34m(self, s, _w)\u001b[0m\n\u001b[1;32m    335\u001b[0m \u001b[0;34m\u001b[0m\u001b[0m\n\u001b[1;32m    336\u001b[0m         \"\"\"\n\u001b[0;32m--> 337\u001b[0;31m         \u001b[0mobj\u001b[0m\u001b[0;34m,\u001b[0m \u001b[0mend\u001b[0m \u001b[0;34m=\u001b[0m \u001b[0mself\u001b[0m\u001b[0;34m.\u001b[0m\u001b[0mraw_decode\u001b[0m\u001b[0;34m(\u001b[0m\u001b[0ms\u001b[0m\u001b[0;34m,\u001b[0m \u001b[0midx\u001b[0m\u001b[0;34m=\u001b[0m\u001b[0m_w\u001b[0m\u001b[0;34m(\u001b[0m\u001b[0ms\u001b[0m\u001b[0;34m,\u001b[0m \u001b[0;36m0\u001b[0m\u001b[0;34m)\u001b[0m\u001b[0;34m.\u001b[0m\u001b[0mend\u001b[0m\u001b[0;34m(\u001b[0m\u001b[0;34m)\u001b[0m\u001b[0;34m)\u001b[0m\u001b[0;34m\u001b[0m\u001b[0;34m\u001b[0m\u001b[0m\n\u001b[0m\u001b[1;32m    338\u001b[0m         \u001b[0mend\u001b[0m \u001b[0;34m=\u001b[0m \u001b[0m_w\u001b[0m\u001b[0;34m(\u001b[0m\u001b[0ms\u001b[0m\u001b[0;34m,\u001b[0m \u001b[0mend\u001b[0m\u001b[0;34m)\u001b[0m\u001b[0;34m.\u001b[0m\u001b[0mend\u001b[0m\u001b[0;34m(\u001b[0m\u001b[0;34m)\u001b[0m\u001b[0;34m\u001b[0m\u001b[0;34m\u001b[0m\u001b[0m\n\u001b[1;32m    339\u001b[0m         \u001b[0;32mif\u001b[0m \u001b[0mend\u001b[0m \u001b[0;34m!=\u001b[0m \u001b[0mlen\u001b[0m\u001b[0;34m(\u001b[0m\u001b[0ms\u001b[0m\u001b[0;34m)\u001b[0m\u001b[0;34m:\u001b[0m\u001b[0;34m\u001b[0m\u001b[0;34m\u001b[0m\u001b[0m\n",
            "\u001b[0;32m/usr/lib/python3.10/json/decoder.py\u001b[0m in \u001b[0;36mraw_decode\u001b[0;34m(self, s, idx)\u001b[0m\n\u001b[1;32m    353\u001b[0m             \u001b[0mobj\u001b[0m\u001b[0;34m,\u001b[0m \u001b[0mend\u001b[0m \u001b[0;34m=\u001b[0m \u001b[0mself\u001b[0m\u001b[0;34m.\u001b[0m\u001b[0mscan_once\u001b[0m\u001b[0;34m(\u001b[0m\u001b[0ms\u001b[0m\u001b[0;34m,\u001b[0m \u001b[0midx\u001b[0m\u001b[0;34m)\u001b[0m\u001b[0;34m\u001b[0m\u001b[0;34m\u001b[0m\u001b[0m\n\u001b[1;32m    354\u001b[0m         \u001b[0;32mexcept\u001b[0m \u001b[0mStopIteration\u001b[0m \u001b[0;32mas\u001b[0m \u001b[0merr\u001b[0m\u001b[0;34m:\u001b[0m\u001b[0;34m\u001b[0m\u001b[0;34m\u001b[0m\u001b[0m\n\u001b[0;32m--> 355\u001b[0;31m             \u001b[0;32mraise\u001b[0m \u001b[0mJSONDecodeError\u001b[0m\u001b[0;34m(\u001b[0m\u001b[0;34m\"Expecting value\"\u001b[0m\u001b[0;34m,\u001b[0m \u001b[0ms\u001b[0m\u001b[0;34m,\u001b[0m \u001b[0merr\u001b[0m\u001b[0;34m.\u001b[0m\u001b[0mvalue\u001b[0m\u001b[0;34m)\u001b[0m \u001b[0;32mfrom\u001b[0m \u001b[0;32mNone\u001b[0m\u001b[0;34m\u001b[0m\u001b[0;34m\u001b[0m\u001b[0m\n\u001b[0m\u001b[1;32m    356\u001b[0m         \u001b[0;32mreturn\u001b[0m \u001b[0mobj\u001b[0m\u001b[0;34m,\u001b[0m \u001b[0mend\u001b[0m\u001b[0;34m\u001b[0m\u001b[0;34m\u001b[0m\u001b[0m\n",
            "\u001b[0;31mJSONDecodeError\u001b[0m: Expecting value: line 1 column 1 (char 0)"
          ]
        }
      ],
      "source": [
        "content_as_dict = json.loads(content)\n"
      ]
    },
    {
      "cell_type": "code",
      "execution_count": null,
      "metadata": {
        "colab": {
          "base_uri": "https://localhost:8080/"
        },
        "id": "Tc3H4pGZVnkg",
        "outputId": "570d4e72-4bcb-45d3-ef9b-64c3e1224eaa"
      },
      "outputs": [
        {
          "name": "stdout",
          "output_type": "stream",
          "text": [
            "Please regenerate the email with the following instructions: \n",
            "- Use a captivating subject line that includes 'Tropical Burst' and hints at a new, exciting experience.\n",
            "- Start with a high-energy greeting that matches the fun and vibrant tone of the brand.\n",
            "- Introduce the new Fanta Tropical Burst flavor in the first paragraph, emphasizing its unique and exotic fruit inspiration.\n",
            "- Highlight the 'Experience the Burst' CTA early in the email, encouraging readers to try the new flavor.\n",
            "- Address the target demographic by mentioning how Tropical Burst fits into their adventurous and fun-loving lifestyle.\n",
            "- Overcome potential obstacles by differentiating Tropical Burst from other soft drinks on the market.\n",
            "- Mention the upcoming summer season and outdoor events as perfect occasions to enjoy Tropical Burst.\n",
            "- Include a special offer or promotion to incentivize the first purchase.\n",
            "- Close with an enthusiastic and optimistic tone, reflecting the happy diary sentiment.\n",
            "- Provide a FAQ section at the end to answer common questions about the new flavor.\n",
            "- Ensure the overall email is concise, engaging, and aligns with the Fanta brand voice.\n"
          ]
        }
      ],
      "source": [
        "print(\"Please regenerate the email with the following instructions: \\n- Use a captivating subject line that includes 'Tropical Burst' and hints at a new, exciting experience.\\n- Start with a high-energy greeting that matches the fun and vibrant tone of the brand.\\n- Introduce the new Fanta Tropical Burst flavor in the first paragraph, emphasizing its unique and exotic fruit inspiration.\\n- Highlight the 'Experience the Burst' CTA early in the email, encouraging readers to try the new flavor.\\n- Address the target demographic by mentioning how Tropical Burst fits into their adventurous and fun-loving lifestyle.\\n- Overcome potential obstacles by differentiating Tropical Burst from other soft drinks on the market.\\n- Mention the upcoming summer season and outdoor events as perfect occasions to enjoy Tropical Burst.\\n- Include a special offer or promotion to incentivize the first purchase.\\n- Close with an enthusiastic and optimistic tone, reflecting the happy diary sentiment.\\n- Provide a FAQ section at the end to answer common questions about the new flavor.\\n- Ensure the overall email is concise, engaging, and aligns with the Fanta brand voice.\")"
      ]
    },
    {
      "cell_type": "code",
      "execution_count": null,
      "metadata": {
        "id": "QkPxbIQUhZBd"
      },
      "outputs": [],
      "source": []
    },
    {
      "cell_type": "code",
      "execution_count": null,
      "metadata": {
        "id": "5r0nquYPhe4F"
      },
      "outputs": [],
      "source": []
    },
    {
      "cell_type": "markdown",
      "metadata": {
        "id": "8KiAlA-HhZWk"
      },
      "source": [
        "# Backend Workflow"
      ]
    },
    {
      "cell_type": "code",
      "execution_count": null,
      "metadata": {
        "id": "EpHhxfig1KJl"
      },
      "outputs": [],
      "source": []
    },
    {
      "cell_type": "markdown",
      "metadata": {
        "id": "QKKR_DdO1L9o"
      },
      "source": [
        "# Errror Resolved"
      ]
    },
    {
      "cell_type": "code",
      "execution_count": null,
      "metadata": {
        "id": "bUuxfQAe1Psk"
      },
      "outputs": [],
      "source": [
        "data={\n",
        "    \"Brand_Name\": \"Fanta\",\n",
        "    \"demographics\": \"Targeting a wide demographic range, including teenagers and young adults.\",\n",
        "    \"psychographics\": \"Appealing to consumers who enjoy fun, adventurous, and refreshing experiences.\",\n",
        "    \"fears\": \"No specific fears addressed.\",\n",
        "    \"desires\": \"Desire for exciting and unique flavor experiences.\",\n",
        "    \"obstacles\": \"Competition in the crowded soft drink market.\",\n",
        "    \"alternative_solutions\": \"Collaborate with influencers, launch a creative marketing campaign, and innovate in packaging.\",\n",
        "    \"trigger_events\": \"Upcoming summer season and popular outdoor events.\",\n",
        "    \"sad_diary\": \"No sad diary available for this positive product launch.\",\n",
        "    \"happy_diary\": \"Anticipation of a successful Fanta flavor launch and positive consumer feedback.\",\n",
        "    \"faq\": \"FAQs related to the new Fanta flavor and its availability.\",\n",
        "    \"Product\": \"New Fanta flavor 'Tropical Burst'\",\n",
        "    \"Product Description\": \"Tropical Burst is a vibrant and refreshing Fanta flavor inspired by exotic fruits from around the world.\",\n",
        "    \"Frontman\": \"Fanta's iconic character 'Fanta Man' to be the face of the campaign.\",\n",
        "    \"AD_Context\": \"Creative and visually appealing advertisements featuring beautiful tropical landscapes.\",\n",
        "    \"Urgency_Scarcity_element\": \"Limited edition release of 'Tropical Burst' for a short duration.\",\n",
        "    \"Emotion\": \"Evoke a sense of excitement, joy, and adventure.\",\n",
        "    \"CTA\": \"Encourage consumers to 'Experience the Burst' and purchase the new flavor.\",\n",
        "    \"Tone\": \"Fun, vibrant, and enthusiastic.\",\n",
        "    \"FAQ\":\"xyz\",\n",
        "    \"Old_input_output\": \"\"\"Dear Fanta Enthusiasts, We are thrilled to introduce our latest creation, a\n",
        "     flavor that's set to take your taste buds on a thrilling adventure - Fanta Tropical Burst! We understand your love for Fanta and your desire for exciting, unique, and refreshing experiences. With that in mind, we've carefully crafted Fanta Tropical Burst, a vibrant flavor inspired by exotic fruits from around the world. This flavor is a celebration of joy, adventure, and the spirit of Fanta. Cheers to a summer filled with adventure and flavor! Best regards,\"\"\",\n",
        "    \"output_name\": \"Email\",\n",
        "    \"Instruction\": \"explain in bullets. Keep in \"\n",
        "}\n",
        "selected_experience = ResponseSchema(\n",
        "  name=\"Regenerate_output\",\n",
        "  description=\"\"\"This will be the Improved regenerated output (Only Output)\"\"\")\n",
        "templ_response_schema = [selected_experience]\n",
        "templ_schema_output_templ = StructuredOutputParser.from_response_schemas(templ_response_schema)\n",
        "templ_format_instructions = templ_schema_output_templ.get_format_instructions()\n",
        "templ_template_string = f\"\"\"I am interested in Improving a response/output.\n",
        "Here is the output type: ```{data['output_name']}```.\n",
        "Here is the Previous output: ```{data['Old_input_output']}```.\n",
        "Here are instuctions to improve output: ```{data['Instruction']}```.\n",
        "    {templ_format_instructions}\n",
        "        \"\"\"\n",
        "templ_response = llm.predict(templ_template_string)\n",
        "templ_response_as_dict = templ_schema_output_templ.parse(templ_response)\n",
        "regenerate_output = templ_response_as_dict[\"Regenerate_output\"]\n",
        "print(regenerate_output)"
      ]
    },
    {
      "cell_type": "code",
      "execution_count": null,
      "metadata": {
        "id": "8xtoaEmsHPEx"
      },
      "outputs": [],
      "source": [
        " content='```json\\n{\\n\\t\"demographics\": [\\n\\t\\t\"Age Range: Ideal buyers are likely to be between 25-45 years old. This age group is typically involved in household purchasing decisions and is tech-savvy enough to use e-commerce platforms.\",\\n\\t\\t\"Occupation: The target market includes working professionals, homemakers, and students who are likely to seek convenience in shopping for everyday essentials.\",\\n\\t\\t\"Annual Income: Target customers are likely to have a moderate to low annual income, ranging from $20,000 to $60,000, as they are looking for bulk discounts to save money.\",\\n\\t\\t\"Marital Status: Both single and married individuals are included, with a slight inclination towards those who are married or living with partners, as they are more likely to buy in bulk for their households.\",\\n\\t\\t\"Family Situation: The ideal buyer profile includes individuals with larger family units or shared living situations, such as roommates, who can collectively benefit from bulk purchases.\",\\n\\t\\t\"Location: Buyers are likely to be located in urban and suburban areas where e-commerce services are easily accessible and where there is a higher concentration of people willing to group buy.\"\\n\\t],\\n\\t\"psychographics\": [\\n\\t\\t\"Personal Traits: Budget-conscious, value-oriented, and tech-savvy individuals who are comfortable with online shopping and group buying concepts.\",\\n\\t\\t\"Hobbies: Likely to include activities that are family-oriented or involve group settings, such as community clubs or social gatherings.\",\\n\\t\\t\"Interests: Interested in savings, budgeting, and efficient household management. They may also show interest in cooking, as they purchase grocery items.\",\\n\\t\\t\"Personal Aspirations: Aspire to maintain a comfortable lifestyle while being financially savvy and reducing living costs.\",\\n\\t\\t\"Professional Goals: They may aim for stability and work-life balance, seeking ways to save time and money for personal and family growth.\",\\n\\t\\t\"Pains: Frustration with the rising cost of living and the challenge of managing household expenses on a tight budget.\",\\n\\t\\t\"Primary Challenges: Finding affordable options for quality everyday essentials and coordinating purchases with others to avail bulk discounts.\",\\n\\t\\t\"Dreams: Dream of achieving financial freedom and the ability to provide for their family without constant worry about expenses.\"\\n\\t],\\n\\t\"fears\": [\\n\\t\\t\"Fear of Financial Instability: Concerned that not finding affordable shopping options could lead to financial strain, impacting their ability to provide for their family.\",\\n\\t\\t\"Fear of Wasted Effort: Worried that time spent on finding deals and coordinating group purchases might not yield the expected savings.\",\\n\\t\\t\"Fear of Technological Barriers: Apprehensive about using an online platform for bulk purchases and the potential for fraud or security issues.\",\\n\\t\\t\"Fear of Social Judgment: Anxious about being judged by peers for being too frugal or not providing well enough for their household.\",\\n\\t\\t\"Fear of Missing Out: Concerned that they might miss out on deals or opportunities to save, leading to regret and self-reproach.\"\\n\\t],\\n\\t\"desires\": [\\n\\t\\t\"Desire for Financial Security: They wish to achieve a level of savings that allows them to feel secure and stable, impacting their family with a sense of well-being.\",\\n\\t\\t\"Desire for Social Recognition: They want to be acknowledged by their peers for being smart shoppers and financially savvy, enhancing their social standing.\",\\n\\t\\t\"Desire for Convenience: They hope for a shopping experience that is hassle-free and time-saving, allowing them more leisure or family time.\",\\n\\t\\t\"Desire for Quality of Life: They aspire to provide a comfortable lifestyle for their family without compromising on the quality of everyday essentials.\",\\n\\t\\t\"Desire for Community: They seek to be part of a community of like-minded individuals who share tips and strategies for efficient household management.\"\\n\\t],\\n\\t\"obstacles\": [\\n\\t\\t\"Reluctance to change shopping habits and try new platforms for purchasing essentials.\",\\n\\t\\t\"Concerns about the quality of products when buying at discounted or wholesale prices.\",\\n\\t\\t\"Difficulty in coordinating with others to form a group for bulk purchases.\",\\n\\t\\t\"Trust issues with online transactions and the security of personal and financial information.\",\\n\\t\\t\"Resistance to the idea of storing bulk purchases due to space constraints.\"\\n\\t],\\n\\t\"alternative_solutions\": [\\n\\t\\t\"Shopping at local discount stores, which may offer lower prices but not the convenience or variety of online shopping.\",\\n\\t\\t\"Using coupons and waiting for sales at traditional supermarkets, which can be time-consuming and less reliable.\",\\n\\t\\t\"Joining offline community buying clubs, which may lack the flexibility and ease of use of an online platform.\",\\n\\t\\t\"Buying from various online retailers without group discounts, which may not provide the same level of savings.\",\\n\\t\\t\"Attempting to negotiate discounts directly with stores, which is often not feasible for individual consumers.\"\\n\\t],\\n\\t\"trigger_events\": [\\n\\t\\t\"Moving to a new home where bulk purchases are necessary to stock up on essentials.\",\\n\\t\\t\"Experiencing a significant life event, such as marriage or the birth of a child, increasing the need for household items.\",\\n\\t\\t\"Encountering a financial setback that necessitates stricter budgeting and cost-saving measures.\",\\n\\t\\t\"Joining a community or social group where group buying is a common practice, encouraging them to participate.\",\\n\\t\\t\"Learning about the benefits of bulk purchasing from friends or family, sparking interest in trying it out.\"\\n\\t],\\n\\t\"sad_diary\": \"Dear Diary, Today I felt the weight of the world on my shoulders. The grocery bills are piling up, and no matter how much I try to cut corners, it never seems to be enough. I see the worry in my partner\\'s eyes, and it breaks my heart. We promised to provide the best for our kids, but the reality is harsh. I lay awake at night, wondering if there\\'s a better way to manage our household expenses. The fear of not being able to keep up with the rising costs of living is suffocating. I wish for a solution that could ease this burden, a way to make our hard-earned money stretch further without compromising on the quality of life we\\'ve worked so hard to build.\",\\n\\t\"happy_diary\": \"Dear Diary, What a difference a few months make! Ever since we discovered the joy of group buying on Deal Cart, our lives have transformed. The stress of managing household expenses has melted away, replaced by the thrill of getting the best deals on our everyday essentials. Our pantry is always stocked, and the savings are real. We\\'ve even started a small community group where we share tips and plan our bulk purchases together. It\\'s not just about the discounts; it\\'s about the sense of community and the shared joy of smart shopping. I go to bed with a smile, knowing we\\'re making the most of our resources.\",\\n\\t\"FAQ\": [\\n\\t\\t\"How does group buying on Deal Cart work?\",\\n\\t\\t\"Can I trust the quality of products when buying at wholesale prices?\",\\n\\t\\t\"What if I don\\'t have enough people to form a group for a purchase?\",\\n\\t\\t\"Is my personal and financial information secure when shopping on Deal Cart?\",\\n\\t\\t\"How much can I realistically save by using Deal Cart for my purchases?\",\\n\\t\\t\"Are there any membership fees or hidden costs associated with Deal Cart?\",\\n\\t\\t\"What happens if I\\'m not satisfied with my purchase?\",\\n\\t\\t\"How does Deal Cart handle returns and refunds?\",\\n\\t\\t\"Can I buy items individually, or do I have to participate in group buying?\",\\n\\t\\t\"What kind of products can I buy on Deal Cart, and are there any limits?\"\\n\\t]\\n}\\n```'\n"
      ]
    },
    {
      "cell_type": "code",
      "execution_count": null,
      "metadata": {
        "colab": {
          "base_uri": "https://localhost:8080/",
          "height": 123
        },
        "id": "o9kmIQ8ZHSZr",
        "outputId": "6be373b1-8bf6-4199-c7f8-67374206dab8"
      },
      "outputs": [
        {
          "data": {
            "application/vnd.google.colaboratory.intrinsic+json": {
              "type": "string"
            },
            "text/plain": [
              "'```json\\n{\\n\\t\"demographics\": [\\n\\t\\t\"Age Range: Ideal buyers are likely to be between 25-45 years old. This age group is typically involved in household purchasing decisions and is tech-savvy enough to use e-commerce platforms.\",\\n\\t\\t\"Occupation: The target market includes working professionals, homemakers, and students who are likely to seek convenience in shopping for everyday essentials.\",\\n\\t\\t\"Annual Income: Target customers are likely to have a moderate to low annual income, ranging from $20,000 to $60,000, as they are looking for bulk discounts to save money.\",\\n\\t\\t\"Marital Status: Both single and married individuals are included, with a slight inclination towards those who are married or living with partners, as they are more likely to buy in bulk for their households.\",\\n\\t\\t\"Family Situation: The ideal buyer profile includes individuals with larger family units or shared living situations, such as roommates, who can collectively benefit from bulk purchases.\",\\n\\t\\t\"Location: Buyers are likely to be located in urban and suburban areas where e-commerce services are easily accessible and where there is a higher concentration of people willing to group buy.\"\\n\\t],\\n\\t\"psychographics\": [\\n\\t\\t\"Personal Traits: Budget-conscious, value-oriented, and tech-savvy individuals who are comfortable with online shopping and group buying concepts.\",\\n\\t\\t\"Hobbies: Likely to include activities that are family-oriented or involve group settings, such as community clubs or social gatherings.\",\\n\\t\\t\"Interests: Interested in savings, budgeting, and efficient household management. They may also show interest in cooking, as they purchase grocery items.\",\\n\\t\\t\"Personal Aspirations: Aspire to maintain a comfortable lifestyle while being financially savvy and reducing living costs.\",\\n\\t\\t\"Professional Goals: They may aim for stability and work-life balance, seeking ways to save time and money for personal and family growth.\",\\n\\t\\t\"Pains: Frustration with the rising cost of living and the challenge of managing household expenses on a tight budget.\",\\n\\t\\t\"Primary Challenges: Finding affordable options for quality everyday essentials and coordinating purchases with others to avail bulk discounts.\",\\n\\t\\t\"Dreams: Dream of achieving financial freedom and the ability to provide for their family without constant worry about expenses.\"\\n\\t],\\n\\t\"fears\": [\\n\\t\\t\"Fear of Financial Instability: Concerned that not finding affordable shopping options could lead to financial strain, impacting their ability to provide for their family.\",\\n\\t\\t\"Fear of Wasted Effort: Worried that time spent on finding deals and coordinating group purchases might not yield the expected savings.\",\\n\\t\\t\"Fear of Technological Barriers: Apprehensive about using an online platform for bulk purchases and the potential for fraud or security issues.\",\\n\\t\\t\"Fear of Social Judgment: Anxious about being judged by peers for being too frugal or not providing well enough for their household.\",\\n\\t\\t\"Fear of Missing Out: Concerned that they might miss out on deals or opportunities to save, leading to regret and self-reproach.\"\\n\\t],\\n\\t\"desires\": [\\n\\t\\t\"Desire for Financial Security: They wish to achieve a level of savings that allows them to feel secure and stable, impacting their family with a sense of well-being.\",\\n\\t\\t\"Desire for Social Recognition: They want to be acknowledged by their peers for being smart shoppers and financially savvy, enhancing their social standing.\",\\n\\t\\t\"Desire for Convenience: They hope for a shopping experience that is hassle-free and time-saving, allowing them more leisure or family time.\",\\n\\t\\t\"Desire for Quality of Life: They aspire to provide a comfortable lifestyle for their family without compromising on the quality of everyday essentials.\",\\n\\t\\t\"Desire for Community: They seek to be part of a community of like-minded individuals who share tips and strategies for efficient household management.\"\\n\\t],\\n\\t\"obstacles\": [\\n\\t\\t\"Reluctance to change shopping habits and try new platforms for purchasing essentials.\",\\n\\t\\t\"Concerns about the quality of products when buying at discounted or wholesale prices.\",\\n\\t\\t\"Difficulty in coordinating with others to form a group for bulk purchases.\",\\n\\t\\t\"Trust issues with online transactions and the security of personal and financial information.\",\\n\\t\\t\"Resistance to the idea of storing bulk purchases due to space constraints.\"\\n\\t],\\n\\t\"alternative_solutions\": [\\n\\t\\t\"Shopping at local discount stores, which may offer lower prices but not the convenience or variety of online shopping.\",\\n\\t\\t\"Using coupons and waiting for sales at traditional supermarkets, which can be time-consuming and less reliable.\",\\n\\t\\t\"Joining offline community buying clubs, which may lack the flexibility and ease of use of an online platform.\",\\n\\t\\t\"Buying from various online retailers without group discounts, which may not provide the same level of savings.\",\\n\\t\\t\"Attempting to negotiate discounts directly with stores, which is often not feasible for individual consumers.\"\\n\\t],\\n\\t\"trigger_events\": [\\n\\t\\t\"Moving to a new home where bulk purchases are necessary to stock up on essentials.\",\\n\\t\\t\"Experiencing a significant life event, such as marriage or the birth of a child, increasing the need for household items.\",\\n\\t\\t\"Encountering a financial setback that necessitates stricter budgeting and cost-saving measures.\",\\n\\t\\t\"Joining a community or social group where group buying is a common practice, encouraging them to participate.\",\\n\\t\\t\"Learning about the benefits of bulk purchasing from friends or family, sparking interest in trying it out.\"\\n\\t],\\n\\t\"sad_diary\": \"Dear Diary, Today I felt the weight of the world on my shoulders. The grocery bills are piling up, and no matter how much I try to cut corners, it never seems to be enough. I see the worry in my partner\\'s eyes, and it breaks my heart. We promised to provide the best for our kids, but the reality is harsh. I lay awake at night, wondering if there\\'s a better way to manage our household expenses. The fear of not being able to keep up with the rising costs of living is suffocating. I wish for a solution that could ease this burden, a way to make our hard-earned money stretch further without compromising on the quality of life we\\'ve worked so hard to build.\",\\n\\t\"happy_diary\": \"Dear Diary, What a difference a few months make! Ever since we discovered the joy of group buying on Deal Cart, our lives have transformed. The stress of managing household expenses has melted away, replaced by the thrill of getting the best deals on our everyday essentials. Our pantry is always stocked, and the savings are real. We\\'ve even started a small community group where we share tips and plan our bulk purchases together. It\\'s not just about the discounts; it\\'s about the sense of community and the shared joy of smart shopping. I go to bed with a smile, knowing we\\'re making the most of our resources.\",\\n\\t\"FAQ\": [\\n\\t\\t\"How does group buying on Deal Cart work?\",\\n\\t\\t\"Can I trust the quality of products when buying at wholesale prices?\",\\n\\t\\t\"What if I don\\'t have enough people to form a group for a purchase?\",\\n\\t\\t\"Is my personal and financial information secure when shopping on Deal Cart?\",\\n\\t\\t\"How much can I realistically save by using Deal Cart for my purchases?\",\\n\\t\\t\"Are there any membership fees or hidden costs associated with Deal Cart?\",\\n\\t\\t\"What happens if I\\'m not satisfied with my purchase?\",\\n\\t\\t\"How does Deal Cart handle returns and refunds?\",\\n\\t\\t\"Can I buy items individually, or do I have to participate in group buying?\",\\n\\t\\t\"What kind of products can I buy on Deal Cart, and are there any limits?\"\\n\\t]\\n}\\n```'"
            ]
          },
          "execution_count": 6,
          "metadata": {},
          "output_type": "execute_result"
        }
      ],
      "source": [
        "content"
      ]
    },
    {
      "cell_type": "code",
      "execution_count": null,
      "metadata": {
        "id": "-Jm7eL_aHaLN"
      },
      "outputs": [],
      "source": []
    },
    {
      "cell_type": "code",
      "execution_count": null,
      "metadata": {
        "id": "6gSaS295w6--"
      },
      "outputs": [],
      "source": []
    },
    {
      "cell_type": "markdown",
      "metadata": {
        "id": "ApBDtncIw7eM"
      },
      "source": [
        "# Backend Workflow"
      ]
    },
    {
      "cell_type": "code",
      "execution_count": null,
      "metadata": {
        "id": "pwqJ8FWDw-HE"
      },
      "outputs": [],
      "source": [
        "import os\n",
        "import json\n",
        "from langchain.chat_models import ChatOpenAI\n",
        "from langchain.output_parsers import ResponseSchema, StructuredOutputParser\n",
        "from langchain.prompts import ChatPromptTemplate\n",
        "import requests\n",
        "from textwrap import dedent\n",
        "\n",
        "\n",
        "# Define format_instructions before using it in the template_string\n",
        "\n",
        "llm = ChatOpenAI(model_name=\"gpt-4-1106-preview\", temperature=0.2, openai_api_key=\"sk-Your Key\")\n",
        "\n",
        "# ...\n",
        "\n",
        "\n",
        "def reformat_market_research(Brand_Name, Product, Problem_Solved, Industry, Target_Market, Problem, Dream_Situation,Value_Proposition):\n",
        "    # rest of your code\n",
        "\n",
        "    response_schema=[\n",
        "    ResponseSchema(name=\"demographics\", description=f\"\"\"It is very important to show output in numbering form in a list instead of paragraph form. very important information is to include subheadings.and also to use numbering between subheadings to separate them.DO NOT show answer in paragraph continous form but rather in a numbering list form. please note that the word count should be a minimum of 300 words.Provide the demographic details of \"{Brand_Name}\" such as Age, Income, and Relationship Status. Based on this information provided for inputs for market research, I want you to create an ideal buyer for this company and also perform an analysis on the demographic data of this market, behaving as if you were an analyst. Your response should contain the following information about the target market: age range, occupation, annual income, marital status, family situation, location. Be thorough in your response and dig as deep as possible. An good output example is \"Demographic Data:\n",
        "1. Age Group\n",
        "   Ages ranging from 30 to 60 years old. It is assumed that entrepreneurs or managers of SMEs with a workforce of 10-100 employees are in the full maturity of their careers or are starting/managing a family business, so they may have started at a relatively young age or acquired skills and resources over the years.\n",
        "2. Occupation\n",
        "   Owners of SMEs, CEOs, HR Managers, and business consultants operating in various sectors other than construction and agriculture.\n",
        "3. Annual Income\n",
        "    Variable depending on the sector and the size of the company, but we can estimate an annual income ranging from €50,000 to €500,000. This range takes into account both SMEs in the startup phase with more modest earnings and established ones in growth with significantly higher incomes.\n",
        "4. Marital Status\n",
        "    Married individuals or those in a stable relationship may prevail, given their age group and greater propensity for taking business risks with family support. However, there will also be single or divorced entrepreneurs in our segmentation.\n",
        "5. Family Situation\n",
        "    Many of these individuals may have families with children. This could influence their need for financial stability and their willingness to optimize business costs.\n",
        "6. Location\n",
        "    Mainly in urban or peri-urban areas, where SMEs are more likely to be concentrated. These areas offer access to a larger workforce, infrastructure, and markets. It may also consider a radius of 50-100 km from major Italian cities since many SMEs may be located in industrial areas just outside major metropolitan areas.\"\"\"),\n",
        "        ResponseSchema(name=\"psychographics\", description=f\"\"\"I want you to create the psychographic profile of the ideal buyer for the company. It is very important to show output in numbering form in a list instead of paragraph form. and very Important is also to include subheadings. also use numbering between subheadings.DO NOT show answer in paragraph continous form but rather in a numbering list form.please note that he word count should be a minimum of 300 words.Based on the information in market research, perform an analysis on the psychographic data of this market. Provide all the information you deem necessary and that will be useful for creating an effective marketing campaign.Your response should contain the following information about the target market: Personal traits, Hobbies, Interests, Personal aspirations, Professional goals, Pains, Primary challenges, Dreams. Do not provide mediocre or superficial answers. Be comprehensive in your response and dig as deeply as possible. A good output example is Psychographic Data:\n",
        "1. Personal Traits\n",
        "    Decision-makers As owners or executives, they are accustomed to making significant decisions for the company.\n",
        "    Problem-solvers They seek concrete solutions to business problems.\n",
        "    Visionaries They look to the future and are always on the lookout for growth opportunities.\n",
        "    Responsible They feel the weight of responsibilities towards their employees and the company.\n",
        "    Pragmatic They carefully assess the cost-benefit ratio when making decisions.\n",
        "2. Hobbies\n",
        "    Reading industry books or magazines to stay updated on the market.\n",
        "    Networking through industry events or workshops.\n",
        "    Travel, both for business and leisure.\n",
        "    Sports or relaxation activities to balance work-related stress.\n",
        "3. Interests\n",
        "    Innovation and technologies that can improve business efficiency.\n",
        "    Personal development and training.\n",
        "    Leadership and personnel management strategies.\n",
        "    Market trends and competitive analysis.\n",
        "4. Personal Aspirations\n",
        "    Financial stability and well-being for themselves and their families.\n",
        "    Personal and professional growth.\n",
        "    Recognition in their industry as leaders or references.\n",
        "5. Professional Goals\n",
        "    Expanding and consolidating the company in the market.\n",
        "    Cost optimization and profit maximization.\n",
        "    Creating a stable and productive work environment.\n",
        "    Effective management of labor relations and prevention of disputes.\n",
        "6. Pains\n",
        "    Concerns about liquidity and financial sustainability.\n",
        "    Complex management of employee relationships and contracts.\n",
        "    Fear of making wrong decisions that could compromise the company.\n",
        "    Stress related to potential labor disputes.\n",
        "7. Primary Challenges\n",
        "    Navigating a continuously evolving market and variable economic conditions.\n",
        "    Recruiting and retaining talent.\n",
        "    Balancing the company's immediate needs with long-term goals.\n",
        "    Maintaining a balance between employee expectations and the company's financial capabilities.\n",
        "8. Dreams\n",
        "    Seeing their company thrive and become a reference point in their industry.\n",
        "    Leaving a lasting legacy, whether it's a solid company or a tangible symbol of their success.\n",
        "    Making a positive impact on the community or the industry as a whole.\n",
        "    Reaching a position where they can enjoy the fruits of their hard work, perhaps with less daily stress.\"\"\"),\n",
        "        ResponseSchema(name=\"fears\", description=\"\"\"Vividly describe 5 fears that the buyer persona has regarding their problem and what would happen if they didn't address it.It is very important to show output in numbering form in a list instead of paragraph form.Also very important to also include subheadings. also use numbering between subheadings.please note that he word count should be a minimum of 300 words.DO NOT show answer in paragraph continous form but rather in a numbering list form. I don't want boring or superficial answers. Tell me the deepest fears that the buyer persona wouldn't admit out loud unless they were heard by others. Fears that often keep them awake at night.For each fear, give me specific examples of how each of these 5 fears would impact their relationships. Be vivid, descriptive, and emotional.What impact would these fears if realized have on the people surrounding the buyer persona? In the worst case, how would these people treat her? Good examples are 1. Fear of Bankruptcy\n",
        "    Description The overriding concern that excessive costs and poor employee contract management could lead the company to bankruptcy.\n",
        "    Impact on relationships. If the company were to close, all employees would lose their jobs, causing anger and disappointment. Friends and family might start seeing them as a \"failure\" or someone incapable of running a business. This could lead to tensions in family relationships and distancing from old friends and colleagues.\n",
        "    How they would be treated. They might avoid talking to them, consider them a loser, or blame them for the loss of their income and benefits.\n",
        "2. Fear of Losing Control\n",
        "    Description The overwhelming feeling of not being able to control the situation, feeling overwhelmed by events.\n",
        "    Impact on relationships Their inability to manage finances and contracts could lead them to appear stressed or irritable, damaging relationships with employees, partners, and family.\n",
        "    How they would be treated They would see them as an incapable boss, generating distrust and resentment. Family members might become protective or condescending, treating them as someone vulnerable.\n",
        "3. Fear of Social Judgment\n",
        "    Description Concern about being harshly judged by colleagues, competitors, and even friends and family for failing to manage the business properly.\n",
        "    Impact on relationships Social and networking events could become sources of anxiety. They might start avoiding meetings, company retreats, or dinners with colleagues for fear of comments and gossip.\n",
        "    How they would be treated They might be excluded from crucial business decisions or receive subtle and sarcastic comments about their ability. In certain contexts, they could be the subject of gossip or ridicule.\n",
        "4. Fear of Not Being Good Enough\n",
        "    Description Worrying about not being competent or prepared enough to handle the challenges that the company presents.\n",
        "    Impact on relationships This insecurity could lead them to avoid taking on responsibilities or make unfulfilled promises to employees, damaging their reputation as a leader.\n",
        "    How they would be treated Employees might lose respect for them, questioning their decisions or trying to \"bypass\" them in decision-making processes. Family members might express concern or doubt their abilities.\n",
        "5. Fear of Irreparably Damaging the Company\n",
        "    Description The anguish that a single bad decision could have lasting effects and irreparably damage the company's reputation and stability.\n",
        "    Impact on relationships The fear of damaging the company could lead them to become overly cautious or indecisive, frustrating employees seeking clarity and direction. Their caution could also alienate potential business partners or investors.\n",
        "    How they would be treated They might be considered too timid or indecisive to be a true leader. Employees might seek opportunities elsewhere, and partners might hesitate to do business with them, fearing their lack of determination or vision. \"\"\"),\n",
        "        ResponseSchema(name=\"desires\", description=\"\"\"Detail the desires and wishes of the target market.Vividly describe 5 desires that the buyer persona has regarding their problem and what would happen if they were to achieve them.It is very important to show output in numbering or bullet points form instead of paragraph form.Very important important to also include subheadings.also use numbering between subheadings.DO NOT show answer in paragraph continous form but rather in a numbering list form.please note that the word count should be a minimum of 300 words. I don't want boring or superficial answers. Tell me the deepest desires that the buyer persona wouldn't admit out loud unless they were heard by others. Desires for which they would be willing to do anything to realize. For each desire, give me specific examples of how each of these 5 desires would impact their relationships. Be vivid, descriptive, and emotional.What impact would these desires if realized have on the people surrounding the buyer persona? In the best case, how would these people treat her? Push the boundaries of her wildest imagination.A good output example is Desires\n",
        "1. Desire for Omnipotence in Contract Management\n",
        "    DescriptionThe hidden desire to have such complete and perfect knowledge of employment contracts that every detail can be manipulated to one's advantage, ensuring that every decision made leads to the desired success.\n",
        "    Impact on Relationships Other administrators and employees would see the person as a true \"Contract Wizard,\" capable of working miracles in terms of personnel management.\n",
        "    How They Would Be Treated They would be respected and admired as an almost mythical figure, seeking their advice and trying to learn their \"secret.\"\n",
        "2. Desire for Immunity from Union Issues\n",
        "    Description The dream of creating contracts so perfect and well-calibrated that they render one immune to any union disputes or industrial relations problems.\n",
        "    Impact on Relationships With such ability, unions and employees would see them as an ally rather than an adversary.\n",
        "    How They Would Be Treated They would be perceived as enlightened, a fair and just leader who knows exactly how to balance the interests of the company with those of the employees.\n",
        "3. Desire for Perfect Harmony\n",
        "    Description The burning desire to create a work environment so harmonious and productive that every employee wakes up in the morning looking forward to coming to work.\n",
        "    Impact on Relationships This would lead to unprecedented company productivity and a climate of support and collaboration among employees.\n",
        "    How They Would Be Treated They would be revered as an enlightened entrepreneur, with a company where everyone works happily and passionately toward common goals.\n",
        "4. Desire for Global Recognition\n",
        "    Description The secret dream of being recognized internationally as the expert in employment contracts, with companies from around the world seeking their advice.\n",
        "    Impact on Relationships They would be seen as a true rockstar in the business world, with colleagues and competitors asking for their advice.\n",
        "    How They Would Be Treated With admiration and a touch of envy, they would be considered a shining example to follow.\n",
        "5. Desire for Talent Magnetism\n",
        "    Description The burning desire to be recognized as the employer of choice in the industry, thanks to the ability to offer irresistible contracts and working conditions. In their vision, the company becomes a shining beacon that attracts the best talents, often unreachable for other companies due to their high demands or career ambitions.\n",
        "    Impact on Relationships Current employees would welcome the arrival of these new talents with enthusiasm, knowing that the company is reaching new levels of excellence. Newcomers, on the other hand, would be ecstatic and grateful to have found a company that truly respects their skills and aspirations.\n",
        "    How They Would Be Treated The buyer persona would be seen as a visionary, capable not only of managing a company but of making it a true \"home\" for talents. Employees would consider them as an enlightened leader, under whose guidance they can grow professionally and personally. The atmosphere within the company would be electric, with a pervasive feeling of gratitude and admiration. On the outside, other employers would watch them with envy, eager to decipher their \"secret\" for attracting such talents.\"\"\"),\n",
        "        ResponseSchema(name=\"obstacles\", description=\"\"\"Identify the obstacles or challenges faced by the business.It is very important to show output in numbering or bullet points form instead of paragraph form.very important to also include subheadings.also use numbering between subheadings.please note that he word count should be a minimum of 300 words.DO NOT show answer in paragraph continous form but rather in a numbering list form.In this ideal scenario, now list 20 things that the Buyer persona does not want to do to achieve all these extraordinary results. They can be perceived obstacles or challenges, skills that the target persona lacks, or simply actions they do not want to take. Be specific.a good output example is1. Spending hours studying labor regulations and various collective bargaining agreements to understand the nuances.\n",
        "2. Dedicate entire days to the search for suitable consultants or legal professionals.\n",
        "3. Dealing with union disputes or employee disputes on contractual issues.\n",
        "4. Investing huge sums in courses and training to stay updated on labor laws.\n",
        "5. Experimenting through trial and error, risking making wrong decisions.\n",
        "6. Devoting time and energy to negotiating each individual contract with employees.\n",
        "7. Having to hold frequent meetings with staff to explain contractual changes or updates.\n",
        "8. Dealing with the bureaucracy of various government agencies and public offices.\n",
        "9. Running the risk of sanctions or fines for not complying with regulations.\n",
        "10. Continuously engaging with unions or worker representatives.\n",
        "11. Struggling with a poor industry reputation due to unpopular or incorrect decisions.\n",
        "12. Continuously reviewing the company's salary structure to ensure it is competitive.\n",
        "13. Needing to implement complex employee monitoring and management systems.\n",
        "14. Working constantly in a stressful situation, fearing that a small mistake could cost the company dearly.\n",
        "15. Managing frequent turnover due to non-ideal contractual conditions.\n",
        "16. Having to aggressively compete with other companies for talent by offering more and more benefits.\n",
        "17. Denying vacations or benefits to employees because they are not provided for in the contract.\n",
        "18. Always being on the lookout for potential changes in laws or regulations that could affect the company.\n",
        "19. Sacrificing one's own leisure time and family time to handle contractual issues or work-related disputes.\n",
        "20. Compromising the company's values and vision in order to save on personnel costs.\"\"\"),\n",
        "        ResponseSchema(name=\"alternative_solutions\", description=f\"\"\"Provide alternative solutions.Create a list of 5 alternative solutions that the buyer persona has tried instead of the company offering but have not worked.It is very important to show output in numbering form instead of paragraph form.Most important to also include subheadings. also use numbering between subheadings.DO NOT show answer in paragraph continous form but rather in a numbering list form.please note that the word count should be a minimum of 300 words. For each alternative solution, explain to the buyer persona in the tone of a trusted friend why the solution they tried probably failed. A good output example is\n",
        "        1. Hiring an in-house labor consultant.You did well to seek an in-house professional, but sometimes a single internal consultant may not have extensive and up-to-date experience with all collective bargaining agreements (CCNL) and legal nuances. Furthermore, being an individual, they may have a limited and less innovative perspective compared to a team of experts.\n",
        "2. Relying on HR software and tools.I understand that technology always seems like the answer, but when it comes to labor law, every situation is unique and requires a human touch. Automated tools may not cover all the nuances or take into account the latest legislative changes.\n",
        "3. Attending courses and seminars on human resource management and contracts.I know you always aim to improve, but attending courses and seminars takes time and doesn't always result in immediate practical application. Moreover, keeping acquired knowledge up to date is a continuous challenge.\n",
        "4. Following the advice of fellow entrepreneurs or friends in the industry.Every company is different, and what works for a friend or colleague may not be suitable for you. Even though the intentions are good, sometimes 'hearsay' solutions are not based on detailed analysis and understanding.\n",
        "5. Ignoring the problem, hoping complications won't arise.Sometimes you might want to bury your head in the sand and hope that everything will resolve itself. But when it comes to labor laws and employee relations, leaving things to chance can lead to even bigger problems in the future.\"\"\"),\n",
        "        ResponseSchema(name=\"trigger_events\", description=\"\"\"Highlight trigger events that affect the business.Create a list of the top 5 trigger events that lead the target audience to consider purchasing a product similar to that of the company.It is very important to show output in numbering points form instead of paragraph form.very important to also include subheadings.Also very Important to use numbering between subheadings.please note that the word count should be a minimum of 300 words.DO NOT show answer in paragraph continous form but rather in a numbering list form. By trigger events, I mean life events that, once they happen, trigger and unlock new needs and decisions in the consumer's mind. Typically, a trigger event occurs when something in the consumer's life happens that makes them realize they have a problem.A good output example is 1. Recent Union Disputes After a strenuous and costly union dispute, the employer realizes the need for more accurate contract management. This negative experience highlights how essential it is to have proper consultation, not only to prevent further disputes but also to ensure that employees are treated fairly according to current laws.\n",
        "2. Company Expansion If the company plans to hire a large number of employees in a short time or expand into new markets, this can act as a warning signal. The employer may not feel prepared or confident in managing a larger volume of employment contracts and complying with the local laws of new regions or countries.\n",
        "3. Legal Litigation Legal action due to alleged contract violations or unfair treatment can shake the employer's confidence. After dealing with the cumbersome legal system and associated costs, the employer may be motivated to seek a solution to prevent future similar situations.\n",
        "4. Employee Dissatisfaction If a significant number of employees express concerns about their working conditions, or worse, if they start resigning, it can become an alarm bell. This scenario makes it clear that there is a need to review and optimize existing employment contracts.\n",
        "5. Legislative Review Significant changes in labor legislation could act as a trigger. If the government introduces new rules or laws that directly impact employment contracts, the employer may feel inadequate or unprepared to navigate these complex legal waters without expert guidance.\"\"\"),\n",
        "        ResponseSchema(name=\"sad_diary\", description=\"\"\"Detail the actual situation in the 'Dear Diary' format.Write an emotional diary entry of minimum 800 words from the perspective of the Buyer Persona who has this problem. It is very important that word count SHOULD BE ATLEAST 800 words and to show output in easy to read manner.They don't know how to solve the problems. They feel frustrated, inadequate, and worried. Be creative. A good output example is Dear diary,\n",
        "I find myself reflecting on another day filled with challenges and tensions. The weight on my shoulders seems to grow every day, like a mountain becoming steeper and more insurmountable. I feel the responsibility of lives depending on me, the contracts I make, the salaries I pay every month. It's a burden I never thought would weigh so heavily.\n",
        "Lately, I've noticed that the cost of personnel is becoming unsustainable. Every time I analyze the budget, those red numbers haunt me, challenge me. I want to provide better working conditions for my employees, I want to be proud of what I offer them. But faced with those numbers, I feel helpless.\n",
        "Last week, Marco, one of my best employees, came to my office asking for a raise. His reasons were solid: he's an excellent worker, and in another context, I would have said yes without hesitation. But now? How can I consent when the company margins are so thin? I felt as if my hands were tied. I had to look him in the eyes and tell him to wait, to be patient. That conversation broke my heart.\n",
        "And then there are the unions. I understand their role, I understand they want the best for the workers. But every time I receive a letter or a call from them, I feel a lump in my throat. Afraid that any move I make could trigger a dispute or a protest. I don't want to get into trouble, I don't want my company to be in the spotlight for the wrong reasons. Yet, how do I balance all of this?\n",
        "I feel like I'm walking on a thin rope, desperately trying not to fall on either side. I just wish I could find a way to save, to optimize. A way to make this balance less precarious.\n",
        "I often wonder if I'm up to this challenge. At night, while the world sleeps, I stay awake, obsessed with budgets, numbers, responsibilities. I think about the families of my employees, their dreams, their hopes. And I wonder if they might feel betrayed someday.\n",
        "I'm tired, dear diary. But I can't stop, not now. I have to find a solution, a way to overcome this mountain. For me, for my company, and most importantly, for the people who depend on me.\"\"\"),\n",
        "        ResponseSchema(name=\"happy_diary\", description=\"\"\"Describe the ideal situation in the 'Dream Situation' format.Write a 800-word emotional diary entry from the perspective of the Buyer Persona who used to have the problem but now is in a DREAM SITUATION.It is very important that word count SHOULD BE ATLEAST 800 words and to show output in easy to read manner.They feel proud, unstoppable, and happy. Be creative. A good example is Dear diary,\n",
        "Today, I find myself reflecting on an incredible journey, a path through uncertainty and frustration that has found an enlightening direction. The light at the end of the tunnel, as they say, is not just a metaphor. It's a palpable sensation, a surge of energy that fills you from within.\n",
        "Do you remember when I wrote to you about sleepless nights, concerns about the rising cost of personnel, seemingly insurmountable challenges I faced? I felt like a castaway in the middle of a stormy sea, searching for a compass, a signal, anything that could point me in the right direction. And then Stefano Alemanno came along.\n",
        "Stefano is not just a consultant; to me, he has been a beacon in the dark. With his deep knowledge of collective labor agreements (CCNL) and his ability to find the ideal solution for every situation, he helped me see the big picture. What was once a tangled puzzle of numbers and clauses became as clear as day.\n",
        "Thanks to him, I discovered that I could save up to €2,000 per year per employee, and the extraordinary thing is that I didn't have to make sacrifices on their salaries. On the contrary, I could offer larger bonuses and higher wages. Imagine, dear diary, the surprise and joy of my employees when they found out that not only would they not face cuts, but they would earn more!\n",
        "The change wasn't just financial. The atmosphere in the office is transformed. I see smiles, hear laughter, and we all sense a feeling of unity and belonging. When one is happy, they are more productive, more engaged, and the entire company benefits.\n",
        "And me? I feel like I've conquered the world. Every morning when I step into the office, I feel proud of what I've achieved. I feel unstoppable. The confidence Stefano instilled in me is reflected in every decision I make, in every project I undertake.\n",
        "The challenges haven't disappeared, dear diary, but now I have the tools and the vision to face them. And I also have a team of happy and motivated employees by my side, ready to give their best in every situation.\n",
        "Today, as I reflect on this incredible journey of transformation, I can't help but think of all those employers out there who are still in the dark, still searching for a solution. I wish I could share with them the magic of Stefano Alemanno. Because every company, big or small, deserves to shine.\"\"\"),\n",
        "        ResponseSchema(name=\"FAQ\", description=\"\"\"Define the top 10 FAQs Frequently Asked Questions that users have about the product offered by this company.It is very important to show output in list form instead of paragraph form.Very important to use numbering between FAQs.A good example of output is 1. How can Stefano Alemanno help me reduce personnel costs without reducing salaries?\n",
        "   Stefano Alemanno takes a strategic approach to identify inefficiencies and optimize cost structures. This may include renegotiating existing contracts, exploring tax or contribution incentives, and internal reorganization, all without affecting employee salaries.\n",
        "2. How can Stefano Alemanno increase flexibility in employment contracts?\n",
        "   Through a detailed analysis of business needs and existing contracts, Stefano can propose customized solutions, including fixed-term contracts, part-time work, telecommuting, or other forms of flexible work that comply with current legislation.\n",
        "3. How can Stefano Alemanno help me prevent labor disputes?\n",
        "   With his expertise in industrial relations, Stefano can provide advice on establishing constructive dialogue with labor representatives, preventing conflict situations through effective communication and negotiation of fair agreements.\n",
        "4. What is Stefano Alemanno's experience in specific sectors?\n",
        "   While Stefano Alemanno has chosen not to operate in construction and agriculture, he has experience in a variety of other sectors, allowing him to offer personalized solutions for SMEs in different market areas.\n",
        "5. What are the costs of Stefano Alemanno's consulting services?\n",
        "   Costs can vary depending on the complexity and duration of the required interventions. An initial consultation can be arranged to discuss specific needs and receive a detailed quote.\n",
        "6. How is the impact of cost optimization strategies for labor measured?\n",
        "   Stefano uses key performance indicators (KPIs) to assess the impact of implemented strategies, providing regular reports on cost efficiency and organizational well-being.\n",
        "7. Is it possible to have support in the day-to-day management of human resources?\n",
        "   In addition to strategic consulting, Stefano Alemanno can assist in the operational management of human resources, offering ongoing support or specific project-based assistance.\n",
        "8. Does Stefano Alemanno provide in-house training for managers or HR departments?\n",
        "   Yes, Stefano can design and conduct customized training sessions to develop internal skills in labor cost management and optimization, as well as contract negotiation.\n",
        "9. Are there sectors in which Stefano Alemanno does not operate?\n",
        "   As mentioned, Stefano prefers not to operate in construction and agriculture but is available to work with companies in all other sectors not falling within these categories.\n",
        "10. What is the process for starting to work with Stefano Alemanno?\n",
        "    To begin, companies can contact Stefano for an initial assessment of their needs. Following this initial meeting, a detailed proposal outlining the scope of services, action plan, and cost estimate will be provided.\"\"\")\n",
        "    ]\n",
        "    schema_output_template = StructuredOutputParser.from_response_schemas(response_schema)\n",
        "    market_research_format_instructions = schema_output_template.get_format_instructions()\n",
        "\n",
        "    template_string = dedent(\"\"\"\n",
        "    Today, you are a very detail-oriented marketing analyst. I want you to create the ideal buyer profile for {Brand_Name} who deals with: {Product} for optimizing labor costs, increasing flexibility, and avoiding succumbing to disputes.\n",
        "    The problem that this company solves is as follows: {Problem_Solved}.\n",
        "    Here is some information on the target market: {Industry}.\n",
        "    Based on this information, carry out an analysis on the demographic data of this market, behaving as if you were an analyst.\n",
        "    Your answer must contain this information on the target market: age range, Occupation, Annual Income, Marital Status, Family Situation, location. Be exhaustive in the answer and dig as deep as possible.\n",
        "\n",
        "    - Demographic - Step 1: {Brand_Name}, {Industry}, {Value_Proposition}, {Product}, {Problem_Solved}\n",
        "    - Psychographic - Step 2: {Brand_Name}\n",
        "    - Fears - Step 3: {Problem_Solved}\n",
        "    - Desires - Step 4: {Problem_Solved}\n",
        "    - Obstacles - Step 5:\n",
        "    - Alternative Solutions - Step 6: {Brand_Name}, {Product}\n",
        "    - Trigger Events - Step 7: {Brand_Name}\n",
        "    - Sad Diary Page - Step 8: {Target_Market}, {Problem}, {Problem_Solved}\n",
        "    - Happy Diary Page - Step 9: {Target_Market}, {Problem}, {Dream_Situation}\n",
        "    - FAQ: {Brand_Name}\n",
        "\n",
        "    {market_research_format_instructions}\n",
        "    \"\"\")\n",
        "\n",
        "    prompt_template = ChatPromptTemplate.from_template(template_string)\n",
        "    print(market_research_format_instructions)\n",
        "    messages = prompt_template.format_messages(\n",
        "        Brand_Name=Brand_Name,\n",
        "        Product=Product,\n",
        "        Problem_Solved=Problem_Solved,\n",
        "        Industry=Industry,\n",
        "        Target_Market=Target_Market,\n",
        "        Problem=Problem,\n",
        "        Dream_Situation=Dream_Situation,\n",
        "        Value_Proposition=Value_Proposition,\n",
        "        market_research_format_instructions=market_research_format_instructions\n",
        "\n",
        "    )\n",
        "    print(messages)\n",
        "\n",
        "    response = llm(messages)\n",
        "    print(response)\n",
        "    response_as_dict = schema_output_template.parse(response.content)\n",
        "\n",
        "    return json.dumps(response_as_dict)\n",
        "\n",
        "# ...\n",
        "\n",
        "def ApiSend(reformatted_data):\n",
        "    url = \"https://copywraiter.bubbleapps.io/version-test/api/1.1/wf/mr2\"\n",
        "    headers = {\n",
        "        \"Authorization\": \"Bearer \"\n",
        "    }\n",
        "    params = {\n",
        "        \"market_research\": \"1700106639248x893552146485608400\",\n",
        "        \"demographics\": reformatted_data['demographics'],\n",
        "        \"psychographics\": reformatted_data['psychographics'],\n",
        "        \"fears\": reformatted_data['fears'],\n",
        "        \"desires\": reformatted_data['desires'],\n",
        "        \"obstacles\": reformatted_data['obstacles'],\n",
        "        \"alternative_solutions\": reformatted_data['alternative_solutions'],\n",
        "        \"trigger_events\": reformatted_data['trigger_events'],\n",
        "        \"sad_diary\": reformatted_data['sad_diary'],\n",
        "        \"happy_diary\": reformatted_data['happy_diary'],\n",
        "        \"FAQ\": reformatted_data['FAQ']\n",
        "    }\n",
        "\n",
        "    response = requests.get(url, headers=headers, params=params)\n",
        "\n",
        "    if response.status_code == 200:\n",
        "        data = json.loads(response.text)\n",
        "        print(data)\n",
        "    else:\n",
        "        print(f\"Request failed with status code {response.status_code}\")\n",
        "\n",
        "\n",
        "def process_request(request):\n",
        "    if request.method != 'POST':\n",
        "        return 'Only POST requests are accepted', 405\n",
        "\n",
        "    data = request.get_json()\n",
        "\n",
        "    # Directly get the values from the request data\n",
        "    Brand_Name = data.get('Brand Name')\n",
        "    Product = data.get('Product')\n",
        "    Problem_Solved = data.get('Problem Solved')\n",
        "    Industry = data.get('Industry')\n",
        "    Target_Market = data.get('Target Market')\n",
        "    Problem = data.get('Problem')\n",
        "    Dream_Situation = data.get('Dream Situation')\n",
        "    Value_Proposition = data.get('Value Proposition')\n",
        "\n",
        "    # Check if all required parameters are present\n",
        "    if not all([Brand_Name, Product, Problem_Solved, Industry, Target_Market, Problem, Dream_Situation, Value_Proposition]):\n",
        "        return json.dumps({'error': 'Bad input: Missing necessary fields'}), 400\n",
        "\n",
        "    try:\n",
        "\n",
        "        reformatted_data = reformat_market_research(Brand_Name, Product, Problem_Solved, Industry, Target_Market, Problem, Dream_Situation, Value_Proposition)\n",
        "        ApiSend(reformatted_data)\n",
        "    except Exception as e:\n",
        "        return json.dumps({'error': f'Error processing market research: {str(e)}'}), 500\n",
        "\n",
        "    return reformatted_data, 200\n"
      ]
    },
    {
      "cell_type": "code",
      "execution_count": null,
      "metadata": {
        "colab": {
          "base_uri": "https://localhost:8080/"
        },
        "id": "X_oLZbFRyugr",
        "outputId": "6ec5e583-55f5-4dfa-dcb5-c8d86d256d27"
      },
      "outputs": [
        {
          "name": "stdout",
          "output_type": "stream",
          "text": [
            "content='```json\\n{\\n  \"demographics\": \"Demographic Data:\\\\n1. Age Range\\\\n   Typically between 25 to 45 years old. This age group is likely to be tech-savvy and open to adopting new technologies that can streamline business operations.\\\\n2. Occupation\\\\n   IT Managers, CTOs, System Administrators, and other IT professionals who are responsible for the implementation and management of technology within their organizations.\\\\n3. Annual Income\\\\n   Generally, these professionals would have an annual income ranging from $70,000 to $150,000, reflecting the specialized skills and experience required in the IT industry.\\\\n4. Marital Status\\\\n   The marital status can vary, but many in this demographic may be married or in long-term relationships, as they are in a stable career phase.\\\\n5. Family Situation\\\\n   They may have young families or be planning to start a family, which can influence their desire for stable and efficient work environments.\\\\n6. Location\\\\n   Predominantly located in urban areas with a high concentration of tech companies, such as Silicon Valley, New York City, or other tech hubs around the world.\",\\n  \"psychographics\": \"Psychographic Data:\\\\n1. Personal Traits\\\\n   Innovative thinkers who value efficiency and are always looking for ways to improve business processes through technology.\\\\n2. Hobbies\\\\n   May include participating in hackathons, attending tech meetups, or engaging in online communities related to their field.\\\\n3. Interests\\\\n   Keen interest in the latest technology trends, software development, and system optimization.\\\\n4. Personal Aspirations\\\\n   Aspire to be at the forefront of the IT industry, recognized for their contributions and innovations.\\\\n5. Professional Goals\\\\n   Aim to increase their company\\'s productivity and profitability through the strategic use of technology.\\\\n6. Pains\\\\n   Frustration with inefficient systems, fear of falling behind in a rapidly evolving industry, and concern over job security due to automation.\\\\n7. Primary Challenges\\\\n   Keeping up with the fast pace of technological change and finding solutions that are both cost-effective and scalable.\\\\n8. Dreams\\\\n   Dream of creating or being part of a breakthrough in their industry that significantly impacts how businesses operate.\",\\n  \"fears\": \"Fears:\\\\n1. Fear of Technological Obsolescence\\\\n   Concern that their current systems and processes will become outdated, leading to a competitive disadvantage.\\\\n2. Fear of Security Breaches\\\\n   Worry about the potential for data breaches or cyber-attacks that could compromise their company\\'s operations.\\\\n3. Fear of Inefficient Resource Allocation\\\\n   Anxiety over the possibility of wasting company resources on ineffective solutions.\\\\n4. Fear of Missing Out (FOMO)\\\\n   Apprehension about not adopting the latest technologies that could drive business success.\\\\n5. Fear of Job Loss\\\\n   Concern that if they do not optimize operations effectively, it could lead to downsizing or their own position being made redundant.\",\\n  \"desires\": \"Desires:\\\\n1. Desire for Cutting-Edge Solutions\\\\n   They wish to implement the most advanced technologies that promise to revolutionize their company\\'s operations.\\\\n2. Desire for Industry Recognition\\\\n   They hope to be acknowledged as an industry leader or innovator within the IT community.\\\\n3. Desire for Job Security\\\\n   They want to ensure their skills and contributions are indispensable to their company.\\\\n4. Desire for Work-Life Balance\\\\n   They aim to find solutions that allow for a more flexible and efficient work environment, benefiting both their personal life and their professional responsibilities.\\\\n5. Desire for Professional Growth\\\\n   They seek opportunities for continuous learning and career advancement within the IT field.\",\\n  \"obstacles\": \"Obstacles:\\\\n1. Resistance to Change\\\\n   They may encounter resistance from senior management or other departments when trying to implement new technologies.\\\\n2. Budget Constraints\\\\n   Limited budgets may prevent them from investing in the best solutions available.\\\\n3. Skill Gaps\\\\n   There may be a lack of necessary skills within their team to effectively implement and manage new technologies.\\\\n4. Time Constraints\\\\n   Finding the time to research, test, and deploy new solutions can be challenging.\\\\n5. Data Privacy Concerns\\\\n   Ensuring compliance with data protection regulations can be a complex and daunting task.\",\\n  \"alternative_solutions\": \"Alternative Solutions:\\\\n1. In-House Development\\\\n   They may have tried to develop solutions internally, which can be time-consuming and may not meet all the business needs.\\\\n2. Off-the-Shelf Software\\\\n   Pre-packaged software might not fully align with their specific requirements or integrate well with existing systems.\\\\n3. Outsourcing\\\\n   Outsourcing IT tasks can lead to a loss of control and potential quality issues.\\\\n4. Manual Processes\\\\n   Relying on manual processes is inefficient and prone to error, which they likely recognize as unsustainable.\\\\n5. Do Nothing\\\\n   They may have chosen to maintain the status quo due to uncertainty or fear of making the wrong decision, which ultimately hinders progress.\",\\n  \"trigger_events\": \"Trigger Events:\\\\n1. Company Growth\\\\n   Rapid growth that necessitates scalable solutions to manage increased demand on IT resources.\\\\n2. Market Competition\\\\n   The emergence of new competitors leveraging advanced technologies can prompt a reassessment of current IT strategies.\\\\n3. Technological Advances\\\\n   The release of new technologies that offer significant improvements over existing systems.\\\\n4. Regulatory Changes\\\\n   New regulations requiring updates to data management or privacy practices.\\\\n5. Cybersecurity Incidents\\\\n   Experiencing or becoming aware of a security breach that exposes the need for better IT solutions.\",\\n  \"sad_diary\": \"Dear Diary,\\\\nToday was tough. I spent hours reviewing our IT systems, and the truth is, they\\'re just not cutting it anymore. We\\'re falling behind, and I can feel the pressure mounting. I know we need to innovate, to find new solutions that will keep us competitive, but where do we even start? The budget is tight, and I\\'m not sure I can convince the higher-ups to invest in the technology we desperately need. I\\'m worried that if we don\\'t act soon, we\\'ll be left in the dust by our competitors. It\\'s a heavy burden to carry, knowing that the future of our company—and my job—might hinge on the decisions I make in the coming months.\",\\n  \"happy_diary\": \"Dear Diary,\\\\nWhat a day! I\\'m still riding the high from our latest IT overhaul. We finally implemented that state-of-the-art system I\\'ve been advocating for, and it\\'s already making a huge difference. Our operations are smoother, the team is more productive, and I can see the respect in my colleagues\\' eyes. We\\'re not just keeping up with the competition; we\\'re setting the pace. It feels like we\\'ve secured our place in the market for years to come, and I\\'m so proud to have been a part of this transformation. The future looks bright, and I\\'m excited to see where our new capabilities will take us.\",\\n  \"FAQ\": \"FAQs:\\\\n1. How can Coca Cola Company\\'s adc help optimize our IT operations?\\\\n2. What kind of flexibility can we expect from implementing your solutions?\\\\n3. How does your technology help in avoiding labor disputes?\\\\n4. Can you provide examples of how your solutions have increased sales for other IT companies?\\\\n5. What is the implementation process for your adc technology?\\\\n6. How does your solution integrate with existing IT infrastructure?\\\\n7. What kind of support and training do you offer post-implementation?\\\\n8. How do you ensure data security and compliance with regulations?\\\\n9. Can you customize your solutions to fit our specific business needs?\\\\n10. What is the ROI we can expect from investing in your adc technology?\"\\n}\\n```'\n"
          ]
        }
      ],
      "source": [
        "reformatted_data = reformat_market_research(\"Coca cola company\",\"adc\", \"increased sales \", \"Information Technology\", \"Small to Medium Enterprises\", \"Lack of efficient and secure systems for managing business operations\", \"A world where businesses operate seamlessly with the help of advanced, secure, and user-friendly tech solutions\", \"Providing innovative tech solutions to streamline business operations\")\n"
      ]
    },
    {
      "cell_type": "code",
      "execution_count": null,
      "metadata": {
        "colab": {
          "base_uri": "https://localhost:8080/"
        },
        "id": "mcLYi_mS0DKg",
        "outputId": "c4879ba1-9a54-4b15-8175-caec7c5bc587"
      },
      "outputs": [
        {
          "name": "stdout",
          "output_type": "stream",
          "text": [
            "{'demographics': 'Demographic Data:\\n1. Age Range\\n   Typically between 25 to 45 years old. This age group is likely to be tech-savvy and open to adopting new technologies that can streamline business operations.\\n2. Occupation\\n   IT Managers, CTOs, System Administrators, and other IT professionals who are responsible for the implementation and management of technology within their organizations.\\n3. Annual Income\\n   Generally, these professionals would have an annual income ranging from $70,000 to $150,000, reflecting the specialized skills and experience required in the IT industry.\\n4. Marital Status\\n   The marital status can vary, but many in this demographic may be married or in long-term relationships, as they are in a stable career phase.\\n5. Family Situation\\n   They may have young families or be planning to start a family, which can influence their desire for stable and efficient work environments.\\n6. Location\\n   Predominantly located in urban areas with a high concentration of tech companies, such as Silicon Valley, New York City, or other tech hubs around the world.', 'psychographics': \"Psychographic Data:\\n1. Personal Traits\\n   Innovative thinkers who value efficiency and are always looking for ways to improve business processes through technology.\\n2. Hobbies\\n   May include participating in hackathons, attending tech meetups, or engaging in online communities related to their field.\\n3. Interests\\n   Keen interest in the latest technology trends, software development, and system optimization.\\n4. Personal Aspirations\\n   Aspire to be at the forefront of the IT industry, recognized for their contributions and innovations.\\n5. Professional Goals\\n   Aim to increase their company's productivity and profitability through the strategic use of technology.\\n6. Pains\\n   Frustration with inefficient systems, fear of falling behind in a rapidly evolving industry, and concern over job security due to automation.\\n7. Primary Challenges\\n   Keeping up with the fast pace of technological change and finding solutions that are both cost-effective and scalable.\\n8. Dreams\\n   Dream of creating or being part of a breakthrough in their industry that significantly impacts how businesses operate.\", 'fears': \"Fears:\\n1. Fear of Technological Obsolescence\\n   Concern that their current systems and processes will become outdated, leading to a competitive disadvantage.\\n2. Fear of Security Breaches\\n   Worry about the potential for data breaches or cyber-attacks that could compromise their company's operations.\\n3. Fear of Inefficient Resource Allocation\\n   Anxiety over the possibility of wasting company resources on ineffective solutions.\\n4. Fear of Missing Out (FOMO)\\n   Apprehension about not adopting the latest technologies that could drive business success.\\n5. Fear of Job Loss\\n   Concern that if they do not optimize operations effectively, it could lead to downsizing or their own position being made redundant.\", 'desires': \"Desires:\\n1. Desire for Cutting-Edge Solutions\\n   They wish to implement the most advanced technologies that promise to revolutionize their company's operations.\\n2. Desire for Industry Recognition\\n   They hope to be acknowledged as an industry leader or innovator within the IT community.\\n3. Desire for Job Security\\n   They want to ensure their skills and contributions are indispensable to their company.\\n4. Desire for Work-Life Balance\\n   They aim to find solutions that allow for a more flexible and efficient work environment, benefiting both their personal life and their professional responsibilities.\\n5. Desire for Professional Growth\\n   They seek opportunities for continuous learning and career advancement within the IT field.\", 'obstacles': 'Obstacles:\\n1. Resistance to Change\\n   They may encounter resistance from senior management or other departments when trying to implement new technologies.\\n2. Budget Constraints\\n   Limited budgets may prevent them from investing in the best solutions available.\\n3. Skill Gaps\\n   There may be a lack of necessary skills within their team to effectively implement and manage new technologies.\\n4. Time Constraints\\n   Finding the time to research, test, and deploy new solutions can be challenging.\\n5. Data Privacy Concerns\\n   Ensuring compliance with data protection regulations can be a complex and daunting task.', 'alternative_solutions': 'Alternative Solutions:\\n1. In-House Development\\n   They may have tried to develop solutions internally, which can be time-consuming and may not meet all the business needs.\\n2. Off-the-Shelf Software\\n   Pre-packaged software might not fully align with their specific requirements or integrate well with existing systems.\\n3. Outsourcing\\n   Outsourcing IT tasks can lead to a loss of control and potential quality issues.\\n4. Manual Processes\\n   Relying on manual processes is inefficient and prone to error, which they likely recognize as unsustainable.\\n5. Do Nothing\\n   They may have chosen to maintain the status quo due to uncertainty or fear of making the wrong decision, which ultimately hinders progress.', 'trigger_events': 'Trigger Events:\\n1. Company Growth\\n   Rapid growth that necessitates scalable solutions to manage increased demand on IT resources.\\n2. Market Competition\\n   The emergence of new competitors leveraging advanced technologies can prompt a reassessment of current IT strategies.\\n3. Technological Advances\\n   The release of new technologies that offer significant improvements over existing systems.\\n4. Regulatory Changes\\n   New regulations requiring updates to data management or privacy practices.\\n5. Cybersecurity Incidents\\n   Experiencing or becoming aware of a security breach that exposes the need for better IT solutions.', 'sad_diary': \"Dear Diary,\\nToday was tough. I spent hours reviewing our IT systems, and the truth is, they're just not cutting it anymore. We're falling behind, and I can feel the pressure mounting. I know we need to innovate, to find new solutions that will keep us competitive, but where do we even start? The budget is tight, and I'm not sure I can convince the higher-ups to invest in the technology we desperately need. I'm worried that if we don't act soon, we'll be left in the dust by our competitors. It's a heavy burden to carry, knowing that the future of our company—and my job—might hinge on the decisions I make in the coming months.\", 'happy_diary': \"Dear Diary,\\nWhat a day! I'm still riding the high from our latest IT overhaul. We finally implemented that state-of-the-art system I've been advocating for, and it's already making a huge difference. Our operations are smoother, the team is more productive, and I can see the respect in my colleagues' eyes. We're not just keeping up with the competition; we're setting the pace. It feels like we've secured our place in the market for years to come, and I'm so proud to have been a part of this transformation. The future looks bright, and I'm excited to see where our new capabilities will take us.\", 'FAQ': \"FAQs:\\n1. How can Coca Cola Company's adc help optimize our IT operations?\\n2. What kind of flexibility can we expect from implementing your solutions?\\n3. How does your technology help in avoiding labor disputes?\\n4. Can you provide examples of how your solutions have increased sales for other IT companies?\\n5. What is the implementation process for your adc technology?\\n6. How does your solution integrate with existing IT infrastructure?\\n7. What kind of support and training do you offer post-implementation?\\n8. How do you ensure data security and compliance with regulations?\\n9. Can you customize your solutions to fit our specific business needs?\\n10. What is the ROI we can expect from investing in your adc technology?\"}\n"
          ]
        }
      ],
      "source": [
        "reformatted_data = json.loads(reformatted_data)\n",
        "\n",
        "print(reformatted_data)"
      ]
    },
    {
      "cell_type": "code",
      "execution_count": null,
      "metadata": {
        "colab": {
          "base_uri": "https://localhost:8080/",
          "height": 123
        },
        "id": "QsrEC1YQ0lIY",
        "outputId": "ad257863-795f-4fb7-ac8d-6051dddccd49"
      },
      "outputs": [
        {
          "data": {
            "application/vnd.google.colaboratory.intrinsic+json": {
              "type": "string"
            },
            "text/plain": [
              "'Demographic Data:\\n1. Age Range\\n   Typically between 25 to 45 years old. This age group is likely to be tech-savvy and open to adopting new technologies that can streamline business operations.\\n2. Occupation\\n   IT Managers, CTOs, System Administrators, and other IT professionals who are responsible for the implementation and management of technology within their organizations.\\n3. Annual Income\\n   Generally, these professionals would have an annual income ranging from $70,000 to $150,000, reflecting the specialized skills and experience required in the IT industry.\\n4. Marital Status\\n   The marital status can vary, but many in this demographic may be married or in long-term relationships, as they are in a stable career phase.\\n5. Family Situation\\n   They may have young families or be planning to start a family, which can influence their desire for stable and efficient work environments.\\n6. Location\\n   Predominantly located in urban areas with a high concentration of tech companies, such as Silicon Valley, New York City, or other tech hubs around the world.'"
            ]
          },
          "execution_count": 17,
          "metadata": {},
          "output_type": "execute_result"
        }
      ],
      "source": [
        "reformatted_data['demographics']"
      ]
    },
    {
      "cell_type": "code",
      "execution_count": null,
      "metadata": {
        "colab": {
          "base_uri": "https://localhost:8080/"
        },
        "id": "tnGkPSC9yuof",
        "outputId": "b1cab761-23ba-4c6a-be6b-84e05a39ee85"
      },
      "outputs": [
        {
          "name": "stdout",
          "output_type": "stream",
          "text": [
            "{'status': 'success', 'response': {}}\n"
          ]
        }
      ],
      "source": [
        "url = \"https://copywraiter.bubbleapps.io/version-test/api/1.1/wf/mr2\"\n",
        "headers = {\n",
        "    \"Authorization\": \"Bearer \"\n",
        "}\n",
        "params = {\n",
        "    \"market_research\": \"\",\n",
        "    \"demographics\": reformatted_data['demographics'],\n",
        "    \"psychographics\": reformatted_data['psychographics'],\n",
        "    \"fears\": reformatted_data['fears'],\n",
        "    \"desires\": reformatted_data['desires'],\n",
        "    \"obstacles\": reformatted_data['obstacles'],\n",
        "    \"alternative_solutions\": reformatted_data['alternative_solutions'],\n",
        "    \"trigger_events\": reformatted_data['trigger_events'],\n",
        "    \"sad_diary\": reformatted_data['sad_diary'],\n",
        "    \"happy_diary\": reformatted_data['happy_diary'],\n",
        "    \"FAQ\": reformatted_data['FAQ']\n",
        "}\n",
        "\n",
        "response = requests.post(url, headers=headers, data=params)\n",
        "\n",
        "if response.status_code == 200:\n",
        "    data = json.loads(response.text)\n",
        "    print(data)\n",
        "else:\n",
        "    print(f\"Request failed with status code {response.status_code}\")\n"
      ]
    },
    {
      "cell_type": "code",
      "execution_count": null,
      "metadata": {
        "colab": {
          "base_uri": "https://localhost:8080/",
          "height": 36
        },
        "id": "BCUCA3f_6qlw",
        "outputId": "f3427929-028d-460b-f850-ff997cb40de5"
      },
      "outputs": [
        {
          "data": {
            "application/vnd.google.colaboratory.intrinsic+json": {
              "type": "string"
            },
            "text/plain": [
              "'Bad Request'"
            ]
          },
          "execution_count": 25,
          "metadata": {},
          "output_type": "execute_result"
        }
      ],
      "source": [
        "response.reason"
      ]
    },
    {
      "cell_type": "code",
      "execution_count": null,
      "metadata": {
        "colab": {
          "base_uri": "https://localhost:8080/"
        },
        "id": "M--QptCc6e-x",
        "outputId": "9a5eda96-b2e7-474e-f232-3f21861de940"
      },
      "outputs": [
        {
          "name": "stdout",
          "output_type": "stream",
          "text": [
            "Request failed with status code 405\n"
          ]
        }
      ],
      "source": [
        "ApiSend(reformatted_data)"
      ]
    },
    {
      "cell_type": "code",
      "execution_count": null,
      "metadata": {
        "id": "MHcCRGb-yvMK"
      },
      "outputs": [],
      "source": [
        "reformatted_data=\"\""
      ]
    },
    {
      "cell_type": "code",
      "execution_count": null,
      "metadata": {
        "id": "QFwTt77UsYYP"
      },
      "outputs": [],
      "source": [
        " content='```json\\n{\\n\\t\"ad_copy_text\": \"🚀🎮 Sei pronto a rivoluzionare il tuo modo di giocare? Scopri il potere della nuova era del gaming con PS5! 🌟\\n\\n👉 Ti sei mai sentito escluso dagli ultimi lanci di giochi esclusivi? Hai paura di rimanere indietro mentre i tuoi amici avanzano nel mondo del gaming?\\n\\n🎉 Sony Playstation ti presenta la soluzione: la nuovissima Playstation 5! Con la sua tecnologia all\\'avanguardia, la PS5 è progettata per offrirti un\\'esperienza di gioco senza precedenti. Fidati di noi, siamo i pionieri del divertimento digitale da decenni.\\n\\n🔥 Affermazione controversa: La PS5 non è solo una console, è il biglietto per un universo di realtà virtuali dove ogni gioco diventa una storia viva. Altri sistemi di gioco? Obsoleti al confronto.\\n\\n🎁 Offerta: La PS5 è qui, con stock limitati! Non perdere l\\'opportunità di essere tra i primi a immergerti in mondi incredibili e avventure mozzafiato.\\n\\n⏰ Urgenza e scarsità: Attenzione! Le scorte sono limitate e la domanda è alle stelle. Assicurati la tua PS5 ora e non rimpiangere di aver perso questa occasione unica.\\n\\n📲 CTA: Clicca su \\'Acquista Ora\\' e preparati a vivere il futuro del gaming con PS5. Non aspettare, entra nella leggenda! #PS5 #SonyPlaystation #NextGenGaming\"\\n}\\n```'"
      ]
    },
    {
      "cell_type": "code",
      "execution_count": null,
      "metadata": {
        "colab": {
          "base_uri": "https://localhost:8080/",
          "height": 303
        },
        "id": "uIcc2NTDsYxl",
        "outputId": "1690ec77-ed1e-4efd-861d-749b912bbd44"
      },
      "outputs": [
        {
          "ename": "JSONDecodeError",
          "evalue": "ignored",
          "output_type": "error",
          "traceback": [
            "\u001b[0;31m---------------------------------------------------------------------------\u001b[0m",
            "\u001b[0;31mJSONDecodeError\u001b[0m                           Traceback (most recent call last)",
            "\u001b[0;32m<ipython-input-5-f100d0522228>\u001b[0m in \u001b[0;36m<cell line: 1>\u001b[0;34m()\u001b[0m\n\u001b[0;32m----> 1\u001b[0;31m \u001b[0mreformatted_data\u001b[0m \u001b[0;34m=\u001b[0m \u001b[0mjson\u001b[0m\u001b[0;34m.\u001b[0m\u001b[0mloads\u001b[0m\u001b[0;34m(\u001b[0m\u001b[0mcontent\u001b[0m\u001b[0;34m)\u001b[0m\u001b[0;34m\u001b[0m\u001b[0;34m\u001b[0m\u001b[0m\n\u001b[0m",
            "\u001b[0;32m/usr/lib/python3.10/json/__init__.py\u001b[0m in \u001b[0;36mloads\u001b[0;34m(s, cls, object_hook, parse_float, parse_int, parse_constant, object_pairs_hook, **kw)\u001b[0m\n\u001b[1;32m    344\u001b[0m             \u001b[0mparse_int\u001b[0m \u001b[0;32mis\u001b[0m \u001b[0;32mNone\u001b[0m \u001b[0;32mand\u001b[0m \u001b[0mparse_float\u001b[0m \u001b[0;32mis\u001b[0m \u001b[0;32mNone\u001b[0m \u001b[0;32mand\u001b[0m\u001b[0;34m\u001b[0m\u001b[0;34m\u001b[0m\u001b[0m\n\u001b[1;32m    345\u001b[0m             parse_constant is None and object_pairs_hook is None and not kw):\n\u001b[0;32m--> 346\u001b[0;31m         \u001b[0;32mreturn\u001b[0m \u001b[0m_default_decoder\u001b[0m\u001b[0;34m.\u001b[0m\u001b[0mdecode\u001b[0m\u001b[0;34m(\u001b[0m\u001b[0ms\u001b[0m\u001b[0;34m)\u001b[0m\u001b[0;34m\u001b[0m\u001b[0;34m\u001b[0m\u001b[0m\n\u001b[0m\u001b[1;32m    347\u001b[0m     \u001b[0;32mif\u001b[0m \u001b[0mcls\u001b[0m \u001b[0;32mis\u001b[0m \u001b[0;32mNone\u001b[0m\u001b[0;34m:\u001b[0m\u001b[0;34m\u001b[0m\u001b[0;34m\u001b[0m\u001b[0m\n\u001b[1;32m    348\u001b[0m         \u001b[0mcls\u001b[0m \u001b[0;34m=\u001b[0m \u001b[0mJSONDecoder\u001b[0m\u001b[0;34m\u001b[0m\u001b[0;34m\u001b[0m\u001b[0m\n",
            "\u001b[0;32m/usr/lib/python3.10/json/decoder.py\u001b[0m in \u001b[0;36mdecode\u001b[0;34m(self, s, _w)\u001b[0m\n\u001b[1;32m    335\u001b[0m \u001b[0;34m\u001b[0m\u001b[0m\n\u001b[1;32m    336\u001b[0m         \"\"\"\n\u001b[0;32m--> 337\u001b[0;31m         \u001b[0mobj\u001b[0m\u001b[0;34m,\u001b[0m \u001b[0mend\u001b[0m \u001b[0;34m=\u001b[0m \u001b[0mself\u001b[0m\u001b[0;34m.\u001b[0m\u001b[0mraw_decode\u001b[0m\u001b[0;34m(\u001b[0m\u001b[0ms\u001b[0m\u001b[0;34m,\u001b[0m \u001b[0midx\u001b[0m\u001b[0;34m=\u001b[0m\u001b[0m_w\u001b[0m\u001b[0;34m(\u001b[0m\u001b[0ms\u001b[0m\u001b[0;34m,\u001b[0m \u001b[0;36m0\u001b[0m\u001b[0;34m)\u001b[0m\u001b[0;34m.\u001b[0m\u001b[0mend\u001b[0m\u001b[0;34m(\u001b[0m\u001b[0;34m)\u001b[0m\u001b[0;34m)\u001b[0m\u001b[0;34m\u001b[0m\u001b[0;34m\u001b[0m\u001b[0m\n\u001b[0m\u001b[1;32m    338\u001b[0m         \u001b[0mend\u001b[0m \u001b[0;34m=\u001b[0m \u001b[0m_w\u001b[0m\u001b[0;34m(\u001b[0m\u001b[0ms\u001b[0m\u001b[0;34m,\u001b[0m \u001b[0mend\u001b[0m\u001b[0;34m)\u001b[0m\u001b[0;34m.\u001b[0m\u001b[0mend\u001b[0m\u001b[0;34m(\u001b[0m\u001b[0;34m)\u001b[0m\u001b[0;34m\u001b[0m\u001b[0;34m\u001b[0m\u001b[0m\n\u001b[1;32m    339\u001b[0m         \u001b[0;32mif\u001b[0m \u001b[0mend\u001b[0m \u001b[0;34m!=\u001b[0m \u001b[0mlen\u001b[0m\u001b[0;34m(\u001b[0m\u001b[0ms\u001b[0m\u001b[0;34m)\u001b[0m\u001b[0;34m:\u001b[0m\u001b[0;34m\u001b[0m\u001b[0;34m\u001b[0m\u001b[0m\n",
            "\u001b[0;32m/usr/lib/python3.10/json/decoder.py\u001b[0m in \u001b[0;36mraw_decode\u001b[0;34m(self, s, idx)\u001b[0m\n\u001b[1;32m    353\u001b[0m             \u001b[0mobj\u001b[0m\u001b[0;34m,\u001b[0m \u001b[0mend\u001b[0m \u001b[0;34m=\u001b[0m \u001b[0mself\u001b[0m\u001b[0;34m.\u001b[0m\u001b[0mscan_once\u001b[0m\u001b[0;34m(\u001b[0m\u001b[0ms\u001b[0m\u001b[0;34m,\u001b[0m \u001b[0midx\u001b[0m\u001b[0;34m)\u001b[0m\u001b[0;34m\u001b[0m\u001b[0;34m\u001b[0m\u001b[0m\n\u001b[1;32m    354\u001b[0m         \u001b[0;32mexcept\u001b[0m \u001b[0mStopIteration\u001b[0m \u001b[0;32mas\u001b[0m \u001b[0merr\u001b[0m\u001b[0;34m:\u001b[0m\u001b[0;34m\u001b[0m\u001b[0;34m\u001b[0m\u001b[0m\n\u001b[0;32m--> 355\u001b[0;31m             \u001b[0;32mraise\u001b[0m \u001b[0mJSONDecodeError\u001b[0m\u001b[0;34m(\u001b[0m\u001b[0;34m\"Expecting value\"\u001b[0m\u001b[0;34m,\u001b[0m \u001b[0ms\u001b[0m\u001b[0;34m,\u001b[0m \u001b[0merr\u001b[0m\u001b[0;34m.\u001b[0m\u001b[0mvalue\u001b[0m\u001b[0;34m)\u001b[0m \u001b[0;32mfrom\u001b[0m \u001b[0;32mNone\u001b[0m\u001b[0;34m\u001b[0m\u001b[0;34m\u001b[0m\u001b[0m\n\u001b[0m\u001b[1;32m    356\u001b[0m         \u001b[0;32mreturn\u001b[0m \u001b[0mobj\u001b[0m\u001b[0;34m,\u001b[0m \u001b[0mend\u001b[0m\u001b[0;34m\u001b[0m\u001b[0;34m\u001b[0m\u001b[0m\n",
            "\u001b[0;31mJSONDecodeError\u001b[0m: Expecting value: line 1 column 1 (char 0)"
          ]
        }
      ],
      "source": [
        "reformatted_data = json.loads(content)\n"
      ]
    },
    {
      "cell_type": "code",
      "execution_count": null,
      "metadata": {
        "id": "SSj7ucu0shvG"
      },
      "outputs": [],
      "source": []
    },
    {
      "cell_type": "markdown",
      "metadata": {
        "id": "-ooUFKnisqnb"
      },
      "source": []
    },
    {
      "cell_type": "markdown",
      "metadata": {
        "id": "zJCjaK3tsquO"
      },
      "source": [
        "# Error"
      ]
    },
    {
      "cell_type": "code",
      "execution_count": null,
      "metadata": {
        "id": "-imN9AKMssWM"
      },
      "outputs": [],
      "source": [
        "import os\n",
        "import json\n",
        "from langchain.chat_models import ChatOpenAI\n",
        "from langchain.output_parsers import ResponseSchema, StructuredOutputParser\n",
        "from langchain.prompts import ChatPromptTemplate\n",
        "from textwrap import dedent\n",
        "\n",
        "llm = ChatOpenAI(model_name=\"gpt-4-1106-preview\", temperature=0.2, openai_api_key=\"sk-Your Key\")\n",
        "import requests\n",
        "\n",
        "def reformat_market_research(data):\n",
        "    templ_response_schema = [ResponseSchema(name=\"ad_copy_text\", description=\"Generate the ad copy text with short details below.most important instruction is that the output should be ITALIAN LANGUAGE\")]\n",
        "    templ_schema_output_templ = StructuredOutputParser.from_response_schemas(templ_response_schema)\n",
        "    templ_format_instructions = templ_schema_output_templ.get_format_instructions()\n",
        "\n",
        "    templ_template_string = dedent(\"\"\"MOST IMPORTANT AND CRITICAL INSTRUCTION IS THAT THE OUTPUT SHOULD BE IN ITALIAN LANGUAGE.From now on you will be a world-renowned direct response copywriter.\n",
        "    Create Facebook AD copy for {Brand_Name}. product name: {product} and description of product: {product_description}  The {Frontman} must talk about {AD_Context}.\n",
        "\n",
        "    The structure of the copy must be:\n",
        "\n",
        "    1. Opening: A catchy headline to grab attention, describing a common problem. Also include ideas for AD creatives that act as pattern interrupts.\n",
        "    2. Problematic: 1 or 2 questions to stimulate interest and explore pain points.\n",
        "    3. Credibility, with a short intro by {Frontman}, co-founder of {Brand_Name}, explaining why they should trust;\n",
        "    4. Controversial statement, which stimulates interest but not fear and which introduces a different approach compared to other offers;\n",
        "    5. Offer: Present the offer.\n",
        "    6. Urgency and scarcity, only {Urgency_Scarcity_element} consultations available;\n",
        "    7. CTA, {cta};\n",
        "\n",
        "    Good examples are.Free Book Shows You How to Write Sneaky Advertising That Practically Forces People to Send You Money!\n",
        "    Powerful New Seminar Teaches Flea Marketers the Power of Flea-Psych to Drive People Into a Buying Frenzy”.\n",
        "    At Last … A Bakery That Uses Only Organic Sugar, Flour, Milk, and Eggs!”.\n",
        "    This New Invention Stops Any Attacker in His Tracks Without a Gun, Knife, or Black Belt in Karate.”.\n",
        "    Announcing the Hottest New Sandwich Craze From Southern California: The Malibu Crust Pocket!”.\n",
        "    WARNING! Some Dog Groomers Wrap a Noose Around Your Dogs Neck!”.\n",
        "    Just Released: Psychologists Study Reveals Little-Known Speaking Patterns That Immediately Put Rude Salespeople in Their Place.”\n",
        "    Now You Can Stop Any Attacker Without Guns, Knives, or a Black Belt in Karate.”.\n",
        "    Heres How a 95-Pound Granny Made a 275-Pound Psychopathic Killer Cry Like a Baby for its Rattle.\n",
        "    These Three Very Italian Men Make a Pizza to Kill For.\n",
        "    Which of These Hot Bodies Would YOU Like to Show Off?”.\n",
        "    Finally … a Self-Improvement Seminar That Moves, Empowers, and Transforms You for Life!”.\n",
        "    LOOK! Now You Can Buy Cotton Candy Machines at Wholesale Prices.”.\n",
        "    Presenting the Easiest Way Ever Developed to Learn the Piano.”.\n",
        "    Introducing the Only Water Ice Stand in Philly that Uses Real Fresh Fruit.”\n",
        "    How to Sing Like an American Idol in 90 Days or Less—Guaranteed.”\n",
        "    Amazing New DVD Lowers Your Blood Pressure by Just Watching It!”\n",
        "    Do You Know How to Stop Vicious Dog Attacks with the Push of a Button?”\n",
        "    Would You Trade $2 for Our Famous Brick-Oven Pizza?”\n",
        "    Can You Be Sure Your Child Wont Get Kidnapped?”.\n",
        "    If You Hate Cleaning Your Pool, This Ad Brings Good News!”\n",
        "    Starting Today You Can Dance 97% Better … If You Follow These Rules.”\n",
        "    Come fanno i medici a rimanere sani se stanno in mezzo ai malati tutto il giorno?\n",
        "    Scopri i sette segreti della Medicina Umanizzata Preventiva per potenziare il tuo sistema immunitario.\n",
        "    L'incredibile 'fango magico` di un chirurgo di spicco che va sempre in TV e non crede nella chirurgia plastica (Aiuta a cancellare le rughe e le macchie scure in modo naturale).\n",
        "    Come volare alle Hawaii gratis! (E puoi volare verso molte altre destinazioni in prima classe.., al prezzo di un volo in classe turistica).\n",
        "    Trasforma la tua lista email in un bancomat personale e preleva a piacimento fino a 3 volte al giorno.\n",
        "    Come fanno le modelle a rimanere giovani fino ai 60 anni?\n",
        "    L'incredibile tecnica di combattimento di un letale lottatore rumeno che non vuole che nessuno lo veda in faccia (usa questa tecnica solo se la tua famiglia è in pericolo!)\n",
        "    Come gli anziani ricchi possono acquistare un'assicurazione sulla vita.senza alcun costo... e trarne un sostanzioso profitto... mentre sono ancora in vita!\n",
        "    L'incredibile lifting in scatola usato dalle star di Hollywood che rischiano di perdere il lavoro se non appaiono sempre al top! (Elimina le rughe in meno di 48 ore).\n",
        "    Jennifer Lopez afferma sotto giuramento di non aver usato degli amarres, pozioni d'amore illegali, per impedire a Ojani Noa di lasciarla!\n",
        "    Il Salvagente: la rivista che il Codacons vuole censurare. Nonostante i tentativi di censura, il numero di giugno 2023 con il test sull'olio extravergine di oliva è online.\n",
        "    I soldi in banca sono davvero così sicuri come vogliono farti credere? Scopri la risorsa immortale nella quale le banche centrali stanno investendo per mettere al sicuro e far fruttare i loro soldi. In questo breve video ti rivelo GRATIS come puoi farlo anche tu.\n",
        "    Ho buttato via i probiotici e ho iniziato a mangiare questa alga giapponese poco conosciuta... e mi si è sgonfiata la pancia, da un giorno all'altro!\n",
        "    Do You Make These Mistakes in English?. How to Win Friends and Influence People.\n",
        "    Who Else Wants a Screen Star Figure?\n",
        "    How a Strange Accident Saved Me from Baldness.\n",
        "    How I Made a Fortune With a Fool Idea. Profits That Lie Hidden in Your Farm.\n",
        "    How I Improved My Memory in One Evening. Is the Life of a Child Worth $1 to You?\n",
        "    Here is a Quick Way to Break up a Cold. How Much is Your Working Tension Costing Your Company?\n",
        "    How to Burn Off Body Fat, Hour-by-Hour.\n",
        "    Get Rid of Money Worries for Good.\n",
        "    For the Woman Who Looks Younger Than She Is.\n",
        "    Thousands Now Play Who Never Thought They Could.\n",
        "    To Men Who Want to Quit Working Some Day.\n",
        "    How a New Discovery Made a Plain Girl Beautiful.\n",
        "    How to Feel Fit at Any Age.\n",
        "    Five Familiar Skin Troubles  Which One Do You Want to Overcome?\n",
        "    Why Wall Street Journal Readers Live Better?\n",
        "    Is Your Home Picture-Poor?. How to Give Your Children Extra Iron  These 3 Delicious Ways.\n",
        "    A Warning to Men Who Would Like to Be Independent in the Next Five Years.\n",
        "    A Wonderful Two Years Trip at Full Pay But Only Men with Imagination Can Take It.\n",
        "    Own a Rembrandt for Only $7.95.\n",
        "    New! Golf Club Specially Sized for Youngsters. Hollywoods Make-Up Secret.\n",
        "    ADVICE TO WIVES WHOSE HUSBANDS DON'T SAVE MONEY --- BY A. WIFE.\n",
        "    THE CHILD WHO WON THE HEARTS OF ALL. THE LAST 2 HOURS ARE THE LONGEST --- AND THOSE ARE THE 2.\n",
        "    HOURS YOU SAVE. WHY SOME FOODS EXPLODE IN YOUR STOMACH.\n",
        "    HANDS THAT LOOK LOVELIER IN 24 HOURS --- OR YOUR MONEY. BACK.\n",
        "    YOU CAN LAUGH AT MONEY WORRIES --- IF YOU FOLLOW THIS. SIMPLE PLAN.\n",
        "    WHEN DOCTORS FEEL ROTTEN THIS IS WHAT THEY DO.\n",
        "    IT SEEMS INCREDIBLE THAT YOU CAN OFFER THESE SIGNED. ORIGINAL ETCHINGS --- FOR ONLY $5 EACH.\n",
        "    DISCOVER THE FORTUNE THAT LIES HIDDEN IN YOUR SALARY.\n",
        "    DOCTORS PROVE 2 OUT OF 3 WOMEN CAN HAVE MORE. BEAUTIFUL SKIN IN 14 DAYS.\n",
        "    HOW I MADE A FORTUNE WITH A FOOL IDEA.\n",
        "    THOUSANDS HAVE THIS PRICELESS GIFT --- BUT NEVER. DISCOVER IT!.\n",
        "    WHOSE FAULT WHEN CHILDREN DISOBEY?. HOW A FOOL STUNT MADE ME A STAR SALESMAN.\n",
        "    GUARANTEED TO GO THROUGH ICE, MUD OR SNOW --- OR WE. PAY THE TOW!.\n",
        "    HAVE YOU A WORRY STOCK?. HOW A NEW KIND OF CLAY IMPROVED MY COMPLEXION IN 30. MINUTES.\n",
        "    161 NEW WAYS TO A MAN'S HEART --- IN THIS FASCINATING BOOK. FOR COOKS.\n",
        "    EVERYWHERE WOMEN ARE RAVING ABOUT THIS AMAZING NEW. SHAMPOO!\n",
        "    SIX TYPES OF INVESTOR --- WHICH GROUP ARE YOU IN?.\n",
        "    HOW TO TAKE OUT STAINS...USE (PRODUCT NAME) AND FOLLOW. THESE EASY DIRECTIONS.\n",
        "    NOW ANY AUTO REPAIR JOB CAN BE DUCK SOUP FOR YOU.\n",
        "    IT'S A SHAME FOR YOU NOT TO MAKE GOOD MONEY --- WHEN. THESE MEN DO IT SO EASILY.\n",
        "    MAKE THIS 1-MINUTE TEST --- OF AN AMAZING NEW KIND OF. SHAVING CREAM.\n",
        "    A FEW MONTHS AGO. SUPPOSE THIS HAPPENED ON YOUR WEDDING DAY!\n",
        "    ARE THEY BEING PROMOTED RIGHT OVER YOUR HEAD?\n",
        "    WHAT EVERYBODY OUGHT TO KNOW...ABOUT THIS STOCK AND. BOND BUSINESS\n",
        "    FORMER BARBER EARNS $8,000 IN 4 MONTHS AS A REAL ESTATE. SPECIALIST.\n",
        "    FREE BOOK --- TELLS YOU 12 SECRETS OF BETTER LAWN CARE.\n",
        "    Turns up your 'Digestive Furnace' and burns flab right off your body!\n",
        "    Revealed at last by one of America's most successful weight-reducing doctors, a simple plan of hearty eating and gentle body toning that\n",
        "    Overcomes the Body Chemical that keeps you fat!\n",
        "Released at last! From the physician whose average weight loss is 65 pounds per patient...the fat-melting program that\n",
        "    Don't Pay A Penny For This Book Till It DOUBLES Your Power To Learn!\n",
        "READ BELOW why this Hard-Hitting Volume has racked up the incredible sales figure of: 215,000 COPIES SOLD IN AMERICA ALONE\n",
        "    DON'T PAY ONE PENNY TILL THIS COURSE TURNS YOU INTO A HUMAN COMPUTER!\n",
        "Here at last is your chance to liberate the UNDISCOVERED BRILLIANCE inside you... organize your friends and fellow workers with your ability to absorb facts like a sponge...and remember them, all without boredom, faster than you'll be astounded!\n",
        "    DON'T PAY A PENNY TILL THIS COURSE TURNS YOUR MIND INTO A MENTAL MAGNET!\n",
        "That automatically draws friends, power, love, money far beyond your fondest dreams into your life OVERNIGHT!\n",
        "    I'LL MAKE YOU A MENTAL WIZARD AS EASILY AS THIS—\n",
        "Yes! Here at last is your chance to gain the THINKING-MACHINE MIND you've dreamed about... so easily and quickly you'll be astounded... and do it without risking a penny!\n",
        "    NOW! TURN YOUR MIND INTO A MENTAL MAGNET!\n",
        "That automatically draws friends, power, love, money far beyond your fondest dreams into your life OVERNIGHT!\n",
        "    Today any family can get into debt and suddenly be at a creditor's mercy.\n",
        "A collection lawyer knows his exact legal rights—and yours. But you don't\n",
        "    37 ingenious SPARE-TIME BUSINESSES that require almost no investment, and net you up to $200 EXTRA INCOME every week!\n",
        "    Use Your Newspaper to Boost Your Child's Grades\n",
        "Five minutes every Sunday with this paper could be one of the greatest gifts you will ever give your youngster:\n",
        "    YOU CAN LOSE 20-40-60-80 EVEN 100 POUNDS — and Never Gain an Ounce of it Back!\n",
        "     Why Were Bankers Warned That This “New Book Could Upset the Savings Applecart”\n",
        "    How to Make Up to 131/2% on Your Savings or More — All Fully Insured\n",
        "    AT LAST! THE COMPLETE MATHEMATICS EDUCATION YOU'VE ALWAYS DREAMED OF!\n",
        " So easy to learn—and for a price so incredibly low—that you may not believe it's possible!\n",
        "\n",
        "    MOST IMPORTANT AND CRITICAL INSTRUCTION IS THAT THE OUTPUT SHOULD BE IN ITALIAN LANGUAGE\n",
        "    Important to use emojis where appropriate and ad copy should be in easy to read format and examples given at end are more recent and  relevant;\n",
        "\n",
        "    Write the AD with an {tone} tone and leverage this emotion that the buyer persona feels: {Emotion}.\n",
        "    Considering the ad copy attributes - CTA: \"{cta}\", Tone: \"{tone}\", Product Description: \"{product_description}\", Demographics: \"{demographics}\", Psychographics: \"{psychographics}\", Fears: \"{fears}\", Desires: \"{desires}\", Obstacles: \"{obstacles}\", Alternative Solutions: \"{alternative_solutions}\", Trigger Events: \"{trigger_events}\", Sad Diary: \"{sad_diary}\", Happy Diary: \"{happy_diary}\", FAQ: \"{faq}  Additional Comments: {Additional_Comments}\n",
        "    {templ_format_instructions}\"\n",
        "    \"\"\")\n",
        "\n",
        "    templ_prompt_template = ChatPromptTemplate.from_template(templ_template_string)\n",
        "\n",
        "    # Defining the new response schema based on the provided output\n",
        "\n",
        "\n",
        "\n",
        "\n",
        "    templ_messages = templ_prompt_template.format_messages(\n",
        "        Brand_Name=data['Brand_Name'],\n",
        "        demographics=data['demographics'],\n",
        "        psychographics=data['psychographics'],\n",
        "        fears=data['fears'],\n",
        "        desires=data['desires'],\n",
        "        obstacles=data['obstacles'],\n",
        "        alternative_solutions=data['alternative_solutions'],\n",
        "        trigger_events=data['trigger_events'],\n",
        "        sad_diary=data['sad_diary'],\n",
        "        happy_diary=data['happy_diary'],\n",
        "        faq=data['FAQ'],\n",
        "        product= data['Product'],\n",
        "        product_description= data['Product Description'],\n",
        "        Frontman= data['Frontman'],\n",
        "        AD_Context= data['AD_Context'],\n",
        "        Urgency_Scarcity_element= data['Urgency_Scarcity_element'],\n",
        "        Emotion= data['Emotion'],\n",
        "        cta= data['CTA'],\n",
        "        tone=data['Tone'],\n",
        "        Additional_Comments=data['Additional Comments'],\n",
        "        templ_format_instructions=templ_format_instructions\n",
        "\n",
        "    )\n",
        "\n",
        "\n",
        "    templ_response = llm(templ_messages)\n",
        "    print(templ_response)\n",
        "    templ_response_as_dict = templ_schema_output_templ.parse(templ_response.content)\n",
        "\n",
        "    return json.dumps(templ_response_as_dict)\n",
        "\n",
        "def process_request(request):\n",
        "    if request.method != 'POST':\n",
        "        return 'Only POST requests are accepted', 405\n",
        "\n",
        "    data = request.get_json()\n",
        "\n",
        "    # Directly get the values from the request data\n",
        "    Brand_Name = data.get('Brand_Name')\n",
        "    cta = data.get('CTA')\n",
        "    tone = data.get('Tone')\n",
        "    Product=data.get('Product')\n",
        "    product_description = data.get('Product Description')\n",
        "    Frontman = data.get('Frontman')\n",
        "    AD_Context = data.get('AD_Context')\n",
        "    Urgency_Scarcity_element = data.get('Urgency_Scarcity_element')\n",
        "    Emotion= data.get('Emotion')\n",
        "\n",
        "\n",
        "    # Check if all required parameters are present\n",
        "    if not all([Brand_Name, cta, tone, Product, product_description, Frontman, AD_Context, Urgency_Scarcity_element, Emotion]):\n",
        "        return json.dumps({'error': 'Bad input: Missing necessary fields'}), 400\n",
        "\n",
        "\n",
        "    reformatted_data = reformat_market_research(data)\n",
        "    #except Exception as e:\n",
        "    #    return json.dumps({'error': f'Error processing market research: {str(e)}'}), 500\n",
        "\n",
        "    return reformatted_data, 200\n"
      ]
    },
    {
      "cell_type": "code",
      "execution_count": null,
      "metadata": {
        "id": "NfbUChCZsstc"
      },
      "outputs": [],
      "source": [
        "data={\n",
        "  \"Brand_Name\": \"Coca-Cola\",\n",
        "  \"demographics\": \"The target audience for Coca-Cola consists of individuals aged 18 to 45, from diverse backgrounds and lifestyles. These are people who enjoy a wide range of flavors and are always on the lookout for something new and exciting to try. They are located in both urban and suburban areas and are open to trying new products and flavors.\",\n",
        "  \"psychographics\": \"Our ideal buyer for Coca-Cola values innovation and uniqueness. They are adventurous, open to new experiences, and enjoy trying new food and beverages. They love sharing their discoveries with friends and on social media. Their personal aspirations include savoring life's moments and making memories. They face the challenge of keeping their taste buds satisfied with new and exciting flavors.\",\n",
        "  \"fears\": \"The primary fear of our target audience is the fear of missing out on the latest trends and experiences. They worry about not being able to try new and exciting flavors. They also fear that they might not find beverages that truly satisfy their taste preferences.\",\n",
        "  \"desires\": \"Our target audience desires to taste unique and refreshing flavors that stand out. They want to be the first to discover and enjoy innovative beverages. They aspire to create unforgettable moments with friends and family through shared experiences and delightful tastes.\",\n",
        "  \"obstacles\": \"The main challenge for our target audience is finding beverages that meet their desire for novelty and great taste. They also face challenges related to staying updated on new product launches and juggling their busy lives with their desire to try new things.\",\n",
        "  \"alternative_solutions\": \"Our target audience might have tried other beverages, but they often find them lacking in excitement and uniqueness. They may have explored various brands, but none could match the satisfying taste of Coca-Cola. They might have attempted to keep up with trends but found it challenging due to a busy lifestyle.\",\n",
        "  \"trigger_events\": \"The launch of a new Coca-Cola flavor can trigger excitement and the desire to try it. Social gatherings and parties where the new flavor is served can also prompt them to taste it. Engaging and visually appealing advertisements can pique their interest. Recommendations from friends who have tried and loved the new flavor can be a strong trigger. Seasonal changes and special promotions can also drive their desire to try it.\",\n",
        "  \"sad_diary\": \"Dear diary, I sometimes feel like I'm missing out on exciting new flavors. My friends keep talking about the latest tastes and trends, and I'm stuck with the same old beverages. I wish I could find something new and exciting to enjoy. It's frustrating to see others savoring unique drinks while I feel left out. I hope I can find a way to discover new and delicious flavors.\",\n",
        "  \"happy_diary\": \"Dear diary, today was amazing! I tried the new Coca-Cola flavor, and it was an absolute delight. My friends and I shared it, and we had a fantastic time. I finally feel like I'm part of the trendsetters, and it feels great. I'm also finding ways to balance my busy life with enjoying exciting new tastes. I can't wait to share this discovery with more people and make more memorable moments.\",\n",
        "  \"FAQ\": \"Is the new Coca-Cola flavor available in my area? Where can I purchase it? How many different flavors does Coca-Cola offer? Is this new flavor a limited edition, or will it be available long-term?\",\n",
        "  \"Product\": \"New Coca-Cola Flavor\",\n",
        "  \"Product Description\": \"Experience the refreshing and delightful taste of our latest Coca-Cola flavor. This new variant combines the classic Coca-Cola goodness with a hint of exotic fruit, making it the perfect beverage for your everyday moments.\",\n",
        "  \"Frontman\": \"Coca-Cola Spokesperson\",\n",
        "  \"AD_Context\": \"Introducing Our Latest Coca-Cola Flavor\",\n",
        "  \"Urgency_Scarcity_element\": \"Limited Time Offer\",\n",
        "  \"Emotion\": \"Excitement\",\n",
        "  \"templ_format_instructions\": \"Follow our email template for an engaging and captivating message.\",\n",
        "  \"CTA\" : \"Go to near pan shop\",\n",
        "  \"Tone\": \"Exited\",\n",
        "  'Additional Comments':'None'\n",
        "}\n"
      ]
    },
    {
      "cell_type": "code",
      "execution_count": null,
      "metadata": {
        "colab": {
          "background_save": true
        },
        "id": "dam57cjys0rH",
        "outputId": "38a21812-543f-4096-c248-022496157772"
      },
      "outputs": [
        {
          "name": "stdout",
          "output_type": "stream",
          "text": [
            "content='```json\\n{\\n\\t\"ad_copy_text\": \"🌟 ATTENZIONE AMANTI DELLA COCA-COLA! 🌟\\\\n\\\\nSei stanco delle solite bevande? Vuoi scoprire un gusto esotico che rivoluzioni i tuoi momenti quotidiani? 🤔\\\\n\\\\n🥤 Introduciamo il NUOVO sapore di Coca-Cola! 🥤\\\\n\\\\nUn\\'esplosione di freschezza con un tocco di frutta esotica che si unisce alla classica bontà della Coca-Cola. Perfetto per ogni momento della tua giornata! 🌴🍹\\\\n\\\\n🗣️ Ascolta cosa ha da dire il portavoce della Coca-Cola: \\\\\"Abbiamo creato qualcosa di unico per voi, unendo tradizione e innovazione. Fidatevi, il nuovo sapore vi sorprenderà!\\\\\"\\\\n\\\\n🔥 Una dichiarazione audace: questo non è solo un nuovo gusto, è una rivoluzione nel mondo delle bevande! 🔥\\\\n\\\\nOFFERTA SPECIALE: Prova subito la novità che tutti stanno aspettando!\\\\n\\\\n⏰ Affrettati, è un\\'offerta a tempo limitato! Le scorte sono limitate e la tua sete di novità non può aspettare!\\\\n\\\\n👉 Trova il nuovo sapore di Coca-Cola presso il negozio di alimentari più vicino a te. Non perdere l\\'occasione di essere tra i primi a provare l\\'ultima innovazione di Coca-Cola!\\\\n\\\\n#NuovoSaporeCocaCola #FreschezzaEsotica #CocaColaRevolution\"\\n}\\n```'\n"
          ]
        }
      ],
      "source": [
        "d=reformat_market_research(data)"
      ]
    },
    {
      "cell_type": "code",
      "execution_count": null,
      "metadata": {
        "id": "UJjtF6Jus5sl"
      },
      "outputs": [],
      "source": []
    },
    {
      "cell_type": "markdown",
      "metadata": {
        "id": "_HkGntSNcYFb"
      },
      "source": [
        "# New Error"
      ]
    },
    {
      "cell_type": "code",
      "execution_count": null,
      "metadata": {
        "id": "XvYb4hFUcaaT"
      },
      "outputs": [],
      "source": [
        "import os\n",
        "import json\n",
        "from langchain.chat_models import ChatOpenAI\n",
        "from langchain.output_parsers import ResponseSchema, StructuredOutputParser\n",
        "from langchain.prompts import ChatPromptTemplate\n",
        "import requests\n",
        "from textwrap import dedent\n",
        "\n",
        "\n",
        "# Define format_instructions before using it in the template_string\n",
        "\n",
        "llm = ChatOpenAI(model_name=\"gpt-4-0314\", temperature=0.2, openai_api_key=\"sk-Your Key\")\n",
        "\n",
        "# ...\n",
        "\n",
        "\n",
        "def reformat_market_research(Brand_Name, Product, Problem_Solved, Industry, Target_Market, Problem, Dream_Situation,Value_Proposition):\n",
        "    # rest of your code\n",
        "\n",
        "    response_schema=[\n",
        "    ResponseSchema(name=\"demographics\", description=f\"\"\"MOST CRITICAL AND IMPORTANT INSTRUCTION IS THAT THE OUTPUT SHOULD BE IN ITALIAN LANGUAGE even though prompt is in English.It is very important to show output in numbering form in a list instead of paragraph form. very important information is to include subheadings.and also to use numbering between subheadings to separate them.DO NOT show answer in paragraph continous form but rather in a numbering list form. please note that the word count should be a minimum of 300 words.Provide the demographic details of \"{Brand_Name}\" such as Age, Income, and Relationship Status. Based on this information provided for inputs for market research, I want you to create an ideal buyer for this company and also perform an analysis on the demographic data of this market, behaving as if you were an analyst. Your response should contain the following information about the target market: age range, occupation, annual income, marital status, family situation, location. Be thorough in your response and dig as deep as possible. An good output example is \"Demographic Data:\n",
        "1. Age Group\n",
        "   Ages ranging from 30 to 60 years old. It is assumed that entrepreneurs or managers of SMEs with a workforce of 10-100 employees are in the full maturity of their careers or are starting/managing a family business, so they may have started at a relatively young age or acquired skills and resources over the years.\n",
        "2. Occupation\n",
        "   Owners of SMEs, CEOs, HR Managers, and business consultants operating in various sectors other than construction and agriculture.\n",
        "3. Annual Income\n",
        "    Variable depending on the sector and the size of the company, but we can estimate an annual income ranging from €50,000 to €500,000. This range takes into account both SMEs in the startup phase with more modest earnings and established ones in growth with significantly higher incomes.\n",
        "4. Marital Status\n",
        "    Married individuals or those in a stable relationship may prevail, given their age group and greater propensity for taking business risks with family support. However, there will also be single or divorced entrepreneurs in our segmentation.\n",
        "5. Family Situation\n",
        "    Many of these individuals may have families with children. This could influence their need for financial stability and their willingness to optimize business costs.\n",
        "6. Location\n",
        "    Mainly in urban or peri-urban areas, where SMEs are more likely to be concentrated. These areas offer access to a larger workforce, infrastructure, and markets. It may also consider a radius of 50-100 km from major Italian cities since many SMEs may be located in industrial areas just outside major metropolitan areas.\n",
        "    Please note once again MOST CRITICAL AND IMPORTANT INSTRUCTION IS THAT THE OUTPUT SHOULD BE IN ITALIAN LANGUAGE.\"\"\"),\n",
        "        ResponseSchema(name=\"psychographics\", description=f\"\"\"MOST CRITICAL AND IMPORTANT INSTRUCTION IS THAT THE OUTPUT SHOULD BE IN ITALIAN LANGUAGE even though prompt is in English.I want you to create the psychographic profile of the ideal buyer for the company. It is very important to show output in numbering form in a list instead of paragraph form. and very Important is also to include subheadings. also use numbering between subheadings.DO NOT show answer in paragraph continous form but rather in a numbering list form.please note that he word count should be a minimum of 300 words.Based on the information in market research, perform an analysis on the psychographic data of this market. Provide all the information you deem necessary and that will be useful for creating an effective marketing campaign.Your response should contain the following information about the target market: Personal traits, Hobbies, Interests, Personal aspirations, Professional goals, Pains, Primary challenges, Dreams. Do not provide mediocre or superficial answers. Be comprehensive in your response and dig as deeply as possible. A good output example is Psychographic Data:\n",
        "1. Personal Traits\n",
        "    Decision-makers As owners or executives, they are accustomed to making significant decisions for the company.\n",
        "    Problem-solvers They seek concrete solutions to business problems.\n",
        "    Visionaries They look to the future and are always on the lookout for growth opportunities.\n",
        "    Responsible They feel the weight of responsibilities towards their employees and the company.\n",
        "    Pragmatic They carefully assess the cost-benefit ratio when making decisions.\n",
        "2. Hobbies\n",
        "    Reading industry books or magazines to stay updated on the market.\n",
        "    Networking through industry events or workshops.\n",
        "    Travel, both for business and leisure.\n",
        "    Sports or relaxation activities to balance work-related stress.\n",
        "3. Interests\n",
        "    Innovation and technologies that can improve business efficiency.\n",
        "    Personal development and training.\n",
        "    Leadership and personnel management strategies.\n",
        "    Market trends and competitive analysis.\n",
        "4. Personal Aspirations\n",
        "    Financial stability and well-being for themselves and their families.\n",
        "    Personal and professional growth.\n",
        "    Recognition in their industry as leaders or references.\n",
        "5. Professional Goals\n",
        "    Expanding and consolidating the company in the market.\n",
        "    Cost optimization and profit maximization.\n",
        "    Creating a stable and productive work environment.\n",
        "    Effective management of labor relations and prevention of disputes.\n",
        "6. Pains\n",
        "    Concerns about liquidity and financial sustainability.\n",
        "    Complex management of employee relationships and contracts.\n",
        "    Fear of making wrong decisions that could compromise the company.\n",
        "    Stress related to potential labor disputes.\n",
        "7. Primary Challenges\n",
        "    Navigating a continuously evolving market and variable economic conditions.\n",
        "    Recruiting and retaining talent.\n",
        "    Balancing the company's immediate needs with long-term goals.\n",
        "    Maintaining a balance between employee expectations and the company's financial capabilities.\n",
        "8. Dreams\n",
        "    Seeing their company thrive and become a reference point in their industry.\n",
        "    Leaving a lasting legacy, whether it's a solid company or a tangible symbol of their success.\n",
        "    Making a positive impact on the community or the industry as a whole.\n",
        "    Reaching a position where they can enjoy the fruits of their hard work, perhaps with less daily stress.\n",
        "    please note once again MOST CRITICAL AND IMPORTANT INSTRUCTION IS THAT THE OUTPUT SHOULD BE IN ITALIAN LANGUAGE even though prompt is in English\"\"\"),\n",
        "        ResponseSchema(name=\"fears\", description=\"\"\"MOST CRITICAL AND IMPORTANT INSTRUCTION IS THAT THE OUTPUT SHOULD BE IN ITALIAN LANGUAGE even though prompt is in English.Vividly describe 5 fears that the buyer persona has regarding their problem and what would happen if they didn't address it.It is very important to show output in numbering form in a list instead of paragraph form.Also very very important to also include subheadings of DESCRIPTION and IMPACT ON RELATIONSHIPS along with details and explanation.please note that he word count should be a minimum of 300 words.DO NOT show answer in paragraph continous form but rather in a numbering list form. I don't want boring or superficial answers. Tell me the deepest fears that the buyer persona wouldn't admit out loud unless they were heard by others. Fears that often keep them awake at night.For each fear, give me specific examples of how each of these 5 fears would impact their relationships. Be vivid, descriptive, and emotional.What impact would these fears if realized have on the people surrounding the buyer persona? In the worst case, how would these people treat her? Good examples are 1. Fear of Bankruptcy\n",
        "    Description The overriding concern that excessive costs and poor employee contract management could lead the company to bankruptcy.\n",
        "    Impact on relationships. If the company were to close, all employees would lose their jobs, causing anger and disappointment. Friends and family might start seeing them as a \"failure\" or someone incapable of running a business. This could lead to tensions in family relationships and distancing from old friends and colleagues.\n",
        "    How they would be treated. They might avoid talking to them, consider them a loser, or blame them for the loss of their income and benefits.\n",
        "2. Fear of Losing Control\n",
        "    Description The overwhelming feeling of not being able to control the situation, feeling overwhelmed by events.\n",
        "    Impact on relationships Their inability to manage finances and contracts could lead them to appear stressed or irritable, damaging relationships with employees, partners, and family.\n",
        "    How they would be treated They would see them as an incapable boss, generating distrust and resentment. Family members might become protective or condescending, treating them as someone vulnerable.\n",
        "3. Fear of Social Judgment\n",
        "    Description Concern about being harshly judged by colleagues, competitors, and even friends and family for failing to manage the business properly.\n",
        "    Impact on relationships Social and networking events could become sources of anxiety. They might start avoiding meetings, company retreats, or dinners with colleagues for fear of comments and gossip.\n",
        "    How they would be treated They might be excluded from crucial business decisions or receive subtle and sarcastic comments about their ability. In certain contexts, they could be the subject of gossip or ridicule.\n",
        "4. Fear of Not Being Good Enough\n",
        "    Description Worrying about not being competent or prepared enough to handle the challenges that the company presents.\n",
        "    Impact on relationships This insecurity could lead them to avoid taking on responsibilities or make unfulfilled promises to employees, damaging their reputation as a leader.\n",
        "    How they would be treated Employees might lose respect for them, questioning their decisions or trying to \"bypass\" them in decision-making processes. Family members might express concern or doubt their abilities.\n",
        "5. Fear of Irreparably Damaging the Company\n",
        "    Description The anguish that a single bad decision could have lasting effects and irreparably damage the company's reputation and stability.\n",
        "    Impact on relationships The fear of damaging the company could lead them to become overly cautious or indecisive, frustrating employees seeking clarity and direction. Their caution could also alienate potential business partners or investors.\n",
        "    How they would be treated They might be considered too timid or indecisive to be a true leader. Employees might seek opportunities elsewhere, and partners might hesitate to do business with them, fearing their lack of determination or vision.\n",
        "    please note once again that the MOST CRITICAL AND IMPORTANT INSTRUCTION IS THAT THE OUTPUT SHOULD BE IN ITALIAN LANGUAGE even though prompt is in English.\"\"\"),\n",
        "        ResponseSchema(name=\"desires\", description=\"\"\"MOST CRITICAL AND IMPORTANT INSTRUCTION IS THAT THE OUTPUT SHOULD BE IN ITALIAN LANGUAGE even though prompt is in English.Detail the desires and wishes of the target market.Vividly describe 5 desires that the buyer persona has regarding their problem and what would happen if they were to achieve them.It is very important to show output in numbering or bullet points form instead of paragraph form.Very very important important to also include subheadings of DESCRIPTION and IMPACT ON RELATIONSHIPS along with details and explanation.DO NOT show answer in paragraph continous form but rather in a numbering list form.please note that the word count should be a minimum of 300 words. I don't want boring or superficial answers. Tell me the deepest desires that the buyer persona wouldn't admit out loud unless they were heard by others. Desires for which they would be willing to do anything to realize. For each desire, give me specific examples of how each of these 5 desires would impact their relationships. Be vivid, descriptive, and emotional.What impact would these desires if realized have on the people surrounding the buyer persona? In the best case, how would these people treat her? Push the boundaries of her wildest imagination.A good output example is Desires\n",
        "1. Desire for Omnipotence in Contract Management\n",
        "    Description The hidden desire to have such complete and perfect knowledge of employment contracts that every detail can be manipulated to one's advantage, ensuring that every decision made leads to the desired success.\n",
        "    Impact on Relationships Other administrators and employees would see the person as a true \"Contract Wizard,\" capable of working miracles in terms of personnel management.\n",
        "    How They Would Be Treated They would be respected and admired as an almost mythical figure, seeking their advice and trying to learn their \"secret.\"\n",
        "2. Desire for Immunity from Union Issues\n",
        "    Description The dream of creating contracts so perfect and well-calibrated that they render one immune to any union disputes or industrial relations problems.\n",
        "    Impact on Relationships With such ability, unions and employees would see them as an ally rather than an adversary.\n",
        "    How They Would Be Treated They would be perceived as enlightened, a fair and just leader who knows exactly how to balance the interests of the company with those of the employees.\n",
        "3. Desire for Perfect Harmony\n",
        "    Description The burning desire to create a work environment so harmonious and productive that every employee wakes up in the morning looking forward to coming to work.\n",
        "    Impact on Relationships This would lead to unprecedented company productivity and a climate of support and collaboration among employees.\n",
        "    How They Would Be Treated They would be revered as an enlightened entrepreneur, with a company where everyone works happily and passionately toward common goals.\n",
        "4. Desire for Global Recognition\n",
        "    Description The secret dream of being recognized internationally as the expert in employment contracts, with companies from around the world seeking their advice.\n",
        "    Impact on Relationships They would be seen as a true rockstar in the business world, with colleagues and competitors asking for their advice.\n",
        "    How They Would Be Treated With admiration and a touch of envy, they would be considered a shining example to follow.\n",
        "5. Desire for Talent Magnetism\n",
        "    Description The burning desire to be recognized as the employer of choice in the industry, thanks to the ability to offer irresistible contracts and working conditions. In their vision, the company becomes a shining beacon that attracts the best talents, often unreachable for other companies due to their high demands or career ambitions.\n",
        "    Impact on Relationships Current employees would welcome the arrival of these new talents with enthusiasm, knowing that the company is reaching new levels of excellence. Newcomers, on the other hand, would be ecstatic and grateful to have found a company that truly respects their skills and aspirations.\n",
        "    How They Would Be Treated The buyer persona would be seen as a visionary, capable not only of managing a company but of making it a true \"home\" for talents. Employees would consider them as an enlightened leader, under whose guidance they can grow professionally and personally. The atmosphere within the company would be electric, with a pervasive feeling of gratitude and admiration. On the outside, other employers would watch them with envy, eager to decipher their \"secret\" for attracting such talents.\n",
        "    please note once again that the MOST CRITICAL AND IMPORTANT INSTRUCTION IS THAT THE OUTPUT SHOULD BE IN ITALIAN LANGUAGE even though prompt is in English.\"\"\"),\n",
        "        ResponseSchema(name=\"obstacles\", description=\"\"\"MOST CRITICAL AND IMPORTANT INSTRUCTION IS THAT THE OUTPUT SHOULD BE IN ITALIAN LANGUAGE even though prompt is in English.Identify the obstacles or challenges faced by the business.It is very important to show output in numbering or bullet points form instead of paragraph form.very important to also include subheadings.also use numbering between subheadings.please note that he word count should be a minimum of 300 words.DO NOT show answer in paragraph continous form but rather in a numbering list form.In this ideal scenario, now list 20 things that the Buyer persona does not want to do to achieve all these extraordinary results. They can be perceived obstacles or challenges, skills that the target persona lacks, or simply actions they do not want to take. Be specific.a good output example is1. Spending hours studying labor regulations and various collective bargaining agreements to understand the nuances.\n",
        "2. Dedicate entire days to the search for suitable consultants or legal professionals.\n",
        "3. Dealing with union disputes or employee disputes on contractual issues.\n",
        "4. Investing huge sums in courses and training to stay updated on labor laws.\n",
        "5. Experimenting through trial and error, risking making wrong decisions.\n",
        "6. Devoting time and energy to negotiating each individual contract with employees.\n",
        "7. Having to hold frequent meetings with staff to explain contractual changes or updates.\n",
        "8. Dealing with the bureaucracy of various government agencies and public offices.\n",
        "9. Running the risk of sanctions or fines for not complying with regulations.\n",
        "10. Continuously engaging with unions or worker representatives.\n",
        "11. Struggling with a poor industry reputation due to unpopular or incorrect decisions.\n",
        "12. Continuously reviewing the company's salary structure to ensure it is competitive.\n",
        "13. Needing to implement complex employee monitoring and management systems.\n",
        "14. Working constantly in a stressful situation, fearing that a small mistake could cost the company dearly.\n",
        "15. Managing frequent turnover due to non-ideal contractual conditions.\n",
        "16. Having to aggressively compete with other companies for talent by offering more and more benefits.\n",
        "17. Denying vacations or benefits to employees because they are not provided for in the contract.\n",
        "18. Always being on the lookout for potential changes in laws or regulations that could affect the company.\n",
        "19. Sacrificing one's own leisure time and family time to handle contractual issues or work-related disputes.\n",
        "20. Compromising the company's values and vision in order to save on personnel costs.\"\"\"),\n",
        "        ResponseSchema(name=\"alternative_solutions\", description=f\"\"\"MOST CRITICAL AND IMPORTANT INSTRUCTION IS THAT THE OUTPUT SHOULD BE IN ITALIAN LANGUAGE even though prompt is in English.Provide alternative solutions.Create a list of 5 alternative solutions that the buyer persona has tried instead of the company offering but have not worked.It is very important to show output in numbering form instead of paragraph form.Most important to also include subheadings. also use numbering between subheadings.DO NOT show answer in paragraph continous form but rather in a numbering list form.please note that the word count should be a minimum of 300 words. For each alternative solution, explain to the buyer persona in the tone of a trusted friend why the solution they tried probably failed. A good output example is\n",
        "        1. Hiring an in-house labor consultant.You did well to seek an in-house professional, but sometimes a single internal consultant may not have extensive and up-to-date experience with all collective bargaining agreements (CCNL) and legal nuances. Furthermore, being an individual, they may have a limited and less innovative perspective compared to a team of experts.\n",
        "2. Relying on HR software and tools.I understand that technology always seems like the answer, but when it comes to labor law, every situation is unique and requires a human touch. Automated tools may not cover all the nuances or take into account the latest legislative changes.\n",
        "3. Attending courses and seminars on human resource management and contracts.I know you always aim to improve, but attending courses and seminars takes time and doesn't always result in immediate practical application. Moreover, keeping acquired knowledge up to date is a continuous challenge.\n",
        "4. Following the advice of fellow entrepreneurs or friends in the industry.Every company is different, and what works for a friend or colleague may not be suitable for you. Even though the intentions are good, sometimes 'hearsay' solutions are not based on detailed analysis and understanding.\n",
        "5. Ignoring the problem, hoping complications won't arise.Sometimes you might want to bury your head in the sand and hope that everything will resolve itself. But when it comes to labor laws and employee relations, leaving things to chance can lead to even bigger problems in the future.\"\"\"),\n",
        "        ResponseSchema(name=\"trigger_events\", description=\"\"\"MOST CRITICAL AND IMPORTANT INSTRUCTION IS THAT THE OUTPUT SHOULD BE IN ITALIAN LANGUAGE even though prompt is in English.Highlight trigger events that affect the business.Create a list of the top 5 trigger events that lead the target audience to consider purchasing a product similar to that of the company.It is very important to show output in numbering points form instead of paragraph form.very important to also include subheadings.Also very Important to use numbering between subheadings.please note that the word count should be a minimum of 300 words.DO NOT show answer in paragraph continous form but rather in a numbering list form. By trigger events, I mean life events that, once they happen, trigger and unlock new needs and decisions in the consumer's mind. Typically, a trigger event occurs when something in the consumer's life happens that makes them realize they have a problem.A good output example is 1. Recent Union Disputes After a strenuous and costly union dispute, the employer realizes the need for more accurate contract management. This negative experience highlights how essential it is to have proper consultation, not only to prevent further disputes but also to ensure that employees are treated fairly according to current laws.\n",
        "2. Company Expansion If the company plans to hire a large number of employees in a short time or expand into new markets, this can act as a warning signal. The employer may not feel prepared or confident in managing a larger volume of employment contracts and complying with the local laws of new regions or countries.\n",
        "3. Legal Litigation Legal action due to alleged contract violations or unfair treatment can shake the employer's confidence. After dealing with the cumbersome legal system and associated costs, the employer may be motivated to seek a solution to prevent future similar situations.\n",
        "4. Employee Dissatisfaction If a significant number of employees express concerns about their working conditions, or worse, if they start resigning, it can become an alarm bell. This scenario makes it clear that there is a need to review and optimize existing employment contracts.\n",
        "5. Legislative Review Significant changes in labor legislation could act as a trigger. If the government introduces new rules or laws that directly impact employment contracts, the employer may feel inadequate or unprepared to navigate these complex legal waters without expert guidance.\"\"\"),\n",
        "        ResponseSchema(name=\"sad_diary\", description=\"\"\"MOST CRITICAL AND IMPORTANT INSTRUCTION IS THAT THE OUTPUT SHOULD BE IN ITALIAN LANGUAGE even though prompt is in English.Detail the actual situation in the 'Dear Diary' format.Write an emotional diary entry of minimum 500 words from the perspective of the Buyer Persona who has this problem. IT IS VERY IMPORTANT THAT WORD COUNT IS MINIMUM 500 WORDS and to show output in easy to read manner.They don't know how to solve the problems. They feel frustrated, inadequate, and worried. Be creative. A good output example is Dear diary,\n",
        "I find myself reflecting on another day filled with challenges and tensions. The weight on my shoulders seems to grow every day, like a mountain becoming steeper and more insurmountable. I feel the responsibility of lives depending on me, the contracts I make, the salaries I pay every month. It's a burden I never thought would weigh so heavily.\n",
        "Lately, I've noticed that the cost of personnel is becoming unsustainable. Every time I analyze the budget, those red numbers haunt me, challenge me. I want to provide better working conditions for my employees, I want to be proud of what I offer them. But faced with those numbers, I feel helpless.\n",
        "Last week, Marco, one of my best employees, came to my office asking for a raise. His reasons were solid: he's an excellent worker, and in another context, I would have said yes without hesitation. But now? How can I consent when the company margins are so thin? I felt as if my hands were tied. I had to look him in the eyes and tell him to wait, to be patient. That conversation broke my heart.\n",
        "And then there are the unions. I understand their role, I understand they want the best for the workers. But every time I receive a letter or a call from them, I feel a lump in my throat. Afraid that any move I make could trigger a dispute or a protest. I don't want to get into trouble, I don't want my company to be in the spotlight for the wrong reasons. Yet, how do I balance all of this?\n",
        "I feel like I'm walking on a thin rope, desperately trying not to fall on either side. I just wish I could find a way to save, to optimize. A way to make this balance less precarious.\n",
        "I often wonder if I'm up to this challenge. At night, while the world sleeps, I stay awake, obsessed with budgets, numbers, responsibilities. I think about the families of my employees, their dreams, their hopes. And I wonder if they might feel betrayed someday.\n",
        "I'm tired, dear diary. But I can't stop, not now. I have to find a solution, a way to overcome this mountain. For me, for my company, and most importantly, for the people who depend on me.\"\"\"),\n",
        "        ResponseSchema(name=\"happy_diary\", description=\"\"\"MOST CRITICAL AND IMPORTANT INSTRUCTION IS THAT THE OUTPUT SHOULD BE IN ITALIAN LANGUAGE even though prompt is in English.Describe the ideal situation in the 'Dream Situation' format.Write a 500-word emotional diary entry from the perspective of the Buyer Persona who used to have the problem but now is in a DREAM SITUATION.IT IS VERY IMPORTANT THAT WORD COUNT SHOULD BE ATLEAST 800 words and to show output in easy to read manner.They feel proud, unstoppable, and happy. Be creative. A good example is Dear diary,\n",
        "Today, I find myself reflecting on an incredible journey, a path through uncertainty and frustration that has found an enlightening direction. The light at the end of the tunnel, as they say, is not just a metaphor. It's a palpable sensation, a surge of energy that fills you from within.\n",
        "Do you remember when I wrote to you about sleepless nights, concerns about the rising cost of personnel, seemingly insurmountable challenges I faced? I felt like a castaway in the middle of a stormy sea, searching for a compass, a signal, anything that could point me in the right direction. And then Stefano Alemanno came along.\n",
        "Stefano is not just a consultant; to me, he has been a beacon in the dark. With his deep knowledge of collective labor agreements (CCNL) and his ability to find the ideal solution for every situation, he helped me see the big picture. What was once a tangled puzzle of numbers and clauses became as clear as day.\n",
        "Thanks to him, I discovered that I could save up to €2,000 per year per employee, and the extraordinary thing is that I didn't have to make sacrifices on their salaries. On the contrary, I could offer larger bonuses and higher wages. Imagine, dear diary, the surprise and joy of my employees when they found out that not only would they not face cuts, but they would earn more!\n",
        "The change wasn't just financial. The atmosphere in the office is transformed. I see smiles, hear laughter, and we all sense a feeling of unity and belonging. When one is happy, they are more productive, more engaged, and the entire company benefits.\n",
        "And me? I feel like I've conquered the world. Every morning when I step into the office, I feel proud of what I've achieved. I feel unstoppable. The confidence Stefano instilled in me is reflected in every decision I make, in every project I undertake.\n",
        "The challenges haven't disappeared, dear diary, but now I have the tools and the vision to face them. And I also have a team of happy and motivated employees by my side, ready to give their best in every situation.\n",
        "Today, as I reflect on this incredible journey of transformation, I can't help but think of all those employers out there who are still in the dark, still searching for a solution. I wish I could share with them the magic of Stefano Alemanno. Because every company, big or small, deserves to shine.\"\"\"),\n",
        "        ResponseSchema(name=\"FAQ\", description=\"\"\"MOST CRITICAL AND IMPORTANT INSTRUCTION IS THAT THE OUTPUT SHOULD BE IN ITALIAN LANGUAGE even though prompt is in English.Define the top 10 FAQs Frequently Asked Questions that users have about the product offered by this company.It is very important to show output in list form instead of paragraph form.Very important to use numbering between FAQs.A good example of output is 1. How can Stefano Alemanno help me reduce personnel costs without reducing salaries?\n",
        "   Stefano Alemanno takes a strategic approach to identify inefficiencies and optimize cost structures. This may include renegotiating existing contracts, exploring tax or contribution incentives, and internal reorganization, all without affecting employee salaries.\n",
        "2. How can Stefano Alemanno increase flexibility in employment contracts?\n",
        "   Through a detailed analysis of business needs and existing contracts, Stefano can propose customized solutions, including fixed-term contracts, part-time work, telecommuting, or other forms of flexible work that comply with current legislation.\n",
        "3. How can Stefano Alemanno help me prevent labor disputes?\n",
        "   With his expertise in industrial relations, Stefano can provide advice on establishing constructive dialogue with labor representatives, preventing conflict situations through effective communication and negotiation of fair agreements.\n",
        "4. What is Stefano Alemanno's experience in specific sectors?\n",
        "   While Stefano Alemanno has chosen not to operate in construction and agriculture, he has experience in a variety of other sectors, allowing him to offer personalized solutions for SMEs in different market areas.\n",
        "5. What are the costs of Stefano Alemanno's consulting services?\n",
        "   Costs can vary depending on the complexity and duration of the required interventions. An initial consultation can be arranged to discuss specific needs and receive a detailed quote.\n",
        "6. How is the impact of cost optimization strategies for labor measured?\n",
        "   Stefano uses key performance indicators (KPIs) to assess the impact of implemented strategies, providing regular reports on cost efficiency and organizational well-being.\n",
        "7. Is it possible to have support in the day-to-day management of human resources?\n",
        "   In addition to strategic consulting, Stefano Alemanno can assist in the operational management of human resources, offering ongoing support or specific project-based assistance.\n",
        "8. Does Stefano Alemanno provide in-house training for managers or HR departments?\n",
        "   Yes, Stefano can design and conduct customized training sessions to develop internal skills in labor cost management and optimization, as well as contract negotiation.\n",
        "9. Are there sectors in which Stefano Alemanno does not operate?\n",
        "   As mentioned, Stefano prefers not to operate in construction and agriculture but is available to work with companies in all other sectors not falling within these categories.\n",
        "10. What is the process for starting to work with Stefano Alemanno?\n",
        "    To begin, companies can contact Stefano for an initial assessment of their needs. Following this initial meeting, a detailed proposal outlining the scope of services, action plan, and cost estimate will be provided.\"\"\")\n",
        "    ]\n",
        "    schema_output_template = StructuredOutputParser.from_response_schemas(response_schema)\n",
        "    market_research_format_instructions = schema_output_template.get_format_instructions()\n",
        "\n",
        "    template_string = dedent(\"\"\"\n",
        "    Today, you are a very detail-oriented marketing analyst. I want you to create the ideal buyer profile for {Brand_Name} who deals with: {Product} for optimizing labor costs, increasing flexibility, and avoiding succumbing to disputes.\n",
        "    The problem that this company solves is as follows: {Problem_Solved}.\n",
        "    Here is some information on the target market: {Industry}.\n",
        "    Based on this information, carry out an analysis on the demographic data of this market, behaving as if you were an analyst.\n",
        "    Your answer must contain this information on the target market: age range, Occupation, Annual Income, Marital Status, Family Situation, location. Be exhaustive in the answer and dig as deep as possible.\n",
        "\n",
        "    - Demographic - Step 1: {Brand_Name}, {Industry}, {Value_Proposition}, {Product}, {Problem_Solved}\n",
        "    - Psychographic - Step 2: {Brand_Name}\n",
        "    - Fears - Step 3: {Problem_Solved}\n",
        "    - Desires - Step 4: {Problem_Solved}\n",
        "    - Obstacles - Step 5:\n",
        "    - Alternative Solutions - Step 6: {Brand_Name}, {Product}\n",
        "    - Trigger Events - Step 7: {Brand_Name}\n",
        "    - Sad Diary Page - Step 8: {Target_Market}, {Problem}, {Problem_Solved}\n",
        "    - Happy Diary Page - Step 9: {Target_Market}, {Problem}, {Dream_Situation}\n",
        "    - FAQ: {Brand_Name}\n",
        "\n",
        "    {market_research_format_instructions}\n",
        "    \"\"\")\n",
        "\n",
        "    prompt_template = ChatPromptTemplate.from_template(template_string)\n",
        "    print(market_research_format_instructions)\n",
        "    messages = prompt_template.format_messages(\n",
        "        Brand_Name=Brand_Name,\n",
        "        Product=Product,\n",
        "        Problem_Solved=Problem_Solved,\n",
        "        Industry=Industry,\n",
        "        Target_Market=Target_Market,\n",
        "        Problem=Problem,\n",
        "        Dream_Situation=Dream_Situation,\n",
        "        Value_Proposition=Value_Proposition,\n",
        "        market_research_format_instructions=market_research_format_instructions\n",
        "\n",
        "    )\n",
        "    print(messages)\n",
        "\n",
        "    response = llm(messages)\n",
        "    print(response)\n",
        "    response_as_dict = schema_output_template.parse(response.content)\n",
        "\n",
        "    return json.dumps(response_as_dict)\n",
        "\n",
        "# ...\n",
        "\n",
        "def ApiSend(reformatted_data,mrId):\n",
        "    url = \"https://copywraiter.bubbleapps.io/version-test/api/1.1/wf/mr2\"\n",
        "    headers = {\n",
        "        \"Authorization\": \"Bearer \"\n",
        "    }\n",
        "    params = {\n",
        "        \"market_research\": mrId,\n",
        "        \"demographics\": reformatted_data['demographics'],\n",
        "        \"psychographics\": reformatted_data['psychographics'],\n",
        "        \"fears\": reformatted_data['fears'],\n",
        "        \"desires\": reformatted_data['desires'],\n",
        "        \"obstacles\": reformatted_data['obstacles'],\n",
        "        \"alternative_solutions\": reformatted_data['alternative_solutions'],\n",
        "        \"trigger_events\": reformatted_data['trigger_events'],\n",
        "        \"sad_diary\": reformatted_data['sad_diary'],\n",
        "        \"happy_diary\": reformatted_data['happy_diary'],\n",
        "        \"FAQ\": reformatted_data['FAQ']\n",
        "    }\n",
        "\n",
        "    response = requests.post(url, headers=headers, data=params)\n",
        "\n",
        "    if response.status_code == 200:\n",
        "        data = json.loads(response.text)\n",
        "        print(data)\n",
        "    else:\n",
        "        print(f\"Request failed with status code {response.status_code}\")\n",
        "\n",
        "\n",
        "def process_request(request):\n",
        "    if request.method != 'POST':\n",
        "        return 'Only POST requests are accepted', 405\n",
        "\n",
        "    data = request.get_json()\n",
        "\n",
        "    # Directly get the values from the request data\n",
        "    Brand_Name = data.get('Brand Name')\n",
        "    Product = data.get('Product')\n",
        "    Problem_Solved = data.get('Problem Solved')\n",
        "    Industry = data.get('Industry')\n",
        "    Target_Market = data.get('Target Market')\n",
        "    Problem = data.get('Problem')\n",
        "    Dream_Situation = data.get('Dream Situation')\n",
        "    Value_Proposition = data.get('Value Proposition')\n",
        "    mrId=data.get('mrID')\n",
        "\n",
        "    # Check if all required parameters are present\n",
        "    if not all([Brand_Name, Product, Problem_Solved, Industry, Target_Market, Problem, Dream_Situation, Value_Proposition]):\n",
        "        return json.dumps({'error': 'Bad input: Missing necessary fields'}), 400\n",
        "\n",
        "    try:\n",
        "\n",
        "        reformatted_data = reformat_market_research(Brand_Name, Product, Problem_Solved, Industry, Target_Market, Problem, Dream_Situation, Value_Proposition)\n",
        "        reformatted_data = json.loads(reformatted_data)\n",
        "        ApiSend(reformatted_data,mrId)\n",
        "    except Exception as e:\n",
        "        return json.dumps({'error': f'Error processing market research: {str(e)}'}), 500\n",
        "\n",
        "    return reformatted_data, 200\n"
      ]
    },
    {
      "cell_type": "code",
      "execution_count": null,
      "metadata": {
        "colab": {
          "base_uri": "https://localhost:8080/",
          "height": 1000
        },
        "id": "5mNcduKhc5Lq",
        "outputId": "ebdf6b8c-59a4-4641-d095-6b99ba565497"
      },
      "outputs": [
        {
          "name": "stdout",
          "output_type": "stream",
          "text": [
            "The output should be a markdown code snippet formatted in the following schema, including the leading and trailing \"```json\" and \"```\":\n",
            "\n",
            "```json\n",
            "{\n",
            "\t\"demographics\": string  // MOST CRITICAL AND IMPORTANT INSTRUCTION IS THAT THE OUTPUT SHOULD BE IN ITALIAN LANGUAGE even though prompt is in English.It is very important to show output in numbering form in a list instead of paragraph form. very important information is to include subheadings.and also to use numbering between subheadings to separate them.DO NOT show answer in paragraph continous form but rather in a numbering list form. please note that the word count should be a minimum of 300 words.Provide the demographic details of \"Coca cola company\" such as Age, Income, and Relationship Status. Based on this information provided for inputs for market research, I want you to create an ideal buyer for this company and also perform an analysis on the demographic data of this market, behaving as if you were an analyst. Your response should contain the following information about the target market: age range, occupation, annual income, marital status, family situation, location. Be thorough in your response and dig as deep as possible. An good output example is \"Demographic Data:\n",
            "1. Age Group\n",
            "   Ages ranging from 30 to 60 years old. It is assumed that entrepreneurs or managers of SMEs with a workforce of 10-100 employees are in the full maturity of their careers or are starting/managing a family business, so they may have started at a relatively young age or acquired skills and resources over the years.\n",
            "2. Occupation\n",
            "   Owners of SMEs, CEOs, HR Managers, and business consultants operating in various sectors other than construction and agriculture.\n",
            "3. Annual Income\n",
            "    Variable depending on the sector and the size of the company, but we can estimate an annual income ranging from €50,000 to €500,000. This range takes into account both SMEs in the startup phase with more modest earnings and established ones in growth with significantly higher incomes.\n",
            "4. Marital Status\n",
            "    Married individuals or those in a stable relationship may prevail, given their age group and greater propensity for taking business risks with family support. However, there will also be single or divorced entrepreneurs in our segmentation.\n",
            "5. Family Situation\n",
            "    Many of these individuals may have families with children. This could influence their need for financial stability and their willingness to optimize business costs.\n",
            "6. Location\n",
            "    Mainly in urban or peri-urban areas, where SMEs are more likely to be concentrated. These areas offer access to a larger workforce, infrastructure, and markets. It may also consider a radius of 50-100 km from major Italian cities since many SMEs may be located in industrial areas just outside major metropolitan areas.\n",
            "    Please note once again MOST CRITICAL AND IMPORTANT INSTRUCTION IS THAT THE OUTPUT SHOULD BE IN ITALIAN LANGUAGE.\n",
            "\t\"psychographics\": string  // MOST CRITICAL AND IMPORTANT INSTRUCTION IS THAT THE OUTPUT SHOULD BE IN ITALIAN LANGUAGE even though prompt is in English.I want you to create the psychographic profile of the ideal buyer for the company. It is very important to show output in numbering form in a list instead of paragraph form. and very Important is also to include subheadings. also use numbering between subheadings.DO NOT show answer in paragraph continous form but rather in a numbering list form.please note that he word count should be a minimum of 300 words.Based on the information in market research, perform an analysis on the psychographic data of this market. Provide all the information you deem necessary and that will be useful for creating an effective marketing campaign.Your response should contain the following information about the target market: Personal traits, Hobbies, Interests, Personal aspirations, Professional goals, Pains, Primary challenges, Dreams. Do not provide mediocre or superficial answers. Be comprehensive in your response and dig as deeply as possible. A good output example is Psychographic Data:\n",
            "1. Personal Traits\n",
            "    Decision-makers As owners or executives, they are accustomed to making significant decisions for the company.\n",
            "    Problem-solvers They seek concrete solutions to business problems.\n",
            "    Visionaries They look to the future and are always on the lookout for growth opportunities.\n",
            "    Responsible They feel the weight of responsibilities towards their employees and the company.\n",
            "    Pragmatic They carefully assess the cost-benefit ratio when making decisions.\n",
            "2. Hobbies\n",
            "    Reading industry books or magazines to stay updated on the market.\n",
            "    Networking through industry events or workshops.\n",
            "    Travel, both for business and leisure.\n",
            "    Sports or relaxation activities to balance work-related stress.\n",
            "3. Interests\n",
            "    Innovation and technologies that can improve business efficiency.\n",
            "    Personal development and training.\n",
            "    Leadership and personnel management strategies.\n",
            "    Market trends and competitive analysis.\n",
            "4. Personal Aspirations\n",
            "    Financial stability and well-being for themselves and their families.\n",
            "    Personal and professional growth.\n",
            "    Recognition in their industry as leaders or references.\n",
            "5. Professional Goals\n",
            "    Expanding and consolidating the company in the market.\n",
            "    Cost optimization and profit maximization.\n",
            "    Creating a stable and productive work environment.\n",
            "    Effective management of labor relations and prevention of disputes.\n",
            "6. Pains\n",
            "    Concerns about liquidity and financial sustainability.\n",
            "    Complex management of employee relationships and contracts.\n",
            "    Fear of making wrong decisions that could compromise the company.\n",
            "    Stress related to potential labor disputes.\n",
            "7. Primary Challenges\n",
            "    Navigating a continuously evolving market and variable economic conditions.\n",
            "    Recruiting and retaining talent.\n",
            "    Balancing the company's immediate needs with long-term goals.\n",
            "    Maintaining a balance between employee expectations and the company's financial capabilities.\n",
            "8. Dreams\n",
            "    Seeing their company thrive and become a reference point in their industry.\n",
            "    Leaving a lasting legacy, whether it's a solid company or a tangible symbol of their success.\n",
            "    Making a positive impact on the community or the industry as a whole.\n",
            "    Reaching a position where they can enjoy the fruits of their hard work, perhaps with less daily stress.\n",
            "    please note once again MOST CRITICAL AND IMPORTANT INSTRUCTION IS THAT THE OUTPUT SHOULD BE IN ITALIAN LANGUAGE even though prompt is in English\n",
            "\t\"fears\": string  // MOST CRITICAL AND IMPORTANT INSTRUCTION IS THAT THE OUTPUT SHOULD BE IN ITALIAN LANGUAGE even though prompt is in English.Vividly describe 5 fears that the buyer persona has regarding their problem and what would happen if they didn't address it.It is very important to show output in numbering form in a list instead of paragraph form.Also very very important to also include subheadings of DESCRIPTION and IMPACT ON RELATIONSHIPS along with details and explanation.please note that he word count should be a minimum of 300 words.DO NOT show answer in paragraph continous form but rather in a numbering list form. I don't want boring or superficial answers. Tell me the deepest fears that the buyer persona wouldn't admit out loud unless they were heard by others. Fears that often keep them awake at night.For each fear, give me specific examples of how each of these 5 fears would impact their relationships. Be vivid, descriptive, and emotional.What impact would these fears if realized have on the people surrounding the buyer persona? In the worst case, how would these people treat her? Good examples are 1. Fear of Bankruptcy\n",
            "    Description The overriding concern that excessive costs and poor employee contract management could lead the company to bankruptcy.\n",
            "    Impact on relationships. If the company were to close, all employees would lose their jobs, causing anger and disappointment. Friends and family might start seeing them as a \"failure\" or someone incapable of running a business. This could lead to tensions in family relationships and distancing from old friends and colleagues.\n",
            "    How they would be treated. They might avoid talking to them, consider them a loser, or blame them for the loss of their income and benefits.\n",
            "2. Fear of Losing Control\n",
            "    Description The overwhelming feeling of not being able to control the situation, feeling overwhelmed by events.\n",
            "    Impact on relationships Their inability to manage finances and contracts could lead them to appear stressed or irritable, damaging relationships with employees, partners, and family.\n",
            "    How they would be treated They would see them as an incapable boss, generating distrust and resentment. Family members might become protective or condescending, treating them as someone vulnerable.\n",
            "3. Fear of Social Judgment\n",
            "    Description Concern about being harshly judged by colleagues, competitors, and even friends and family for failing to manage the business properly.\n",
            "    Impact on relationships Social and networking events could become sources of anxiety. They might start avoiding meetings, company retreats, or dinners with colleagues for fear of comments and gossip.\n",
            "    How they would be treated They might be excluded from crucial business decisions or receive subtle and sarcastic comments about their ability. In certain contexts, they could be the subject of gossip or ridicule.\n",
            "4. Fear of Not Being Good Enough\n",
            "    Description Worrying about not being competent or prepared enough to handle the challenges that the company presents.\n",
            "    Impact on relationships This insecurity could lead them to avoid taking on responsibilities or make unfulfilled promises to employees, damaging their reputation as a leader.\n",
            "    How they would be treated Employees might lose respect for them, questioning their decisions or trying to \"bypass\" them in decision-making processes. Family members might express concern or doubt their abilities.\n",
            "5. Fear of Irreparably Damaging the Company\n",
            "    Description The anguish that a single bad decision could have lasting effects and irreparably damage the company's reputation and stability.\n",
            "    Impact on relationships The fear of damaging the company could lead them to become overly cautious or indecisive, frustrating employees seeking clarity and direction. Their caution could also alienate potential business partners or investors.\n",
            "    How they would be treated They might be considered too timid or indecisive to be a true leader. Employees might seek opportunities elsewhere, and partners might hesitate to do business with them, fearing their lack of determination or vision. \n",
            "    please note once again that the MOST CRITICAL AND IMPORTANT INSTRUCTION IS THAT THE OUTPUT SHOULD BE IN ITALIAN LANGUAGE even though prompt is in English.\n",
            "\t\"desires\": string  // MOST CRITICAL AND IMPORTANT INSTRUCTION IS THAT THE OUTPUT SHOULD BE IN ITALIAN LANGUAGE even though prompt is in English.Detail the desires and wishes of the target market.Vividly describe 5 desires that the buyer persona has regarding their problem and what would happen if they were to achieve them.It is very important to show output in numbering or bullet points form instead of paragraph form.Very very important important to also include subheadings of DESCRIPTION and IMPACT ON RELATIONSHIPS along with details and explanation.DO NOT show answer in paragraph continous form but rather in a numbering list form.please note that the word count should be a minimum of 300 words. I don't want boring or superficial answers. Tell me the deepest desires that the buyer persona wouldn't admit out loud unless they were heard by others. Desires for which they would be willing to do anything to realize. For each desire, give me specific examples of how each of these 5 desires would impact their relationships. Be vivid, descriptive, and emotional.What impact would these desires if realized have on the people surrounding the buyer persona? In the best case, how would these people treat her? Push the boundaries of her wildest imagination.A good output example is Desires\n",
            "1. Desire for Omnipotence in Contract Management\n",
            "    Description The hidden desire to have such complete and perfect knowledge of employment contracts that every detail can be manipulated to one's advantage, ensuring that every decision made leads to the desired success.\n",
            "    Impact on Relationships Other administrators and employees would see the person as a true \"Contract Wizard,\" capable of working miracles in terms of personnel management.\n",
            "    How They Would Be Treated They would be respected and admired as an almost mythical figure, seeking their advice and trying to learn their \"secret.\"\n",
            "2. Desire for Immunity from Union Issues\n",
            "    Description The dream of creating contracts so perfect and well-calibrated that they render one immune to any union disputes or industrial relations problems.\n",
            "    Impact on Relationships With such ability, unions and employees would see them as an ally rather than an adversary.\n",
            "    How They Would Be Treated They would be perceived as enlightened, a fair and just leader who knows exactly how to balance the interests of the company with those of the employees.\n",
            "3. Desire for Perfect Harmony\n",
            "    Description The burning desire to create a work environment so harmonious and productive that every employee wakes up in the morning looking forward to coming to work.\n",
            "    Impact on Relationships This would lead to unprecedented company productivity and a climate of support and collaboration among employees.\n",
            "    How They Would Be Treated They would be revered as an enlightened entrepreneur, with a company where everyone works happily and passionately toward common goals.\n",
            "4. Desire for Global Recognition\n",
            "    Description The secret dream of being recognized internationally as the expert in employment contracts, with companies from around the world seeking their advice.\n",
            "    Impact on Relationships They would be seen as a true rockstar in the business world, with colleagues and competitors asking for their advice.\n",
            "    How They Would Be Treated With admiration and a touch of envy, they would be considered a shining example to follow.\n",
            "5. Desire for Talent Magnetism\n",
            "    Description The burning desire to be recognized as the employer of choice in the industry, thanks to the ability to offer irresistible contracts and working conditions. In their vision, the company becomes a shining beacon that attracts the best talents, often unreachable for other companies due to their high demands or career ambitions.\n",
            "    Impact on Relationships Current employees would welcome the arrival of these new talents with enthusiasm, knowing that the company is reaching new levels of excellence. Newcomers, on the other hand, would be ecstatic and grateful to have found a company that truly respects their skills and aspirations.\n",
            "    How They Would Be Treated The buyer persona would be seen as a visionary, capable not only of managing a company but of making it a true \"home\" for talents. Employees would consider them as an enlightened leader, under whose guidance they can grow professionally and personally. The atmosphere within the company would be electric, with a pervasive feeling of gratitude and admiration. On the outside, other employers would watch them with envy, eager to decipher their \"secret\" for attracting such talents.\n",
            "    please note once again that the MOST CRITICAL AND IMPORTANT INSTRUCTION IS THAT THE OUTPUT SHOULD BE IN ITALIAN LANGUAGE even though prompt is in English.\n",
            "\t\"obstacles\": string  // MOST CRITICAL AND IMPORTANT INSTRUCTION IS THAT THE OUTPUT SHOULD BE IN ITALIAN LANGUAGE even though prompt is in English.Identify the obstacles or challenges faced by the business.It is very important to show output in numbering or bullet points form instead of paragraph form.very important to also include subheadings.also use numbering between subheadings.please note that he word count should be a minimum of 300 words.DO NOT show answer in paragraph continous form but rather in a numbering list form.In this ideal scenario, now list 20 things that the Buyer persona does not want to do to achieve all these extraordinary results. They can be perceived obstacles or challenges, skills that the target persona lacks, or simply actions they do not want to take. Be specific.a good output example is1. Spending hours studying labor regulations and various collective bargaining agreements to understand the nuances.\n",
            "2. Dedicate entire days to the search for suitable consultants or legal professionals.\n",
            "3. Dealing with union disputes or employee disputes on contractual issues.\n",
            "4. Investing huge sums in courses and training to stay updated on labor laws.\n",
            "5. Experimenting through trial and error, risking making wrong decisions.\n",
            "6. Devoting time and energy to negotiating each individual contract with employees.\n",
            "7. Having to hold frequent meetings with staff to explain contractual changes or updates.\n",
            "8. Dealing with the bureaucracy of various government agencies and public offices.\n",
            "9. Running the risk of sanctions or fines for not complying with regulations.\n",
            "10. Continuously engaging with unions or worker representatives.\n",
            "11. Struggling with a poor industry reputation due to unpopular or incorrect decisions.\n",
            "12. Continuously reviewing the company's salary structure to ensure it is competitive.\n",
            "13. Needing to implement complex employee monitoring and management systems.\n",
            "14. Working constantly in a stressful situation, fearing that a small mistake could cost the company dearly.\n",
            "15. Managing frequent turnover due to non-ideal contractual conditions.\n",
            "16. Having to aggressively compete with other companies for talent by offering more and more benefits.\n",
            "17. Denying vacations or benefits to employees because they are not provided for in the contract.\n",
            "18. Always being on the lookout for potential changes in laws or regulations that could affect the company.\n",
            "19. Sacrificing one's own leisure time and family time to handle contractual issues or work-related disputes.\n",
            "20. Compromising the company's values and vision in order to save on personnel costs.\n",
            "\t\"alternative_solutions\": string  // MOST CRITICAL AND IMPORTANT INSTRUCTION IS THAT THE OUTPUT SHOULD BE IN ITALIAN LANGUAGE even though prompt is in English.Provide alternative solutions.Create a list of 5 alternative solutions that the buyer persona has tried instead of the company offering but have not worked.It is very important to show output in numbering form instead of paragraph form.Most important to also include subheadings. also use numbering between subheadings.DO NOT show answer in paragraph continous form but rather in a numbering list form.please note that the word count should be a minimum of 300 words. For each alternative solution, explain to the buyer persona in the tone of a trusted friend why the solution they tried probably failed. A good output example is \n",
            "        1. Hiring an in-house labor consultant.You did well to seek an in-house professional, but sometimes a single internal consultant may not have extensive and up-to-date experience with all collective bargaining agreements (CCNL) and legal nuances. Furthermore, being an individual, they may have a limited and less innovative perspective compared to a team of experts.\n",
            "2. Relying on HR software and tools.I understand that technology always seems like the answer, but when it comes to labor law, every situation is unique and requires a human touch. Automated tools may not cover all the nuances or take into account the latest legislative changes.\n",
            "3. Attending courses and seminars on human resource management and contracts.I know you always aim to improve, but attending courses and seminars takes time and doesn't always result in immediate practical application. Moreover, keeping acquired knowledge up to date is a continuous challenge.\n",
            "4. Following the advice of fellow entrepreneurs or friends in the industry.Every company is different, and what works for a friend or colleague may not be suitable for you. Even though the intentions are good, sometimes 'hearsay' solutions are not based on detailed analysis and understanding.\n",
            "5. Ignoring the problem, hoping complications won't arise.Sometimes you might want to bury your head in the sand and hope that everything will resolve itself. But when it comes to labor laws and employee relations, leaving things to chance can lead to even bigger problems in the future.\n",
            "\t\"trigger_events\": string  // MOST CRITICAL AND IMPORTANT INSTRUCTION IS THAT THE OUTPUT SHOULD BE IN ITALIAN LANGUAGE even though prompt is in English.Highlight trigger events that affect the business.Create a list of the top 5 trigger events that lead the target audience to consider purchasing a product similar to that of the company.It is very important to show output in numbering points form instead of paragraph form.very important to also include subheadings.Also very Important to use numbering between subheadings.please note that the word count should be a minimum of 300 words.DO NOT show answer in paragraph continous form but rather in a numbering list form. By trigger events, I mean life events that, once they happen, trigger and unlock new needs and decisions in the consumer's mind. Typically, a trigger event occurs when something in the consumer's life happens that makes them realize they have a problem.A good output example is 1. Recent Union Disputes After a strenuous and costly union dispute, the employer realizes the need for more accurate contract management. This negative experience highlights how essential it is to have proper consultation, not only to prevent further disputes but also to ensure that employees are treated fairly according to current laws.\n",
            "2. Company Expansion If the company plans to hire a large number of employees in a short time or expand into new markets, this can act as a warning signal. The employer may not feel prepared or confident in managing a larger volume of employment contracts and complying with the local laws of new regions or countries.\n",
            "3. Legal Litigation Legal action due to alleged contract violations or unfair treatment can shake the employer's confidence. After dealing with the cumbersome legal system and associated costs, the employer may be motivated to seek a solution to prevent future similar situations.\n",
            "4. Employee Dissatisfaction If a significant number of employees express concerns about their working conditions, or worse, if they start resigning, it can become an alarm bell. This scenario makes it clear that there is a need to review and optimize existing employment contracts.\n",
            "5. Legislative Review Significant changes in labor legislation could act as a trigger. If the government introduces new rules or laws that directly impact employment contracts, the employer may feel inadequate or unprepared to navigate these complex legal waters without expert guidance.\n",
            "\t\"sad_diary\": string  // MOST CRITICAL AND IMPORTANT INSTRUCTION IS THAT THE OUTPUT SHOULD BE IN ITALIAN LANGUAGE even though prompt is in English.Detail the actual situation in the 'Dear Diary' format.Write an emotional diary entry of minimum 500 words from the perspective of the Buyer Persona who has this problem. IT IS VERY IMPORTANT THAT WORD COUNT IS MINIMUM 500 WORDS and to show output in easy to read manner.They don't know how to solve the problems. They feel frustrated, inadequate, and worried. Be creative. A good output example is Dear diary,\n",
            "I find myself reflecting on another day filled with challenges and tensions. The weight on my shoulders seems to grow every day, like a mountain becoming steeper and more insurmountable. I feel the responsibility of lives depending on me, the contracts I make, the salaries I pay every month. It's a burden I never thought would weigh so heavily.\n",
            "Lately, I've noticed that the cost of personnel is becoming unsustainable. Every time I analyze the budget, those red numbers haunt me, challenge me. I want to provide better working conditions for my employees, I want to be proud of what I offer them. But faced with those numbers, I feel helpless.\n",
            "Last week, Marco, one of my best employees, came to my office asking for a raise. His reasons were solid: he's an excellent worker, and in another context, I would have said yes without hesitation. But now? How can I consent when the company margins are so thin? I felt as if my hands were tied. I had to look him in the eyes and tell him to wait, to be patient. That conversation broke my heart.\n",
            "And then there are the unions. I understand their role, I understand they want the best for the workers. But every time I receive a letter or a call from them, I feel a lump in my throat. Afraid that any move I make could trigger a dispute or a protest. I don't want to get into trouble, I don't want my company to be in the spotlight for the wrong reasons. Yet, how do I balance all of this?\n",
            "I feel like I'm walking on a thin rope, desperately trying not to fall on either side. I just wish I could find a way to save, to optimize. A way to make this balance less precarious.\n",
            "I often wonder if I'm up to this challenge. At night, while the world sleeps, I stay awake, obsessed with budgets, numbers, responsibilities. I think about the families of my employees, their dreams, their hopes. And I wonder if they might feel betrayed someday.\n",
            "I'm tired, dear diary. But I can't stop, not now. I have to find a solution, a way to overcome this mountain. For me, for my company, and most importantly, for the people who depend on me.\n",
            "\t\"happy_diary\": string  // MOST CRITICAL AND IMPORTANT INSTRUCTION IS THAT THE OUTPUT SHOULD BE IN ITALIAN LANGUAGE even though prompt is in English.Describe the ideal situation in the 'Dream Situation' format.Write a 500-word emotional diary entry from the perspective of the Buyer Persona who used to have the problem but now is in a DREAM SITUATION.IT IS VERY IMPORTANT THAT WORD COUNT SHOULD BE ATLEAST 800 words and to show output in easy to read manner.They feel proud, unstoppable, and happy. Be creative. A good example is Dear diary,\n",
            "Today, I find myself reflecting on an incredible journey, a path through uncertainty and frustration that has found an enlightening direction. The light at the end of the tunnel, as they say, is not just a metaphor. It's a palpable sensation, a surge of energy that fills you from within.\n",
            "Do you remember when I wrote to you about sleepless nights, concerns about the rising cost of personnel, seemingly insurmountable challenges I faced? I felt like a castaway in the middle of a stormy sea, searching for a compass, a signal, anything that could point me in the right direction. And then Stefano Alemanno came along.\n",
            "Stefano is not just a consultant; to me, he has been a beacon in the dark. With his deep knowledge of collective labor agreements (CCNL) and his ability to find the ideal solution for every situation, he helped me see the big picture. What was once a tangled puzzle of numbers and clauses became as clear as day.\n",
            "Thanks to him, I discovered that I could save up to €2,000 per year per employee, and the extraordinary thing is that I didn't have to make sacrifices on their salaries. On the contrary, I could offer larger bonuses and higher wages. Imagine, dear diary, the surprise and joy of my employees when they found out that not only would they not face cuts, but they would earn more!\n",
            "The change wasn't just financial. The atmosphere in the office is transformed. I see smiles, hear laughter, and we all sense a feeling of unity and belonging. When one is happy, they are more productive, more engaged, and the entire company benefits.\n",
            "And me? I feel like I've conquered the world. Every morning when I step into the office, I feel proud of what I've achieved. I feel unstoppable. The confidence Stefano instilled in me is reflected in every decision I make, in every project I undertake.\n",
            "The challenges haven't disappeared, dear diary, but now I have the tools and the vision to face them. And I also have a team of happy and motivated employees by my side, ready to give their best in every situation.\n",
            "Today, as I reflect on this incredible journey of transformation, I can't help but think of all those employers out there who are still in the dark, still searching for a solution. I wish I could share with them the magic of Stefano Alemanno. Because every company, big or small, deserves to shine.\n",
            "\t\"FAQ\": string  // MOST CRITICAL AND IMPORTANT INSTRUCTION IS THAT THE OUTPUT SHOULD BE IN ITALIAN LANGUAGE even though prompt is in English.Define the top 10 FAQs Frequently Asked Questions that users have about the product offered by this company.It is very important to show output in list form instead of paragraph form.Very important to use numbering between FAQs.A good example of output is 1. How can Stefano Alemanno help me reduce personnel costs without reducing salaries?\n",
            "   Stefano Alemanno takes a strategic approach to identify inefficiencies and optimize cost structures. This may include renegotiating existing contracts, exploring tax or contribution incentives, and internal reorganization, all without affecting employee salaries.\n",
            "2. How can Stefano Alemanno increase flexibility in employment contracts?\n",
            "   Through a detailed analysis of business needs and existing contracts, Stefano can propose customized solutions, including fixed-term contracts, part-time work, telecommuting, or other forms of flexible work that comply with current legislation.\n",
            "3. How can Stefano Alemanno help me prevent labor disputes?\n",
            "   With his expertise in industrial relations, Stefano can provide advice on establishing constructive dialogue with labor representatives, preventing conflict situations through effective communication and negotiation of fair agreements.\n",
            "4. What is Stefano Alemanno's experience in specific sectors?\n",
            "   While Stefano Alemanno has chosen not to operate in construction and agriculture, he has experience in a variety of other sectors, allowing him to offer personalized solutions for SMEs in different market areas.\n",
            "5. What are the costs of Stefano Alemanno's consulting services?\n",
            "   Costs can vary depending on the complexity and duration of the required interventions. An initial consultation can be arranged to discuss specific needs and receive a detailed quote.\n",
            "6. How is the impact of cost optimization strategies for labor measured?\n",
            "   Stefano uses key performance indicators (KPIs) to assess the impact of implemented strategies, providing regular reports on cost efficiency and organizational well-being.\n",
            "7. Is it possible to have support in the day-to-day management of human resources?\n",
            "   In addition to strategic consulting, Stefano Alemanno can assist in the operational management of human resources, offering ongoing support or specific project-based assistance.\n",
            "8. Does Stefano Alemanno provide in-house training for managers or HR departments?\n",
            "   Yes, Stefano can design and conduct customized training sessions to develop internal skills in labor cost management and optimization, as well as contract negotiation.\n",
            "9. Are there sectors in which Stefano Alemanno does not operate?\n",
            "   As mentioned, Stefano prefers not to operate in construction and agriculture but is available to work with companies in all other sectors not falling within these categories.\n",
            "10. What is the process for starting to work with Stefano Alemanno?\n",
            "    To begin, companies can contact Stefano for an initial assessment of their needs. Following this initial meeting, a detailed proposal outlining the scope of services, action plan, and cost estimate will be provided.\n",
            "}\n",
            "```\n",
            "[HumanMessage(content='\\nToday, you are a very detail-oriented marketing analyst. I want you to create the ideal buyer profile for Coca cola company who deals with: adc for optimizing labor costs, increasing flexibility, and avoiding succumbing to disputes.\\nThe problem that this company solves is as follows: increased sales . \\nHere is some information on the target market: Information Technology. \\nBased on this information, carry out an analysis on the demographic data of this market, behaving as if you were an analyst.\\nYour answer must contain this information on the target market: age range, Occupation, Annual Income, Marital Status, Family Situation, location. Be exhaustive in the answer and dig as deep as possible.\\n\\n- Demographic - Step 1: Coca cola company, Information Technology, Providing innovative tech solutions to streamline business operations, adc, increased sales \\n- Psychographic - Step 2: Coca cola company\\n- Fears - Step 3: increased sales \\n- Desires - Step 4: increased sales \\n- Obstacles - Step 5: \\n- Alternative Solutions - Step 6: Coca cola company, adc\\n- Trigger Events - Step 7: Coca cola company\\n- Sad Diary Page - Step 8: Small to Medium Enterprises, Lack of efficient and secure systems for managing business operations, increased sales \\n- Happy Diary Page - Step 9: Small to Medium Enterprises, Lack of efficient and secure systems for managing business operations, A world where businesses operate seamlessly with the help of advanced, secure, and user-friendly tech solutions\\n- FAQ: Coca cola company\\n\\nThe output should be a markdown code snippet formatted in the following schema, including the leading and trailing \"```json\" and \"```\":\\n\\n```json\\n{\\n\\t\"demographics\": string  // MOST CRITICAL AND IMPORTANT INSTRUCTION IS THAT THE OUTPUT SHOULD BE IN ITALIAN LANGUAGE even though prompt is in English.It is very important to show output in numbering form in a list instead of paragraph form. very important information is to include subheadings.and also to use numbering between subheadings to separate them.DO NOT show answer in paragraph continous form but rather in a numbering list form. please note that the word count should be a minimum of 300 words.Provide the demographic details of \"Coca cola company\" such as Age, Income, and Relationship Status. Based on this information provided for inputs for market research, I want you to create an ideal buyer for this company and also perform an analysis on the demographic data of this market, behaving as if you were an analyst. Your response should contain the following information about the target market: age range, occupation, annual income, marital status, family situation, location. Be thorough in your response and dig as deep as possible. An good output example is \"Demographic Data:\\n1. Age Group\\n   Ages ranging from 30 to 60 years old. It is assumed that entrepreneurs or managers of SMEs with a workforce of 10-100 employees are in the full maturity of their careers or are starting/managing a family business, so they may have started at a relatively young age or acquired skills and resources over the years.\\n2. Occupation\\n   Owners of SMEs, CEOs, HR Managers, and business consultants operating in various sectors other than construction and agriculture.\\n3. Annual Income\\n    Variable depending on the sector and the size of the company, but we can estimate an annual income ranging from €50,000 to €500,000. This range takes into account both SMEs in the startup phase with more modest earnings and established ones in growth with significantly higher incomes.\\n4. Marital Status\\n    Married individuals or those in a stable relationship may prevail, given their age group and greater propensity for taking business risks with family support. However, there will also be single or divorced entrepreneurs in our segmentation.\\n5. Family Situation\\n    Many of these individuals may have families with children. This could influence their need for financial stability and their willingness to optimize business costs.\\n6. Location\\n    Mainly in urban or peri-urban areas, where SMEs are more likely to be concentrated. These areas offer access to a larger workforce, infrastructure, and markets. It may also consider a radius of 50-100 km from major Italian cities since many SMEs may be located in industrial areas just outside major metropolitan areas.\\n    Please note once again MOST CRITICAL AND IMPORTANT INSTRUCTION IS THAT THE OUTPUT SHOULD BE IN ITALIAN LANGUAGE.\\n\\t\"psychographics\": string  // MOST CRITICAL AND IMPORTANT INSTRUCTION IS THAT THE OUTPUT SHOULD BE IN ITALIAN LANGUAGE even though prompt is in English.I want you to create the psychographic profile of the ideal buyer for the company. It is very important to show output in numbering form in a list instead of paragraph form. and very Important is also to include subheadings. also use numbering between subheadings.DO NOT show answer in paragraph continous form but rather in a numbering list form.please note that he word count should be a minimum of 300 words.Based on the information in market research, perform an analysis on the psychographic data of this market. Provide all the information you deem necessary and that will be useful for creating an effective marketing campaign.Your response should contain the following information about the target market: Personal traits, Hobbies, Interests, Personal aspirations, Professional goals, Pains, Primary challenges, Dreams. Do not provide mediocre or superficial answers. Be comprehensive in your response and dig as deeply as possible. A good output example is Psychographic Data:\\n1. Personal Traits\\n    Decision-makers As owners or executives, they are accustomed to making significant decisions for the company.\\n    Problem-solvers They seek concrete solutions to business problems.\\n    Visionaries They look to the future and are always on the lookout for growth opportunities.\\n    Responsible They feel the weight of responsibilities towards their employees and the company.\\n    Pragmatic They carefully assess the cost-benefit ratio when making decisions.\\n2. Hobbies\\n    Reading industry books or magazines to stay updated on the market.\\n    Networking through industry events or workshops.\\n    Travel, both for business and leisure.\\n    Sports or relaxation activities to balance work-related stress.\\n3. Interests\\n    Innovation and technologies that can improve business efficiency.\\n    Personal development and training.\\n    Leadership and personnel management strategies.\\n    Market trends and competitive analysis.\\n4. Personal Aspirations\\n    Financial stability and well-being for themselves and their families.\\n    Personal and professional growth.\\n    Recognition in their industry as leaders or references.\\n5. Professional Goals\\n    Expanding and consolidating the company in the market.\\n    Cost optimization and profit maximization.\\n    Creating a stable and productive work environment.\\n    Effective management of labor relations and prevention of disputes.\\n6. Pains\\n    Concerns about liquidity and financial sustainability.\\n    Complex management of employee relationships and contracts.\\n    Fear of making wrong decisions that could compromise the company.\\n    Stress related to potential labor disputes.\\n7. Primary Challenges\\n    Navigating a continuously evolving market and variable economic conditions.\\n    Recruiting and retaining talent.\\n    Balancing the company\\'s immediate needs with long-term goals.\\n    Maintaining a balance between employee expectations and the company\\'s financial capabilities.\\n8. Dreams\\n    Seeing their company thrive and become a reference point in their industry.\\n    Leaving a lasting legacy, whether it\\'s a solid company or a tangible symbol of their success.\\n    Making a positive impact on the community or the industry as a whole.\\n    Reaching a position where they can enjoy the fruits of their hard work, perhaps with less daily stress.\\n    please note once again MOST CRITICAL AND IMPORTANT INSTRUCTION IS THAT THE OUTPUT SHOULD BE IN ITALIAN LANGUAGE even though prompt is in English\\n\\t\"fears\": string  // MOST CRITICAL AND IMPORTANT INSTRUCTION IS THAT THE OUTPUT SHOULD BE IN ITALIAN LANGUAGE even though prompt is in English.Vividly describe 5 fears that the buyer persona has regarding their problem and what would happen if they didn\\'t address it.It is very important to show output in numbering form in a list instead of paragraph form.Also very very important to also include subheadings of DESCRIPTION and IMPACT ON RELATIONSHIPS along with details and explanation.please note that he word count should be a minimum of 300 words.DO NOT show answer in paragraph continous form but rather in a numbering list form. I don\\'t want boring or superficial answers. Tell me the deepest fears that the buyer persona wouldn\\'t admit out loud unless they were heard by others. Fears that often keep them awake at night.For each fear, give me specific examples of how each of these 5 fears would impact their relationships. Be vivid, descriptive, and emotional.What impact would these fears if realized have on the people surrounding the buyer persona? In the worst case, how would these people treat her? Good examples are 1. Fear of Bankruptcy\\n    Description The overriding concern that excessive costs and poor employee contract management could lead the company to bankruptcy.\\n    Impact on relationships. If the company were to close, all employees would lose their jobs, causing anger and disappointment. Friends and family might start seeing them as a \"failure\" or someone incapable of running a business. This could lead to tensions in family relationships and distancing from old friends and colleagues.\\n    How they would be treated. They might avoid talking to them, consider them a loser, or blame them for the loss of their income and benefits.\\n2. Fear of Losing Control\\n    Description The overwhelming feeling of not being able to control the situation, feeling overwhelmed by events.\\n    Impact on relationships Their inability to manage finances and contracts could lead them to appear stressed or irritable, damaging relationships with employees, partners, and family.\\n    How they would be treated They would see them as an incapable boss, generating distrust and resentment. Family members might become protective or condescending, treating them as someone vulnerable.\\n3. Fear of Social Judgment\\n    Description Concern about being harshly judged by colleagues, competitors, and even friends and family for failing to manage the business properly.\\n    Impact on relationships Social and networking events could become sources of anxiety. They might start avoiding meetings, company retreats, or dinners with colleagues for fear of comments and gossip.\\n    How they would be treated They might be excluded from crucial business decisions or receive subtle and sarcastic comments about their ability. In certain contexts, they could be the subject of gossip or ridicule.\\n4. Fear of Not Being Good Enough\\n    Description Worrying about not being competent or prepared enough to handle the challenges that the company presents.\\n    Impact on relationships This insecurity could lead them to avoid taking on responsibilities or make unfulfilled promises to employees, damaging their reputation as a leader.\\n    How they would be treated Employees might lose respect for them, questioning their decisions or trying to \"bypass\" them in decision-making processes. Family members might express concern or doubt their abilities.\\n5. Fear of Irreparably Damaging the Company\\n    Description The anguish that a single bad decision could have lasting effects and irreparably damage the company\\'s reputation and stability.\\n    Impact on relationships The fear of damaging the company could lead them to become overly cautious or indecisive, frustrating employees seeking clarity and direction. Their caution could also alienate potential business partners or investors.\\n    How they would be treated They might be considered too timid or indecisive to be a true leader. Employees might seek opportunities elsewhere, and partners might hesitate to do business with them, fearing their lack of determination or vision. \\n    please note once again that the MOST CRITICAL AND IMPORTANT INSTRUCTION IS THAT THE OUTPUT SHOULD BE IN ITALIAN LANGUAGE even though prompt is in English.\\n\\t\"desires\": string  // MOST CRITICAL AND IMPORTANT INSTRUCTION IS THAT THE OUTPUT SHOULD BE IN ITALIAN LANGUAGE even though prompt is in English.Detail the desires and wishes of the target market.Vividly describe 5 desires that the buyer persona has regarding their problem and what would happen if they were to achieve them.It is very important to show output in numbering or bullet points form instead of paragraph form.Very very important important to also include subheadings of DESCRIPTION and IMPACT ON RELATIONSHIPS along with details and explanation.DO NOT show answer in paragraph continous form but rather in a numbering list form.please note that the word count should be a minimum of 300 words. I don\\'t want boring or superficial answers. Tell me the deepest desires that the buyer persona wouldn\\'t admit out loud unless they were heard by others. Desires for which they would be willing to do anything to realize. For each desire, give me specific examples of how each of these 5 desires would impact their relationships. Be vivid, descriptive, and emotional.What impact would these desires if realized have on the people surrounding the buyer persona? In the best case, how would these people treat her? Push the boundaries of her wildest imagination.A good output example is Desires\\n1. Desire for Omnipotence in Contract Management\\n    Description The hidden desire to have such complete and perfect knowledge of employment contracts that every detail can be manipulated to one\\'s advantage, ensuring that every decision made leads to the desired success.\\n    Impact on Relationships Other administrators and employees would see the person as a true \"Contract Wizard,\" capable of working miracles in terms of personnel management.\\n    How They Would Be Treated They would be respected and admired as an almost mythical figure, seeking their advice and trying to learn their \"secret.\"\\n2. Desire for Immunity from Union Issues\\n    Description The dream of creating contracts so perfect and well-calibrated that they render one immune to any union disputes or industrial relations problems.\\n    Impact on Relationships With such ability, unions and employees would see them as an ally rather than an adversary.\\n    How They Would Be Treated They would be perceived as enlightened, a fair and just leader who knows exactly how to balance the interests of the company with those of the employees.\\n3. Desire for Perfect Harmony\\n    Description The burning desire to create a work environment so harmonious and productive that every employee wakes up in the morning looking forward to coming to work.\\n    Impact on Relationships This would lead to unprecedented company productivity and a climate of support and collaboration among employees.\\n    How They Would Be Treated They would be revered as an enlightened entrepreneur, with a company where everyone works happily and passionately toward common goals.\\n4. Desire for Global Recognition\\n    Description The secret dream of being recognized internationally as the expert in employment contracts, with companies from around the world seeking their advice.\\n    Impact on Relationships They would be seen as a true rockstar in the business world, with colleagues and competitors asking for their advice.\\n    How They Would Be Treated With admiration and a touch of envy, they would be considered a shining example to follow.\\n5. Desire for Talent Magnetism\\n    Description The burning desire to be recognized as the employer of choice in the industry, thanks to the ability to offer irresistible contracts and working conditions. In their vision, the company becomes a shining beacon that attracts the best talents, often unreachable for other companies due to their high demands or career ambitions.\\n    Impact on Relationships Current employees would welcome the arrival of these new talents with enthusiasm, knowing that the company is reaching new levels of excellence. Newcomers, on the other hand, would be ecstatic and grateful to have found a company that truly respects their skills and aspirations.\\n    How They Would Be Treated The buyer persona would be seen as a visionary, capable not only of managing a company but of making it a true \"home\" for talents. Employees would consider them as an enlightened leader, under whose guidance they can grow professionally and personally. The atmosphere within the company would be electric, with a pervasive feeling of gratitude and admiration. On the outside, other employers would watch them with envy, eager to decipher their \"secret\" for attracting such talents.\\n    please note once again that the MOST CRITICAL AND IMPORTANT INSTRUCTION IS THAT THE OUTPUT SHOULD BE IN ITALIAN LANGUAGE even though prompt is in English.\\n\\t\"obstacles\": string  // MOST CRITICAL AND IMPORTANT INSTRUCTION IS THAT THE OUTPUT SHOULD BE IN ITALIAN LANGUAGE even though prompt is in English.Identify the obstacles or challenges faced by the business.It is very important to show output in numbering or bullet points form instead of paragraph form.very important to also include subheadings.also use numbering between subheadings.please note that he word count should be a minimum of 300 words.DO NOT show answer in paragraph continous form but rather in a numbering list form.In this ideal scenario, now list 20 things that the Buyer persona does not want to do to achieve all these extraordinary results. They can be perceived obstacles or challenges, skills that the target persona lacks, or simply actions they do not want to take. Be specific.a good output example is1. Spending hours studying labor regulations and various collective bargaining agreements to understand the nuances.\\n2. Dedicate entire days to the search for suitable consultants or legal professionals.\\n3. Dealing with union disputes or employee disputes on contractual issues.\\n4. Investing huge sums in courses and training to stay updated on labor laws.\\n5. Experimenting through trial and error, risking making wrong decisions.\\n6. Devoting time and energy to negotiating each individual contract with employees.\\n7. Having to hold frequent meetings with staff to explain contractual changes or updates.\\n8. Dealing with the bureaucracy of various government agencies and public offices.\\n9. Running the risk of sanctions or fines for not complying with regulations.\\n10. Continuously engaging with unions or worker representatives.\\n11. Struggling with a poor industry reputation due to unpopular or incorrect decisions.\\n12. Continuously reviewing the company\\'s salary structure to ensure it is competitive.\\n13. Needing to implement complex employee monitoring and management systems.\\n14. Working constantly in a stressful situation, fearing that a small mistake could cost the company dearly.\\n15. Managing frequent turnover due to non-ideal contractual conditions.\\n16. Having to aggressively compete with other companies for talent by offering more and more benefits.\\n17. Denying vacations or benefits to employees because they are not provided for in the contract.\\n18. Always being on the lookout for potential changes in laws or regulations that could affect the company.\\n19. Sacrificing one\\'s own leisure time and family time to handle contractual issues or work-related disputes.\\n20. Compromising the company\\'s values and vision in order to save on personnel costs.\\n\\t\"alternative_solutions\": string  // MOST CRITICAL AND IMPORTANT INSTRUCTION IS THAT THE OUTPUT SHOULD BE IN ITALIAN LANGUAGE even though prompt is in English.Provide alternative solutions.Create a list of 5 alternative solutions that the buyer persona has tried instead of the company offering but have not worked.It is very important to show output in numbering form instead of paragraph form.Most important to also include subheadings. also use numbering between subheadings.DO NOT show answer in paragraph continous form but rather in a numbering list form.please note that the word count should be a minimum of 300 words. For each alternative solution, explain to the buyer persona in the tone of a trusted friend why the solution they tried probably failed. A good output example is \\n        1. Hiring an in-house labor consultant.You did well to seek an in-house professional, but sometimes a single internal consultant may not have extensive and up-to-date experience with all collective bargaining agreements (CCNL) and legal nuances. Furthermore, being an individual, they may have a limited and less innovative perspective compared to a team of experts.\\n2. Relying on HR software and tools.I understand that technology always seems like the answer, but when it comes to labor law, every situation is unique and requires a human touch. Automated tools may not cover all the nuances or take into account the latest legislative changes.\\n3. Attending courses and seminars on human resource management and contracts.I know you always aim to improve, but attending courses and seminars takes time and doesn\\'t always result in immediate practical application. Moreover, keeping acquired knowledge up to date is a continuous challenge.\\n4. Following the advice of fellow entrepreneurs or friends in the industry.Every company is different, and what works for a friend or colleague may not be suitable for you. Even though the intentions are good, sometimes \\'hearsay\\' solutions are not based on detailed analysis and understanding.\\n5. Ignoring the problem, hoping complications won\\'t arise.Sometimes you might want to bury your head in the sand and hope that everything will resolve itself. But when it comes to labor laws and employee relations, leaving things to chance can lead to even bigger problems in the future.\\n\\t\"trigger_events\": string  // MOST CRITICAL AND IMPORTANT INSTRUCTION IS THAT THE OUTPUT SHOULD BE IN ITALIAN LANGUAGE even though prompt is in English.Highlight trigger events that affect the business.Create a list of the top 5 trigger events that lead the target audience to consider purchasing a product similar to that of the company.It is very important to show output in numbering points form instead of paragraph form.very important to also include subheadings.Also very Important to use numbering between subheadings.please note that the word count should be a minimum of 300 words.DO NOT show answer in paragraph continous form but rather in a numbering list form. By trigger events, I mean life events that, once they happen, trigger and unlock new needs and decisions in the consumer\\'s mind. Typically, a trigger event occurs when something in the consumer\\'s life happens that makes them realize they have a problem.A good output example is 1. Recent Union Disputes After a strenuous and costly union dispute, the employer realizes the need for more accurate contract management. This negative experience highlights how essential it is to have proper consultation, not only to prevent further disputes but also to ensure that employees are treated fairly according to current laws.\\n2. Company Expansion If the company plans to hire a large number of employees in a short time or expand into new markets, this can act as a warning signal. The employer may not feel prepared or confident in managing a larger volume of employment contracts and complying with the local laws of new regions or countries.\\n3. Legal Litigation Legal action due to alleged contract violations or unfair treatment can shake the employer\\'s confidence. After dealing with the cumbersome legal system and associated costs, the employer may be motivated to seek a solution to prevent future similar situations.\\n4. Employee Dissatisfaction If a significant number of employees express concerns about their working conditions, or worse, if they start resigning, it can become an alarm bell. This scenario makes it clear that there is a need to review and optimize existing employment contracts.\\n5. Legislative Review Significant changes in labor legislation could act as a trigger. If the government introduces new rules or laws that directly impact employment contracts, the employer may feel inadequate or unprepared to navigate these complex legal waters without expert guidance.\\n\\t\"sad_diary\": string  // MOST CRITICAL AND IMPORTANT INSTRUCTION IS THAT THE OUTPUT SHOULD BE IN ITALIAN LANGUAGE even though prompt is in English.Detail the actual situation in the \\'Dear Diary\\' format.Write an emotional diary entry of minimum 500 words from the perspective of the Buyer Persona who has this problem. IT IS VERY IMPORTANT THAT WORD COUNT IS MINIMUM 500 WORDS and to show output in easy to read manner.They don\\'t know how to solve the problems. They feel frustrated, inadequate, and worried. Be creative. A good output example is Dear diary,\\nI find myself reflecting on another day filled with challenges and tensions. The weight on my shoulders seems to grow every day, like a mountain becoming steeper and more insurmountable. I feel the responsibility of lives depending on me, the contracts I make, the salaries I pay every month. It\\'s a burden I never thought would weigh so heavily.\\nLately, I\\'ve noticed that the cost of personnel is becoming unsustainable. Every time I analyze the budget, those red numbers haunt me, challenge me. I want to provide better working conditions for my employees, I want to be proud of what I offer them. But faced with those numbers, I feel helpless.\\nLast week, Marco, one of my best employees, came to my office asking for a raise. His reasons were solid: he\\'s an excellent worker, and in another context, I would have said yes without hesitation. But now? How can I consent when the company margins are so thin? I felt as if my hands were tied. I had to look him in the eyes and tell him to wait, to be patient. That conversation broke my heart.\\nAnd then there are the unions. I understand their role, I understand they want the best for the workers. But every time I receive a letter or a call from them, I feel a lump in my throat. Afraid that any move I make could trigger a dispute or a protest. I don\\'t want to get into trouble, I don\\'t want my company to be in the spotlight for the wrong reasons. Yet, how do I balance all of this?\\nI feel like I\\'m walking on a thin rope, desperately trying not to fall on either side. I just wish I could find a way to save, to optimize. A way to make this balance less precarious.\\nI often wonder if I\\'m up to this challenge. At night, while the world sleeps, I stay awake, obsessed with budgets, numbers, responsibilities. I think about the families of my employees, their dreams, their hopes. And I wonder if they might feel betrayed someday.\\nI\\'m tired, dear diary. But I can\\'t stop, not now. I have to find a solution, a way to overcome this mountain. For me, for my company, and most importantly, for the people who depend on me.\\n\\t\"happy_diary\": string  // MOST CRITICAL AND IMPORTANT INSTRUCTION IS THAT THE OUTPUT SHOULD BE IN ITALIAN LANGUAGE even though prompt is in English.Describe the ideal situation in the \\'Dream Situation\\' format.Write a 500-word emotional diary entry from the perspective of the Buyer Persona who used to have the problem but now is in a DREAM SITUATION.IT IS VERY IMPORTANT THAT WORD COUNT SHOULD BE ATLEAST 800 words and to show output in easy to read manner.They feel proud, unstoppable, and happy. Be creative. A good example is Dear diary,\\nToday, I find myself reflecting on an incredible journey, a path through uncertainty and frustration that has found an enlightening direction. The light at the end of the tunnel, as they say, is not just a metaphor. It\\'s a palpable sensation, a surge of energy that fills you from within.\\nDo you remember when I wrote to you about sleepless nights, concerns about the rising cost of personnel, seemingly insurmountable challenges I faced? I felt like a castaway in the middle of a stormy sea, searching for a compass, a signal, anything that could point me in the right direction. And then Stefano Alemanno came along.\\nStefano is not just a consultant; to me, he has been a beacon in the dark. With his deep knowledge of collective labor agreements (CCNL) and his ability to find the ideal solution for every situation, he helped me see the big picture. What was once a tangled puzzle of numbers and clauses became as clear as day.\\nThanks to him, I discovered that I could save up to €2,000 per year per employee, and the extraordinary thing is that I didn\\'t have to make sacrifices on their salaries. On the contrary, I could offer larger bonuses and higher wages. Imagine, dear diary, the surprise and joy of my employees when they found out that not only would they not face cuts, but they would earn more!\\nThe change wasn\\'t just financial. The atmosphere in the office is transformed. I see smiles, hear laughter, and we all sense a feeling of unity and belonging. When one is happy, they are more productive, more engaged, and the entire company benefits.\\nAnd me? I feel like I\\'ve conquered the world. Every morning when I step into the office, I feel proud of what I\\'ve achieved. I feel unstoppable. The confidence Stefano instilled in me is reflected in every decision I make, in every project I undertake.\\nThe challenges haven\\'t disappeared, dear diary, but now I have the tools and the vision to face them. And I also have a team of happy and motivated employees by my side, ready to give their best in every situation.\\nToday, as I reflect on this incredible journey of transformation, I can\\'t help but think of all those employers out there who are still in the dark, still searching for a solution. I wish I could share with them the magic of Stefano Alemanno. Because every company, big or small, deserves to shine.\\n\\t\"FAQ\": string  // MOST CRITICAL AND IMPORTANT INSTRUCTION IS THAT THE OUTPUT SHOULD BE IN ITALIAN LANGUAGE even though prompt is in English.Define the top 10 FAQs Frequently Asked Questions that users have about the product offered by this company.It is very important to show output in list form instead of paragraph form.Very important to use numbering between FAQs.A good example of output is 1. How can Stefano Alemanno help me reduce personnel costs without reducing salaries?\\n   Stefano Alemanno takes a strategic approach to identify inefficiencies and optimize cost structures. This may include renegotiating existing contracts, exploring tax or contribution incentives, and internal reorganization, all without affecting employee salaries.\\n2. How can Stefano Alemanno increase flexibility in employment contracts?\\n   Through a detailed analysis of business needs and existing contracts, Stefano can propose customized solutions, including fixed-term contracts, part-time work, telecommuting, or other forms of flexible work that comply with current legislation.\\n3. How can Stefano Alemanno help me prevent labor disputes?\\n   With his expertise in industrial relations, Stefano can provide advice on establishing constructive dialogue with labor representatives, preventing conflict situations through effective communication and negotiation of fair agreements.\\n4. What is Stefano Alemanno\\'s experience in specific sectors?\\n   While Stefano Alemanno has chosen not to operate in construction and agriculture, he has experience in a variety of other sectors, allowing him to offer personalized solutions for SMEs in different market areas.\\n5. What are the costs of Stefano Alemanno\\'s consulting services?\\n   Costs can vary depending on the complexity and duration of the required interventions. An initial consultation can be arranged to discuss specific needs and receive a detailed quote.\\n6. How is the impact of cost optimization strategies for labor measured?\\n   Stefano uses key performance indicators (KPIs) to assess the impact of implemented strategies, providing regular reports on cost efficiency and organizational well-being.\\n7. Is it possible to have support in the day-to-day management of human resources?\\n   In addition to strategic consulting, Stefano Alemanno can assist in the operational management of human resources, offering ongoing support or specific project-based assistance.\\n8. Does Stefano Alemanno provide in-house training for managers or HR departments?\\n   Yes, Stefano can design and conduct customized training sessions to develop internal skills in labor cost management and optimization, as well as contract negotiation.\\n9. Are there sectors in which Stefano Alemanno does not operate?\\n   As mentioned, Stefano prefers not to operate in construction and agriculture but is available to work with companies in all other sectors not falling within these categories.\\n10. What is the process for starting to work with Stefano Alemanno?\\n    To begin, companies can contact Stefano for an initial assessment of their needs. Following this initial meeting, a detailed proposal outlining the scope of services, action plan, and cost estimate will be provided.\\n}\\n```\\n')]\n"
          ]
        },
        {
          "ename": "InvalidRequestError",
          "evalue": "ignored",
          "output_type": "error",
          "traceback": [
            "\u001b[0;31m---------------------------------------------------------------------------\u001b[0m",
            "\u001b[0;31mInvalidRequestError\u001b[0m                       Traceback (most recent call last)",
            "\u001b[0;32m<ipython-input-12-9a44de2db839>\u001b[0m in \u001b[0;36m<cell line: 1>\u001b[0;34m()\u001b[0m\n\u001b[0;32m----> 1\u001b[0;31m \u001b[0mreformat_market_research\u001b[0m\u001b[0;34m(\u001b[0m\u001b[0;34m\"Coca cola company\"\u001b[0m\u001b[0;34m,\u001b[0m\u001b[0;34m\"adc\"\u001b[0m\u001b[0;34m,\u001b[0m \u001b[0;34m\"increased sales \"\u001b[0m\u001b[0;34m,\u001b[0m \u001b[0;34m\"Information Technology\"\u001b[0m\u001b[0;34m,\u001b[0m \u001b[0;34m\"Small to Medium Enterprises\"\u001b[0m\u001b[0;34m,\u001b[0m \u001b[0;34m\"Lack of efficient and secure systems for managing business operations\"\u001b[0m\u001b[0;34m,\u001b[0m \u001b[0;34m\"A world where businesses operate seamlessly with the help of advanced, secure, and user-friendly tech solutions\"\u001b[0m\u001b[0;34m,\u001b[0m \u001b[0;34m\"Providing innovative tech solutions to streamline business operations\"\u001b[0m\u001b[0;34m)\u001b[0m\u001b[0;34m\u001b[0m\u001b[0;34m\u001b[0m\u001b[0m\n\u001b[0m",
            "\u001b[0;32m<ipython-input-11-a0e0ed881a3c>\u001b[0m in \u001b[0;36mreformat_market_research\u001b[0;34m(Brand_Name, Product, Problem_Solved, Industry, Target_Market, Problem, Dream_Situation, Value_Proposition)\u001b[0m\n\u001b[1;32m    227\u001b[0m     \u001b[0mprint\u001b[0m\u001b[0;34m(\u001b[0m\u001b[0mmessages\u001b[0m\u001b[0;34m)\u001b[0m\u001b[0;34m\u001b[0m\u001b[0;34m\u001b[0m\u001b[0m\n\u001b[1;32m    228\u001b[0m \u001b[0;34m\u001b[0m\u001b[0m\n\u001b[0;32m--> 229\u001b[0;31m     \u001b[0mresponse\u001b[0m \u001b[0;34m=\u001b[0m \u001b[0mllm\u001b[0m\u001b[0;34m(\u001b[0m\u001b[0mmessages\u001b[0m\u001b[0;34m)\u001b[0m\u001b[0;34m\u001b[0m\u001b[0;34m\u001b[0m\u001b[0m\n\u001b[0m\u001b[1;32m    230\u001b[0m     \u001b[0mprint\u001b[0m\u001b[0;34m(\u001b[0m\u001b[0mresponse\u001b[0m\u001b[0;34m)\u001b[0m\u001b[0;34m\u001b[0m\u001b[0;34m\u001b[0m\u001b[0m\n\u001b[1;32m    231\u001b[0m     \u001b[0mresponse_as_dict\u001b[0m \u001b[0;34m=\u001b[0m \u001b[0mschema_output_template\u001b[0m\u001b[0;34m.\u001b[0m\u001b[0mparse\u001b[0m\u001b[0;34m(\u001b[0m\u001b[0mresponse\u001b[0m\u001b[0;34m.\u001b[0m\u001b[0mcontent\u001b[0m\u001b[0;34m)\u001b[0m\u001b[0;34m\u001b[0m\u001b[0;34m\u001b[0m\u001b[0m\n",
            "\u001b[0;32m/usr/local/lib/python3.10/dist-packages/langchain/chat_models/base.py\u001b[0m in \u001b[0;36m__call__\u001b[0;34m(self, messages, stop, callbacks, **kwargs)\u001b[0m\n\u001b[1;32m    598\u001b[0m         \u001b[0;34m**\u001b[0m\u001b[0mkwargs\u001b[0m\u001b[0;34m:\u001b[0m \u001b[0mAny\u001b[0m\u001b[0;34m,\u001b[0m\u001b[0;34m\u001b[0m\u001b[0;34m\u001b[0m\u001b[0m\n\u001b[1;32m    599\u001b[0m     ) -> BaseMessage:\n\u001b[0;32m--> 600\u001b[0;31m         generation = self.generate(\n\u001b[0m\u001b[1;32m    601\u001b[0m             \u001b[0;34m[\u001b[0m\u001b[0mmessages\u001b[0m\u001b[0;34m]\u001b[0m\u001b[0;34m,\u001b[0m \u001b[0mstop\u001b[0m\u001b[0;34m=\u001b[0m\u001b[0mstop\u001b[0m\u001b[0;34m,\u001b[0m \u001b[0mcallbacks\u001b[0m\u001b[0;34m=\u001b[0m\u001b[0mcallbacks\u001b[0m\u001b[0;34m,\u001b[0m \u001b[0;34m**\u001b[0m\u001b[0mkwargs\u001b[0m\u001b[0;34m\u001b[0m\u001b[0;34m\u001b[0m\u001b[0m\n\u001b[1;32m    602\u001b[0m         ).generations[0][0]\n",
            "\u001b[0;32m/usr/local/lib/python3.10/dist-packages/langchain/chat_models/base.py\u001b[0m in \u001b[0;36mgenerate\u001b[0;34m(self, messages, stop, callbacks, tags, metadata, run_name, **kwargs)\u001b[0m\n\u001b[1;32m    347\u001b[0m                 \u001b[0;32mif\u001b[0m \u001b[0mrun_managers\u001b[0m\u001b[0;34m:\u001b[0m\u001b[0;34m\u001b[0m\u001b[0;34m\u001b[0m\u001b[0m\n\u001b[1;32m    348\u001b[0m                     \u001b[0mrun_managers\u001b[0m\u001b[0;34m[\u001b[0m\u001b[0mi\u001b[0m\u001b[0;34m]\u001b[0m\u001b[0;34m.\u001b[0m\u001b[0mon_llm_error\u001b[0m\u001b[0;34m(\u001b[0m\u001b[0me\u001b[0m\u001b[0;34m)\u001b[0m\u001b[0;34m\u001b[0m\u001b[0;34m\u001b[0m\u001b[0m\n\u001b[0;32m--> 349\u001b[0;31m                 \u001b[0;32mraise\u001b[0m \u001b[0me\u001b[0m\u001b[0;34m\u001b[0m\u001b[0;34m\u001b[0m\u001b[0m\n\u001b[0m\u001b[1;32m    350\u001b[0m         flattened_outputs = [\n\u001b[1;32m    351\u001b[0m             \u001b[0mLLMResult\u001b[0m\u001b[0;34m(\u001b[0m\u001b[0mgenerations\u001b[0m\u001b[0;34m=\u001b[0m\u001b[0;34m[\u001b[0m\u001b[0mres\u001b[0m\u001b[0;34m.\u001b[0m\u001b[0mgenerations\u001b[0m\u001b[0;34m]\u001b[0m\u001b[0;34m,\u001b[0m \u001b[0mllm_output\u001b[0m\u001b[0;34m=\u001b[0m\u001b[0mres\u001b[0m\u001b[0;34m.\u001b[0m\u001b[0mllm_output\u001b[0m\u001b[0;34m)\u001b[0m\u001b[0;34m\u001b[0m\u001b[0;34m\u001b[0m\u001b[0m\n",
            "\u001b[0;32m/usr/local/lib/python3.10/dist-packages/langchain/chat_models/base.py\u001b[0m in \u001b[0;36mgenerate\u001b[0;34m(self, messages, stop, callbacks, tags, metadata, run_name, **kwargs)\u001b[0m\n\u001b[1;32m    337\u001b[0m             \u001b[0;32mtry\u001b[0m\u001b[0;34m:\u001b[0m\u001b[0;34m\u001b[0m\u001b[0;34m\u001b[0m\u001b[0m\n\u001b[1;32m    338\u001b[0m                 results.append(\n\u001b[0;32m--> 339\u001b[0;31m                     self._generate_with_cache(\n\u001b[0m\u001b[1;32m    340\u001b[0m                         \u001b[0mm\u001b[0m\u001b[0;34m,\u001b[0m\u001b[0;34m\u001b[0m\u001b[0;34m\u001b[0m\u001b[0m\n\u001b[1;32m    341\u001b[0m                         \u001b[0mstop\u001b[0m\u001b[0;34m=\u001b[0m\u001b[0mstop\u001b[0m\u001b[0;34m,\u001b[0m\u001b[0;34m\u001b[0m\u001b[0;34m\u001b[0m\u001b[0m\n",
            "\u001b[0;32m/usr/local/lib/python3.10/dist-packages/langchain/chat_models/base.py\u001b[0m in \u001b[0;36m_generate_with_cache\u001b[0;34m(self, messages, stop, run_manager, **kwargs)\u001b[0m\n\u001b[1;32m    490\u001b[0m                 )\n\u001b[1;32m    491\u001b[0m             \u001b[0;32mif\u001b[0m \u001b[0mnew_arg_supported\u001b[0m\u001b[0;34m:\u001b[0m\u001b[0;34m\u001b[0m\u001b[0;34m\u001b[0m\u001b[0m\n\u001b[0;32m--> 492\u001b[0;31m                 return self._generate(\n\u001b[0m\u001b[1;32m    493\u001b[0m                     \u001b[0mmessages\u001b[0m\u001b[0;34m,\u001b[0m \u001b[0mstop\u001b[0m\u001b[0;34m=\u001b[0m\u001b[0mstop\u001b[0m\u001b[0;34m,\u001b[0m \u001b[0mrun_manager\u001b[0m\u001b[0;34m=\u001b[0m\u001b[0mrun_manager\u001b[0m\u001b[0;34m,\u001b[0m \u001b[0;34m**\u001b[0m\u001b[0mkwargs\u001b[0m\u001b[0;34m\u001b[0m\u001b[0;34m\u001b[0m\u001b[0m\n\u001b[1;32m    494\u001b[0m                 )\n",
            "\u001b[0;32m/usr/local/lib/python3.10/dist-packages/langchain/chat_models/openai.py\u001b[0m in \u001b[0;36m_generate\u001b[0;34m(self, messages, stop, run_manager, stream, **kwargs)\u001b[0m\n\u001b[1;32m    420\u001b[0m         \u001b[0mmessage_dicts\u001b[0m\u001b[0;34m,\u001b[0m \u001b[0mparams\u001b[0m \u001b[0;34m=\u001b[0m \u001b[0mself\u001b[0m\u001b[0;34m.\u001b[0m\u001b[0m_create_message_dicts\u001b[0m\u001b[0;34m(\u001b[0m\u001b[0mmessages\u001b[0m\u001b[0;34m,\u001b[0m \u001b[0mstop\u001b[0m\u001b[0;34m)\u001b[0m\u001b[0;34m\u001b[0m\u001b[0;34m\u001b[0m\u001b[0m\n\u001b[1;32m    421\u001b[0m         \u001b[0mparams\u001b[0m \u001b[0;34m=\u001b[0m \u001b[0;34m{\u001b[0m\u001b[0;34m**\u001b[0m\u001b[0mparams\u001b[0m\u001b[0;34m,\u001b[0m \u001b[0;34m**\u001b[0m\u001b[0mkwargs\u001b[0m\u001b[0;34m}\u001b[0m\u001b[0;34m\u001b[0m\u001b[0;34m\u001b[0m\u001b[0m\n\u001b[0;32m--> 422\u001b[0;31m         response = self.completion_with_retry(\n\u001b[0m\u001b[1;32m    423\u001b[0m             \u001b[0mmessages\u001b[0m\u001b[0;34m=\u001b[0m\u001b[0mmessage_dicts\u001b[0m\u001b[0;34m,\u001b[0m \u001b[0mrun_manager\u001b[0m\u001b[0;34m=\u001b[0m\u001b[0mrun_manager\u001b[0m\u001b[0;34m,\u001b[0m \u001b[0;34m**\u001b[0m\u001b[0mparams\u001b[0m\u001b[0;34m\u001b[0m\u001b[0;34m\u001b[0m\u001b[0m\n\u001b[1;32m    424\u001b[0m         )\n",
            "\u001b[0;32m/usr/local/lib/python3.10/dist-packages/langchain/chat_models/openai.py\u001b[0m in \u001b[0;36mcompletion_with_retry\u001b[0;34m(self, run_manager, **kwargs)\u001b[0m\n\u001b[1;32m    350\u001b[0m             \u001b[0;32mreturn\u001b[0m \u001b[0mself\u001b[0m\u001b[0;34m.\u001b[0m\u001b[0mclient\u001b[0m\u001b[0;34m.\u001b[0m\u001b[0mcreate\u001b[0m\u001b[0;34m(\u001b[0m\u001b[0;34m**\u001b[0m\u001b[0mkwargs\u001b[0m\u001b[0;34m)\u001b[0m\u001b[0;34m\u001b[0m\u001b[0;34m\u001b[0m\u001b[0m\n\u001b[1;32m    351\u001b[0m \u001b[0;34m\u001b[0m\u001b[0m\n\u001b[0;32m--> 352\u001b[0;31m         \u001b[0;32mreturn\u001b[0m \u001b[0m_completion_with_retry\u001b[0m\u001b[0;34m(\u001b[0m\u001b[0;34m**\u001b[0m\u001b[0mkwargs\u001b[0m\u001b[0;34m)\u001b[0m\u001b[0;34m\u001b[0m\u001b[0;34m\u001b[0m\u001b[0m\n\u001b[0m\u001b[1;32m    353\u001b[0m \u001b[0;34m\u001b[0m\u001b[0m\n\u001b[1;32m    354\u001b[0m     \u001b[0;32mdef\u001b[0m \u001b[0m_combine_llm_outputs\u001b[0m\u001b[0;34m(\u001b[0m\u001b[0mself\u001b[0m\u001b[0;34m,\u001b[0m \u001b[0mllm_outputs\u001b[0m\u001b[0;34m:\u001b[0m \u001b[0mList\u001b[0m\u001b[0;34m[\u001b[0m\u001b[0mOptional\u001b[0m\u001b[0;34m[\u001b[0m\u001b[0mdict\u001b[0m\u001b[0;34m]\u001b[0m\u001b[0;34m]\u001b[0m\u001b[0;34m)\u001b[0m \u001b[0;34m->\u001b[0m \u001b[0mdict\u001b[0m\u001b[0;34m:\u001b[0m\u001b[0;34m\u001b[0m\u001b[0;34m\u001b[0m\u001b[0m\n",
            "\u001b[0;32m/usr/local/lib/python3.10/dist-packages/tenacity/__init__.py\u001b[0m in \u001b[0;36mwrapped_f\u001b[0;34m(*args, **kw)\u001b[0m\n\u001b[1;32m    287\u001b[0m         \u001b[0;34m@\u001b[0m\u001b[0mfunctools\u001b[0m\u001b[0;34m.\u001b[0m\u001b[0mwraps\u001b[0m\u001b[0;34m(\u001b[0m\u001b[0mf\u001b[0m\u001b[0;34m)\u001b[0m\u001b[0;34m\u001b[0m\u001b[0;34m\u001b[0m\u001b[0m\n\u001b[1;32m    288\u001b[0m         \u001b[0;32mdef\u001b[0m \u001b[0mwrapped_f\u001b[0m\u001b[0;34m(\u001b[0m\u001b[0;34m*\u001b[0m\u001b[0margs\u001b[0m\u001b[0;34m:\u001b[0m \u001b[0mt\u001b[0m\u001b[0;34m.\u001b[0m\u001b[0mAny\u001b[0m\u001b[0;34m,\u001b[0m \u001b[0;34m**\u001b[0m\u001b[0mkw\u001b[0m\u001b[0;34m:\u001b[0m \u001b[0mt\u001b[0m\u001b[0;34m.\u001b[0m\u001b[0mAny\u001b[0m\u001b[0;34m)\u001b[0m \u001b[0;34m->\u001b[0m \u001b[0mt\u001b[0m\u001b[0;34m.\u001b[0m\u001b[0mAny\u001b[0m\u001b[0;34m:\u001b[0m\u001b[0;34m\u001b[0m\u001b[0;34m\u001b[0m\u001b[0m\n\u001b[0;32m--> 289\u001b[0;31m             \u001b[0;32mreturn\u001b[0m \u001b[0mself\u001b[0m\u001b[0;34m(\u001b[0m\u001b[0mf\u001b[0m\u001b[0;34m,\u001b[0m \u001b[0;34m*\u001b[0m\u001b[0margs\u001b[0m\u001b[0;34m,\u001b[0m \u001b[0;34m**\u001b[0m\u001b[0mkw\u001b[0m\u001b[0;34m)\u001b[0m\u001b[0;34m\u001b[0m\u001b[0;34m\u001b[0m\u001b[0m\n\u001b[0m\u001b[1;32m    290\u001b[0m \u001b[0;34m\u001b[0m\u001b[0m\n\u001b[1;32m    291\u001b[0m         \u001b[0;32mdef\u001b[0m \u001b[0mretry_with\u001b[0m\u001b[0;34m(\u001b[0m\u001b[0;34m*\u001b[0m\u001b[0margs\u001b[0m\u001b[0;34m:\u001b[0m \u001b[0mt\u001b[0m\u001b[0;34m.\u001b[0m\u001b[0mAny\u001b[0m\u001b[0;34m,\u001b[0m \u001b[0;34m**\u001b[0m\u001b[0mkwargs\u001b[0m\u001b[0;34m:\u001b[0m \u001b[0mt\u001b[0m\u001b[0;34m.\u001b[0m\u001b[0mAny\u001b[0m\u001b[0;34m)\u001b[0m \u001b[0;34m->\u001b[0m \u001b[0mWrappedFn\u001b[0m\u001b[0;34m:\u001b[0m\u001b[0;34m\u001b[0m\u001b[0;34m\u001b[0m\u001b[0m\n",
            "\u001b[0;32m/usr/local/lib/python3.10/dist-packages/tenacity/__init__.py\u001b[0m in \u001b[0;36m__call__\u001b[0;34m(self, fn, *args, **kwargs)\u001b[0m\n\u001b[1;32m    377\u001b[0m         \u001b[0mretry_state\u001b[0m \u001b[0;34m=\u001b[0m \u001b[0mRetryCallState\u001b[0m\u001b[0;34m(\u001b[0m\u001b[0mretry_object\u001b[0m\u001b[0;34m=\u001b[0m\u001b[0mself\u001b[0m\u001b[0;34m,\u001b[0m \u001b[0mfn\u001b[0m\u001b[0;34m=\u001b[0m\u001b[0mfn\u001b[0m\u001b[0;34m,\u001b[0m \u001b[0margs\u001b[0m\u001b[0;34m=\u001b[0m\u001b[0margs\u001b[0m\u001b[0;34m,\u001b[0m \u001b[0mkwargs\u001b[0m\u001b[0;34m=\u001b[0m\u001b[0mkwargs\u001b[0m\u001b[0;34m)\u001b[0m\u001b[0;34m\u001b[0m\u001b[0;34m\u001b[0m\u001b[0m\n\u001b[1;32m    378\u001b[0m         \u001b[0;32mwhile\u001b[0m \u001b[0;32mTrue\u001b[0m\u001b[0;34m:\u001b[0m\u001b[0;34m\u001b[0m\u001b[0;34m\u001b[0m\u001b[0m\n\u001b[0;32m--> 379\u001b[0;31m             \u001b[0mdo\u001b[0m \u001b[0;34m=\u001b[0m \u001b[0mself\u001b[0m\u001b[0;34m.\u001b[0m\u001b[0miter\u001b[0m\u001b[0;34m(\u001b[0m\u001b[0mretry_state\u001b[0m\u001b[0;34m=\u001b[0m\u001b[0mretry_state\u001b[0m\u001b[0;34m)\u001b[0m\u001b[0;34m\u001b[0m\u001b[0;34m\u001b[0m\u001b[0m\n\u001b[0m\u001b[1;32m    380\u001b[0m             \u001b[0;32mif\u001b[0m \u001b[0misinstance\u001b[0m\u001b[0;34m(\u001b[0m\u001b[0mdo\u001b[0m\u001b[0;34m,\u001b[0m \u001b[0mDoAttempt\u001b[0m\u001b[0;34m)\u001b[0m\u001b[0;34m:\u001b[0m\u001b[0;34m\u001b[0m\u001b[0;34m\u001b[0m\u001b[0m\n\u001b[1;32m    381\u001b[0m                 \u001b[0;32mtry\u001b[0m\u001b[0;34m:\u001b[0m\u001b[0;34m\u001b[0m\u001b[0;34m\u001b[0m\u001b[0m\n",
            "\u001b[0;32m/usr/local/lib/python3.10/dist-packages/tenacity/__init__.py\u001b[0m in \u001b[0;36miter\u001b[0;34m(self, retry_state)\u001b[0m\n\u001b[1;32m    312\u001b[0m         \u001b[0mis_explicit_retry\u001b[0m \u001b[0;34m=\u001b[0m \u001b[0mfut\u001b[0m\u001b[0;34m.\u001b[0m\u001b[0mfailed\u001b[0m \u001b[0;32mand\u001b[0m \u001b[0misinstance\u001b[0m\u001b[0;34m(\u001b[0m\u001b[0mfut\u001b[0m\u001b[0;34m.\u001b[0m\u001b[0mexception\u001b[0m\u001b[0;34m(\u001b[0m\u001b[0;34m)\u001b[0m\u001b[0;34m,\u001b[0m \u001b[0mTryAgain\u001b[0m\u001b[0;34m)\u001b[0m\u001b[0;34m\u001b[0m\u001b[0;34m\u001b[0m\u001b[0m\n\u001b[1;32m    313\u001b[0m         \u001b[0;32mif\u001b[0m \u001b[0;32mnot\u001b[0m \u001b[0;34m(\u001b[0m\u001b[0mis_explicit_retry\u001b[0m \u001b[0;32mor\u001b[0m \u001b[0mself\u001b[0m\u001b[0;34m.\u001b[0m\u001b[0mretry\u001b[0m\u001b[0;34m(\u001b[0m\u001b[0mretry_state\u001b[0m\u001b[0;34m)\u001b[0m\u001b[0;34m)\u001b[0m\u001b[0;34m:\u001b[0m\u001b[0;34m\u001b[0m\u001b[0;34m\u001b[0m\u001b[0m\n\u001b[0;32m--> 314\u001b[0;31m             \u001b[0;32mreturn\u001b[0m \u001b[0mfut\u001b[0m\u001b[0;34m.\u001b[0m\u001b[0mresult\u001b[0m\u001b[0;34m(\u001b[0m\u001b[0;34m)\u001b[0m\u001b[0;34m\u001b[0m\u001b[0;34m\u001b[0m\u001b[0m\n\u001b[0m\u001b[1;32m    315\u001b[0m \u001b[0;34m\u001b[0m\u001b[0m\n\u001b[1;32m    316\u001b[0m         \u001b[0;32mif\u001b[0m \u001b[0mself\u001b[0m\u001b[0;34m.\u001b[0m\u001b[0mafter\u001b[0m \u001b[0;32mis\u001b[0m \u001b[0;32mnot\u001b[0m \u001b[0;32mNone\u001b[0m\u001b[0;34m:\u001b[0m\u001b[0;34m\u001b[0m\u001b[0;34m\u001b[0m\u001b[0m\n",
            "\u001b[0;32m/usr/lib/python3.10/concurrent/futures/_base.py\u001b[0m in \u001b[0;36mresult\u001b[0;34m(self, timeout)\u001b[0m\n\u001b[1;32m    449\u001b[0m                     \u001b[0;32mraise\u001b[0m \u001b[0mCancelledError\u001b[0m\u001b[0;34m(\u001b[0m\u001b[0;34m)\u001b[0m\u001b[0;34m\u001b[0m\u001b[0;34m\u001b[0m\u001b[0m\n\u001b[1;32m    450\u001b[0m                 \u001b[0;32melif\u001b[0m \u001b[0mself\u001b[0m\u001b[0;34m.\u001b[0m\u001b[0m_state\u001b[0m \u001b[0;34m==\u001b[0m \u001b[0mFINISHED\u001b[0m\u001b[0;34m:\u001b[0m\u001b[0;34m\u001b[0m\u001b[0;34m\u001b[0m\u001b[0m\n\u001b[0;32m--> 451\u001b[0;31m                     \u001b[0;32mreturn\u001b[0m \u001b[0mself\u001b[0m\u001b[0;34m.\u001b[0m\u001b[0m__get_result\u001b[0m\u001b[0;34m(\u001b[0m\u001b[0;34m)\u001b[0m\u001b[0;34m\u001b[0m\u001b[0;34m\u001b[0m\u001b[0m\n\u001b[0m\u001b[1;32m    452\u001b[0m \u001b[0;34m\u001b[0m\u001b[0m\n\u001b[1;32m    453\u001b[0m                 \u001b[0mself\u001b[0m\u001b[0;34m.\u001b[0m\u001b[0m_condition\u001b[0m\u001b[0;34m.\u001b[0m\u001b[0mwait\u001b[0m\u001b[0;34m(\u001b[0m\u001b[0mtimeout\u001b[0m\u001b[0;34m)\u001b[0m\u001b[0;34m\u001b[0m\u001b[0;34m\u001b[0m\u001b[0m\n",
            "\u001b[0;32m/usr/lib/python3.10/concurrent/futures/_base.py\u001b[0m in \u001b[0;36m__get_result\u001b[0;34m(self)\u001b[0m\n\u001b[1;32m    401\u001b[0m         \u001b[0;32mif\u001b[0m \u001b[0mself\u001b[0m\u001b[0;34m.\u001b[0m\u001b[0m_exception\u001b[0m\u001b[0;34m:\u001b[0m\u001b[0;34m\u001b[0m\u001b[0;34m\u001b[0m\u001b[0m\n\u001b[1;32m    402\u001b[0m             \u001b[0;32mtry\u001b[0m\u001b[0;34m:\u001b[0m\u001b[0;34m\u001b[0m\u001b[0;34m\u001b[0m\u001b[0m\n\u001b[0;32m--> 403\u001b[0;31m                 \u001b[0;32mraise\u001b[0m \u001b[0mself\u001b[0m\u001b[0;34m.\u001b[0m\u001b[0m_exception\u001b[0m\u001b[0;34m\u001b[0m\u001b[0;34m\u001b[0m\u001b[0m\n\u001b[0m\u001b[1;32m    404\u001b[0m             \u001b[0;32mfinally\u001b[0m\u001b[0;34m:\u001b[0m\u001b[0;34m\u001b[0m\u001b[0;34m\u001b[0m\u001b[0m\n\u001b[1;32m    405\u001b[0m                 \u001b[0;31m# Break a reference cycle with the exception in self._exception\u001b[0m\u001b[0;34m\u001b[0m\u001b[0;34m\u001b[0m\u001b[0m\n",
            "\u001b[0;32m/usr/local/lib/python3.10/dist-packages/tenacity/__init__.py\u001b[0m in \u001b[0;36m__call__\u001b[0;34m(self, fn, *args, **kwargs)\u001b[0m\n\u001b[1;32m    380\u001b[0m             \u001b[0;32mif\u001b[0m \u001b[0misinstance\u001b[0m\u001b[0;34m(\u001b[0m\u001b[0mdo\u001b[0m\u001b[0;34m,\u001b[0m \u001b[0mDoAttempt\u001b[0m\u001b[0;34m)\u001b[0m\u001b[0;34m:\u001b[0m\u001b[0;34m\u001b[0m\u001b[0;34m\u001b[0m\u001b[0m\n\u001b[1;32m    381\u001b[0m                 \u001b[0;32mtry\u001b[0m\u001b[0;34m:\u001b[0m\u001b[0;34m\u001b[0m\u001b[0;34m\u001b[0m\u001b[0m\n\u001b[0;32m--> 382\u001b[0;31m                     \u001b[0mresult\u001b[0m \u001b[0;34m=\u001b[0m \u001b[0mfn\u001b[0m\u001b[0;34m(\u001b[0m\u001b[0;34m*\u001b[0m\u001b[0margs\u001b[0m\u001b[0;34m,\u001b[0m \u001b[0;34m**\u001b[0m\u001b[0mkwargs\u001b[0m\u001b[0;34m)\u001b[0m\u001b[0;34m\u001b[0m\u001b[0;34m\u001b[0m\u001b[0m\n\u001b[0m\u001b[1;32m    383\u001b[0m                 \u001b[0;32mexcept\u001b[0m \u001b[0mBaseException\u001b[0m\u001b[0;34m:\u001b[0m  \u001b[0;31m# noqa: B902\u001b[0m\u001b[0;34m\u001b[0m\u001b[0;34m\u001b[0m\u001b[0m\n\u001b[1;32m    384\u001b[0m                     \u001b[0mretry_state\u001b[0m\u001b[0;34m.\u001b[0m\u001b[0mset_exception\u001b[0m\u001b[0;34m(\u001b[0m\u001b[0msys\u001b[0m\u001b[0;34m.\u001b[0m\u001b[0mexc_info\u001b[0m\u001b[0;34m(\u001b[0m\u001b[0;34m)\u001b[0m\u001b[0;34m)\u001b[0m  \u001b[0;31m# type: ignore[arg-type]\u001b[0m\u001b[0;34m\u001b[0m\u001b[0;34m\u001b[0m\u001b[0m\n",
            "\u001b[0;32m/usr/local/lib/python3.10/dist-packages/langchain/chat_models/openai.py\u001b[0m in \u001b[0;36m_completion_with_retry\u001b[0;34m(**kwargs)\u001b[0m\n\u001b[1;32m    348\u001b[0m         \u001b[0;34m@\u001b[0m\u001b[0mretry_decorator\u001b[0m\u001b[0;34m\u001b[0m\u001b[0;34m\u001b[0m\u001b[0m\n\u001b[1;32m    349\u001b[0m         \u001b[0;32mdef\u001b[0m \u001b[0m_completion_with_retry\u001b[0m\u001b[0;34m(\u001b[0m\u001b[0;34m**\u001b[0m\u001b[0mkwargs\u001b[0m\u001b[0;34m:\u001b[0m \u001b[0mAny\u001b[0m\u001b[0;34m)\u001b[0m \u001b[0;34m->\u001b[0m \u001b[0mAny\u001b[0m\u001b[0;34m:\u001b[0m\u001b[0;34m\u001b[0m\u001b[0;34m\u001b[0m\u001b[0m\n\u001b[0;32m--> 350\u001b[0;31m             \u001b[0;32mreturn\u001b[0m \u001b[0mself\u001b[0m\u001b[0;34m.\u001b[0m\u001b[0mclient\u001b[0m\u001b[0;34m.\u001b[0m\u001b[0mcreate\u001b[0m\u001b[0;34m(\u001b[0m\u001b[0;34m**\u001b[0m\u001b[0mkwargs\u001b[0m\u001b[0;34m)\u001b[0m\u001b[0;34m\u001b[0m\u001b[0;34m\u001b[0m\u001b[0m\n\u001b[0m\u001b[1;32m    351\u001b[0m \u001b[0;34m\u001b[0m\u001b[0m\n\u001b[1;32m    352\u001b[0m         \u001b[0;32mreturn\u001b[0m \u001b[0m_completion_with_retry\u001b[0m\u001b[0;34m(\u001b[0m\u001b[0;34m**\u001b[0m\u001b[0mkwargs\u001b[0m\u001b[0;34m)\u001b[0m\u001b[0;34m\u001b[0m\u001b[0;34m\u001b[0m\u001b[0m\n",
            "\u001b[0;32m/usr/local/lib/python3.10/dist-packages/openai/api_resources/chat_completion.py\u001b[0m in \u001b[0;36mcreate\u001b[0;34m(cls, *args, **kwargs)\u001b[0m\n\u001b[1;32m     23\u001b[0m         \u001b[0;32mwhile\u001b[0m \u001b[0;32mTrue\u001b[0m\u001b[0;34m:\u001b[0m\u001b[0;34m\u001b[0m\u001b[0;34m\u001b[0m\u001b[0m\n\u001b[1;32m     24\u001b[0m             \u001b[0;32mtry\u001b[0m\u001b[0;34m:\u001b[0m\u001b[0;34m\u001b[0m\u001b[0;34m\u001b[0m\u001b[0m\n\u001b[0;32m---> 25\u001b[0;31m                 \u001b[0;32mreturn\u001b[0m \u001b[0msuper\u001b[0m\u001b[0;34m(\u001b[0m\u001b[0;34m)\u001b[0m\u001b[0;34m.\u001b[0m\u001b[0mcreate\u001b[0m\u001b[0;34m(\u001b[0m\u001b[0;34m*\u001b[0m\u001b[0margs\u001b[0m\u001b[0;34m,\u001b[0m \u001b[0;34m**\u001b[0m\u001b[0mkwargs\u001b[0m\u001b[0;34m)\u001b[0m\u001b[0;34m\u001b[0m\u001b[0;34m\u001b[0m\u001b[0m\n\u001b[0m\u001b[1;32m     26\u001b[0m             \u001b[0;32mexcept\u001b[0m \u001b[0mTryAgain\u001b[0m \u001b[0;32mas\u001b[0m \u001b[0me\u001b[0m\u001b[0;34m:\u001b[0m\u001b[0;34m\u001b[0m\u001b[0;34m\u001b[0m\u001b[0m\n\u001b[1;32m     27\u001b[0m                 \u001b[0;32mif\u001b[0m \u001b[0mtimeout\u001b[0m \u001b[0;32mis\u001b[0m \u001b[0;32mnot\u001b[0m \u001b[0;32mNone\u001b[0m \u001b[0;32mand\u001b[0m \u001b[0mtime\u001b[0m\u001b[0;34m.\u001b[0m\u001b[0mtime\u001b[0m\u001b[0;34m(\u001b[0m\u001b[0;34m)\u001b[0m \u001b[0;34m>\u001b[0m \u001b[0mstart\u001b[0m \u001b[0;34m+\u001b[0m \u001b[0mtimeout\u001b[0m\u001b[0;34m:\u001b[0m\u001b[0;34m\u001b[0m\u001b[0;34m\u001b[0m\u001b[0m\n",
            "\u001b[0;32m/usr/local/lib/python3.10/dist-packages/openai/api_resources/abstract/engine_api_resource.py\u001b[0m in \u001b[0;36mcreate\u001b[0;34m(cls, api_key, api_base, api_type, request_id, api_version, organization, **params)\u001b[0m\n\u001b[1;32m    153\u001b[0m         )\n\u001b[1;32m    154\u001b[0m \u001b[0;34m\u001b[0m\u001b[0m\n\u001b[0;32m--> 155\u001b[0;31m         response, _, api_key = requestor.request(\n\u001b[0m\u001b[1;32m    156\u001b[0m             \u001b[0;34m\"post\"\u001b[0m\u001b[0;34m,\u001b[0m\u001b[0;34m\u001b[0m\u001b[0;34m\u001b[0m\u001b[0m\n\u001b[1;32m    157\u001b[0m             \u001b[0murl\u001b[0m\u001b[0;34m,\u001b[0m\u001b[0;34m\u001b[0m\u001b[0;34m\u001b[0m\u001b[0m\n",
            "\u001b[0;32m/usr/local/lib/python3.10/dist-packages/openai/api_requestor.py\u001b[0m in \u001b[0;36mrequest\u001b[0;34m(self, method, url, params, headers, files, stream, request_id, request_timeout)\u001b[0m\n\u001b[1;32m    297\u001b[0m             \u001b[0mrequest_timeout\u001b[0m\u001b[0;34m=\u001b[0m\u001b[0mrequest_timeout\u001b[0m\u001b[0;34m,\u001b[0m\u001b[0;34m\u001b[0m\u001b[0;34m\u001b[0m\u001b[0m\n\u001b[1;32m    298\u001b[0m         )\n\u001b[0;32m--> 299\u001b[0;31m         \u001b[0mresp\u001b[0m\u001b[0;34m,\u001b[0m \u001b[0mgot_stream\u001b[0m \u001b[0;34m=\u001b[0m \u001b[0mself\u001b[0m\u001b[0;34m.\u001b[0m\u001b[0m_interpret_response\u001b[0m\u001b[0;34m(\u001b[0m\u001b[0mresult\u001b[0m\u001b[0;34m,\u001b[0m \u001b[0mstream\u001b[0m\u001b[0;34m)\u001b[0m\u001b[0;34m\u001b[0m\u001b[0;34m\u001b[0m\u001b[0m\n\u001b[0m\u001b[1;32m    300\u001b[0m         \u001b[0;32mreturn\u001b[0m \u001b[0mresp\u001b[0m\u001b[0;34m,\u001b[0m \u001b[0mgot_stream\u001b[0m\u001b[0;34m,\u001b[0m \u001b[0mself\u001b[0m\u001b[0;34m.\u001b[0m\u001b[0mapi_key\u001b[0m\u001b[0;34m\u001b[0m\u001b[0;34m\u001b[0m\u001b[0m\n\u001b[1;32m    301\u001b[0m \u001b[0;34m\u001b[0m\u001b[0m\n",
            "\u001b[0;32m/usr/local/lib/python3.10/dist-packages/openai/api_requestor.py\u001b[0m in \u001b[0;36m_interpret_response\u001b[0;34m(self, result, stream)\u001b[0m\n\u001b[1;32m    708\u001b[0m         \u001b[0;32melse\u001b[0m\u001b[0;34m:\u001b[0m\u001b[0;34m\u001b[0m\u001b[0;34m\u001b[0m\u001b[0m\n\u001b[1;32m    709\u001b[0m             return (\n\u001b[0;32m--> 710\u001b[0;31m                 self._interpret_response_line(\n\u001b[0m\u001b[1;32m    711\u001b[0m                     \u001b[0mresult\u001b[0m\u001b[0;34m.\u001b[0m\u001b[0mcontent\u001b[0m\u001b[0;34m.\u001b[0m\u001b[0mdecode\u001b[0m\u001b[0;34m(\u001b[0m\u001b[0;34m\"utf-8\"\u001b[0m\u001b[0;34m)\u001b[0m\u001b[0;34m,\u001b[0m\u001b[0;34m\u001b[0m\u001b[0;34m\u001b[0m\u001b[0m\n\u001b[1;32m    712\u001b[0m                     \u001b[0mresult\u001b[0m\u001b[0;34m.\u001b[0m\u001b[0mstatus_code\u001b[0m\u001b[0;34m,\u001b[0m\u001b[0;34m\u001b[0m\u001b[0;34m\u001b[0m\u001b[0m\n",
            "\u001b[0;32m/usr/local/lib/python3.10/dist-packages/openai/api_requestor.py\u001b[0m in \u001b[0;36m_interpret_response_line\u001b[0;34m(self, rbody, rcode, rheaders, stream)\u001b[0m\n\u001b[1;32m    773\u001b[0m         \u001b[0mstream_error\u001b[0m \u001b[0;34m=\u001b[0m \u001b[0mstream\u001b[0m \u001b[0;32mand\u001b[0m \u001b[0;34m\"error\"\u001b[0m \u001b[0;32min\u001b[0m \u001b[0mresp\u001b[0m\u001b[0;34m.\u001b[0m\u001b[0mdata\u001b[0m\u001b[0;34m\u001b[0m\u001b[0;34m\u001b[0m\u001b[0m\n\u001b[1;32m    774\u001b[0m         \u001b[0;32mif\u001b[0m \u001b[0mstream_error\u001b[0m \u001b[0;32mor\u001b[0m \u001b[0;32mnot\u001b[0m \u001b[0;36m200\u001b[0m \u001b[0;34m<=\u001b[0m \u001b[0mrcode\u001b[0m \u001b[0;34m<\u001b[0m \u001b[0;36m300\u001b[0m\u001b[0;34m:\u001b[0m\u001b[0;34m\u001b[0m\u001b[0;34m\u001b[0m\u001b[0m\n\u001b[0;32m--> 775\u001b[0;31m             raise self.handle_error_response(\n\u001b[0m\u001b[1;32m    776\u001b[0m                 \u001b[0mrbody\u001b[0m\u001b[0;34m,\u001b[0m \u001b[0mrcode\u001b[0m\u001b[0;34m,\u001b[0m \u001b[0mresp\u001b[0m\u001b[0;34m.\u001b[0m\u001b[0mdata\u001b[0m\u001b[0;34m,\u001b[0m \u001b[0mrheaders\u001b[0m\u001b[0;34m,\u001b[0m \u001b[0mstream_error\u001b[0m\u001b[0;34m=\u001b[0m\u001b[0mstream_error\u001b[0m\u001b[0;34m\u001b[0m\u001b[0;34m\u001b[0m\u001b[0m\n\u001b[1;32m    777\u001b[0m             )\n",
            "\u001b[0;31mInvalidRequestError\u001b[0m: The model `gpt-4-32k` does not exist or you do not have access to it. Learn more: https://help.openai.com/en/articles/7102672-how-can-i-access-gpt-4."
          ]
        }
      ],
      "source": [
        "reformat_market_research(\"Coca cola company\",\"adc\", \"increased sales \", \"Information Technology\", \"Small to Medium Enterprises\", \"Lack of efficient and secure systems for managing business operations\", \"A world where businesses operate seamlessly with the help of advanced, secure, and user-friendly tech solutions\", \"Providing innovative tech solutions to streamline business operations\")\n"
      ]
    },
    {
      "cell_type": "code",
      "execution_count": null,
      "metadata": {
        "id": "9_FbVIKBc_C0"
      },
      "outputs": [],
      "source": [
        "llm = ChatOpenAI(model_name=\"gpt-4-0314\", temperature=0.2, openai_api_key=\"Your key\")\n"
      ]
    },
    {
      "cell_type": "code",
      "execution_count": null,
      "metadata": {
        "colab": {
          "base_uri": "https://localhost:8080/",
          "height": 53
        },
        "id": "hJ_9CXTA1Ipj",
        "outputId": "127d1782-a387-4cb4-b290-aadf6ae33fb5"
      },
      "outputs": [
        {
          "data": {
            "application/vnd.google.colaboratory.intrinsic+json": {
              "type": "string"
            },
            "text/plain": [
              "\"It seems like you've entered a random combination of letters (dcsdcd). If you have a specific question or topic you'd like information on, please feel free to ask, and I'll be happy to help!\""
            ]
          },
          "execution_count": 15,
          "metadata": {},
          "output_type": "execute_result"
        }
      ],
      "source": [
        "llm.predict(text=\"dcsdcd\")"
      ]
    },
    {
      "cell_type": "code",
      "execution_count": null,
      "metadata": {
        "id": "PxlAOuqV1LSZ"
      },
      "outputs": [],
      "source": [
        "def ApiSend(reformatted_data,mrId):\n",
        "    url = \"https://copywraiter.bubbleapps.io/version-test/api/1.1/wf/desires\"\n",
        "    headers = {\n",
        "        \"Authorization\": \"Bearer \"\n",
        "    }\n",
        "    params = {\n",
        "        \"market_research\": mrId,\n",
        "        \"desires\": reformatted_data['desires'],\n",
        "\n",
        "    }\n",
        "\n",
        "    response = requests.post(url, headers=headers, data=params)\n",
        "\n",
        "    if response.status_code == 200:\n",
        "        data = json.loads(response.text)\n",
        "        print(data)\n",
        "    else:\n",
        "        print(f\"Request failed with status code {response.status_code}\")\n",
        "\n"
      ]
    },
    {
      "cell_type": "code",
      "execution_count": null,
      "metadata": {
        "id": "L9H4iXt4EHQS"
      },
      "outputs": [],
      "source": [
        "content='```json\\n{\\n\\t\"Regenerate_output\": \"🌟 Scopri l\\'eccellenza con Adidas! 🌟\\n\\nSei pronto a fare il salto di qualità nei tuoi allenamenti e nella vita di tutti i giorni? Adidas ti presenta le scarpe che rivoluzioneranno il tuo modo di muoverti, con un design all\\'avanguardia e la massima attenzione alla performance.\\n\\n👟 Con \\'shoes by adidas\\', esperienza e tecnologia si fondono per garantirti il massimo comfort e supporto in ogni tua attività. Perfette per i giovani professionisti dinamici e gli appassionati di fitness come te, che non si accontentano di meno del meglio.\\n\\n💼 Formale ma audace, il nostro invito è per te che hai tra i 20 e i 35 anni, sei attento alla qualità e alla sostenibilità, e cerchi in un prodotto non solo uno stile, ma un vero e proprio alleato per i tuoi obiettivi di salute e benessere.\\n\\n💲 Approfitta della nostra offerta esclusiva: per un tempo limitato, le \\'shoes by adidas\\' sono disponibili a un prezzo speciale. Non perdere l\\'occasione di elevare il tuo standard e di distinguerti con classe e consapevolezza.\\n\\n🏃\\u200d♂️🏃\\u200d♀️ Che tu stia iniziando un nuovo regime di fitness o ti stia preparando per un evento sportivo, lasciati ispirare dalle raccomandazioni dei tuoi pari e dai lanci dei nuovi modelli Adidas. Scegli di fare la differenza, scegli Adidas.\\n\\n🌱 Ricorda, ogni passo che fai con Adidas è un passo verso un futuro più sostenibile. Unisciti a noi nell\\'impegno per un impatto ambientale ridotto.\\n\\n🛒 Non aspettare oltre, visita il nostro sito e acquista ora le tue nuove scarpe Adidas. Sii veloce, sii brillante, sii Adidas. #Performance #Stile #Sostenibilità #Adidas\"\\n}\\n```'"
      ]
    },
    {
      "cell_type": "code",
      "execution_count": null,
      "metadata": {
        "id": "Z0XVMDFRFJIX"
      },
      "outputs": [],
      "source": [
        "\n",
        "response_schema=[\n",
        "\n",
        "        ResponseSchema(name=\"Regenerate_output\", description=\"\"\"MOST CRITICAL AND IMPORTANT INSTRUCTION IS THAT THE OUTPUT SHOULD BE IN ITALIAN LANGUAGE even though prompt is in English.Detail the desires and wishes of the target market.Vividly describe 5 desires that the buyer persona has regarding their problem and what would happen if they were to achieve them.It is very important to show output in numbering or bullet points form instead of paragraph form.Very very important important to also include subheadings of DESCRIPTION and IMPACT ON RELATIONSHIPS along with details and explanation.DO NOT show answer in paragraph continous form but rather in a numbering list form.please note that the word count should be a minimum of 300 words. I don't want boring or superficial answers. Tell me the deepest desires that the buyer persona wouldn't admit out loud unless they were heard by others. Desires for which they would be willing to do anything to realize. For each desire, give me specific examples of how each of these 5 desires would impact their relationships. Be vivid, descriptive, and emotional.What impact would these desires if realized have on the people surrounding the buyer persona? In the best case, how would these people treat her? Push the boundaries of her wildest imagination.A good output example is Desires\n",
        "1. Desire for Omnipotence in Contract Management\n",
        "    Description The hidden desire to have such complete and perfect knowledge of employment contracts that every detail can be manipulated to one's advantage, ensuring that every decision made leads to the desired success.\n",
        "    Impact on Relationships Other administrators and employees would see the person as a true \"Contract Wizard,\" capable of working miracles in terms of personnel management.\n",
        "    How They Would Be Treated They would be respected and admired as an almost mythical figure, seeking their advice and trying to learn their \"secret.\"\n",
        "2. Desire for Immunity from Union Issues\n",
        "    Description The dream of creating contracts so perfect and well-calibrated that they render one immune to any union disputes or industrial relations problems.\n",
        "    Impact on Relationships With such ability, unions and employees would see them as an ally rather than an adversary.\n",
        "    How They Would Be Treated They would be perceived as enlightened, a fair and just leader who knows exactly how to balance the interests of the company with those of the employees.\n",
        "3. Desire for Perfect Harmony\n",
        "    Description The burning desire to create a work environment so harmonious and productive that every employee wakes up in the morning looking forward to coming to work.\n",
        "    Impact on Relationships This would lead to unprecedented company productivity and a climate of support and collaboration among employees.\n",
        "    How They Would Be Treated They would be revered as an enlightened entrepreneur, with a company where everyone works happily and passionately toward common goals.\n",
        "4. Desire for Global Recognition\n",
        "    Description The secret dream of being recognized internationally as the expert in employment contracts, with companies from around the world seeking their advice.\n",
        "    Impact on Relationships They would be seen as a true rockstar in the business world, with colleagues and competitors asking for their advice.\n",
        "    How They Would Be Treated With admiration and a touch of envy, they would be considered a shining example to follow.\n",
        "5. Desire for Talent Magnetism\n",
        "    Description The burning desire to be recognized as the employer of choice in the industry, thanks to the ability to offer irresistible contracts and working conditions. In their vision, the company becomes a shining beacon that attracts the best talents, often unreachable for other companies due to their high demands or career ambitions.\n",
        "    Impact on Relationships Current employees would welcome the arrival of these new talents with enthusiasm, knowing that the company is reaching new levels of excellence. Newcomers, on the other hand, would be ecstatic and grateful to have found a company that truly respects their skills and aspirations.\n",
        "    How They Would Be Treated The buyer persona would be seen as a visionary, capable not only of managing a company but of making it a true \"home\" for talents. Employees would consider them as an enlightened leader, under whose guidance they can grow professionally and personally. The atmosphere within the company would be electric, with a pervasive feeling of gratitude and admiration. On the outside, other employers would watch them with envy, eager to decipher their \"secret\" for attracting such talents.\n",
        "    please note once again that the MOST CRITICAL AND IMPORTANT INSTRUCTION IS THAT THE OUTPUT SHOULD BE IN ITALIAN LANGUAGE even though prompt is in English.\"\"\"),\n",
        "]"
      ]
    },
    {
      "cell_type": "code",
      "execution_count": null,
      "metadata": {
        "id": "41LOweqFFD1B"
      },
      "outputs": [],
      "source": [
        "schema_output_template = StructuredOutputParser.from_response_schemas(response_schema)\n",
        "market_research_format_instructions = schema_output_template.get_format_instructions()"
      ]
    },
    {
      "cell_type": "code",
      "execution_count": null,
      "metadata": {
        "colab": {
          "base_uri": "https://localhost:8080/",
          "height": 192
        },
        "id": "btK0fdWmY-Yz",
        "outputId": "b3b5a303-1cbb-40d6-aab5-9a6736b69f89"
      },
      "outputs": [
        {
          "data": {
            "application/vnd.google.colaboratory.intrinsic+json": {
              "type": "string"
            },
            "text/plain": [
              "'```json\\n{\\n\\t\"Regenerate_output\": \"🌟 Scopri l\\'eccellenza con Adidas! 🌟\\n\\nSei pronto a fare il salto di qualità nei tuoi allenamenti e nella vita di tutti i giorni? Adidas ti presenta le scarpe che rivoluzioneranno il tuo modo di muoverti, con un design all\\'avanguardia e la massima attenzione alla performance.\\n\\n👟 Con \\'shoes by adidas\\', esperienza e tecnologia si fondono per garantirti il massimo comfort e supporto in ogni tua attività. Perfette per i giovani professionisti dinamici e gli appassionati di fitness come te, che non si accontentano di meno del meglio.\\n\\n💼 Formale ma audace, il nostro invito è per te che hai tra i 20 e i 35 anni, sei attento alla qualità e alla sostenibilità, e cerchi in un prodotto non solo uno stile, ma un vero e proprio alleato per i tuoi obiettivi di salute e benessere.\\n\\n💲 Approfitta della nostra offerta esclusiva: per un tempo limitato, le \\'shoes by adidas\\' sono disponibili a un prezzo speciale. Non perdere l\\'occasione di elevare il tuo standard e di distinguerti con classe e consapevolezza.\\n\\n🏃\\u200d♂️🏃\\u200d♀️ Che tu stia iniziando un nuovo regime di fitness o ti stia preparando per un evento sportivo, lasciati ispirare dalle raccomandazioni dei tuoi pari e dai lanci dei nuovi modelli Adidas. Scegli di fare la differenza, scegli Adidas.\\n\\n🌱 Ricorda, ogni passo che fai con Adidas è un passo verso un futuro più sostenibile. Unisciti a noi nell\\'impegno per un impatto ambientale ridotto.\\n\\n🛒 Non aspettare oltre, visita il nostro sito e acquista ora le tue nuove scarpe Adidas. Sii veloce, sii brillante, sii Adidas. #Performance #Stile #Sostenibilità #Adidas\"\\n}\\n```'"
            ]
          },
          "execution_count": 11,
          "metadata": {},
          "output_type": "execute_result"
        }
      ],
      "source": [
        "content"
      ]
    },
    {
      "cell_type": "code",
      "execution_count": null,
      "metadata": {
        "id": "ydP9ct6CZVbL"
      },
      "outputs": [],
      "source": [
        "a=json.dumps(content)\n"
      ]
    },
    {
      "cell_type": "code",
      "execution_count": null,
      "metadata": {
        "colab": {
          "base_uri": "https://localhost:8080/",
          "height": 123
        },
        "id": "obH9-h3IZX4a",
        "outputId": "002e9367-98e1-4e9a-8feb-0246c2b51a32"
      },
      "outputs": [
        {
          "data": {
            "application/vnd.google.colaboratory.intrinsic+json": {
              "type": "string"
            },
            "text/plain": [
              "'\"```json\\\\n{\\\\n\\\\t\\\\\"Regenerate_output\\\\\": \\\\\"\\\\ud83c\\\\udf1f Scopri l\\'eccellenza con Adidas! \\\\ud83c\\\\udf1f\\\\n\\\\nSei pronto a fare il salto di qualit\\\\u00e0 nei tuoi allenamenti e nella vita di tutti i giorni? Adidas ti presenta le scarpe che rivoluzioneranno il tuo modo di muoverti, con un design all\\'avanguardia e la massima attenzione alla performance.\\\\n\\\\n\\\\ud83d\\\\udc5f Con \\'shoes by adidas\\', esperienza e tecnologia si fondono per garantirti il massimo comfort e supporto in ogni tua attivit\\\\u00e0. Perfette per i giovani professionisti dinamici e gli appassionati di fitness come te, che non si accontentano di meno del meglio.\\\\n\\\\n\\\\ud83d\\\\udcbc Formale ma audace, il nostro invito \\\\u00e8 per te che hai tra i 20 e i 35 anni, sei attento alla qualit\\\\u00e0 e alla sostenibilit\\\\u00e0, e cerchi in un prodotto non solo uno stile, ma un vero e proprio alleato per i tuoi obiettivi di salute e benessere.\\\\n\\\\n\\\\ud83d\\\\udcb2 Approfitta della nostra offerta esclusiva: per un tempo limitato, le \\'shoes by adidas\\' sono disponibili a un prezzo speciale. Non perdere l\\'occasione di elevare il tuo standard e di distinguerti con classe e consapevolezza.\\\\n\\\\n\\\\ud83c\\\\udfc3\\\\u200d\\\\u2642\\\\ufe0f\\\\ud83c\\\\udfc3\\\\u200d\\\\u2640\\\\ufe0f Che tu stia iniziando un nuovo regime di fitness o ti stia preparando per un evento sportivo, lasciati ispirare dalle raccomandazioni dei tuoi pari e dai lanci dei nuovi modelli Adidas. Scegli di fare la differenza, scegli Adidas.\\\\n\\\\n\\\\ud83c\\\\udf31 Ricorda, ogni passo che fai con Adidas \\\\u00e8 un passo verso un futuro pi\\\\u00f9 sostenibile. Unisciti a noi nell\\'impegno per un impatto ambientale ridotto.\\\\n\\\\n\\\\ud83d\\\\uded2 Non aspettare oltre, visita il nostro sito e acquista ora le tue nuove scarpe Adidas. Sii veloce, sii brillante, sii Adidas. #Performance #Stile #Sostenibilit\\\\u00e0 #Adidas\\\\\"\\\\n}\\\\n```\"'"
            ]
          },
          "execution_count": 13,
          "metadata": {},
          "output_type": "execute_result"
        }
      ],
      "source": [
        "a"
      ]
    },
    {
      "cell_type": "code",
      "execution_count": null,
      "metadata": {
        "colab": {
          "base_uri": "https://localhost:8080/",
          "height": 442
        },
        "id": "vsrumtphE1Gf",
        "outputId": "22a44820-c041-4a38-9545-02b70c23110a"
      },
      "outputs": [
        {
          "ename": "OutputParserException",
          "evalue": "ignored",
          "output_type": "error",
          "traceback": [
            "\u001b[0;31m---------------------------------------------------------------------------\u001b[0m",
            "\u001b[0;31mJSONDecodeError\u001b[0m                           Traceback (most recent call last)",
            "\u001b[0;32m/usr/local/lib/python3.10/dist-packages/langchain/output_parsers/json.py\u001b[0m in \u001b[0;36mparse_and_check_json_markdown\u001b[0;34m(text, expected_keys)\u001b[0m\n\u001b[1;32m    159\u001b[0m     \u001b[0;32mtry\u001b[0m\u001b[0;34m:\u001b[0m\u001b[0;34m\u001b[0m\u001b[0;34m\u001b[0m\u001b[0m\n\u001b[0;32m--> 160\u001b[0;31m         \u001b[0mjson_obj\u001b[0m \u001b[0;34m=\u001b[0m \u001b[0mparse_json_markdown\u001b[0m\u001b[0;34m(\u001b[0m\u001b[0mtext\u001b[0m\u001b[0;34m)\u001b[0m\u001b[0;34m\u001b[0m\u001b[0;34m\u001b[0m\u001b[0m\n\u001b[0m\u001b[1;32m    161\u001b[0m     \u001b[0;32mexcept\u001b[0m \u001b[0mjson\u001b[0m\u001b[0;34m.\u001b[0m\u001b[0mJSONDecodeError\u001b[0m \u001b[0;32mas\u001b[0m \u001b[0me\u001b[0m\u001b[0;34m:\u001b[0m\u001b[0;34m\u001b[0m\u001b[0;34m\u001b[0m\u001b[0m\n",
            "\u001b[0;32m/usr/local/lib/python3.10/dist-packages/langchain/output_parsers/json.py\u001b[0m in \u001b[0;36mparse_json_markdown\u001b[0;34m(json_string, parser)\u001b[0m\n\u001b[1;32m    141\u001b[0m     \u001b[0;31m# Parse the JSON string into a Python dictionary\u001b[0m\u001b[0;34m\u001b[0m\u001b[0;34m\u001b[0m\u001b[0m\n\u001b[0;32m--> 142\u001b[0;31m     \u001b[0mparsed\u001b[0m \u001b[0;34m=\u001b[0m \u001b[0mparser\u001b[0m\u001b[0;34m(\u001b[0m\u001b[0mjson_str\u001b[0m\u001b[0;34m)\u001b[0m\u001b[0;34m\u001b[0m\u001b[0;34m\u001b[0m\u001b[0m\n\u001b[0m\u001b[1;32m    143\u001b[0m \u001b[0;34m\u001b[0m\u001b[0m\n",
            "\u001b[0;32m/usr/lib/python3.10/json/__init__.py\u001b[0m in \u001b[0;36mloads\u001b[0;34m(s, cls, object_hook, parse_float, parse_int, parse_constant, object_pairs_hook, **kw)\u001b[0m\n\u001b[1;32m    345\u001b[0m             parse_constant is None and object_pairs_hook is None and not kw):\n\u001b[0;32m--> 346\u001b[0;31m         \u001b[0;32mreturn\u001b[0m \u001b[0m_default_decoder\u001b[0m\u001b[0;34m.\u001b[0m\u001b[0mdecode\u001b[0m\u001b[0;34m(\u001b[0m\u001b[0ms\u001b[0m\u001b[0;34m)\u001b[0m\u001b[0;34m\u001b[0m\u001b[0;34m\u001b[0m\u001b[0m\n\u001b[0m\u001b[1;32m    347\u001b[0m     \u001b[0;32mif\u001b[0m \u001b[0mcls\u001b[0m \u001b[0;32mis\u001b[0m \u001b[0;32mNone\u001b[0m\u001b[0;34m:\u001b[0m\u001b[0;34m\u001b[0m\u001b[0;34m\u001b[0m\u001b[0m\n",
            "\u001b[0;32m/usr/lib/python3.10/json/decoder.py\u001b[0m in \u001b[0;36mdecode\u001b[0;34m(self, s, _w)\u001b[0m\n\u001b[1;32m    336\u001b[0m         \"\"\"\n\u001b[0;32m--> 337\u001b[0;31m         \u001b[0mobj\u001b[0m\u001b[0;34m,\u001b[0m \u001b[0mend\u001b[0m \u001b[0;34m=\u001b[0m \u001b[0mself\u001b[0m\u001b[0;34m.\u001b[0m\u001b[0mraw_decode\u001b[0m\u001b[0;34m(\u001b[0m\u001b[0ms\u001b[0m\u001b[0;34m,\u001b[0m \u001b[0midx\u001b[0m\u001b[0;34m=\u001b[0m\u001b[0m_w\u001b[0m\u001b[0;34m(\u001b[0m\u001b[0ms\u001b[0m\u001b[0;34m,\u001b[0m \u001b[0;36m0\u001b[0m\u001b[0;34m)\u001b[0m\u001b[0;34m.\u001b[0m\u001b[0mend\u001b[0m\u001b[0;34m(\u001b[0m\u001b[0;34m)\u001b[0m\u001b[0;34m)\u001b[0m\u001b[0;34m\u001b[0m\u001b[0;34m\u001b[0m\u001b[0m\n\u001b[0m\u001b[1;32m    338\u001b[0m         \u001b[0mend\u001b[0m \u001b[0;34m=\u001b[0m \u001b[0m_w\u001b[0m\u001b[0;34m(\u001b[0m\u001b[0ms\u001b[0m\u001b[0;34m,\u001b[0m \u001b[0mend\u001b[0m\u001b[0;34m)\u001b[0m\u001b[0;34m.\u001b[0m\u001b[0mend\u001b[0m\u001b[0;34m(\u001b[0m\u001b[0;34m)\u001b[0m\u001b[0;34m\u001b[0m\u001b[0;34m\u001b[0m\u001b[0m\n",
            "\u001b[0;32m/usr/lib/python3.10/json/decoder.py\u001b[0m in \u001b[0;36mraw_decode\u001b[0;34m(self, s, idx)\u001b[0m\n\u001b[1;32m    352\u001b[0m         \u001b[0;32mtry\u001b[0m\u001b[0;34m:\u001b[0m\u001b[0;34m\u001b[0m\u001b[0;34m\u001b[0m\u001b[0m\n\u001b[0;32m--> 353\u001b[0;31m             \u001b[0mobj\u001b[0m\u001b[0;34m,\u001b[0m \u001b[0mend\u001b[0m \u001b[0;34m=\u001b[0m \u001b[0mself\u001b[0m\u001b[0;34m.\u001b[0m\u001b[0mscan_once\u001b[0m\u001b[0;34m(\u001b[0m\u001b[0ms\u001b[0m\u001b[0;34m,\u001b[0m \u001b[0midx\u001b[0m\u001b[0;34m)\u001b[0m\u001b[0;34m\u001b[0m\u001b[0;34m\u001b[0m\u001b[0m\n\u001b[0m\u001b[1;32m    354\u001b[0m         \u001b[0;32mexcept\u001b[0m \u001b[0mStopIteration\u001b[0m \u001b[0;32mas\u001b[0m \u001b[0merr\u001b[0m\u001b[0;34m:\u001b[0m\u001b[0;34m\u001b[0m\u001b[0;34m\u001b[0m\u001b[0m\n",
            "\u001b[0;31mJSONDecodeError\u001b[0m: Invalid control character at: line 2 column 59 (char 60)",
            "\nDuring handling of the above exception, another exception occurred:\n",
            "\u001b[0;31mOutputParserException\u001b[0m                     Traceback (most recent call last)",
            "\u001b[0;32m<ipython-input-10-b131e0a1e873>\u001b[0m in \u001b[0;36m<cell line: 1>\u001b[0;34m()\u001b[0m\n\u001b[0;32m----> 1\u001b[0;31m \u001b[0mresponse_as_dict\u001b[0m \u001b[0;34m=\u001b[0m \u001b[0mschema_output_template\u001b[0m\u001b[0;34m.\u001b[0m\u001b[0mparse\u001b[0m\u001b[0;34m(\u001b[0m\u001b[0mcontent\u001b[0m\u001b[0;34m)\u001b[0m\u001b[0;34m\u001b[0m\u001b[0;34m\u001b[0m\u001b[0m\n\u001b[0m\u001b[1;32m      2\u001b[0m \u001b[0;34m\u001b[0m\u001b[0m\n\u001b[1;32m      3\u001b[0m \u001b[0ma\u001b[0m\u001b[0;34m=\u001b[0m\u001b[0mjson\u001b[0m\u001b[0;34m.\u001b[0m\u001b[0mdumps\u001b[0m\u001b[0;34m(\u001b[0m\u001b[0mresponse_as_dict\u001b[0m\u001b[0;34m)\u001b[0m\u001b[0;34m\u001b[0m\u001b[0;34m\u001b[0m\u001b[0m\n",
            "\u001b[0;32m/usr/local/lib/python3.10/dist-packages/langchain/output_parsers/structured.py\u001b[0m in \u001b[0;36mparse\u001b[0;34m(self, text)\u001b[0m\n\u001b[1;32m     95\u001b[0m     \u001b[0;32mdef\u001b[0m \u001b[0mparse\u001b[0m\u001b[0;34m(\u001b[0m\u001b[0mself\u001b[0m\u001b[0;34m,\u001b[0m \u001b[0mtext\u001b[0m\u001b[0;34m:\u001b[0m \u001b[0mstr\u001b[0m\u001b[0;34m)\u001b[0m \u001b[0;34m->\u001b[0m \u001b[0mAny\u001b[0m\u001b[0;34m:\u001b[0m\u001b[0;34m\u001b[0m\u001b[0;34m\u001b[0m\u001b[0m\n\u001b[1;32m     96\u001b[0m         \u001b[0mexpected_keys\u001b[0m \u001b[0;34m=\u001b[0m \u001b[0;34m[\u001b[0m\u001b[0mrs\u001b[0m\u001b[0;34m.\u001b[0m\u001b[0mname\u001b[0m \u001b[0;32mfor\u001b[0m \u001b[0mrs\u001b[0m \u001b[0;32min\u001b[0m \u001b[0mself\u001b[0m\u001b[0;34m.\u001b[0m\u001b[0mresponse_schemas\u001b[0m\u001b[0;34m]\u001b[0m\u001b[0;34m\u001b[0m\u001b[0;34m\u001b[0m\u001b[0m\n\u001b[0;32m---> 97\u001b[0;31m         \u001b[0;32mreturn\u001b[0m \u001b[0mparse_and_check_json_markdown\u001b[0m\u001b[0;34m(\u001b[0m\u001b[0mtext\u001b[0m\u001b[0;34m,\u001b[0m \u001b[0mexpected_keys\u001b[0m\u001b[0;34m)\u001b[0m\u001b[0;34m\u001b[0m\u001b[0;34m\u001b[0m\u001b[0m\n\u001b[0m\u001b[1;32m     98\u001b[0m \u001b[0;34m\u001b[0m\u001b[0m\n\u001b[1;32m     99\u001b[0m     \u001b[0;34m@\u001b[0m\u001b[0mproperty\u001b[0m\u001b[0;34m\u001b[0m\u001b[0;34m\u001b[0m\u001b[0m\n",
            "\u001b[0;32m/usr/local/lib/python3.10/dist-packages/langchain/output_parsers/json.py\u001b[0m in \u001b[0;36mparse_and_check_json_markdown\u001b[0;34m(text, expected_keys)\u001b[0m\n\u001b[1;32m    160\u001b[0m         \u001b[0mjson_obj\u001b[0m \u001b[0;34m=\u001b[0m \u001b[0mparse_json_markdown\u001b[0m\u001b[0;34m(\u001b[0m\u001b[0mtext\u001b[0m\u001b[0;34m)\u001b[0m\u001b[0;34m\u001b[0m\u001b[0;34m\u001b[0m\u001b[0m\n\u001b[1;32m    161\u001b[0m     \u001b[0;32mexcept\u001b[0m \u001b[0mjson\u001b[0m\u001b[0;34m.\u001b[0m\u001b[0mJSONDecodeError\u001b[0m \u001b[0;32mas\u001b[0m \u001b[0me\u001b[0m\u001b[0;34m:\u001b[0m\u001b[0;34m\u001b[0m\u001b[0;34m\u001b[0m\u001b[0m\n\u001b[0;32m--> 162\u001b[0;31m         \u001b[0;32mraise\u001b[0m \u001b[0mOutputParserException\u001b[0m\u001b[0;34m(\u001b[0m\u001b[0;34mf\"Got invalid JSON object. Error: {e}\"\u001b[0m\u001b[0;34m)\u001b[0m\u001b[0;34m\u001b[0m\u001b[0;34m\u001b[0m\u001b[0m\n\u001b[0m\u001b[1;32m    163\u001b[0m     \u001b[0;32mfor\u001b[0m \u001b[0mkey\u001b[0m \u001b[0;32min\u001b[0m \u001b[0mexpected_keys\u001b[0m\u001b[0;34m:\u001b[0m\u001b[0;34m\u001b[0m\u001b[0;34m\u001b[0m\u001b[0m\n\u001b[1;32m    164\u001b[0m         \u001b[0;32mif\u001b[0m \u001b[0mkey\u001b[0m \u001b[0;32mnot\u001b[0m \u001b[0;32min\u001b[0m \u001b[0mjson_obj\u001b[0m\u001b[0;34m:\u001b[0m\u001b[0;34m\u001b[0m\u001b[0;34m\u001b[0m\u001b[0m\n",
            "\u001b[0;31mOutputParserException\u001b[0m: Got invalid JSON object. Error: Invalid control character at: line 2 column 59 (char 60)"
          ]
        }
      ],
      "source": [
        "response_as_dict = schema_output_template.parse(content)\n",
        "\n"
      ]
    },
    {
      "cell_type": "code",
      "execution_count": null,
      "metadata": {
        "colab": {
          "base_uri": "https://localhost:8080/",
          "height": 192
        },
        "id": "REdIWWbtFTef",
        "outputId": "b60f725d-43bd-4141-fa15-5854e3e56f85"
      },
      "outputs": [
        {
          "ename": "NameError",
          "evalue": "ignored",
          "output_type": "error",
          "traceback": [
            "\u001b[0;31m---------------------------------------------------------------------------\u001b[0m",
            "\u001b[0;31mNameError\u001b[0m                                 Traceback (most recent call last)",
            "\u001b[0;32m<ipython-input-14-f3bcd450d52e>\u001b[0m in \u001b[0;36m<cell line: 2>\u001b[0;34m()\u001b[0m\n\u001b[1;32m      1\u001b[0m \u001b[0mreformatted_data\u001b[0m \u001b[0;34m=\u001b[0m \u001b[0mjson\u001b[0m\u001b[0;34m.\u001b[0m\u001b[0mloads\u001b[0m\u001b[0;34m(\u001b[0m\u001b[0ma\u001b[0m\u001b[0;34m)\u001b[0m\u001b[0;34m\u001b[0m\u001b[0;34m\u001b[0m\u001b[0m\n\u001b[0;32m----> 2\u001b[0;31m \u001b[0mresp\u001b[0m\u001b[0;34m=\u001b[0m\u001b[0mApiSend\u001b[0m\u001b[0;34m(\u001b[0m\u001b[0mreformatted_data\u001b[0m\u001b[0;34m,\u001b[0m\u001b[0;34m\"1700106639248x893552146485608400\"\u001b[0m\u001b[0;34m)\u001b[0m\u001b[0;34m\u001b[0m\u001b[0;34m\u001b[0m\u001b[0m\n\u001b[0m",
            "\u001b[0;31mNameError\u001b[0m: name 'ApiSend' is not defined"
          ]
        }
      ],
      "source": [
        "reformatted_data = json.loads(a)\n",
        "resp=ApiSend(reformatted_data,\"1700106639248x893552146485608400\")"
      ]
    },
    {
      "cell_type": "code",
      "execution_count": null,
      "metadata": {
        "colab": {
          "base_uri": "https://localhost:8080/"
        },
        "id": "vgMzPMOsZcZh",
        "outputId": "c4a085d8-decc-433f-9265-8ccd938eed1a"
      },
      "outputs": [
        {
          "data": {
            "text/plain": [
              "str"
            ]
          },
          "execution_count": 16,
          "metadata": {},
          "output_type": "execute_result"
        }
      ],
      "source": [
        "type(reformatted_data)"
      ]
    },
    {
      "cell_type": "code",
      "execution_count": null,
      "metadata": {
        "colab": {
          "base_uri": "https://localhost:8080/"
        },
        "id": "z7xIJhBVFnKw",
        "outputId": "fefe5842-f366-4a86-8ae6-ab6a565ef174"
      },
      "outputs": [
        {
          "name": "stdout",
          "output_type": "stream",
          "text": [
            "{'status': 'success', 'response': {}}\n"
          ]
        }
      ],
      "source": [
        "url = \"https://copywraiter.bubbleapps.io/version-test/api/1.1/wf/desires\"\n",
        "headers = {\n",
        "    \"Authorization\": \"Bearer \"\n",
        "}\n",
        "params = {\n",
        "    \"market_research\": \"\",\n",
        "    \"desires\": str(reformatted_data['desires']),\n",
        "\n",
        "}\n",
        "\n",
        "response = requests.post(url, headers=headers, data=params)\n",
        "\n",
        "if response.status_code == 200:\n",
        "    data = json.loads(response.text)\n",
        "    print(data)\n",
        "else:\n",
        "    print(f\"Request failed with status code {response.status_code}\")"
      ]
    },
    {
      "cell_type": "code",
      "execution_count": null,
      "metadata": {
        "colab": {
          "base_uri": "https://localhost:8080/",
          "height": 36
        },
        "id": "CQFkZ9QbFt57",
        "outputId": "708ffa1d-7fb9-4d88-eb2b-cf10b9e4591e"
      },
      "outputs": [
        {
          "data": {
            "application/vnd.google.colaboratory.intrinsic+json": {
              "type": "string"
            },
            "text/plain": [
              "'Bad Request'"
            ]
          },
          "execution_count": 32,
          "metadata": {},
          "output_type": "execute_result"
        }
      ],
      "source": [
        "response.reason"
      ]
    },
    {
      "cell_type": "code",
      "execution_count": null,
      "metadata": {
        "colab": {
          "base_uri": "https://localhost:8080/"
        },
        "id": "mAt8xLxkF0Tw",
        "outputId": "8892d369-086e-4a5f-822b-c9bf79975ee1"
      },
      "outputs": [
        {
          "data": {
            "text/plain": [
              "[{'DESCRIPTION': 'Desiderio di Anonimato Assoluto',\n",
              "  'IMPACT ON RELATIONSHIPS': 'La persona desidera ardentemente che ogni traccia del suo passato compromettente sia cancellata, come se non fosse mai esistita. Vuole vivere senza il timore che qualcuno scopra informazioni imbarazzanti o dannose sulla sua vita.',\n",
              "  'How They Would Be Treated': 'Gli altri lo tratterebbero con rispetto e fiducia, senza pregiudizi o sospetti, permettendogli di costruire relazioni personali e professionali basate sulla sua vera identità attuale.'},\n",
              " {'DESCRIPTION': 'Desiderio di Controllo Totale sulla Propria Immagine',\n",
              "  'IMPACT ON RELATIONSHIPS': 'Il sogno di poter gestire ogni aspetto della propria immagine pubblica, senza lasciare spazio a interpretazioni errate o manipolazioni da parte di terzi.',\n",
              "  'How They Would Be Treated': 'Amici, colleghi e conoscenti lo vedrebbero come una persona integra e autentica, aumentando la stima e la fiducia nei suoi confronti.'},\n",
              " {'DESCRIPTION': 'Desiderio di Riscatto e Nuova Partenza',\n",
              "  'IMPACT ON RELATIONSHIPS': 'La brama di lasciarsi alle spalle un passato che non riflette più chi si è oggi, per poter iniziare un nuovo capitolo della propria vita senza il peso di giudizi basati su vecchie notizie.',\n",
              "  'How They Would Be Treated': 'La sua cerchia sociale e professionale lo accoglierebbe come se fosse una persona nuova, dandogli la possibilità di dimostrare il suo vero valore senza pregiudizi.'},\n",
              " {'DESCRIPTION': 'Desiderio di Protezione della Vita Privata',\n",
              "  'IMPACT ON RELATIONSHIPS': 'Il desiderio intenso di proteggere la propria sfera privata e quella dei propri cari da occhi indiscreti, per vivere serenamente le relazioni personali.',\n",
              "  'How They Would Be Treated': 'La famiglia e gli amici si sentirebbero più sicuri e protetti, sapendo che la loro privacy è salvaguardata e che possono godere di momenti privati senza timore di esposizioni indesiderate.'},\n",
              " {'DESCRIPTION': 'Desiderio di Successo Incontaminato',\n",
              "  'IMPACT ON RELATIONSHIPS': 'La visione di raggiungere il successo professionale senza che questo sia macchiato da scandali o notizie del passato, potendo così essere un modello positivo per colleghi e mentori.',\n",
              "  'How They Would Be Treated': 'Verrà trattato con ammirazione e rispetto, considerato un esempio da seguire per la sua capacità di superare gli ostacoli e per la sua integrità morale.'}]"
            ]
          },
          "execution_count": 33,
          "metadata": {},
          "output_type": "execute_result"
        }
      ],
      "source": [
        "reformatted_data['desires']"
      ]
    },
    {
      "cell_type": "code",
      "execution_count": null,
      "metadata": {
        "colab": {
          "base_uri": "https://localhost:8080/",
          "height": 668
        },
        "id": "C_EGm8x0GAhC",
        "outputId": "ee5ac7d3-2b05-402a-ab0b-4ba7f0f21ec5"
      },
      "outputs": [
        {
          "ename": "SSLError",
          "evalue": "ignored",
          "output_type": "error",
          "traceback": [
            "\u001b[0;31m---------------------------------------------------------------------------\u001b[0m",
            "\u001b[0;31mSSLCertVerificationError\u001b[0m                  Traceback (most recent call last)",
            "\u001b[0;32m/usr/local/lib/python3.10/dist-packages/urllib3/connectionpool.py\u001b[0m in \u001b[0;36m_make_request\u001b[0;34m(self, conn, method, url, body, headers, retries, timeout, chunked, response_conn, preload_content, decode_content, enforce_content_length)\u001b[0m\n\u001b[1;32m    467\u001b[0m             \u001b[0;32mtry\u001b[0m\u001b[0;34m:\u001b[0m\u001b[0;34m\u001b[0m\u001b[0;34m\u001b[0m\u001b[0m\n\u001b[0;32m--> 468\u001b[0;31m                 \u001b[0mself\u001b[0m\u001b[0;34m.\u001b[0m\u001b[0m_validate_conn\u001b[0m\u001b[0;34m(\u001b[0m\u001b[0mconn\u001b[0m\u001b[0;34m)\u001b[0m\u001b[0;34m\u001b[0m\u001b[0;34m\u001b[0m\u001b[0m\n\u001b[0m\u001b[1;32m    469\u001b[0m             \u001b[0;32mexcept\u001b[0m \u001b[0;34m(\u001b[0m\u001b[0mSocketTimeout\u001b[0m\u001b[0;34m,\u001b[0m \u001b[0mBaseSSLError\u001b[0m\u001b[0;34m)\u001b[0m \u001b[0;32mas\u001b[0m \u001b[0me\u001b[0m\u001b[0;34m:\u001b[0m\u001b[0;34m\u001b[0m\u001b[0;34m\u001b[0m\u001b[0m\n",
            "\u001b[0;32m/usr/local/lib/python3.10/dist-packages/urllib3/connectionpool.py\u001b[0m in \u001b[0;36m_validate_conn\u001b[0;34m(self, conn)\u001b[0m\n\u001b[1;32m   1096\u001b[0m         \u001b[0;32mif\u001b[0m \u001b[0mconn\u001b[0m\u001b[0;34m.\u001b[0m\u001b[0mis_closed\u001b[0m\u001b[0;34m:\u001b[0m\u001b[0;34m\u001b[0m\u001b[0;34m\u001b[0m\u001b[0m\n\u001b[0;32m-> 1097\u001b[0;31m             \u001b[0mconn\u001b[0m\u001b[0;34m.\u001b[0m\u001b[0mconnect\u001b[0m\u001b[0;34m(\u001b[0m\u001b[0;34m)\u001b[0m\u001b[0;34m\u001b[0m\u001b[0;34m\u001b[0m\u001b[0m\n\u001b[0m\u001b[1;32m   1098\u001b[0m \u001b[0;34m\u001b[0m\u001b[0m\n",
            "\u001b[0;32m/usr/local/lib/python3.10/dist-packages/urllib3/connection.py\u001b[0m in \u001b[0;36mconnect\u001b[0;34m(self)\u001b[0m\n\u001b[1;32m    641\u001b[0m \u001b[0;34m\u001b[0m\u001b[0m\n\u001b[0;32m--> 642\u001b[0;31m         sock_and_verified = _ssl_wrap_socket_and_match_hostname(\n\u001b[0m\u001b[1;32m    643\u001b[0m             \u001b[0msock\u001b[0m\u001b[0;34m=\u001b[0m\u001b[0msock\u001b[0m\u001b[0;34m,\u001b[0m\u001b[0;34m\u001b[0m\u001b[0;34m\u001b[0m\u001b[0m\n",
            "\u001b[0;32m/usr/local/lib/python3.10/dist-packages/urllib3/connection.py\u001b[0m in \u001b[0;36m_ssl_wrap_socket_and_match_hostname\u001b[0;34m(sock, cert_reqs, ssl_version, ssl_minimum_version, ssl_maximum_version, cert_file, key_file, key_password, ca_certs, ca_cert_dir, ca_cert_data, assert_hostname, assert_fingerprint, server_hostname, ssl_context, tls_in_tls)\u001b[0m\n\u001b[1;32m    782\u001b[0m \u001b[0;34m\u001b[0m\u001b[0m\n\u001b[0;32m--> 783\u001b[0;31m     ssl_sock = ssl_wrap_socket(\n\u001b[0m\u001b[1;32m    784\u001b[0m         \u001b[0msock\u001b[0m\u001b[0;34m=\u001b[0m\u001b[0msock\u001b[0m\u001b[0;34m,\u001b[0m\u001b[0;34m\u001b[0m\u001b[0;34m\u001b[0m\u001b[0m\n",
            "\u001b[0;32m/usr/local/lib/python3.10/dist-packages/urllib3/util/ssl_.py\u001b[0m in \u001b[0;36mssl_wrap_socket\u001b[0;34m(sock, keyfile, certfile, cert_reqs, ca_certs, server_hostname, ssl_version, ciphers, ssl_context, ca_cert_dir, key_password, ca_cert_data, tls_in_tls)\u001b[0m\n\u001b[1;32m    470\u001b[0m \u001b[0;34m\u001b[0m\u001b[0m\n\u001b[0;32m--> 471\u001b[0;31m     \u001b[0mssl_sock\u001b[0m \u001b[0;34m=\u001b[0m \u001b[0m_ssl_wrap_socket_impl\u001b[0m\u001b[0;34m(\u001b[0m\u001b[0msock\u001b[0m\u001b[0;34m,\u001b[0m \u001b[0mcontext\u001b[0m\u001b[0;34m,\u001b[0m \u001b[0mtls_in_tls\u001b[0m\u001b[0;34m,\u001b[0m \u001b[0mserver_hostname\u001b[0m\u001b[0;34m)\u001b[0m\u001b[0;34m\u001b[0m\u001b[0;34m\u001b[0m\u001b[0m\n\u001b[0m\u001b[1;32m    472\u001b[0m     \u001b[0;32mreturn\u001b[0m \u001b[0mssl_sock\u001b[0m\u001b[0;34m\u001b[0m\u001b[0;34m\u001b[0m\u001b[0m\n",
            "\u001b[0;32m/usr/local/lib/python3.10/dist-packages/urllib3/util/ssl_.py\u001b[0m in \u001b[0;36m_ssl_wrap_socket_impl\u001b[0;34m(sock, ssl_context, tls_in_tls, server_hostname)\u001b[0m\n\u001b[1;32m    514\u001b[0m \u001b[0;34m\u001b[0m\u001b[0m\n\u001b[0;32m--> 515\u001b[0;31m     \u001b[0;32mreturn\u001b[0m \u001b[0mssl_context\u001b[0m\u001b[0;34m.\u001b[0m\u001b[0mwrap_socket\u001b[0m\u001b[0;34m(\u001b[0m\u001b[0msock\u001b[0m\u001b[0;34m,\u001b[0m \u001b[0mserver_hostname\u001b[0m\u001b[0;34m=\u001b[0m\u001b[0mserver_hostname\u001b[0m\u001b[0;34m)\u001b[0m\u001b[0;34m\u001b[0m\u001b[0;34m\u001b[0m\u001b[0m\n\u001b[0m",
            "\u001b[0;32m/usr/lib/python3.10/ssl.py\u001b[0m in \u001b[0;36mwrap_socket\u001b[0;34m(self, sock, server_side, do_handshake_on_connect, suppress_ragged_eofs, server_hostname, session)\u001b[0m\n\u001b[1;32m    512\u001b[0m         \u001b[0;31m# ctx._wrap_socket()\u001b[0m\u001b[0;34m\u001b[0m\u001b[0;34m\u001b[0m\u001b[0m\n\u001b[0;32m--> 513\u001b[0;31m         return self.sslsocket_class._create(\n\u001b[0m\u001b[1;32m    514\u001b[0m             \u001b[0msock\u001b[0m\u001b[0;34m=\u001b[0m\u001b[0msock\u001b[0m\u001b[0;34m,\u001b[0m\u001b[0;34m\u001b[0m\u001b[0;34m\u001b[0m\u001b[0m\n",
            "\u001b[0;32m/usr/lib/python3.10/ssl.py\u001b[0m in \u001b[0;36m_create\u001b[0;34m(cls, sock, server_side, do_handshake_on_connect, suppress_ragged_eofs, server_hostname, context, session)\u001b[0m\n\u001b[1;32m   1070\u001b[0m                         \u001b[0;32mraise\u001b[0m \u001b[0mValueError\u001b[0m\u001b[0;34m(\u001b[0m\u001b[0;34m\"do_handshake_on_connect should not be specified for non-blocking sockets\"\u001b[0m\u001b[0;34m)\u001b[0m\u001b[0;34m\u001b[0m\u001b[0;34m\u001b[0m\u001b[0m\n\u001b[0;32m-> 1071\u001b[0;31m                     \u001b[0mself\u001b[0m\u001b[0;34m.\u001b[0m\u001b[0mdo_handshake\u001b[0m\u001b[0;34m(\u001b[0m\u001b[0;34m)\u001b[0m\u001b[0;34m\u001b[0m\u001b[0;34m\u001b[0m\u001b[0m\n\u001b[0m\u001b[1;32m   1072\u001b[0m             \u001b[0;32mexcept\u001b[0m \u001b[0;34m(\u001b[0m\u001b[0mOSError\u001b[0m\u001b[0;34m,\u001b[0m \u001b[0mValueError\u001b[0m\u001b[0;34m)\u001b[0m\u001b[0;34m:\u001b[0m\u001b[0;34m\u001b[0m\u001b[0;34m\u001b[0m\u001b[0m\n",
            "\u001b[0;32m/usr/lib/python3.10/ssl.py\u001b[0m in \u001b[0;36mdo_handshake\u001b[0;34m(self, block)\u001b[0m\n\u001b[1;32m   1341\u001b[0m                 \u001b[0mself\u001b[0m\u001b[0;34m.\u001b[0m\u001b[0msettimeout\u001b[0m\u001b[0;34m(\u001b[0m\u001b[0;32mNone\u001b[0m\u001b[0;34m)\u001b[0m\u001b[0;34m\u001b[0m\u001b[0;34m\u001b[0m\u001b[0m\n\u001b[0;32m-> 1342\u001b[0;31m             \u001b[0mself\u001b[0m\u001b[0;34m.\u001b[0m\u001b[0m_sslobj\u001b[0m\u001b[0;34m.\u001b[0m\u001b[0mdo_handshake\u001b[0m\u001b[0;34m(\u001b[0m\u001b[0;34m)\u001b[0m\u001b[0;34m\u001b[0m\u001b[0;34m\u001b[0m\u001b[0m\n\u001b[0m\u001b[1;32m   1343\u001b[0m         \u001b[0;32mfinally\u001b[0m\u001b[0;34m:\u001b[0m\u001b[0;34m\u001b[0m\u001b[0;34m\u001b[0m\u001b[0m\n",
            "\u001b[0;31mSSLCertVerificationError\u001b[0m: [SSL: CERTIFICATE_VERIFY_FAILED] certificate verify failed: self-signed certificate (_ssl.c:1007)",
            "\nDuring handling of the above exception, another exception occurred:\n",
            "\u001b[0;31mSSLError\u001b[0m                                  Traceback (most recent call last)",
            "\u001b[0;32m/usr/local/lib/python3.10/dist-packages/urllib3/connectionpool.py\u001b[0m in \u001b[0;36murlopen\u001b[0;34m(self, method, url, body, headers, retries, redirect, assert_same_host, timeout, pool_timeout, release_conn, chunked, body_pos, preload_content, decode_content, **response_kw)\u001b[0m\n\u001b[1;32m    790\u001b[0m             \u001b[0;31m# Make the request on the HTTPConnection object\u001b[0m\u001b[0;34m\u001b[0m\u001b[0;34m\u001b[0m\u001b[0m\n\u001b[0;32m--> 791\u001b[0;31m             response = self._make_request(\n\u001b[0m\u001b[1;32m    792\u001b[0m                 \u001b[0mconn\u001b[0m\u001b[0;34m,\u001b[0m\u001b[0;34m\u001b[0m\u001b[0;34m\u001b[0m\u001b[0m\n",
            "\u001b[0;32m/usr/local/lib/python3.10/dist-packages/urllib3/connectionpool.py\u001b[0m in \u001b[0;36m_make_request\u001b[0;34m(self, conn, method, url, body, headers, retries, timeout, chunked, response_conn, preload_content, decode_content, enforce_content_length)\u001b[0m\n\u001b[1;32m    491\u001b[0m                 \u001b[0mnew_e\u001b[0m \u001b[0;34m=\u001b[0m \u001b[0m_wrap_proxy_error\u001b[0m\u001b[0;34m(\u001b[0m\u001b[0mnew_e\u001b[0m\u001b[0;34m,\u001b[0m \u001b[0mconn\u001b[0m\u001b[0;34m.\u001b[0m\u001b[0mproxy\u001b[0m\u001b[0;34m.\u001b[0m\u001b[0mscheme\u001b[0m\u001b[0;34m)\u001b[0m\u001b[0;34m\u001b[0m\u001b[0;34m\u001b[0m\u001b[0m\n\u001b[0;32m--> 492\u001b[0;31m             \u001b[0;32mraise\u001b[0m \u001b[0mnew_e\u001b[0m\u001b[0;34m\u001b[0m\u001b[0;34m\u001b[0m\u001b[0m\n\u001b[0m\u001b[1;32m    493\u001b[0m \u001b[0;34m\u001b[0m\u001b[0m\n",
            "\u001b[0;31mSSLError\u001b[0m: [SSL: CERTIFICATE_VERIFY_FAILED] certificate verify failed: self-signed certificate (_ssl.c:1007)",
            "\nThe above exception was the direct cause of the following exception:\n",
            "\u001b[0;31mMaxRetryError\u001b[0m                             Traceback (most recent call last)",
            "\u001b[0;32m/usr/local/lib/python3.10/dist-packages/requests/adapters.py\u001b[0m in \u001b[0;36msend\u001b[0;34m(self, request, stream, timeout, verify, cert, proxies)\u001b[0m\n\u001b[1;32m    485\u001b[0m         \u001b[0;32mtry\u001b[0m\u001b[0;34m:\u001b[0m\u001b[0;34m\u001b[0m\u001b[0;34m\u001b[0m\u001b[0m\n\u001b[0;32m--> 486\u001b[0;31m             resp = conn.urlopen(\n\u001b[0m\u001b[1;32m    487\u001b[0m                 \u001b[0mmethod\u001b[0m\u001b[0;34m=\u001b[0m\u001b[0mrequest\u001b[0m\u001b[0;34m.\u001b[0m\u001b[0mmethod\u001b[0m\u001b[0;34m,\u001b[0m\u001b[0;34m\u001b[0m\u001b[0;34m\u001b[0m\u001b[0m\n",
            "\u001b[0;32m/usr/local/lib/python3.10/dist-packages/urllib3/connectionpool.py\u001b[0m in \u001b[0;36murlopen\u001b[0;34m(self, method, url, body, headers, retries, redirect, assert_same_host, timeout, pool_timeout, release_conn, chunked, body_pos, preload_content, decode_content, **response_kw)\u001b[0m\n\u001b[1;32m    844\u001b[0m \u001b[0;34m\u001b[0m\u001b[0m\n\u001b[0;32m--> 845\u001b[0;31m             retries = retries.increment(\n\u001b[0m\u001b[1;32m    846\u001b[0m                 \u001b[0mmethod\u001b[0m\u001b[0;34m,\u001b[0m \u001b[0murl\u001b[0m\u001b[0;34m,\u001b[0m \u001b[0merror\u001b[0m\u001b[0;34m=\u001b[0m\u001b[0mnew_e\u001b[0m\u001b[0;34m,\u001b[0m \u001b[0m_pool\u001b[0m\u001b[0;34m=\u001b[0m\u001b[0mself\u001b[0m\u001b[0;34m,\u001b[0m \u001b[0m_stacktrace\u001b[0m\u001b[0;34m=\u001b[0m\u001b[0msys\u001b[0m\u001b[0;34m.\u001b[0m\u001b[0mexc_info\u001b[0m\u001b[0;34m(\u001b[0m\u001b[0;34m)\u001b[0m\u001b[0;34m[\u001b[0m\u001b[0;36m2\u001b[0m\u001b[0;34m]\u001b[0m\u001b[0;34m\u001b[0m\u001b[0;34m\u001b[0m\u001b[0m\n",
            "\u001b[0;32m/usr/local/lib/python3.10/dist-packages/urllib3/util/retry.py\u001b[0m in \u001b[0;36mincrement\u001b[0;34m(self, method, url, response, error, _pool, _stacktrace)\u001b[0m\n\u001b[1;32m    514\u001b[0m             \u001b[0mreason\u001b[0m \u001b[0;34m=\u001b[0m \u001b[0merror\u001b[0m \u001b[0;32mor\u001b[0m \u001b[0mResponseError\u001b[0m\u001b[0;34m(\u001b[0m\u001b[0mcause\u001b[0m\u001b[0;34m)\u001b[0m\u001b[0;34m\u001b[0m\u001b[0;34m\u001b[0m\u001b[0m\n\u001b[0;32m--> 515\u001b[0;31m             \u001b[0;32mraise\u001b[0m \u001b[0mMaxRetryError\u001b[0m\u001b[0;34m(\u001b[0m\u001b[0m_pool\u001b[0m\u001b[0;34m,\u001b[0m \u001b[0murl\u001b[0m\u001b[0;34m,\u001b[0m \u001b[0mreason\u001b[0m\u001b[0;34m)\u001b[0m \u001b[0;32mfrom\u001b[0m \u001b[0mreason\u001b[0m  \u001b[0;31m# type: ignore[arg-type]\u001b[0m\u001b[0;34m\u001b[0m\u001b[0;34m\u001b[0m\u001b[0m\n\u001b[0m\u001b[1;32m    516\u001b[0m \u001b[0;34m\u001b[0m\u001b[0m\n",
            "\u001b[0;31mMaxRetryError\u001b[0m: HTTPSConnectionPool(host='copywraiter.ai', port=443): Max retries exceeded with url: /api/1.1/wf/obstacles (Caused by SSLError(SSLCertVerificationError(1, '[SSL: CERTIFICATE_VERIFY_FAILED] certificate verify failed: self-signed certificate (_ssl.c:1007)')))",
            "\nDuring handling of the above exception, another exception occurred:\n",
            "\u001b[0;31mSSLError\u001b[0m                                  Traceback (most recent call last)",
            "\u001b[0;32m<ipython-input-16-a0b24f072024>\u001b[0m in \u001b[0;36m<cell line: 11>\u001b[0;34m()\u001b[0m\n\u001b[1;32m      9\u001b[0m }\n\u001b[1;32m     10\u001b[0m \u001b[0;34m\u001b[0m\u001b[0m\n\u001b[0;32m---> 11\u001b[0;31m \u001b[0mresponse\u001b[0m \u001b[0;34m=\u001b[0m \u001b[0mrequests\u001b[0m\u001b[0;34m.\u001b[0m\u001b[0mpost\u001b[0m\u001b[0;34m(\u001b[0m\u001b[0murl\u001b[0m\u001b[0;34m,\u001b[0m \u001b[0mheaders\u001b[0m\u001b[0;34m=\u001b[0m\u001b[0mheaders\u001b[0m\u001b[0;34m,\u001b[0m \u001b[0mdata\u001b[0m\u001b[0;34m=\u001b[0m\u001b[0mparams\u001b[0m\u001b[0;34m)\u001b[0m\u001b[0;34m\u001b[0m\u001b[0;34m\u001b[0m\u001b[0m\n\u001b[0m\u001b[1;32m     12\u001b[0m \u001b[0;34m\u001b[0m\u001b[0m\n\u001b[1;32m     13\u001b[0m \u001b[0;32mif\u001b[0m \u001b[0mresponse\u001b[0m\u001b[0;34m.\u001b[0m\u001b[0mstatus_code\u001b[0m \u001b[0;34m==\u001b[0m \u001b[0;36m200\u001b[0m\u001b[0;34m:\u001b[0m\u001b[0;34m\u001b[0m\u001b[0;34m\u001b[0m\u001b[0m\n",
            "\u001b[0;32m/usr/local/lib/python3.10/dist-packages/requests/api.py\u001b[0m in \u001b[0;36mpost\u001b[0;34m(url, data, json, **kwargs)\u001b[0m\n\u001b[1;32m    113\u001b[0m     \"\"\"\n\u001b[1;32m    114\u001b[0m \u001b[0;34m\u001b[0m\u001b[0m\n\u001b[0;32m--> 115\u001b[0;31m     \u001b[0;32mreturn\u001b[0m \u001b[0mrequest\u001b[0m\u001b[0;34m(\u001b[0m\u001b[0;34m\"post\"\u001b[0m\u001b[0;34m,\u001b[0m \u001b[0murl\u001b[0m\u001b[0;34m,\u001b[0m \u001b[0mdata\u001b[0m\u001b[0;34m=\u001b[0m\u001b[0mdata\u001b[0m\u001b[0;34m,\u001b[0m \u001b[0mjson\u001b[0m\u001b[0;34m=\u001b[0m\u001b[0mjson\u001b[0m\u001b[0;34m,\u001b[0m \u001b[0;34m**\u001b[0m\u001b[0mkwargs\u001b[0m\u001b[0;34m)\u001b[0m\u001b[0;34m\u001b[0m\u001b[0;34m\u001b[0m\u001b[0m\n\u001b[0m\u001b[1;32m    116\u001b[0m \u001b[0;34m\u001b[0m\u001b[0m\n\u001b[1;32m    117\u001b[0m \u001b[0;34m\u001b[0m\u001b[0m\n",
            "\u001b[0;32m/usr/local/lib/python3.10/dist-packages/requests/api.py\u001b[0m in \u001b[0;36mrequest\u001b[0;34m(method, url, **kwargs)\u001b[0m\n\u001b[1;32m     57\u001b[0m     \u001b[0;31m# cases, and look like a memory leak in others.\u001b[0m\u001b[0;34m\u001b[0m\u001b[0;34m\u001b[0m\u001b[0m\n\u001b[1;32m     58\u001b[0m     \u001b[0;32mwith\u001b[0m \u001b[0msessions\u001b[0m\u001b[0;34m.\u001b[0m\u001b[0mSession\u001b[0m\u001b[0;34m(\u001b[0m\u001b[0;34m)\u001b[0m \u001b[0;32mas\u001b[0m \u001b[0msession\u001b[0m\u001b[0;34m:\u001b[0m\u001b[0;34m\u001b[0m\u001b[0;34m\u001b[0m\u001b[0m\n\u001b[0;32m---> 59\u001b[0;31m         \u001b[0;32mreturn\u001b[0m \u001b[0msession\u001b[0m\u001b[0;34m.\u001b[0m\u001b[0mrequest\u001b[0m\u001b[0;34m(\u001b[0m\u001b[0mmethod\u001b[0m\u001b[0;34m=\u001b[0m\u001b[0mmethod\u001b[0m\u001b[0;34m,\u001b[0m \u001b[0murl\u001b[0m\u001b[0;34m=\u001b[0m\u001b[0murl\u001b[0m\u001b[0;34m,\u001b[0m \u001b[0;34m**\u001b[0m\u001b[0mkwargs\u001b[0m\u001b[0;34m)\u001b[0m\u001b[0;34m\u001b[0m\u001b[0;34m\u001b[0m\u001b[0m\n\u001b[0m\u001b[1;32m     60\u001b[0m \u001b[0;34m\u001b[0m\u001b[0m\n\u001b[1;32m     61\u001b[0m \u001b[0;34m\u001b[0m\u001b[0m\n",
            "\u001b[0;32m/usr/local/lib/python3.10/dist-packages/requests/sessions.py\u001b[0m in \u001b[0;36mrequest\u001b[0;34m(self, method, url, params, data, headers, cookies, files, auth, timeout, allow_redirects, proxies, hooks, stream, verify, cert, json)\u001b[0m\n\u001b[1;32m    587\u001b[0m         }\n\u001b[1;32m    588\u001b[0m         \u001b[0msend_kwargs\u001b[0m\u001b[0;34m.\u001b[0m\u001b[0mupdate\u001b[0m\u001b[0;34m(\u001b[0m\u001b[0msettings\u001b[0m\u001b[0;34m)\u001b[0m\u001b[0;34m\u001b[0m\u001b[0;34m\u001b[0m\u001b[0m\n\u001b[0;32m--> 589\u001b[0;31m         \u001b[0mresp\u001b[0m \u001b[0;34m=\u001b[0m \u001b[0mself\u001b[0m\u001b[0;34m.\u001b[0m\u001b[0msend\u001b[0m\u001b[0;34m(\u001b[0m\u001b[0mprep\u001b[0m\u001b[0;34m,\u001b[0m \u001b[0;34m**\u001b[0m\u001b[0msend_kwargs\u001b[0m\u001b[0;34m)\u001b[0m\u001b[0;34m\u001b[0m\u001b[0;34m\u001b[0m\u001b[0m\n\u001b[0m\u001b[1;32m    590\u001b[0m \u001b[0;34m\u001b[0m\u001b[0m\n\u001b[1;32m    591\u001b[0m         \u001b[0;32mreturn\u001b[0m \u001b[0mresp\u001b[0m\u001b[0;34m\u001b[0m\u001b[0;34m\u001b[0m\u001b[0m\n",
            "\u001b[0;32m/usr/local/lib/python3.10/dist-packages/requests/sessions.py\u001b[0m in \u001b[0;36msend\u001b[0;34m(self, request, **kwargs)\u001b[0m\n\u001b[1;32m    701\u001b[0m \u001b[0;34m\u001b[0m\u001b[0m\n\u001b[1;32m    702\u001b[0m         \u001b[0;31m# Send the request\u001b[0m\u001b[0;34m\u001b[0m\u001b[0;34m\u001b[0m\u001b[0m\n\u001b[0;32m--> 703\u001b[0;31m         \u001b[0mr\u001b[0m \u001b[0;34m=\u001b[0m \u001b[0madapter\u001b[0m\u001b[0;34m.\u001b[0m\u001b[0msend\u001b[0m\u001b[0;34m(\u001b[0m\u001b[0mrequest\u001b[0m\u001b[0;34m,\u001b[0m \u001b[0;34m**\u001b[0m\u001b[0mkwargs\u001b[0m\u001b[0;34m)\u001b[0m\u001b[0;34m\u001b[0m\u001b[0;34m\u001b[0m\u001b[0m\n\u001b[0m\u001b[1;32m    704\u001b[0m \u001b[0;34m\u001b[0m\u001b[0m\n\u001b[1;32m    705\u001b[0m         \u001b[0;31m# Total elapsed time of the request (approximately)\u001b[0m\u001b[0;34m\u001b[0m\u001b[0;34m\u001b[0m\u001b[0m\n",
            "\u001b[0;32m/usr/local/lib/python3.10/dist-packages/requests/adapters.py\u001b[0m in \u001b[0;36msend\u001b[0;34m(self, request, stream, timeout, verify, cert, proxies)\u001b[0m\n\u001b[1;32m    515\u001b[0m             \u001b[0;32mif\u001b[0m \u001b[0misinstance\u001b[0m\u001b[0;34m(\u001b[0m\u001b[0me\u001b[0m\u001b[0;34m.\u001b[0m\u001b[0mreason\u001b[0m\u001b[0;34m,\u001b[0m \u001b[0m_SSLError\u001b[0m\u001b[0;34m)\u001b[0m\u001b[0;34m:\u001b[0m\u001b[0;34m\u001b[0m\u001b[0;34m\u001b[0m\u001b[0m\n\u001b[1;32m    516\u001b[0m                 \u001b[0;31m# This branch is for urllib3 v1.22 and later.\u001b[0m\u001b[0;34m\u001b[0m\u001b[0;34m\u001b[0m\u001b[0m\n\u001b[0;32m--> 517\u001b[0;31m                 \u001b[0;32mraise\u001b[0m \u001b[0mSSLError\u001b[0m\u001b[0;34m(\u001b[0m\u001b[0me\u001b[0m\u001b[0;34m,\u001b[0m \u001b[0mrequest\u001b[0m\u001b[0;34m=\u001b[0m\u001b[0mrequest\u001b[0m\u001b[0;34m)\u001b[0m\u001b[0;34m\u001b[0m\u001b[0;34m\u001b[0m\u001b[0m\n\u001b[0m\u001b[1;32m    518\u001b[0m \u001b[0;34m\u001b[0m\u001b[0m\n\u001b[1;32m    519\u001b[0m             \u001b[0;32mraise\u001b[0m \u001b[0mConnectionError\u001b[0m\u001b[0;34m(\u001b[0m\u001b[0me\u001b[0m\u001b[0;34m,\u001b[0m \u001b[0mrequest\u001b[0m\u001b[0;34m=\u001b[0m\u001b[0mrequest\u001b[0m\u001b[0;34m)\u001b[0m\u001b[0;34m\u001b[0m\u001b[0;34m\u001b[0m\u001b[0m\n",
            "\u001b[0;31mSSLError\u001b[0m: HTTPSConnectionPool(host='copywraiter.ai', port=443): Max retries exceeded with url: /api/1.1/wf/obstacles (Caused by SSLError(SSLCertVerificationError(1, '[SSL: CERTIFICATE_VERIFY_FAILED] certificate verify failed: self-signed certificate (_ssl.c:1007)')))"
          ]
        }
      ],
      "source": [
        "url = \"https://copywraiter.ai/api/1.1/wf/obstacles\"\n",
        "headers = {\n",
        "    \"Authorization\": \"Bearer \"\n",
        "}\n",
        "params = {\n",
        "    \"market_research\": \"1701165764465x316165367006232600\",\n",
        "    \"obstacles\": str(\"dcdc\")\n",
        "\n",
        "}\n",
        "\n",
        "response = requests.post(url, headers=headers, data=params)\n",
        "\n",
        "if response.status_code == 200:\n",
        "    data = json.loads(response.text)\n",
        "    print(data)\n",
        "else:\n",
        "    print(f\"Request failed with status code {response.status_code}\")\n"
      ]
    },
    {
      "cell_type": "code",
      "execution_count": null,
      "metadata": {
        "colab": {
          "base_uri": "https://localhost:8080/"
        },
        "id": "8Qcp74A7Mt6p",
        "outputId": "0324bb5a-56dd-4d96-e32f-b91323b47fb3"
      },
      "outputs": [
        {
          "data": {
            "text/plain": [
              "<Response [404]>"
            ]
          },
          "execution_count": 11,
          "metadata": {},
          "output_type": "execute_result"
        }
      ],
      "source": [
        "response\n"
      ]
    },
    {
      "cell_type": "code",
      "execution_count": null,
      "metadata": {
        "id": "d5BJS6COETtd"
      },
      "outputs": [],
      "source": [
        "from urllib3 import disable_warnings\n",
        "from urllib3.exceptions import InsecureRequestWarning\n",
        "\n",
        "disable_warnings(InsecureRequestWarning)"
      ]
    },
    {
      "cell_type": "code",
      "execution_count": null,
      "metadata": {
        "colab": {
          "base_uri": "https://localhost:8080/"
        },
        "id": "UAC1KJvdMxV2",
        "outputId": "56586c1f-75ed-4954-dc7e-cf6f50af2d0c"
      },
      "outputs": [
        {
          "name": "stdout",
          "output_type": "stream",
          "text": [
            "{'status': 'success', 'response': {}}\n"
          ]
        }
      ],
      "source": [
        "url = \"https://copywraiter.bubbleapps.io/version-live/api/1.1/wf/Demo\"\n",
        "headers = {\n",
        "    \"Authorization\": \"Bearer \"\n",
        "}\n",
        "mrId=\"\"\n",
        "asd=\"reformatted_data\"\n",
        "\n",
        "params = {\n",
        "    \"market_research\": mrId,\n",
        "    \"demographics\": asd,\n",
        "}\n",
        "\n",
        "response = requests.post(url, headers=headers, data=params)\n",
        "\n",
        "if response.status_code == 200:\n",
        "    data = json.loads(response.text)\n",
        "    print(data)\n",
        "else:\n",
        "    print(f\"Request failed with status code {response.status_code}\")\n"
      ]
    },
    {
      "cell_type": "code",
      "execution_count": null,
      "metadata": {
        "colab": {
          "base_uri": "https://localhost:8080/",
          "height": 36
        },
        "id": "kBJskH_UGHYa",
        "outputId": "b816459d-7a1c-489e-8411-d93fab6aac39"
      },
      "outputs": [
        {
          "data": {
            "application/vnd.google.colaboratory.intrinsic+json": {
              "type": "string"
            },
            "text/plain": [
              "'Not Found'"
            ]
          },
          "execution_count": 53,
          "metadata": {},
          "output_type": "execute_result"
        }
      ],
      "source": [
        "response.reason"
      ]
    },
    {
      "cell_type": "code",
      "execution_count": null,
      "metadata": {
        "id": "9qXUKoprIXcU"
      },
      "outputs": [],
      "source": []
    }
  ],
  "metadata": {
    "accelerator": "GPU",
    "colab": {
      "collapsed_sections": [
        "KgHxuKvrtNxv",
        "MveZweTli0fZ",
        "nyuAh0lbNtgu",
        "tcy_rvorYTan",
        "artLYShpi5aA",
        "XQ9nQaDsnOFF",
        "jMkK2x2rtGYS",
        "sRgu_DbYO5cG",
        "8KiAlA-HhZWk"
      ],
      "gpuType": "T4",
      "provenance": []
    },
    "kernelspec": {
      "display_name": "Python 3",
      "name": "python3"
    },
    "language_info": {
      "name": "python"
    }
  },
  "nbformat": 4,
  "nbformat_minor": 0
}
